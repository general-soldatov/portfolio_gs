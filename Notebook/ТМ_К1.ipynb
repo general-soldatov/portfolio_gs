{
  "nbformat": 4,
  "nbformat_minor": 0,
  "metadata": {
    "colab": {
      "provenance": [],
      "authorship_tag": "ABX9TyNpJiubgz/24+W4uXwJ4+lA"
    },
    "kernelspec": {
      "name": "python3",
      "display_name": "Python 3"
    },
    "language_info": {
      "name": "python"
    }
  },
  "cells": [
    {
      "cell_type": "markdown",
      "source": [
        "# Кинематика К1"
      ],
      "metadata": {
        "id": "pjdRuxqzFokY"
      }
    },
    {
      "cell_type": "markdown",
      "source": [
        "Движение точки задано на плоскости xy уравнениями x = f(t) и y = f(t) , где x и y выражены в сантиметрах, а t – в секундах. Найти и изобразить траекторию точки (кривую, которую точка описывает\n",
        "при своем движении, считая, что движение начинается в момент времени\n",
        "t = 0 c); определить скорость и ускорение точки, а также ее касательное и нормальное ускорения в момент времени t = 1 с и радиус кривизны в соответствующей точке траектории. Показать на чертеже положение\n",
        "точки в момент времени t и найденные векторы скорости и ускорения\n",
        "точки."
      ],
      "metadata": {
        "id": "8sS-CaUed20i"
      }
    },
    {
      "cell_type": "code",
      "execution_count": 9,
      "metadata": {
        "id": "kzjq9L-XDytB"
      },
      "outputs": [],
      "source": [
        "from numpy import cos, sin, pi, arange\n",
        "import matplotlib.pyplot as plt\n",
        "from scipy.optimize import root\n",
        "\n",
        "def derivative(f,a,method='central',h=0.01):\n",
        "    if method == 'central':\n",
        "        return (f(a + h) - f(a - h))/(2*h)\n",
        "    elif method == 'forward':\n",
        "        return (f(a + h) - f(a))/h\n",
        "    elif method == 'backward':\n",
        "        return (f(a) - f(a - h))/h\n",
        "    else:\n",
        "        print(\"Method must be 'central', 'forward' or 'backward'.\")"
      ]
    },
    {
      "cell_type": "markdown",
      "source": [
        "Исходные данные"
      ],
      "metadata": {
        "id": "nXtzQFv-eu3t"
      }
    },
    {
      "cell_type": "code",
      "source": [
        "ordinate = [\n",
        "    lambda t : 1 + 4 * cos(pi*t/6),\n",
        "    lambda t : 2 * cos(pi*t/3),\n",
        "    lambda t : 3 - cos(pi*t/6),\n",
        "    lambda t : cos(pi*t/3) - 2,\n",
        "    lambda t : 7 * cos(pi*t/6) - 5,\n",
        "    lambda t : 2 - 3 * cos(pi*t/6),\n",
        "    lambda t : cos(pi*t/3),\n",
        "    lambda t : - cos(pi*t/6) + 8,\n",
        "    lambda t : - cos(pi*t/3),\n",
        "    lambda t : 3 + 7 * cos(pi*t/6),\n",
        "]\n",
        "\n",
        "absciss = [\n",
        "    lambda t : 4 + 2 * sin(pi*t/6),\n",
        "    lambda t : 4 * sin(pi*t/6) - 2,\n",
        "    lambda t : sin(pi*t/6) + 5,\n",
        "    lambda t : 3 - 2 * sin(pi*t/6),\n",
        "    lambda t : - sin(pi*t/6) - 1,\n",
        "    lambda t : 2 + 5 * sin(pi*t/6),\n",
        "    lambda t : 2 * sin(pi*t/6),\n",
        "    lambda t : - 4 * sin(pi*t/6),\n",
        "    lambda t : sin(pi*t/6) + 9,\n",
        "    lambda t : 7 + 3 * sin(pi*t/6),\n",
        "]\n",
        "\n",
        "ts = 1"
      ],
      "metadata": {
        "id": "Z_Od3j2dFnxF"
      },
      "execution_count": 10,
      "outputs": []
    },
    {
      "cell_type": "markdown",
      "source": [
        "Вариант"
      ],
      "metadata": {
        "id": "dnvIwkfde0sR"
      }
    },
    {
      "cell_type": "code",
      "source": [
        "var = (6,5)"
      ],
      "metadata": {
        "id": "Q2Nz1Qh4WHx2"
      },
      "execution_count": 11,
      "outputs": []
    },
    {
      "cell_type": "markdown",
      "source": [
        "Координаты точки в момент времени t = 1 c."
      ],
      "metadata": {
        "id": "rs_-Aqume11f"
      }
    },
    {
      "cell_type": "code",
      "source": [
        "x, y = round(absciss[var[1]](ts),2), round(ordinate[var[0]](ts),2)\n",
        "x, y"
      ],
      "metadata": {
        "colab": {
          "base_uri": "https://localhost:8080/"
        },
        "id": "ecd4gAfIYepN",
        "outputId": "012e6fec-2446-4dcb-95f3-ac15835d08e5"
      },
      "execution_count": 12,
      "outputs": [
        {
          "output_type": "execute_result",
          "data": {
            "text/plain": [
              "(4.5, 0.5)"
            ]
          },
          "metadata": {},
          "execution_count": 12
        }
      ]
    },
    {
      "cell_type": "markdown",
      "source": [
        "Вывод графика траектории движения точки."
      ],
      "metadata": {
        "id": "Qps8Bo-ee7LS"
      }
    },
    {
      "cell_type": "code",
      "source": [
        "x_tr = arange(0, 20, 0.1)\n",
        "plt.plot(absciss[var[1]](x_tr), ordinate[var[0]](x_tr), 'blue')\n",
        "plt.plot(x, y, 'o', color='red')\n",
        "plt.xlabel('x (м)')\n",
        "plt.ylabel('y (м)')\n",
        "plt.subplot(1, 1, 1)\n",
        "plt.grid(True)\n",
        "plt.show()"
      ],
      "metadata": {
        "colab": {
          "base_uri": "https://localhost:8080/",
          "height": 449
        },
        "id": "tOxLZXGGPvvJ",
        "outputId": "df623701-aff0-402e-b9a6-24f15ebd17d3"
      },
      "execution_count": 13,
      "outputs": [
        {
          "output_type": "display_data",
          "data": {
            "text/plain": [
              "<Figure size 640x480 with 1 Axes>"
            ],
            "image/png": "[encoded data removed]"
          },
          "metadata": {}
        }
      ]
    },
    {
      "cell_type": "markdown",
      "source": [
        "Расчёт скорости в точке."
      ],
      "metadata": {
        "id": "Q4EGhS-se_SK"
      }
    },
    {
      "cell_type": "code",
      "source": [
        "vx, vy = round(derivative(absciss[var[1]], ts), 2), round(derivative(ordinate[var[0]], ts), 2)\n",
        "v = round((vx**2 + vy**2)**0.5, 2)\n",
        "vx, vy, v"
      ],
      "metadata": {
        "colab": {
          "base_uri": "https://localhost:8080/"
        },
        "id": "oKrICuorVx61",
        "outputId": "be0e5e34-e687-4600-addf-d318cf7f7fe5"
      },
      "execution_count": 14,
      "outputs": [
        {
          "output_type": "execute_result",
          "data": {
            "text/plain": [
              "(2.27, -0.91, 2.45)"
            ]
          },
          "metadata": {},
          "execution_count": 14
        }
      ]
    },
    {
      "cell_type": "markdown",
      "source": [
        "Расчёт ускорения."
      ],
      "metadata": {
        "id": "Pq2vkLEjfDNq"
      }
    },
    {
      "cell_type": "code",
      "source": [
        "ax = round(derivative(lambda t: derivative(absciss[var[1]], t), ts), 2)\n",
        "ay = round(derivative(lambda t: derivative(ordinate[var[0]], t), ts), 2)\n",
        "a = round((ax**2 + ay**2)**0.5)\n",
        "ax, ay, a"
      ],
      "metadata": {
        "colab": {
          "base_uri": "https://localhost:8080/"
        },
        "id": "8waklK8lbWT9",
        "outputId": "12ba6013-88fd-4762-f844-6eefe4745ca9"
      },
      "execution_count": 15,
      "outputs": [
        {
          "output_type": "execute_result",
          "data": {
            "text/plain": [
              "(-0.69, -0.55, 1)"
            ]
          },
          "metadata": {},
          "execution_count": 15
        }
      ]
    },
    {
      "cell_type": "markdown",
      "source": [
        "Расчёт касательного и нормального ускорений, радиуса кривизны."
      ],
      "metadata": {
        "id": "R3MyzHM-fFL5"
      }
    },
    {
      "cell_type": "code",
      "source": [
        "a_t  = round((vx * ax + vy * ay) / v, 2)\n",
        "a_n  = round((vx * ay - vy * ax) / v, 2)\n",
        "ro = round(v**2 / a_n, 2)\n",
        "\n",
        "a_t, a_n, ro"
      ],
      "metadata": {
        "colab": {
          "base_uri": "https://localhost:8080/"
        },
        "id": "EqR0K_0QcH5F",
        "outputId": "c02d8fb2-a6f0-46d0-dd73-2114e19c32ef"
      },
      "execution_count": 16,
      "outputs": [
        {
          "output_type": "execute_result",
          "data": {
            "text/plain": [
              "(-0.44, -0.77, -7.8)"
            ]
          },
          "metadata": {},
          "execution_count": 16
        }
      ]
    }
  ]
}