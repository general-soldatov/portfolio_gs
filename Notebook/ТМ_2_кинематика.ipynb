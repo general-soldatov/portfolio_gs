{
  "nbformat": 4,
  "nbformat_minor": 0,
  "metadata": {
    "colab": {
      "provenance": [],
      "authorship_tag": "ABX9TyMC8eV8eZ6KtKGiEeUimnJ9"
    },
    "kernelspec": {
      "name": "python3",
      "display_name": "Python 3"
    },
    "language_info": {
      "name": "python"
    }
  },
  "cells": [
    {
      "cell_type": "markdown",
      "source": [
        "# Кинематика"
      ],
      "metadata": {
        "id": "kF7X5qTJSUY-"
      }
    },
    {
      "cell_type": "markdown",
      "source": [
        "В этом проекте приведены решения задач раздела \"Кинематика\" теоретической механики."
      ],
      "metadata": {
        "id": "9DXREoYCz5oE"
      }
    },
    {
      "cell_type": "code",
      "execution_count": 1,
      "metadata": {
        "id": "XDSTgG7ASQfl"
      },
      "outputs": [],
      "source": [
        "from numpy import cos, sin, array, arctan\n",
        "from math import pi\n",
        "from scipy.optimize import root\n",
        "from scipy.integrate import quad\n",
        "rad = lambda x: x * pi / 180\n",
        "grad = lambda x: 180 * x / pi"
      ]
    },
    {
      "cell_type": "code",
      "source": [
        "def derivative(f,a,method='central',h=0.01):\n",
        "    if method == 'central':\n",
        "        return (f(a + h) - f(a - h))/(2*h)\n",
        "    elif method == 'forward':\n",
        "        return (f(a + h) - f(a))/h\n",
        "    elif method == 'backward':\n",
        "        return (f(a) - f(a - h))/h\n",
        "    else:\n",
        "        print(\"Method must be 'central', 'forward' or 'backward'.\")"
      ],
      "metadata": {
        "id": "v-M3MMY3hAu-"
      },
      "execution_count": 2,
      "outputs": []
    },
    {
      "cell_type": "markdown",
      "source": [
        "1. Заданы уравнения движения точки х = 2t, у = 1 - 2 sin(0,1t). Определить ближайший момент времени, когда точка пересечет ось Ох."
      ],
      "metadata": {
        "id": "Z3JIVBKUSe_N"
      }
    },
    {
      "cell_type": "code",
      "source": [
        "x = lambda t : 2*t\n",
        "y = lambda t : 1 - 2 * sin(0.1 * t)\n",
        "time_solve = root(y, 1).x[0]\n",
        "time_solve"
      ],
      "metadata": {
        "colab": {
          "base_uri": "https://localhost:8080/"
        },
        "id": "-OU95zCESt5o",
        "outputId": "57b35587-da34-4b55-d349-c944c20f3bdc"
      },
      "execution_count": 3,
      "outputs": [
        {
          "output_type": "execute_result",
          "data": {
            "text/plain": [
              "5.235987755982989"
            ]
          },
          "metadata": {},
          "execution_count": 3
        }
      ]
    },
    {
      "cell_type": "markdown",
      "source": [
        "2. Даны уравнения движения точки х = t^2, у = sin (πt), z = cos (πt) Определить модуль скорости точки в момент времени t = 1 с."
      ],
      "metadata": {
        "id": "uwpQXAH-UnNH"
      }
    },
    {
      "cell_type": "code",
      "source": [
        "f = [\n",
        "      lambda t : 2*t,\n",
        "      lambda t : sin(pi*t),\n",
        "      lambda t : cos(pi*t)\n",
        "      ]\n",
        "\n",
        "time_mot = 1\n",
        "speed = 0\n",
        "for ix in f:\n",
        "  speed += derivative(ix, time_mot, 'backward') ** 2\n",
        "\n",
        "speed ** 0.5"
      ],
      "metadata": {
        "colab": {
          "base_uri": "https://localhost:8080/"
        },
        "id": "UrnqadcTUr_F",
        "outputId": "7d313d0a-2a50-43f2-c4ba-1666880acae4"
      },
      "execution_count": 4,
      "outputs": [
        {
          "output_type": "execute_result",
          "data": {
            "text/plain": [
              "3.7240827978669797"
            ]
          },
          "metadata": {},
          "execution_count": 4
        }
      ]
    },
    {
      "cell_type": "markdown",
      "source": [
        "3. Положение линейки АВ определяется углом φ = 0,5t. Определить в см/с проекцию скорости точки М на ось Ох в момент времени t = 2 с, если расстояние ВМ = 0,2 м.   \n",
        "![image.png](data:image/png;base64,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)"
      ],
      "metadata": {
        "id": "0jZg2XH-jA4B"
      }
    },
    {
      "cell_type": "code",
      "source": [
        "ts = 2\n",
        "BM = 20\n",
        "phi = lambda t : 0.5 * t\n",
        "omega = derivative(phi, ts)\n",
        "- omega * BM * sin(phi(ts))"
      ],
      "metadata": {
        "colab": {
          "base_uri": "https://localhost:8080/"
        },
        "id": "EIgYN7zDa6mF",
        "outputId": "6bced7a9-bd8a-41ea-e180-d711945723fb"
      },
      "execution_count": 5,
      "outputs": [
        {
          "output_type": "execute_result",
          "data": {
            "text/plain": [
              "-8.414709848078878"
            ]
          },
          "metadata": {},
          "execution_count": 5
        }
      ]
    },
    {
      "cell_type": "markdown",
      "source": [
        "4. Проекция скорости точки vx = 2 cos π t. Определить координату х точки в момент времени t = 1 с, если при to = 0 координата xо = 0."
      ],
      "metadata": {
        "id": "VkVwP6Gnn9DB"
      }
    },
    {
      "cell_type": "code",
      "source": [
        "vx = lambda t : 2 * cos(pi*t)\n",
        "ts = 1\n",
        "round(quad(vx, 0, ts)[0],1)"
      ],
      "metadata": {
        "colab": {
          "base_uri": "https://localhost:8080/"
        },
        "id": "xe88O-Gwn_Y0",
        "outputId": "881c1e34-3e71-4313-d5d8-910530bdbe46"
      },
      "execution_count": 6,
      "outputs": [
        {
          "output_type": "execute_result",
          "data": {
            "text/plain": [
              "0.0"
            ]
          },
          "metadata": {},
          "execution_count": 6
        }
      ]
    },
    {
      "cell_type": "markdown",
      "source": [
        "5. Скорость автомобиля равномерно увеличивается в течение 12 с от нуля до 60 км/ч. Определить ускорение автомобиля."
      ],
      "metadata": {
        "id": "7fnly24zrwKi"
      }
    },
    {
      "cell_type": "code",
      "source": [
        "speed = 60 / 3.6\n",
        "t = 12\n",
        "boost = speed / t\n",
        "boost"
      ],
      "metadata": {
        "colab": {
          "base_uri": "https://localhost:8080/"
        },
        "id": "Y6RBnh6Rr0rf",
        "outputId": "77508800-b3ad-4d1f-f100-8048abf5b049"
      },
      "execution_count": 7,
      "outputs": [
        {
          "output_type": "execute_result",
          "data": {
            "text/plain": [
              "1.388888888888889"
            ]
          },
          "metadata": {},
          "execution_count": 7
        }
      ]
    },
    {
      "cell_type": "markdown",
      "source": [
        "6. Точка движется по прямой. Дан график ускорения а = f(t). Определить скорость точки в момент времени t = 6 с, если при t0 = 0 скорость v0 = 0.   \n",
        "![image.png](data:image/png;base64,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)"
      ],
      "metadata": {
        "id": "hUFiUtRYsWfl"
      }
    },
    {
      "cell_type": "code",
      "source": [
        "t = 6\n",
        "a = 0.5\n",
        "speed = a * t\n",
        "speed"
      ],
      "metadata": {
        "colab": {
          "base_uri": "https://localhost:8080/"
        },
        "id": "swxPO_IhscRg",
        "outputId": "2b7e1415-1765-40f2-d828-e6e467ff41a1"
      },
      "execution_count": 8,
      "outputs": [
        {
          "output_type": "execute_result",
          "data": {
            "text/plain": [
              "3.0"
            ]
          },
          "metadata": {},
          "execution_count": 8
        }
      ]
    },
    {
      "cell_type": "markdown",
      "source": [
        "7. Сколько секунд должен работать двигатель, который сообщает ракете ускорение 3g, чтобы скорость ракеты в прямолинейном движении возросла с 3 до 5 км/с?  "
      ],
      "metadata": {
        "id": "wKDL8H0fsrb6"
      }
    },
    {
      "cell_type": "code",
      "source": [
        "g = 9.8061\n",
        "v1 = 3000\n",
        "v2 = 5000\n",
        "boost = 3 * g\n",
        "ts = (v2 - v1) / boost\n",
        "ts"
      ],
      "metadata": {
        "colab": {
          "base_uri": "https://localhost:8080/"
        },
        "id": "OZ0KNFHUs30V",
        "outputId": "24245fbd-adb3-48c0-a12a-2db9536c2cc7"
      },
      "execution_count": 9,
      "outputs": [
        {
          "output_type": "execute_result",
          "data": {
            "text/plain": [
              "67.98489375660728"
            ]
          },
          "metadata": {},
          "execution_count": 9
        }
      ]
    },
    {
      "cell_type": "markdown",
      "source": [
        "8. Положение кривошипа ОА определяется углом φ = 2t. Определить проекцию ускорения ах точки А в момент времени t = 1 с, если длина ОА = 1 м.  \n",
        "![image.png](data:image/png;base64,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)"
      ],
      "metadata": {
        "id": "qTiqAFC4tu8Q"
      }
    },
    {
      "cell_type": "code",
      "source": [
        "phi = lambda t: 2 * t\n",
        "OA = 1\n",
        "ts = 1\n",
        "derivative(phi, ts) ** 2 / OA  * cos(phi(ts))"
      ],
      "metadata": {
        "colab": {
          "base_uri": "https://localhost:8080/"
        },
        "id": "goiZtvL-tuOt",
        "outputId": "8e00f229-b10e-4559-89e2-572b7eb182d7"
      },
      "execution_count": 10,
      "outputs": [
        {
          "output_type": "execute_result",
          "data": {
            "text/plain": [
              "-1.6645873461885725"
            ]
          },
          "metadata": {},
          "execution_count": 10
        }
      ]
    },
    {
      "cell_type": "markdown",
      "source": [
        "9. Даны уравнения движения точки: х = 0,3 t^3 , у = 2t^2 , где х и у - в см. Определить, в какой момент времени t ускорение точки равно 7 см/с^2."
      ],
      "metadata": {
        "id": "2kknrTQ8vlSS"
      }
    },
    {
      "cell_type": "code",
      "source": [
        "x = lambda t : 0.3 * t ** 3\n",
        "y = lambda t : 2 * t **2\n",
        "boost = 7\n",
        "ax = lambda t : derivative(lambda t : derivative(x, t), t)\n",
        "ay = lambda t : derivative(lambda t : derivative(y, t), t)\n",
        "a = lambda t : boost - (ax(t)**2 + ay(t)**2)**0.5\n",
        "root(a, 1).x[0]"
      ],
      "metadata": {
        "colab": {
          "base_uri": "https://localhost:8080/"
        },
        "id": "ogiOIQShv6RY",
        "outputId": "2e01416d-8d96-4e5f-a65c-533cd9370e7c"
      },
      "execution_count": 11,
      "outputs": [
        {
          "output_type": "execute_result",
          "data": {
            "text/plain": [
              "3.191423692523865"
            ]
          },
          "metadata": {},
          "execution_count": 11
        }
      ]
    },
    {
      "cell_type": "markdown",
      "source": [
        "10. При равномерном вращении маховик делает 4 оборота в секунду. За сколько секунд маховик повернется на угол φ = 24π"
      ],
      "metadata": {
        "id": "cNEZmlFGilqO"
      }
    },
    {
      "cell_type": "code",
      "source": [
        "N = 4\n",
        "phi = 24 * pi\n",
        "omega = 2 * pi * N\n",
        "phi / omega"
      ],
      "metadata": {
        "colab": {
          "base_uri": "https://localhost:8080/"
        },
        "id": "gNyXQf6cin21",
        "outputId": "38a4cb6c-4090-4a67-97bd-caec84ba8dd0"
      },
      "execution_count": 12,
      "outputs": [
        {
          "output_type": "execute_result",
          "data": {
            "text/plain": [
              "3.0"
            ]
          },
          "metadata": {},
          "execution_count": 12
        }
      ]
    },
    {
      "cell_type": "markdown",
      "source": [
        "11. Частота вращения маховика за время t1 = 10 с уменьшилась в 3 раза и стала равной 30 об/мин. Определить угловое ускорение вала, если он вращался равнозамедленно."
      ],
      "metadata": {
        "id": "CGwlgg-3jNka"
      }
    },
    {
      "cell_type": "code",
      "source": [
        "t_1 = 10\n",
        "n_1 = 90 / 60\n",
        "n_2 = 30 / 60\n",
        "2 * pi * (n_2 - n_1) / t_1"
      ],
      "metadata": {
        "colab": {
          "base_uri": "https://localhost:8080/"
        },
        "id": "ywcbU1ZrjTnw",
        "outputId": "eeb975b8-51b9-42b1-ae1a-0928e40e1537"
      },
      "execution_count": 13,
      "outputs": [
        {
          "output_type": "execute_result",
          "data": {
            "text/plain": [
              "-0.6283185307179586"
            ]
          },
          "metadata": {},
          "execution_count": 13
        }
      ]
    },
    {
      "cell_type": "markdown",
      "source": [
        "12. Тело вращается вокруг неподвижной оси согласно закону φ = t^3 + 2. Определить угловую скорость тела в момент времени, когда угол поворота φ = 10 рад."
      ],
      "metadata": {
        "id": "QgLo_9WWkYAq"
      }
    },
    {
      "cell_type": "code",
      "source": [
        "corner = 10\n",
        "phi = lambda t : t ** 3 + 2 - 10\n",
        "t = root(phi, 1).x[0]\n",
        "derivative(phi, t)"
      ],
      "metadata": {
        "colab": {
          "base_uri": "https://localhost:8080/"
        },
        "id": "7LXU1CVfkorP",
        "outputId": "bf4de2fc-f3ca-49b5-fd6f-65b86db5cb06"
      },
      "execution_count": 14,
      "outputs": [
        {
          "output_type": "execute_result",
          "data": {
            "text/plain": [
              "12.000099999999847"
            ]
          },
          "metadata": {},
          "execution_count": 14
        }
      ]
    },
    {
      "cell_type": "markdown",
      "source": [
        "13. Тело вращается вокруг неподвижной оси согласно закону φ = t^2. Определите скорость точки тела на расстоянии r = 0.5 м от оси вращения в момент времени, когда угол поворота φ = 25 рад."
      ],
      "metadata": {
        "id": "KTIgGLaCo_BS"
      }
    },
    {
      "cell_type": "code",
      "source": [
        "corner = 25\n",
        "r = 0.5\n",
        "phi = lambda t : t ** 2 - corner\n",
        "t = root(phi, 0).x[0]\n",
        "derivative(phi, t) * r"
      ],
      "metadata": {
        "colab": {
          "base_uri": "https://localhost:8080/"
        },
        "id": "jJ81DRwZpIRf",
        "outputId": "27f85acb-c145-4ef7-aedd-ec84ef956ab9"
      },
      "execution_count": 15,
      "outputs": [
        {
          "output_type": "execute_result",
          "data": {
            "text/plain": [
              "4.999999999999893"
            ]
          },
          "metadata": {},
          "execution_count": 15
        }
      ]
    },
    {
      "cell_type": "markdown",
      "source": [
        "14. Скорость точки тела на расстоянии r = 0,2 м от оси вращения изменяется по закону v = 4t^2. Определить угловое ускорение данного тела в момент времени t = 2 с."
      ],
      "metadata": {
        "id": "ONJuyHv8p1YN"
      }
    },
    {
      "cell_type": "code",
      "source": [
        "r = 0.2\n",
        "v = lambda t : 4 * t **2\n",
        "ts = 2\n",
        "derivative(v, ts) / r"
      ],
      "metadata": {
        "colab": {
          "base_uri": "https://localhost:8080/"
        },
        "id": "BFLeYS04p0Mv",
        "outputId": "457d0a73-5f30-449f-9843-c93b9c0c99f3"
      },
      "execution_count": 16,
      "outputs": [
        {
          "output_type": "execute_result",
          "data": {
            "text/plain": [
              "79.99999999999874"
            ]
          },
          "metadata": {},
          "execution_count": 16
        }
      ]
    },
    {
      "cell_type": "markdown",
      "source": [
        "15. В данный момент времени тело совершает мгновенное вращение относительно точки касания его с плоскостью. Определить угловую скорость тела, если скорость точки С равна 10 м/с, а расстояние АС = 20 см.   \n",
        "![image.png](data:image/png;base64,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)"
      ],
      "metadata": {
        "id": "vLsrLzXdqkXU"
      }
    },
    {
      "cell_type": "code",
      "source": [
        "AC = 0.2\n",
        "v_c = 10\n",
        "v_c / AC"
      ],
      "metadata": {
        "colab": {
          "base_uri": "https://localhost:8080/"
        },
        "id": "VfDST2JYuPjc",
        "outputId": "3f1e4e17-b50a-4c55-bb4d-7730d1568800"
      },
      "execution_count": 17,
      "outputs": [
        {
          "output_type": "execute_result",
          "data": {
            "text/plain": [
              "50.0"
            ]
          },
          "metadata": {},
          "execution_count": 17
        }
      ]
    },
    {
      "cell_type": "markdown",
      "source": [
        "16. Определить угловую скорость колеса, если точка А имеет скорость vA= 10 м/с, а радиус колеса r = 0,2 м.   \n",
        "![image.png](data:image/png;base64,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)"
      ],
      "metadata": {
        "id": "-eygRzLfu58U"
      }
    },
    {
      "cell_type": "code",
      "source": [
        "r = 0.2\n",
        "v_A = 10\n",
        "OA = 0.5 * r\n",
        "omega = v_A / (OA + r)\n",
        "omega"
      ],
      "metadata": {
        "colab": {
          "base_uri": "https://localhost:8080/"
        },
        "id": "brVsGFlKu9M7",
        "outputId": "141f29af-9457-4a72-ca87-41610cf37469"
      },
      "execution_count": 18,
      "outputs": [
        {
          "output_type": "execute_result",
          "data": {
            "text/plain": [
              "33.33333333333333"
            ]
          },
          "metadata": {},
          "execution_count": 18
        }
      ]
    },
    {
      "cell_type": "markdown",
      "source": [
        "17. Стержень АВ длиной 60 см движется в плоскости чертежа. В некоторый момент времени точки А и В стержня имеют скорости v_A = 4 м/с, v_B = 2 м/с. Определить расстояние от точки А до мгновенного центра скоростей.   \n",
        "![image.png](data:image/png;base64,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)"
      ],
      "metadata": {
        "id": "rN54689tv4Ch"
      }
    },
    {
      "cell_type": "code",
      "source": [
        "AB = 0.6\n",
        "v_A = 4\n",
        "v_B = 2\n",
        "mcs = v_A * AB / (v_A + v_B)\n",
        "mcs"
      ],
      "metadata": {
        "colab": {
          "base_uri": "https://localhost:8080/"
        },
        "id": "u18Dc6rXv3C7",
        "outputId": "c965bf45-ec52-49ba-9400-ba901e9f9597"
      },
      "execution_count": 19,
      "outputs": [
        {
          "output_type": "execute_result",
          "data": {
            "text/plain": [
              "0.39999999999999997"
            ]
          },
          "metadata": {},
          "execution_count": 19
        }
      ]
    },
    {
      "cell_type": "markdown",
      "source": [
        "18. Кривошип ОА механизма, вращаясь равномерно, образует в данный момент времени с направлением ОВ угол φ = 90°. Определить расстояние от мгновенного центра скоростей шатуна АВ до ползуна В.  \n",
        "![image.png](data:image/png;base64,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)"
      ],
      "metadata": {
        "id": "ulr-JfCkw7u-"
      }
    },
    {
      "cell_type": "code",
      "source": [
        "# поскольку векторы скорости в точках А и В параллельны друг другу,\n",
        "# расстояние до МЦС от точки В стремится к бесконечности"
      ],
      "metadata": {
        "id": "MIrOWZwBxNJQ"
      },
      "execution_count": 20,
      "outputs": []
    },
    {
      "cell_type": "markdown",
      "source": [
        "19. Определить скорость точки В колеса, если точка А колеса имеет скорость 2 м\\с.   \n",
        "![image.png](data:image/png;base64,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)"
      ],
      "metadata": {
        "id": "qPTFofUZxqhd"
      }
    },
    {
      "cell_type": "code",
      "source": [
        "omega = lambda r : 2 / (2 * r)\n",
        "r_B = lambda r : (r ** 2 + r ** 2) ** 0.5\n",
        "v_B = omega(r) * r_B(r)\n",
        "v_B"
      ],
      "metadata": {
        "colab": {
          "base_uri": "https://localhost:8080/"
        },
        "id": "pJY88FKvxwik",
        "outputId": "7dc0dfbd-2cb9-47e3-9445-ffda0f3871cd"
      },
      "execution_count": 21,
      "outputs": [
        {
          "output_type": "execute_result",
          "data": {
            "text/plain": [
              "1.4142135623730954"
            ]
          },
          "metadata": {},
          "execution_count": 21
        }
      ]
    },
    {
      "cell_type": "markdown",
      "source": [
        "20. Автомобиль двигается со скоростью v1 = 3,6 км/ч, а монтажная вышка поднимается со скоростью v2 = 0,5 м/с. Определить абсолютную скорость рабочего, который стоит на вышке неподвижно.   \n",
        "![image.png](data:image/png;base64,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)"
      ],
      "metadata": {
        "id": "YKUsKBIMzbhr"
      }
    },
    {
      "cell_type": "code",
      "source": [
        "v_1 = 3.6 / 3.6\n",
        "v_2 = 0.5\n",
        "(v_1 ** 2 + v_2 ** 2) ** 0.5"
      ],
      "metadata": {
        "colab": {
          "base_uri": "https://localhost:8080/"
        },
        "id": "qSrVAGplzhMB",
        "outputId": "c80b56a4-eb14-4640-c607-12636d757c9b"
      },
      "execution_count": 22,
      "outputs": [
        {
          "output_type": "execute_result",
          "data": {
            "text/plain": [
              "1.118033988749895"
            ]
          },
          "metadata": {},
          "execution_count": 22
        }
      ]
    },
    {
      "cell_type": "markdown",
      "source": [
        "P.S. ну и бонус к новому году!"
      ],
      "metadata": {
        "id": "H_-B252y0hl0"
      }
    },
    {
      "cell_type": "code",
      "source": [
        "!pip install colorama"
      ],
      "metadata": {
        "colab": {
          "base_uri": "https://localhost:8080/"
        },
        "id": "a_dIK66TrrB4",
        "outputId": "3ea62843-de47-4aaf-aa77-cabf46f7f8be"
      },
      "execution_count": 23,
      "outputs": [
        {
          "output_type": "stream",
          "name": "stdout",
          "text": [
            "Requirement already satisfied: colorama in /usr/local/lib/python3.10/dist-packages (0.4.6)\n"
          ]
        }
      ]
    },
    {
      "cell_type": "code",
      "source": [
        "from colorama import Fore\n",
        "\n",
        "def heart_shape(msg=\"C новым годом! \"):\n",
        "    lines = list()\n",
        "    for y in range(17, -17, -1):\n",
        "        line = \"\"\n",
        "        for x in range(-45, 45):\n",
        "          f = ((x * 0.03) ** 2 + (y * 0.1) ** 2 - 1) ** 3 - (x * 0.05) ** 2 * (y * 0.1) ** 3\n",
        "          line += msg[(x - y) % len(msg)] if f <= 0 else \" \"\n",
        "        lines.append(line)\n",
        "    print(Fore.GREEN+\"\\n\".join(lines))\n",
        "heart_shape()"
      ],
      "metadata": {
        "colab": {
          "base_uri": "https://localhost:8080/"
        },
        "id": "etavWtb-qpsl",
        "outputId": "51f69ca3-d5b5-4dcd-8ed6-90c407d1567b"
      },
      "execution_count": 24,
      "outputs": [
        {
          "output_type": "stream",
          "name": "stdout",
          "text": [
            "\u001b[32m                                                                                          \n",
            "                                                                                          \n",
            "                                                                                          \n",
            "            ! C новым годом! C                               новым годом! C нов           \n",
            "       одом! C новым годом! C новым г                 ом! C новым годом! C новым год      \n",
            "     годом! C новым годом! C новым годом!         годом! C новым годом! C новым годом!    \n",
            "    годом! C новым годом! C новым годом! C н   м годом! C новым годом! C новым годом! C   \n",
            "   годом! C новым годом! C новым годом! C новым годом! C новым годом! C новым годом! C но \n",
            "  годом! C новым годом! C новым годом! C новым годом! C новым годом! C новым годом! C нов \n",
            "  одом! C новым годом! C новым годом! C новым годом! C новым годом! C новым годом! C новы \n",
            "  дом! C новым годом! C новым годом! C новым годом! C новым годом! C новым годом! C новым \n",
            "   м! C новым годом! C новым годом! C новым годом! C новым годом! C новым годом! C новым  \n",
            "     C новым годом! C новым годом! C новым годом! C новым годом! C новым годом! C новым   \n",
            "      новым годом! C новым годом! C новым годом! C новым годом! C новым годом! C новым    \n",
            "      овым годом! C новым годом! C новым годом! C новым годом! C новым годом! C новым     \n",
            "        м годом! C новым годом! C новым годом! C новым годом! C новым годом! C новы       \n",
            "          одом! C новым годом! C новым годом! C новым годом! C новым годом! C нов         \n",
            "            м! C новым годом! C новым годом! C новым годом! C новым годом! C но           \n",
            "                новым годом! C новым годом! C новым годом! C новым годом! C               \n",
            "                 вым годом! C новым годом! C новым годом! C новым годом! C                \n",
            "                     одом! C новым годом! C новым годом! C новым годом                    \n",
            "                        ! C новым годом! C новым годом! C новым год                       \n",
            "                            овым годом! C новым годом! C новым                            \n",
            "                                годом! C новым годом! C нов                               \n",
            "                                    ! C новым годом! C                                    \n",
            "                                        овым годом!                                       \n",
            "                                            год                                           \n",
            "                                             д                                            \n",
            "                                                                                          \n",
            "                                                                                          \n",
            "                                                                                          \n",
            "                                                                                          \n",
            "                                                                                          \n",
            "                                                                                          \n"
          ]
        }
      ]
    }
  ]
}