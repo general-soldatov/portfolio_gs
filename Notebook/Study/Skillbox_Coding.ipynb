{
  "nbformat": 4,
  "nbformat_minor": 0,
  "metadata": {
    "colab": {
      "provenance": [],
      "authorship_tag": "ABX9TyMCVP7XVXFeRp+iUEIulVXM"
    },
    "kernelspec": {
      "name": "python3",
      "display_name": "Python 3"
    },
    "language_info": {
      "name": "python"
    }
  },
  "cells": [
    {
      "cell_type": "markdown",
      "source": [
        "# Конспект Skillbox\n",
        "Прошёл обучение на бесплатном интенсиве от Skillbox по программированию на Python. В результате получил такой конспект."
      ],
      "metadata": {
        "id": "Kp2aGjvSacvl"
      }
    },
    {
      "cell_type": "markdown",
      "source": [
        "# 1. Преобразование голоса в текст"
      ],
      "metadata": {
        "id": "EKAnRrVrDnrr"
      }
    },
    {
      "cell_type": "markdown",
      "source": [
        "Телеграм отправляет голосовые в формате .oga, а SpeechRecognition нужен формат .wav."
      ],
      "metadata": {
        "id": "vVGSSemHDrjX"
      }
    },
    {
      "cell_type": "code",
      "source": [
        "!pip install SpeechRecognition\n",
        "!pip install pydub"
      ],
      "metadata": {
        "colab": {
          "base_uri": "https://localhost:8080/"
        },
        "id": "_4d3pDPuD3oA",
        "outputId": "cde5fb0a-e249-4803-a903-200be10602f9"
      },
      "execution_count": 1,
      "outputs": [
        {
          "output_type": "stream",
          "name": "stdout",
          "text": [
            "Requirement already satisfied: SpeechRecognition in /usr/local/lib/python3.10/dist-packages (3.10.1)\n",
            "Requirement already satisfied: requests>=2.26.0 in /usr/local/lib/python3.10/dist-packages (from SpeechRecognition) (2.31.0)\n",
            "Requirement already satisfied: typing-extensions in /usr/local/lib/python3.10/dist-packages (from SpeechRecognition) (4.5.0)\n",
            "Requirement already satisfied: charset-normalizer<4,>=2 in /usr/local/lib/python3.10/dist-packages (from requests>=2.26.0->SpeechRecognition) (3.3.2)\n",
            "Requirement already satisfied: idna<4,>=2.5 in /usr/local/lib/python3.10/dist-packages (from requests>=2.26.0->SpeechRecognition) (3.6)\n",
            "Requirement already satisfied: urllib3<3,>=1.21.1 in /usr/local/lib/python3.10/dist-packages (from requests>=2.26.0->SpeechRecognition) (2.0.7)\n",
            "Requirement already satisfied: certifi>=2017.4.17 in /usr/local/lib/python3.10/dist-packages (from requests>=2.26.0->SpeechRecognition) (2023.11.17)\n",
            "Requirement already satisfied: pydub in /usr/local/lib/python3.10/dist-packages (0.25.1)\n"
          ]
        }
      ]
    },
    {
      "cell_type": "markdown",
      "source": [
        "Функция загрузки файла"
      ],
      "metadata": {
        "id": "lwU5U8_NEDaa"
      }
    },
    {
      "cell_type": "code",
      "source": [
        "import urllib\n",
        "\n",
        "url = \"https://drive.google.com/uc?export=view&id=1aBZnHgsjg7XIVlvpYasOOJ8hurp7V6Ww\"\n",
        "filename = \"skillbox_voice_sample.oga\"\n",
        "urllib.request.urlretrieve(url, filename)"
      ],
      "metadata": {
        "colab": {
          "base_uri": "https://localhost:8080/"
        },
        "id": "PHr5cvLoD9NP",
        "outputId": "9dc53a74-cd01-4710-a25f-c545157e6e2a"
      },
      "execution_count": 2,
      "outputs": [
        {
          "output_type": "execute_result",
          "data": {
            "text/plain": [
              "('skillbox_voice_sample.oga', <http.client.HTTPMessage at 0x79d639225d50>)"
            ]
          },
          "metadata": {},
          "execution_count": 2
        }
      ]
    },
    {
      "cell_type": "markdown",
      "source": [
        "Напишем функцию для преобразования файла:"
      ],
      "metadata": {
        "id": "JyotFFGnEYJs"
      }
    },
    {
      "cell_type": "code",
      "execution_count": 3,
      "metadata": {
        "id": "GtIdgikVDRrl"
      },
      "outputs": [],
      "source": [
        "from pydub import AudioSegment\n",
        "\n",
        "def oga2wav(filename):\n",
        "    # Переименование формата: 'sample.oga' -> 'sample.wav'\n",
        "    new_filename = filename.replace('.oga', '.wav')\n",
        "    # Читаем файл с диска с помощью функции AudioSegment.from_file()\n",
        "    audio = AudioSegment.from_file(filename)\n",
        "    # Экспортируем файл в новом формате\n",
        "    audio.export(new_filename, format='wav')\n",
        "    # Возвратим в качестве результата функции имя нового файла\n",
        "    return new_filename"
      ]
    },
    {
      "cell_type": "code",
      "source": [
        "oga2wav(filename)"
      ],
      "metadata": {
        "colab": {
          "base_uri": "https://localhost:8080/",
          "height": 35
        },
        "id": "5ZnnbVH3ECDp",
        "outputId": "4013a288-8fdf-412a-978f-570fcd5d0c1e"
      },
      "execution_count": 4,
      "outputs": [
        {
          "output_type": "execute_result",
          "data": {
            "text/plain": [
              "'skillbox_voice_sample.wav'"
            ],
            "application/vnd.google.colaboratory.intrinsic+json": {
              "type": "string"
            }
          },
          "metadata": {},
          "execution_count": 4
        }
      ]
    },
    {
      "cell_type": "markdown",
      "source": [
        "Теперь с помощью библиотеки `speech_recognition` преобразуем голос в текст."
      ],
      "metadata": {
        "id": "DhsKgLIYEpVn"
      }
    },
    {
      "cell_type": "code",
      "source": [
        "import speech_recognition\n",
        "import os\n",
        "\n",
        "recognizer = speech_recognition.Recognizer()\n",
        "\n",
        "with speech_recognition.WavFile('skillbox_voice_sample.wav') as source:\n",
        "     wav_audio = recognizer.record(source)\n",
        "\n",
        "recognizer.recognize_google(wav_audio, language='ru')"
      ],
      "metadata": {
        "colab": {
          "base_uri": "https://localhost:8080/",
          "height": 35
        },
        "id": "aJuyKAAwEoUM",
        "outputId": "ae92687e-eed8-4c41-dcd8-47adec47c0dc"
      },
      "execution_count": 5,
      "outputs": [
        {
          "output_type": "execute_result",
          "data": {
            "text/plain": [
              "'Добрый день Приветствуем всех зрителей skillbox'"
            ],
            "application/vnd.google.colaboratory.intrinsic+json": {
              "type": "string"
            }
          },
          "metadata": {},
          "execution_count": 5
        }
      ]
    },
    {
      "cell_type": "markdown",
      "source": [
        "Функция преобразования голосового сообщения в текст:"
      ],
      "metadata": {
        "id": "SbhRIH4gFq6Q"
      }
    },
    {
      "cell_type": "code",
      "source": [
        "def recognize_speech(oga_filename):\n",
        "    wav_filename = oga2wav(oga_filename)\n",
        "    recognizer = speech_recognition.Recognizer()\n",
        "\n",
        "    with speech_recognition.WavFile(wav_filename) as source:\n",
        "        wav_audio = recognizer.record(source)\n",
        "\n",
        "    text = recognizer.recognize_google(wav_audio, language='ru')\n",
        "\n",
        "    if os.path.exists(oga_filename):\n",
        "        os.remove(oga_filename)\n",
        "\n",
        "    if os.path.exists(wav_filename):\n",
        "        os.remove(wav_filename)\n",
        "\n",
        "    return text"
      ],
      "metadata": {
        "id": "j_Ps4VRuFqIk"
      },
      "execution_count": 6,
      "outputs": []
    },
    {
      "cell_type": "code",
      "source": [
        "recognize_speech('skillbox_voice_sample.oga')"
      ],
      "metadata": {
        "colab": {
          "base_uri": "https://localhost:8080/",
          "height": 35
        },
        "id": "6rK6kvJMF27_",
        "outputId": "2632eca4-f278-441b-eb67-be89d263a37e"
      },
      "execution_count": 7,
      "outputs": [
        {
          "output_type": "execute_result",
          "data": {
            "text/plain": [
              "'Добрый день Приветствуем всех зрителей skillbox'"
            ],
            "application/vnd.google.colaboratory.intrinsic+json": {
              "type": "string"
            }
          },
          "metadata": {},
          "execution_count": 7
        }
      ]
    },
    {
      "cell_type": "markdown",
      "source": [
        "Удаление файлов с диска для исключения переполнения:"
      ],
      "metadata": {
        "id": "po9WjU6HFAwv"
      }
    },
    {
      "cell_type": "code",
      "source": [
        "if os.path.exists('skillbox_voice_sample.oga'):\n",
        "    os.remove('skillbox_voice_sample.oga')\n",
        "\n",
        "#проверка условия, есть ли файл\n",
        "\n",
        "if os.path.exists('skillbox_voice_sample.wav'):\n",
        "    os.remove('skillbox_voice_sample.wav')\n"
      ],
      "metadata": {
        "id": "4HQSvsDpFIX7"
      },
      "execution_count": 8,
      "outputs": []
    },
    {
      "cell_type": "markdown",
      "source": [
        "Скачивание файла в телеграм производится с помощью функции-обработчика:\n",
        "```python\n",
        "# Новое условие на срабатывание: content_types=['voice']\n",
        "@bot.message_handler(content_types=['voice'])\n",
        "def transcript(message):\n",
        "    # id файла - в message.voice.file_id\n",
        "    filename = download_file(bot, message.voice.file_id)\n",
        "    # Распознаем запись с помощью нашей функции recognize_speech\n",
        "    text = recognize_speech(filename)\n",
        "    # Отправляем пользователю в ответ текст\n",
        "    bot.send_message(message.chat.id, text)\n",
        "```"
      ],
      "metadata": {
        "id": "s-i-WU7RGfah"
      }
    },
    {
      "cell_type": "markdown",
      "source": [
        "# 2. Работа с изображениями в библиотеке `Pillow`"
      ],
      "metadata": {
        "id": "CeYAXwoWG5nI"
      }
    },
    {
      "cell_type": "markdown",
      "source": [
        "Преобразование файла jpg в webp."
      ],
      "metadata": {
        "id": "O2TAeHFKSbTn"
      }
    },
    {
      "cell_type": "code",
      "source": [
        "from PIL import Image\n",
        "import glob, os\n",
        "\n",
        "url = \"https://bronk.club/uploads/posts/2023-02/1676926713_bronk-club-p-otkritki-stikeri-krasivo-50.jpg\"\n",
        "filename = \"sticker.jpg\"\n",
        "urllib.request.urlretrieve(url, filename)\n",
        "\n",
        "im = Image.open(\"sticker.jpg\").convert(\"RGB\")\n",
        "im.save(\"sticker.webp\", \"WEBP\")"
      ],
      "metadata": {
        "id": "8iBs3LLZGuj8"
      },
      "execution_count": 9,
      "outputs": []
    },
    {
      "cell_type": "code",
      "source": [
        "#удаление jpg-изображения\n",
        "if os.path.exists(\"sticker.jpg\"):\n",
        "    os.remove(\"sticker.jpg\")"
      ],
      "metadata": {
        "id": "trITIiEQHXR7"
      },
      "execution_count": 10,
      "outputs": []
    },
    {
      "cell_type": "code",
      "source": [
        "#удаление файла webp\n",
        "if os.path.exists(\"sticker.webp\"):\n",
        "    os.remove(\"sticker.webp\")"
      ],
      "metadata": {
        "id": "vkzvxCWYHiWI"
      },
      "execution_count": 11,
      "outputs": []
    },
    {
      "cell_type": "markdown",
      "source": [
        "Наложение фильтра на изображение"
      ],
      "metadata": {
        "id": "L_Onh9jUSmwB"
      }
    },
    {
      "cell_type": "code",
      "source": [
        "# Скачиваем картинку в рабочую папку\n",
        "\n",
        "import urllib\n",
        "\n",
        "url = \"https://drive.google.com/uc?export=view&id=1clfJFsxixyYEWD4RpBrxOxf9lbE0YbdA\"\n",
        "filename = \"test_image.png\"\n",
        "urllib.request.urlretrieve(url, filename)\n"
      ],
      "metadata": {
        "colab": {
          "base_uri": "https://localhost:8080/"
        },
        "id": "_n7boieRSrtc",
        "outputId": "6db2bdba-6545-4578-e582-5383db9a4d50"
      },
      "execution_count": 12,
      "outputs": [
        {
          "output_type": "execute_result",
          "data": {
            "text/plain": [
              "('test_image.png', <http.client.HTTPMessage at 0x79d6292efb80>)"
            ]
          },
          "metadata": {},
          "execution_count": 12
        }
      ]
    },
    {
      "cell_type": "code",
      "source": [
        "from PIL import Image, ImageEnhance, ImageFilter\n",
        "\n",
        "# Считаем изображение\n",
        "source_image = Image.open('test_image.png')\n",
        "\n",
        "# Нарисуем исходное изображение\n",
        "source_image.show()\n",
        "\n",
        "# Увеличим контрастность\n",
        "enhanced_image = ImageEnhance.Contrast(source_image).enhance(1.8)\n",
        "\n",
        "im = enhanced_image.convert(\"RGB\")\n",
        "im.save(\"image.png\", \"PNG\")"
      ],
      "metadata": {
        "id": "zoHWFgi5VEIA"
      },
      "execution_count": 13,
      "outputs": []
    },
    {
      "cell_type": "markdown",
      "source": [
        "Наложение фильтров"
      ],
      "metadata": {
        "id": "KmqzH2TXaUZ0"
      }
    },
    {
      "cell_type": "code",
      "source": [
        "source_image = Image.open('test_image.png')\n",
        "\n",
        "# Упражнение: попробуйте различные фильтры:\n",
        "enhanced_image = source_image.filter(ImageFilter.CONTOUR)\n",
        "enhanced_image.convert(\"RGB\").save(\"image.png\", \"PNG\")"
      ],
      "metadata": {
        "id": "hfDkwQtUZS4q"
      },
      "execution_count": 14,
      "outputs": []
    },
    {
      "cell_type": "markdown",
      "source": [
        "Доступные фильтры:\n",
        "* BLUR\n",
        "* CONTOUR\n",
        "* DETAIL\n",
        "* EDGE_ENHANCE\n",
        "* EDGE_ENHANCE_MORE\n",
        "* EMBOSS\n",
        "* FIND_EDGES\n",
        "* SHARPEN\n",
        "* SMOOTH\n",
        "* SMOOTH_MORE"
      ],
      "metadata": {
        "id": "4gBB92F5ZL21"
      }
    },
    {
      "cell_type": "markdown",
      "source": [
        "Наложение текста"
      ],
      "metadata": {
        "id": "2uz6IIgfVJX5"
      }
    },
    {
      "cell_type": "code",
      "source": [
        "from PIL import Image, ImageDraw, ImageFont\n",
        "\n",
        "im = Image.new('RGB', (200,200), color=('#FAACAC'))\n",
        "#font = ImageFont.truetype(\"arial.ttf\", size=18)\n",
        "draw_text = ImageDraw.Draw(im)\n",
        "draw_text.text(\n",
        "    (50,100),\n",
        "    'Help!',\n",
        "    #font=font,\n",
        "    fill=('#1C0606')\n",
        "    )\n",
        "im.convert(\"RGB\").save(\"image.jpeg\", \"JPEG\")"
      ],
      "metadata": {
        "id": "CD7VDG9TVK7h"
      },
      "execution_count": 15,
      "outputs": []
    },
    {
      "cell_type": "markdown",
      "source": [
        "Функция для преобразования изображений"
      ],
      "metadata": {
        "id": "DEoWfQfaadRW"
      }
    },
    {
      "cell_type": "code",
      "source": [
        "def transform_image(filename):\n",
        "    # Считаем изображение с помощью Image.open\n",
        "    source_image = Image.open(filename)\n",
        "\n",
        "    # Наложим фильтр: ImageFilter.EMBOSS\n",
        "    enhanced_image = source_image.filter(ImageFilter.EMBOSS)\n",
        "\n",
        "    # Нужно конвертировать RGBA в RGB для сохранения в JPEG:\n",
        "    enhanced_image = enhanced_image.convert('RGB')\n",
        "\n",
        "    # Пересохраним изображение:\n",
        "    enhanced_image.save(filename)\n",
        "\n",
        "    return filename"
      ],
      "metadata": {
        "id": "iHHnSjPoahWl"
      },
      "execution_count": 16,
      "outputs": []
    },
    {
      "cell_type": "markdown",
      "source": [
        "Получим функцию обработки сообщения чат-бота с фильтром изображения:  \n",
        "\n",
        "```python\n",
        "@bot.message_handler(content_types=['photo'])\n",
        "def resend_photo(message):\n",
        "    # Функция отправки обработанного изображения\n",
        "    file_id = message.photo[-1].file_id\n",
        "    filename = download_file(bot, file_id)\n",
        "\n",
        "    # Трансформируем изображение\n",
        "    transform_image(filename)\n",
        "\n",
        "    image = open(filename, 'rb')\n",
        "    bot.send_photo(message.chat.id, image)\n",
        "    image.close()\n",
        "\n",
        "    # Не забываем удалять ненужные изображения\n",
        "    if os.path.exists(filename):\n"
      ],
      "metadata": {
        "id": "zw5Fw8cvazBS"
      }
    },
    {
      "cell_type": "markdown",
      "source": [
        "# 3. Парсинг HTML-страниц"
      ],
      "metadata": {
        "id": "hW-yFAbotX60"
      }
    },
    {
      "cell_type": "markdown",
      "source": [
        "Создать файл Excel можно с помощью библиотеки `openpyxl`"
      ],
      "metadata": {
        "id": "IxKZFVXztlYA"
      }
    },
    {
      "cell_type": "code",
      "source": [
        "from openpyxl import Workbook"
      ],
      "metadata": {
        "id": "tMjluadFa-70"
      },
      "execution_count": 17,
      "outputs": []
    },
    {
      "cell_type": "markdown",
      "source": [
        "Создать таблицу"
      ],
      "metadata": {
        "id": "5FUtelhYVkpt"
      }
    },
    {
      "cell_type": "code",
      "source": [
        "table = [[1, 2, 3], [4, 5, 6]]\n",
        "work_book = Workbook()\n",
        "\n",
        "# Создаем объект \"листа\"\n",
        "work_sheet = work_book.active\n",
        "\n",
        "# Коллекция для генерации таблицы\n",
        "numbers = [1, 2, 3, 4, 5]\n",
        "\n",
        "for elem in numbers:\n",
        "    row = [elem, elem * 2, elem ** 2]\n",
        "    print(row)\n",
        "    work_sheet.append(row)\n",
        "\n",
        "work_book.save('table.xlsx')"
      ],
      "metadata": {
        "colab": {
          "base_uri": "https://localhost:8080/"
        },
        "id": "KgwkyKabtglp",
        "outputId": "277494c3-5be0-4470-e6dd-d021874c9b46"
      },
      "execution_count": 18,
      "outputs": [
        {
          "output_type": "stream",
          "name": "stdout",
          "text": [
            "[1, 2, 1]\n",
            "[2, 4, 4]\n",
            "[3, 6, 9]\n",
            "[4, 8, 16]\n",
            "[5, 10, 25]\n"
          ]
        }
      ]
    },
    {
      "cell_type": "code",
      "source": [
        "import requests\n",
        "\n",
        "web_page = requests.get('https://live.skillbox.ru/playlists/code/python/')\n",
        "\n",
        "web_page.text"
      ],
      "metadata": {
        "colab": {
          "base_uri": "https://localhost:8080/",
          "height": 139
        },
        "id": "L6Rkcye1XZho",
        "outputId": "e0e0bdf7-23fd-4a90-bd74-b8c762d9b5f9"
      },
      "execution_count": 19,
      "outputs": [
        {
          "output_type": "execute_result",
          "data": {
            "text/plain": [
              "'<!doctype html>\\n<html data-n-head-ssr lang=\"ru\" data-n-head=\"%7B%22lang%22:%7B%22ssr%22:%22ru%22%7D%7D\">\\n  <head >\\n    <meta data-n-head=\"ssr\" charset=\"utf-8\"><meta data-n-head=\"ssr\" name=\"viewport\" content=\"width=device-width, initial-scale=1\"><meta data-n-head=\"ssr\" name=\"referrer\" content=\"no-referrer-when-downgrade\"><meta data-n-head=\"ssr\" data-hid=\"og:type\" property=\"og:type\" content=\"site\"><meta data-n-head=\"ssr\" data-hid=\"og:site_name\" property=\"og:site_name\" content=\"live.skillbox.ru\"><meta data-n-head=\"ssr\" data-hid=\"og:locale\" property=\"og:locale\" content=\"ru_RU\"><meta data-n-head=\"ssr\" data-hid=\"twitter:card\" property=\"twitter:card\" content=\"summary_large_image\"><meta data-n-head=\"ssr\" data-hid=\"vk:image\" property=\"vk:image\" content=\"https://cdn.skillbox.pro/wbd-front/live-static/general/og/1074×480.png\"><meta data-n-head=\"ssr\" data-hid=\"twitter:image\" property=\"twitter:image\" content=\"https://cdn.skillbox.pro/wbd-front/live-static/general/og/1200×630.png\"><meta data-n-head=\"ssr\" data-hid=\"og:image\" property=\"og:image\" content=\"https://cdn.skillbox.pro/wbd-front/live-static/general/og/1200×630.png\"><meta data-n-head=\"ssr\" data-hid=\"og:image:width\" property=\"og:image:width\" content=\"600\"><meta data-n-head=\"ssr\" data-hid=\"og:image:height\" property=\"og:image:height\" content=\"315\"><meta data-n-head=\"ssr\" data-hid=\"sentry-trace\" name=\"sentry-trace\" content=\"a55a1eaac7e74ef4a66e3dca0aa54f0a-a5f58daab543b3fc-1\"><meta data-n-head=\"ssr\" data-hid=\"sentry-baggage\" name=\"baggage\" content=\"sentry-environment=production,sentry-release=847c7bbdcb84c33b16702b2bd8d72b364b988eb3,sentry-public_key=f80363f671284b468655548a18913cc0,sentry-trace_id=a55a1eaac7e74ef4a66e3dca0aa54f0a,sentry-sample_rate=1,sentry-sampled=true\"><meta data-n-head=\"ssr\" data-hid=\"og:title\" property=\"og:title\" content=\"Python — 17 видео для обучения с нуля, смотрите уроки бесплатно\"><meta data-n-head=\"ssr\" data-hid=\"og:url\" property=\"og:url\" content=\"https://live.skillbox.ru/playlists/\"><meta data-n-head=\"ssr\" data-hid=\"og:description\" property=\"og:description\" content=\"🔥 Подборка бесплатных видеоуроков для начинающих на тему «Python» от Skillbox. Освойте навыки, необходимые для старта карьеры, самостоятельно. Лекции ведут эксперты в области Python. Станьте крутым специалистом со Skillbox😏\"><meta data-n-head=\"ssr\" data-hid=\"description\" name=\"description\" content=\"🔥 Подборка бесплатных видеоуроков для начинающих на тему «Python» от Skillbox. Освойте навыки, необходимые для старта карьеры, самостоятельно. Лекции ведут эксперты в области Python. Станьте крутым специалистом со Skillbox😏\"><title>Python — 17 видео для обучения с нуля, смотрите уроки бесплатно</title><link data-n-head=\"ssr\" rel=\"apple-touch-icon\" sizes=\"72x72\" href=\"https://skillbox.ru/apple-touch-icon.png\"><link data-n-head=\"ssr\" rel=\"icon\" type=\"image/png\" sizes=\"32x32\" href=\"https://skillbox.ru/favicon-32x32.png\"><link data-n-head=\"ssr\" rel=\"icon\" type=\"image/png\" sizes=\"16x16\" href=\"https://skillbox.ru/favicon-16x16.png\"><link data-n-head=\"ssr\" data-hid=\"canonical\" rel=\"canonical\" href=\"https://live.skillbox.ru/playlists/code/python/\"><script data-n-head=\"ssr\" data-hid=\"project\">window.webDevProject = true</script><script data-n-head=\"ssr\" data-hid=\"gtm-script\">window[\\'dataLayer\\']=[];if(!window._gtm_init){window._gtm_init=1;(function(w,n,d,m,e,p){w[d]=(w[d]==1||n[d]==\\'yes\\'||n[d]==1||n[m]==1||(w[e]&&w[e][p]&&w[e][p]()))?1:0})(window,navigator,\\'doNotTrack\\',\\'msDoNotTrack\\',\\'external\\',\\'msTrackingProtectionEnabled\\');(function(w,d,s,l,x,y){w[x]={};w._gtm_inject=function(i){w[x][i]=1;w[l]=w[l]||[];w[l].push({\\'gtm.start\\':new Date().getTime(),event:\\'gtm.js\\'});var f=d.getElementsByTagName(s)[0],j=d.createElement(s);j.defer=true;j.src=\\'https://www.googletagmanager.com/gtm.js?id=\\'+i;f.parentNode.insertBefore(j,f);}})(window,document,\\'script\\',\\'dataLayer\\',\\'_gtm_ids\\',\\'_gtm_inject\\')};[\"GTM-NLCGQ25\"].forEach(function(i){window._gtm_inject(i)})</script><link rel=\"modulepreload\" href=\"https://cdn.skillbox.pro/wbd-front/live/62681ee.modern.js\" as=\"script\"><link rel=\"modulepreload\" href=\"https://cdn.skillbox.pro/wbd-front/live/2b231db.modern.js\" as=\"script\"><link rel=\"preload\" href=\"https://cdn.skillbox.pro/wbd-front/live/css/38b8169.css\" as=\"style\"><link rel=\"modulepreload\" href=\"https://cdn.skillbox.pro/wbd-front/live/c41af3b.modern.js\" as=\"script\"><link rel=\"preload\" href=\"https://cdn.skillbox.pro/wbd-front/live/css/ef2e7e3.css\" as=\"style\"><link rel=\"modulepreload\" href=\"https://cdn.skillbox.pro/wbd-front/live/3a28e80.modern.js\" as=\"script\"><link rel=\"preload\" href=\"https://cdn.skillbox.pro/wbd-front/live/css/29d9d72.css\" as=\"style\"><link rel=\"modulepreload\" href=\"https://cdn.skillbox.pro/wbd-front/live/57e2da6.modern.js\" as=\"script\"><link rel=\"stylesheet\" href=\"https://cdn.skillbox.pro/wbd-front/live/css/38b8169.css\"><link rel=\"stylesheet\" href=\"https://cdn.skillbox.pro/wbd-front/live/css/ef2e7e3.css\"><link rel=\"stylesheet\" href=\"https://cdn.skillbox.pro/wbd-front/live/css/29d9d72.css\">\\n  </head>\\n  <body data-theme=\"light\" data-n-head=\"%7B%22data-theme%22:%7B%22ssr%22:%22light%22%7D%7D\">\\n    <noscript data-n-head=\"ssr\" data-hid=\"gtm-noscript\" data-pbody=\"true\"><iframe src=\"https://www.googletagmanager.com/ns.html?id=GTM-NLCGQ25&\" height=\"0\" width=\"0\" style=\"display:none;visibility:hidden\" title=\"gtm\"></iframe></noscript><div data-server-rendered=\"true\" id=\"__nuxt\"><!----><div id=\"__layout\"><div id=\"#app\" class=\"layout\"><a href=\"https://skillbox.ru/sale/webinarsale/\" target=\"_blank\" data-fetch-key=\"UniversalNotice:0\" class=\"universal-notice universal-notice--active js-universal-notice-notice\" style=\"--banner-bg:#88EBE4;--banner-color:#000;--button-font-color:#FFFFFF;--button-bg-color:#3D3BFF;--banner-img-left:url(https://248006.selcdn.ru/MainSite/5a498c2b-3a4a-4445-9a09-e39965f0512a/hxgjpzk6.png);--banner-img-center:url(https://248006.selcdn.ru/MainSite/6f2292f2-ba02-473b-92f6-3fc530c2745d/lqge38e7.png);--banner-img-right:url(https://248006.selcdn.ru/MainSite/d299e266-c5d8-4477-bfa9-59236ec15e43/emjdauov.png);opacity:1;\"><span class=\"universal-notice__wrapper\"><b class=\"universal-notice__title\">Зимние скидки до&nbsp;60%</b> <!----> <span class=\"universal-notice__button\">Выбрать курс</span></span></a> <header class=\"ui-header\"><div class=\"ui-header__wrapper\"><div class=\"ui-header__content ui-container\"><a href=\"https://skillbox.ru\" target=\"_blank\" rel=\"noopener\" class=\"ui-header-logo ui-header__logo\"><img src=\"https://cdn.skillbox.pro/wbd-front/skillbox-static/skillbox-ny.svg\" alt=\"Skillbox\" width=\"84\" height=\"19\" class=\"ui-header-logo__image\"></a> <!----> <!----> <button class=\"ui-header-curtain-toggle ui-header__toggle\"><span class=\"f f--16\">\\n          Все курсы\\n        </span> <svg width=\"16\" height=\"16\" aria-hidden=\"true\" xmlns=\"http://www.w3.org/2000/svg\" class=\"ui-header-curtain-toggle__arrow icon sprite-icons ui-animated-chevron ui-animated-chevron--medium\"><use href=\"/_nuxt/ef960902788f1da66261680c71c3e444.svg#i-ui-chevron-down\" xlink:href=\"/_nuxt/ef960902788f1da66261680c71c3e444.svg#i-ui-chevron-down\"></use></svg></button> <nav class=\"ui-header-nav-bar ui-header__nav\"><ul class=\"ui-header-nav-bar__list\"><li class=\"ui-header-nav-bar__item\"><div class=\"ui-header-nav-item f f--16 ui-header-nav-item--dropdown\"><button class=\"ui-header-nav-item__link ui-header-nav-item__link--button\"><span class=\"sr-only\">\\n      Открыть меню:\\n    </span>\\n\\n    О Skillbox\\n\\n    <svg width=\"16\" height=\"16\" aria-hidden=\"true\" xmlns=\"http://www.w3.org/2000/svg\" class=\"ui-header-nav-item__icon icon sprite-icons ui-animated-chevron ui-animated-chevron--medium\"><use href=\"/_nuxt/ef960902788f1da66261680c71c3e444.svg#i-ui-chevron-down\" xlink:href=\"/_nuxt/ef960902788f1da66261680c71c3e444.svg#i-ui-chevron-down\"></use></svg></button> <ul class=\"ui-header-dropdown ui-shadow-8pt ui-header-nav-item__dropdown\" style=\"display:none;\"><li class=\"ui-header-dropdown__item\"><a href=\"https://skillbox.ru/company/\" target=\"_blank\" class=\"ui-header-dropdown__link f f--16\">\\n      О нас\\n    </a></li><li class=\"ui-header-dropdown__item\"><a href=\"https://events.skillbox.ru/researches\" target=\"_blank\" class=\"ui-header-dropdown__link f f--16\">\\n      Результаты\\n    </a></li><li class=\"ui-header-dropdown__item\"><a href=\"https://skillbox.ru/otzyvy/\" target=\"_blank\" class=\"ui-header-dropdown__link f f--16\">\\n      Отзывы\\n    </a></li><li class=\"ui-header-dropdown__item\"><a href=\"https://skillbox.ru/contacts/\" target=\"_blank\" class=\"ui-header-dropdown__link f f--16\">\\n      Контакты\\n    </a></li><li class=\"ui-header-dropdown__item\"><a href=\"https://skillbox.ru/our-great-team/\" target=\"_blank\" class=\"ui-header-dropdown__link f f--16\">\\n      Вакансии\\n    </a></li><li class=\"ui-header-dropdown__item\"><a href=\"https://skillbox.ru/platform/\" target=\"_blank\" class=\"ui-header-dropdown__link f f--16\">\\n      О платформе\\n    </a></li><li class=\"ui-header-dropdown__item\"><a href=\"https://skillbox.ru/career/\" target=\"_blank\" class=\"ui-header-dropdown__link f f--16\">\\n      Центр карьеры\\n    </a></li><li class=\"ui-header-dropdown__item\"><a href=\"https://skillbox.ru/teachers/\" target=\"_blank\" class=\"ui-header-dropdown__link f f--16\">\\n      Школа кураторов\\n    </a></li><li class=\"ui-header-dropdown__item\"><a href=\"https://partners.skillbox.ru/referral\" target=\"_blank\" class=\"ui-header-dropdown__link f f--16\">\\n      Скидки для друзей\\n    </a></li><li class=\"ui-header-dropdown__item\"><a href=\"https://community.skillbox.ru/\" target=\"_blank\" class=\"ui-header-dropdown__link f f--16\">\\n      Сообщество Skillbox\\n    </a></li></ul></div></li><li class=\"ui-header-nav-bar__item\"><div class=\"ui-header-nav-item f f--16 ui-header-nav-item--dropdown\"><button class=\"ui-header-nav-item__link ui-header-nav-item__link--button ui-header-nav-item__link--active\"><span class=\"sr-only\">\\n      Открыть меню:\\n    </span>\\n\\n    Вебинары\\n\\n    <svg width=\"16\" height=\"16\" aria-hidden=\"true\" xmlns=\"http://www.w3.org/2000/svg\" class=\"ui-header-nav-item__icon icon sprite-icons ui-animated-chevron ui-animated-chevron--medium\"><use href=\"/_nuxt/ef960902788f1da66261680c71c3e444.svg#i-ui-chevron-down\" xlink:href=\"/_nuxt/ef960902788f1da66261680c71c3e444.svg#i-ui-chevron-down\"></use></svg></button> <ul class=\"ui-header-dropdown ui-shadow-8pt ui-header-nav-item__dropdown\" style=\"display:none;\"><li class=\"ui-header-dropdown__item\"><a href=\"/\" class=\"ui-header-dropdown__link f f--16 nuxt-link-active\">\\n      Все вебинары\\n    </a></li><li class=\"ui-header-dropdown__item\"><a href=\"/playlists/\" class=\"ui-header-dropdown__link f f--16 nuxt-link-active\">\\n      Плейлисты\\n    </a></li><li class=\"ui-header-dropdown__item\"><a href=\"/calendar/\" class=\"ui-header-dropdown__link f f--16\">\\n      Расписание\\n    </a></li></ul></div></li><li class=\"ui-header-nav-bar__item\"><div class=\"ui-header-nav-item f f--16\"><a href=\"https://skillbox.ru/media/\" target=\"_blank\" class=\"ui-header-nav-item__link\">\\n      Медиа\\n    </a> <!----></div></li><li class=\"ui-header-nav-bar__item\"><div class=\"ui-header-nav-item f f--16\"><a href=\"https://b2b.skillbox.ru/\" target=\"_blank\" class=\"ui-header-nav-item__link\">\\n      Компаниям\\n    </a> <!----></div></li> <li class=\"ui-header-nav-bar__item ui-header-nav-bar__item--auth\"><a href=\"https://go.skillbox.ru/\" target=\"_blank\" rel=\"nofollow\" class=\"ui-header-login f f--16\">\\n  Войти\\n</a></li></ul></nav> <DIV class=\"v-portal\" style=\"display:none;\"></DIV></div></div> <!----></header> <main class=\"playlist-inner ui-container playlist-inner--banner\"><header class=\"playlist-inner-header playlist-inner__header playlist-inner__header--banner\"><a href=\"/playlists/\" class=\"playlist-inner-header__return nuxt-link-active\"><svg xmlns=\"http://www.w3.org/2000/svg\" class=\"playlist-inner-header__return-arrow icon sprite-icons\"><use href=\"/_nuxt/ef960902788f1da66261680c71c3e444.svg#i-arrow\" xlink:href=\"/_nuxt/ef960902788f1da66261680c71c3e444.svg#i-arrow\"></use></svg>\\n\\n    Все плейлисты\\n  </a> <h1 class=\"playlist-inner-header__title h-new h-new--1\">Python</h1> <div class=\"clamped-text playlist-inner-header__desc\"><p class=\"clamped-text__text\">Бесплатные видеоуроки по программированию на Python.\\r\\n\\r\\nВ этих видеоуроках опытный разработчик Артём Манченков познакомит вас с основами программирования на Python. Вы изучите синтаксис языка, познакомитесь с условиями, циклами и ООП. Напишете сервер для мессенджера.</p> <!----></div></header> <article class=\"recommendation-banner playlist-inner__recommendation\" style=\"background:#fececf;\"><b class=\"recommendation-banner__title\">Профессии и курсы по Python</b> <picture class=\"ui-picture recommendation-banner__pic\"><!----> <source media=\"(min-width: 1024px)\" srcset=\"https://live-prod.hb.bizmrg.com/1013382/conversions/25410d1e173678dbdbf131f0aa7b08ab-desktop-webp.webp?v=1705063782 \" type=\"image/webp\"> <source media=\"(min-width: 1024px)\" srcset=\"https://live-prod.hb.bizmrg.com/1013382/conversions/25410d1e173678dbdbf131f0aa7b08ab-desktop-jpg.jpg?v=1705063782 \"> <!----> <source srcset=\"https://live-prod.hb.bizmrg.com/1013382/conversions/25410d1e173678dbdbf131f0aa7b08ab-mobile-webp.webp?v=1705063782 \" type=\"image/webp\"> <img src=\"https://live-prod.hb.bizmrg.com/1013382/conversions/25410d1e173678dbdbf131f0aa7b08ab-mobile-jpg.jpg?v=1705063782\" loading=\"lazy\" decoding=\"async\" alt=\"Профессии и курсы по Python\" class=\"ui-picture__img ui-picture__img--cover\"></picture> <a href=\"https://sale.skillbox.ru/webinarsale/code/python/\" target=\"_blank\" class=\"ui-stretched-link recommendation-banner__link\"><span class=\"recommendation-banner__button ui-button ui-button--filled-main ui-button--medium ui-button--stretch\"><!----> \\n      Посмотреть\\n    </span></a></article> <ol class=\"playlist-inner__list\"><li class=\"playlist-inner__item\"><div class=\"playlist-inner-card\"><div class=\"playlist-inner-card__wrapper playlist-inner-card__wrapper--small\"><h2 class=\"playlist-inner-card__title t t--3\"><a href=\"/webinars/code/pishem-interfeis-messendzhera-na-python060523/\" class=\"playlist-inner-card__link\"><span class=\"playlist-inner-card__link-text\">Пишем интерфейс мессенджера на Python</span></a></h2> <div class=\"playlist-inner-card__small-info\"><svg width=\"14\" height=\"14\" aria-hidden=\"true\" xmlns=\"http://www.w3.org/2000/svg\" class=\"playlist-inner-card__play-icon icon sprite-icons\"><use href=\"/_nuxt/ef960902788f1da66261680c71c3e444.svg#i-play\" xlink:href=\"/_nuxt/ef960902788f1da66261680c71c3e444.svg#i-play\"></use></svg>\\n\\n      Видео, 01:51:00\\n    </div></div></div></li><li class=\"playlist-inner__item\"><div class=\"playlist-inner-card\"><div class=\"playlist-inner-card__wrapper playlist-inner-card__wrapper--small\"><h2 class=\"playlist-inner-card__title t t--3\"><a href=\"/webinars/code/nastraivaem-protokol-tcp-dlya-messendzhera050523/\" class=\"playlist-inner-card__link\"><span class=\"playlist-inner-card__link-text\">Настраиваем протокол TCP для мессенджера</span></a></h2> <div class=\"playlist-inner-card__small-info\"><svg width=\"14\" height=\"14\" aria-hidden=\"true\" xmlns=\"http://www.w3.org/2000/svg\" class=\"playlist-inner-card__play-icon icon sprite-icons\"><use href=\"/_nuxt/ef960902788f1da66261680c71c3e444.svg#i-play\" xlink:href=\"/_nuxt/ef960902788f1da66261680c71c3e444.svg#i-play\"></use></svg>\\n\\n      Видео, 01:58:13\\n    </div></div></div></li><li class=\"playlist-inner__item\"><div class=\"playlist-inner-card\"><div class=\"playlist-inner-card__wrapper playlist-inner-card__wrapper--small\"><h2 class=\"playlist-inner-card__title t t--3\"><a href=\"/webinars/code/znakomimsya-s-python040523/\" class=\"playlist-inner-card__link\"><span class=\"playlist-inner-card__link-text\">Знакомимся с Python</span></a></h2> <div class=\"playlist-inner-card__small-info\"><svg width=\"14\" height=\"14\" aria-hidden=\"true\" xmlns=\"http://www.w3.org/2000/svg\" class=\"playlist-inner-card__play-icon icon sprite-icons\"><use href=\"/_nuxt/ef960902788f1da66261680c71c3e444.svg#i-play\" xlink:href=\"/_nuxt/ef960902788f1da66261680c71c3e444.svg#i-play\"></use></svg>\\n\\n      Видео, 01:47:47\\n    </div></div></div></li><li class=\"playlist-inner__item\"><div class=\"playlist-inner-card\"><div class=\"playlist-inner-card__wrapper playlist-inner-card__wrapper--small\"><h2 class=\"playlist-inner-card__title t t--3\"><a href=\"/webinars/code/iskusstvennyi-intellekt-na-python-podvodim-itogi211222/\" class=\"playlist-inner-card__link\"><span class=\"playlist-inner-card__link-text\">Искусственный интеллект на Python: подводим итоги</span></a></h2> <div class=\"playlist-inner-card__small-info\"><svg width=\"14\" height=\"14\" aria-hidden=\"true\" xmlns=\"http://www.w3.org/2000/svg\" class=\"playlist-inner-card__play-icon icon sprite-icons\"><use href=\"/_nuxt/ef960902788f1da66261680c71c3e444.svg#i-play\" xlink:href=\"/_nuxt/ef960902788f1da66261680c71c3e444.svg#i-play\"></use></svg>\\n\\n      Видео, 01:04:56\\n    </div></div></div></li><li class=\"playlist-inner__item\"><div class=\"playlist-inner-card\"><div class=\"playlist-inner-card__wrapper playlist-inner-card__wrapper--small\"><h2 class=\"playlist-inner-card__title t t--3\"><a href=\"/webinars/code/uchim-bota-na-python-ponimat-tekst201222/\" class=\"playlist-inner-card__link\"><span class=\"playlist-inner-card__link-text\">Учим бота на Python понимать текст</span></a></h2> <div class=\"playlist-inner-card__small-info\"><svg width=\"14\" height=\"14\" aria-hidden=\"true\" xmlns=\"http://www.w3.org/2000/svg\" class=\"playlist-inner-card__play-icon icon sprite-icons\"><use href=\"/_nuxt/ef960902788f1da66261680c71c3e444.svg#i-play\" xlink:href=\"/_nuxt/ef960902788f1da66261680c71c3e444.svg#i-play\"></use></svg>\\n\\n      Видео, 01:53:26\\n    </div></div></div></li><li class=\"playlist-inner__item\"><div class=\"playlist-inner-card\"><div class=\"playlist-inner-card__wrapper playlist-inner-card__wrapper--small\"><h2 class=\"playlist-inner-card__title t t--3\"><a href=\"/webinars/code/znakomimsya-s-python-i-arkhitekturoi-umnogo-chat-bota191222/\" class=\"playlist-inner-card__link\"><span class=\"playlist-inner-card__link-text\">Знакомимся с Python и архитектурой умного чат-бота</span></a></h2> <div class=\"playlist-inner-card__small-info\"><svg width=\"14\" height=\"14\" aria-hidden=\"true\" xmlns=\"http://www.w3.org/2000/svg\" class=\"playlist-inner-card__play-icon icon sprite-icons\"><use href=\"/_nuxt/ef960902788f1da66261680c71c3e444.svg#i-play\" xlink:href=\"/_nuxt/ef960902788f1da66261680c71c3e444.svg#i-play\"></use></svg>\\n\\n      Видео, 02:10:05\\n    </div></div></div></li><li class=\"playlist-inner__item\"><div class=\"playlist-inner-card\"><div class=\"playlist-inner-card__wrapper playlist-inner-card__wrapper--small\"><h2 class=\"playlist-inner-card__title t t--3\"><a href=\"/webinars/code/khaking-na-python-pishem-pervoe-prilozhenie170521/\" class=\"playlist-inner-card__link\"><span class=\"playlist-inner-card__link-text\">Хакинг на Python: пишем первое приложение</span></a></h2> <div class=\"playlist-inner-card__small-info\"><svg width=\"14\" height=\"14\" aria-hidden=\"true\" xmlns=\"http://www.w3.org/2000/svg\" class=\"playlist-inner-card__play-icon icon sprite-icons\"><use href=\"/_nuxt/ef960902788f1da66261680c71c3e444.svg#i-play\" xlink:href=\"/_nuxt/ef960902788f1da66261680c71c3e444.svg#i-play\"></use></svg>\\n\\n      Видео, 02:31:45\\n    </div></div></div></li><li class=\"playlist-inner__item\"><div class=\"playlist-inner-card\"><div class=\"playlist-inner-card__wrapper playlist-inner-card__wrapper--small\"><h2 class=\"playlist-inner-card__title t t--3\"><a href=\"/webinars/code/khaking-na-python-podvodim-itogi190521/\" class=\"playlist-inner-card__link\"><span class=\"playlist-inner-card__link-text\">Хакинг на Python: подводим итоги</span></a></h2> <div class=\"playlist-inner-card__small-info\"><svg width=\"14\" height=\"14\" aria-hidden=\"true\" xmlns=\"http://www.w3.org/2000/svg\" class=\"playlist-inner-card__play-icon icon sprite-icons\"><use href=\"/_nuxt/ef960902788f1da66261680c71c3e444.svg#i-play\" xlink:href=\"/_nuxt/ef960902788f1da66261680c71c3e444.svg#i-play\"></use></svg>\\n\\n      Видео, 02:25:16\\n    </div></div></div></li><li class=\"playlist-inner__item\"><div class=\"playlist-inner-card\"><div class=\"playlist-inner-card__wrapper playlist-inner-card__wrapper--small\"><h2 class=\"playlist-inner-card__title t t--3\"><a href=\"/webinars/code/khaking-na-python-uchimsya-provodit-ataki-i-zashishatsya-ot-nikh180521/\" class=\"playlist-inner-card__link\"><span class=\"playlist-inner-card__link-text\">Хакинг на Python: учимся проводить атаки и защищаться от них</span></a></h2> <div class=\"playlist-inner-card__small-info\"><svg width=\"14\" height=\"14\" aria-hidden=\"true\" xmlns=\"http://www.w3.org/2000/svg\" class=\"playlist-inner-card__play-icon icon sprite-icons\"><use href=\"/_nuxt/ef960902788f1da66261680c71c3e444.svg#i-play\" xlink:href=\"/_nuxt/ef960902788f1da66261680c71c3e444.svg#i-play\"></use></svg>\\n\\n      Видео, 02:36:21\\n    </div></div></div></li><li class=\"playlist-inner__item\"><div class=\"playlist-inner-card\"><div class=\"playlist-inner-card__wrapper playlist-inner-card__wrapper--small\"><h2 class=\"playlist-inner-card__title t t--3\"><a href=\"/webinars/code/osnovy-backend-razrabotki-s-chego-nachat-2/\" class=\"playlist-inner-card__link\"><span class=\"playlist-inner-card__link-text\">Основы backend-разработки: с чего начать?</span></a></h2> <div class=\"playlist-inner-card__small-info\"><svg width=\"14\" height=\"14\" aria-hidden=\"true\" xmlns=\"http://www.w3.org/2000/svg\" class=\"playlist-inner-card__play-icon icon sprite-icons\"><use href=\"/_nuxt/ef960902788f1da66261680c71c3e444.svg#i-play\" xlink:href=\"/_nuxt/ef960902788f1da66261680c71c3e444.svg#i-play\"></use></svg>\\n\\n      Видео, 01:57:48\\n    </div></div></div></li><li class=\"playlist-inner__item\"><div class=\"playlist-inner-card\"><div class=\"playlist-inner-card__wrapper playlist-inner-card__wrapper--small\"><h2 class=\"playlist-inner-card__title t t--3\"><a href=\"/webinars/code/sozdayom-prilozhenie-dlya-monitoringa-obektov-na-video161220/\" class=\"playlist-inner-card__link\"><span class=\"playlist-inner-card__link-text\">Создаём приложение для мониторинга объектов на видео</span></a></h2> <div class=\"playlist-inner-card__small-info\"><svg width=\"14\" height=\"14\" aria-hidden=\"true\" xmlns=\"http://www.w3.org/2000/svg\" class=\"playlist-inner-card__play-icon icon sprite-icons\"><use href=\"/_nuxt/ef960902788f1da66261680c71c3e444.svg#i-play\" xlink:href=\"/_nuxt/ef960902788f1da66261680c71c3e444.svg#i-play\"></use></svg>\\n\\n      Видео, 02:21:49\\n    </div></div></div></li><li class=\"playlist-inner__item\"><div class=\"playlist-inner-card\"><div class=\"playlist-inner-card__wrapper playlist-inner-card__wrapper--small\"><h2 class=\"playlist-inner-card__title t t--3\"><a href=\"/webinars/code/ispolzuem-neiroseti-dlya-raspoznavaniya-obektov-na-izobrazhenii151220/\" class=\"playlist-inner-card__link\"><span class=\"playlist-inner-card__link-text\">Используем нейросети для распознавания объектов на изображении</span></a></h2> <div class=\"playlist-inner-card__small-info\"><svg width=\"14\" height=\"14\" aria-hidden=\"true\" xmlns=\"http://www.w3.org/2000/svg\" class=\"playlist-inner-card__play-icon icon sprite-icons\"><use href=\"/_nuxt/ef960902788f1da66261680c71c3e444.svg#i-play\" xlink:href=\"/_nuxt/ef960902788f1da66261680c71c3e444.svg#i-play\"></use></svg>\\n\\n      Видео, 03:09:05\\n    </div></div></div></li><li class=\"playlist-inner__item\"><div class=\"playlist-inner-card\"><div class=\"playlist-inner-card__wrapper playlist-inner-card__wrapper--small\"><h2 class=\"playlist-inner-card__title t t--3\"><a href=\"/webinars/code/izuchaem-osnovy-python-dlya-raboty-s-neirosetyami141220/\" class=\"playlist-inner-card__link\"><span class=\"playlist-inner-card__link-text\">Изучаем основы Python для работы с нейросетями</span></a></h2> <div class=\"playlist-inner-card__small-info\"><svg width=\"14\" height=\"14\" aria-hidden=\"true\" xmlns=\"http://www.w3.org/2000/svg\" class=\"playlist-inner-card__play-icon icon sprite-icons\"><use href=\"/_nuxt/ef960902788f1da66261680c71c3e444.svg#i-play\" xlink:href=\"/_nuxt/ef960902788f1da66261680c71c3e444.svg#i-play\"></use></svg>\\n\\n      Видео, 01:58:50\\n    </div></div></div></li><li class=\"playlist-inner__item\"><div class=\"playlist-inner-card\"><div class=\"playlist-inner-card__wrapper playlist-inner-card__wrapper--small\"><h2 class=\"playlist-inner-card__title t t--3\"><a href=\"/webinars/code/kak-stat-python-razrabotchikom081220/\" class=\"playlist-inner-card__link\"><span class=\"playlist-inner-card__link-text\">Как стать Python-разработчиком?</span></a></h2> <div class=\"playlist-inner-card__small-info\"><svg width=\"14\" height=\"14\" aria-hidden=\"true\" xmlns=\"http://www.w3.org/2000/svg\" class=\"playlist-inner-card__play-icon icon sprite-icons\"><use href=\"/_nuxt/ef960902788f1da66261680c71c3e444.svg#i-play\" xlink:href=\"/_nuxt/ef960902788f1da66261680c71c3e444.svg#i-play\"></use></svg>\\n\\n      Видео, 02:06:05\\n    </div></div></div></li><li class=\"playlist-inner__item\"><div class=\"playlist-inner-card\"><div class=\"playlist-inner-card__wrapper playlist-inner-card__wrapper--small\"><h2 class=\"playlist-inner-card__title t t--3\"><a href=\"/webinars/code/fullstack-razrabotchik-itogi-intensiva300920/\" class=\"playlist-inner-card__link\"><span class=\"playlist-inner-card__link-text\">Fullstack-разработчик. Итоги интенсива</span></a></h2> <div class=\"playlist-inner-card__small-info\"><svg width=\"14\" height=\"14\" aria-hidden=\"true\" xmlns=\"http://www.w3.org/2000/svg\" class=\"playlist-inner-card__play-icon icon sprite-icons\"><use href=\"/_nuxt/ef960902788f1da66261680c71c3e444.svg#i-play\" xlink:href=\"/_nuxt/ef960902788f1da66261680c71c3e444.svg#i-play\"></use></svg>\\n\\n      Видео, 01:04:11\\n    </div></div></div></li><li class=\"playlist-inner__item\"><div class=\"playlist-inner-card\"><div class=\"playlist-inner-card__wrapper playlist-inner-card__wrapper--small\"><h2 class=\"playlist-inner-card__title t t--3\"><a href=\"/webinars/code/fullstack-razrabotchik-tekhnologii-backend-razrabotki-freimvork-symfony-i-yazyk-php290920/\" class=\"playlist-inner-card__link\"><span class=\"playlist-inner-card__link-text\">Fullstack-разработчик: Технологии backend-разработки. Фреймворк Symfony и язык PHP</span></a></h2> <div class=\"playlist-inner-card__small-info\"><svg width=\"14\" height=\"14\" aria-hidden=\"true\" xmlns=\"http://www.w3.org/2000/svg\" class=\"playlist-inner-card__play-icon icon sprite-icons\"><use href=\"/_nuxt/ef960902788f1da66261680c71c3e444.svg#i-play\" xlink:href=\"/_nuxt/ef960902788f1da66261680c71c3e444.svg#i-play\"></use></svg>\\n\\n      Видео, 02:17:24\\n    </div></div></div></li><li class=\"playlist-inner__item\"><div class=\"playlist-inner-card\"><div class=\"playlist-inner-card__wrapper playlist-inner-card__wrapper--small\"><h2 class=\"playlist-inner-card__title t t--3\"><a href=\"/webinars/code/golosovoy-pomoshchnik-na-python-za-chas-1/\" class=\"playlist-inner-card__link\"><span class=\"playlist-inner-card__link-text\">Голосовой помощник на Python за час</span></a></h2> <div class=\"playlist-inner-card__small-info\"><svg width=\"14\" height=\"14\" aria-hidden=\"true\" xmlns=\"http://www.w3.org/2000/svg\" class=\"playlist-inner-card__play-icon icon sprite-icons\"><use href=\"/_nuxt/ef960902788f1da66261680c71c3e444.svg#i-play\" xlink:href=\"/_nuxt/ef960902788f1da66261680c71c3e444.svg#i-play\"></use></svg>\\n\\n      Видео, 01:52:49\\n    </div></div></div></li></ol></main> <div class=\"ui-breadcrumbs ui-container ui-breadcrumbs--default\"><ul itemscope=\"itemscope\" itemtype=\"https://schema.org/BreadcrumbList\" class=\"ui-breadcrumbs-list\"><li itemprop=\"itemListElement\" itemscope=\"itemscope\" itemtype=\"https://schema.org/ListItem\" class=\"ui-breadcrumbs-list__element f f--14\"><a href=\"/\" itemprop=\"item\" class=\"ui-breadcrumbs-list__link nuxt-link-active\"><span itemprop=\"name\" class=\"ui-breadcrumbs-list__text\">\\n        Все вебинары\\n      </span></a> <svg aria-hidden=\"true\" width=\"12\" height=\"12\" xmlns=\"http://www.w3.org/2000/svg\" class=\"ui-breadcrumbs-list__icon icon sprite-icons\"><use href=\"/_nuxt/ef960902788f1da66261680c71c3e444.svg#i-ui-chevron-left\" xlink:href=\"/_nuxt/ef960902788f1da66261680c71c3e444.svg#i-ui-chevron-left\"></use></svg> <meta content=\"1\" itemprop=\"position\"></li><li itemprop=\"itemListElement\" itemscope=\"itemscope\" itemtype=\"https://schema.org/ListItem\" class=\"ui-breadcrumbs-list__element f f--14\"><a href=\"/playlists/\" itemprop=\"item\" class=\"ui-breadcrumbs-list__link nuxt-link-active\"><span itemprop=\"name\" class=\"ui-breadcrumbs-list__text\">\\n        Плейлисты\\n      </span></a> <svg aria-hidden=\"true\" width=\"12\" height=\"12\" xmlns=\"http://www.w3.org/2000/svg\" class=\"ui-breadcrumbs-list__icon icon sprite-icons\"><use href=\"/_nuxt/ef960902788f1da66261680c71c3e444.svg#i-ui-chevron-left\" xlink:href=\"/_nuxt/ef960902788f1da66261680c71c3e444.svg#i-ui-chevron-left\"></use></svg> <meta content=\"2\" itemprop=\"position\"></li><li itemprop=\"itemListElement\" itemscope=\"itemscope\" itemtype=\"https://schema.org/ListItem\" class=\"ui-breadcrumbs-list__element f f--14\"><a itemprop=\"item\" class=\"ui-breadcrumbs-list__link ui-breadcrumbs-list__link--disabled\"><span itemprop=\"name\" class=\"ui-breadcrumbs-list__text\">\\n        Python\\n      </span></a> <!----> <meta content=\"3\" itemprop=\"position\"></li></ul></div> <footer data-theme=\"light\" class=\"ui-footer\"><picture class=\"ui-picture ui-footer-picture\"><source media=\"(min-width: 768px)\" srcset=\"https://cdn.skillbox.pro/wbd-front/skillbox-static/footer/footer-img-md@1x.avif 1x, https://cdn.skillbox.pro/wbd-front/skillbox-static/footer/footer-img-md@2x.avif 2x\" type=\"image/avif\"> <source media=\"(min-width: 768px)\" srcset=\"https://cdn.skillbox.pro/wbd-front/skillbox-static/footer/footer-img-md@1x.webp 1x, https://cdn.skillbox.pro/wbd-front/skillbox-static/footer/footer-img-md@2x.webp 2x\" type=\"image/webp\"> <source media=\"(min-width: 768px)\" srcset=\"https://cdn.skillbox.pro/wbd-front/skillbox-static/footer/footer-img-md@1x.png 1x, https://cdn.skillbox.pro/wbd-front/skillbox-static/footer/footer-img-md@2x.png 2x\"> <source srcset=\"https://cdn.skillbox.pro/wbd-front/skillbox-static/footer/footer-img-sm@1x.avif 1x, https://cdn.skillbox.pro/wbd-front/skillbox-static/footer/footer-img-sm@2x.avif 2x\" type=\"image/avif\"> <source srcset=\"https://cdn.skillbox.pro/wbd-front/skillbox-static/footer/footer-img-sm@1x.webp 1x, https://cdn.skillbox.pro/wbd-front/skillbox-static/footer/footer-img-sm@2x.webp 2x\" type=\"image/webp\"> <img src=\"https://cdn.skillbox.pro/wbd-front/skillbox-static/footer/footer-img-sm@1x.png\" srcset=\"https://cdn.skillbox.pro/wbd-front/skillbox-static/footer/footer-img-sm@2x.png 2x\" width=\"320\" height=\"200\" loading=\"lazy\" decoding=\"async\" alt=\"\" class=\"ui-picture__img ui-picture__img--cover\"></picture> <div class=\"ui-container\"><nav class=\"ui-footer-nav ui-footer__block\"><div class=\"ui-footer-nav-list__section ui-footer-nav__first-list\"><b class=\"ui-footer-nav-list__title f f--18 f--m\">\\n    Направления\\n  </b> <ul class=\"ui-footer-nav-list__links\"><li class=\"ui-footer-nav-list__item f f--14\"><a href=\"https://skillbox.ru/code/\" target=\"_blank\" rel=\"noopener\" class=\"ui-footer-nav-list__link ui-link ui-link--inherit ui-link--standard\">\\n        Программирование\\n       <!----></a></li><li class=\"ui-footer-nav-list__item f f--14\"><a href=\"https://skillbox.ru/design/\" target=\"_blank\" rel=\"noopener\" class=\"ui-footer-nav-list__link ui-link ui-link--inherit ui-link--standard\">\\n        Дизайн\\n       <!----></a></li><li class=\"ui-footer-nav-list__item f f--14\"><a href=\"https://skillbox.ru/courses/analitika/\" target=\"_blank\" rel=\"noopener\" class=\"ui-footer-nav-list__link ui-link ui-link--inherit ui-link--standard\">\\n        Аналитика\\n       <!----></a></li><li class=\"ui-footer-nav-list__item f f--14\"><a href=\"https://skillbox.ru/marketing/\" target=\"_blank\" rel=\"noopener\" class=\"ui-footer-nav-list__link ui-link ui-link--inherit ui-link--standard\">\\n        Маркетинг\\n       <!----></a></li><li class=\"ui-footer-nav-list__item f f--14\"><a href=\"https://skillbox.ru/management/\" target=\"_blank\" rel=\"noopener\" class=\"ui-footer-nav-list__link ui-link ui-link--inherit ui-link--standard\">\\n        Управление\\n       <!----></a></li><li class=\"ui-footer-nav-list__item f f--14\"><a href=\"https://skillbox.ru/courses/finansy/\" target=\"_blank\" rel=\"noopener\" class=\"ui-footer-nav-list__link ui-link ui-link--inherit ui-link--standard\">\\n        Финансы\\n       <!----></a></li><li class=\"ui-footer-nav-list__item f f--14\"><a href=\"https://skillbox.ru/games/\" target=\"_blank\" rel=\"noopener\" class=\"ui-footer-nav-list__link ui-link ui-link--inherit ui-link--standard\">\\n        Игры\\n       <!----></a></li><li class=\"ui-footer-nav-list__item f f--14\"><a href=\"https://skillbox.ru/multimedia/\" target=\"_blank\" rel=\"noopener\" class=\"ui-footer-nav-list__link ui-link ui-link--inherit ui-link--standard\">\\n        Кино и Музыка\\n       <!----></a></li><li class=\"ui-footer-nav-list__item f f--14\"><a href=\"https://skillbox.ru/courses/marketpleisy/\" target=\"_blank\" rel=\"noopener\" class=\"ui-footer-nav-list__link ui-link ui-link--inherit ui-link--standard\">\\n        Маркетплейсы\\n       <!----></a></li><li class=\"ui-footer-nav-list__item f f--14\"><a href=\"https://skillbox.ru/engineering/\" target=\"_blank\" rel=\"noopener\" class=\"ui-footer-nav-list__link ui-link ui-link--inherit ui-link--standard\">\\n        Инженерия\\n       <!----></a></li><li class=\"ui-footer-nav-list__item f f--14\"><a href=\"https://skillbox.ru/psychology/\" target=\"_blank\" rel=\"noopener\" class=\"ui-footer-nav-list__link ui-link ui-link--inherit ui-link--standard\">\\n        Психология\\n       <!----></a></li><li class=\"ui-footer-nav-list__item f f--14\"><a href=\"https://skillbox.ru/health/\" target=\"_blank\" rel=\"noopener\" class=\"ui-footer-nav-list__link ui-link ui-link--inherit ui-link--standard\">\\n        Здоровье\\n       <!----></a></li><li class=\"ui-footer-nav-list__item f f--14\"><a href=\"https://skillbox.ru/english/\" target=\"_blank\" rel=\"noopener\" class=\"ui-footer-nav-list__link ui-link ui-link--inherit ui-link--standard\">\\n        Английский язык\\n       <!----></a></li><li class=\"ui-footer-nav-list__item f f--14\"><a href=\"https://skillbox.ru/courses/\" target=\"_blank\" rel=\"noopener\" class=\"ui-footer-nav-list__link ui-link ui-link--inherit ui-link--standard\">\\n        Все курсы\\n       <!----></a></li></ul></div> <div class=\"ui-footer-nav-list__section\"><b class=\"ui-footer-nav-list__title f f--18 f--m\">\\n    О Skillbox\\n  </b> <ul class=\"ui-footer-nav-list__links\"><li class=\"ui-footer-nav-list__item f f--14\"><a href=\"https://skillbox.ru/company/\" target=\"_blank\" rel=\"noopener\" class=\"ui-footer-nav-list__link ui-link ui-link--inherit ui-link--standard\">\\n        О нас\\n       <!----></a></li><li class=\"ui-footer-nav-list__item f f--14\"><a href=\"https://skillbox.ru/career/\" target=\"_blank\" rel=\"noopener\" class=\"ui-footer-nav-list__link ui-link ui-link--inherit ui-link--standard\">\\n        Центр карьеры\\n       <!----></a></li><li class=\"ui-footer-nav-list__item f f--14\"><a href=\"https://skillbox.ru/otzyvy/\" target=\"_blank\" rel=\"noopener\" class=\"ui-footer-nav-list__link ui-link ui-link--inherit ui-link--standard\">\\n        Отзывы\\n       <!----></a></li><li class=\"ui-footer-nav-list__item f f--14\"><a href=\"https://skillbox.ru/contacts/\" target=\"_blank\" rel=\"noopener\" class=\"ui-footer-nav-list__link ui-link ui-link--inherit ui-link--standard\">\\n        Контакты\\n       <!----></a></li><li class=\"ui-footer-nav-list__item f f--14\"><a href=\"https://skillbox.ru/our-great-team/\" target=\"_blank\" rel=\"noopener\" class=\"ui-footer-nav-list__link ui-link ui-link--inherit ui-link--standard\">\\n        Вакансии\\n       <!----></a></li><li class=\"ui-footer-nav-list__item f f--14\"><a href=\"https://skillbox.ru/teachers/\" target=\"_blank\" rel=\"noopener\" class=\"ui-footer-nav-list__link ui-link ui-link--inherit ui-link--standard\">\\n        Школа кураторов\\n       <!----></a></li><li class=\"ui-footer-nav-list__item f f--14\"><a href=\"https://community.skillbox.ru/\" target=\"_blank\" rel=\"noopener\" class=\"ui-footer-nav-list__link ui-link ui-link--inherit ui-link--standard\">\\n        Сообщество Skillbox\\n       <!----></a></li><li class=\"ui-footer-nav-list__item f f--14\"><a href=\"https://skillbox.ru/platform/\" target=\"_blank\" rel=\"noopener\" class=\"ui-footer-nav-list__link ui-link ui-link--inherit ui-link--standard\">\\n        О платформе\\n       <!----></a></li></ul></div><div class=\"ui-footer-nav-list__section\"><b class=\"ui-footer-nav-list__title f f--18 f--m\">\\n    Проекты\\n  </b> <ul class=\"ui-footer-nav-list__links\"><li class=\"ui-footer-nav-list__item f f--14\"><a href=\"/\" class=\"ui-footer-nav-list__link nuxt-link-active ui-link ui-link--inherit ui-link--standard\">\\n        Вебинары\\n       <!----></a></li><li class=\"ui-footer-nav-list__item f f--14\"><a href=\"https://skillbox.ru/media/\" target=\"_blank\" rel=\"noopener\" class=\"ui-footer-nav-list__link ui-link ui-link--inherit ui-link--standard\">\\n        Медиа\\n       <!----></a></li><li class=\"ui-footer-nav-list__item f f--14\"><a href=\"https://skillbox.ru/sale/main/\" target=\"_blank\" rel=\"noopener\" class=\"ui-footer-nav-list__link ui-link ui-link--inherit ui-link--standard\">\\n        Распродажа\\n       <!----></a></li><li class=\"ui-footer-nav-list__item f f--14\"><a href=\"https://skillbox.ru/sale/free/\" target=\"_blank\" rel=\"noopener\" class=\"ui-footer-nav-list__link ui-link ui-link--inherit ui-link--standard\">\\n        Бесплатные курсы\\n       <!----></a></li></ul></div> <div class=\"ui-footer-nav-list__section\"><b class=\"ui-footer-nav-list__title f f--18 f--m\">\\n    Сотрудничество\\n  </b> <ul class=\"ui-footer-nav-list__links\"><li class=\"ui-footer-nav-list__item f f--14\"><a href=\"https://partners.skillbox.ru/referral/\" target=\"_blank\" rel=\"noopener\" class=\"ui-footer-nav-list__link ui-link ui-link--inherit ui-link--standard\">\\n        Скидки для друзей\\n       <!----></a></li><li class=\"ui-footer-nav-list__item f f--14\"><a href=\"https://partners.skillbox.ru/\" target=\"_blank\" rel=\"noopener\" class=\"ui-footer-nav-list__link ui-link ui-link--inherit ui-link--standard\">\\n        Партнёрская программа\\n       <!----></a></li><li class=\"ui-footer-nav-list__item f f--14\"><a href=\"https://b2b.skillbox.ru/\" target=\"_blank\" rel=\"noopener\" class=\"ui-footer-nav-list__link ui-link ui-link--inherit ui-link--standard\">\\n        Корпоративным клиентам\\n       <!----></a></li><li class=\"ui-footer-nav-list__item f f--14\"><a href=\"https://career.skillbox.ru/\" target=\"_blank\" rel=\"noopener\" class=\"ui-footer-nav-list__link ui-link ui-link--inherit ui-link--standard\">\\n        Работодателям\\n       <!----></a></li><li class=\"ui-footer-nav-list__item f f--14\"><a href=\"https://material-brand.skillbox.ru/\" target=\"_blank\" rel=\"noopener\" class=\"ui-footer-nav-list__link ui-link ui-link--inherit ui-link--standard\">\\n        Материалы бренда\\n       <!----></a></li><li class=\"ui-footer-nav-list__item f f--14\"><a href=\"https://events.skillbox.ru/social/\" target=\"_blank\" rel=\"noopener\" class=\"ui-footer-nav-list__link ui-link ui-link--inherit ui-link--standard\">\\n        Социальные проекты\\n       <!----></a></li></ul></div></nav> <address class=\"ui-footer-contacts ui-footer__block\"><div class=\"ui-footer-contacts__left-side\"><ul class=\"ui-footer-contacts__phones\"><li class=\"ui-footer-contacts__phone-item\"><a href=\"tel:8 (800) 500-05-22\" class=\"ui-footer-contacts__phone f f--18 f--m ui-link ui-link--inherit ui-link--standard\">\\n          8 (800) 500-05-22\\n         <!----></a> <span class=\"ui-footer-contacts__phone-name f f--12\">Контактный центр</span></li><li class=\"ui-footer-contacts__phone-item\"><a href=\"tel:+7 499 444 90 36\" class=\"ui-footer-contacts__phone f f--18 f--m ui-link ui-link--inherit ui-link--standard\">\\n          +7 499 444 90 36\\n         <!----></a> <span class=\"ui-footer-contacts__phone-name f f--12\">Отдел заботы о пользователях</span></li></ul> <p class=\"ui-footer-contacts__quality\"><picture class=\"ui-picture ui-footer-contacts__qq-pic\"> <source srcset=\"https://cdn.skillbox.pro/wbd-front/skillbox-static/footer/popkov@1x.avif 1x, https://cdn.skillbox.pro/wbd-front/skillbox-static/footer/popkov@2x.avif 2x\" type=\"image/avif\"> <source srcset=\"https://cdn.skillbox.pro/wbd-front/skillbox-static/footer/popkov@1x.webp 1x, https://cdn.skillbox.pro/wbd-front/skillbox-static/footer/popkov@2x.webp 2x\" type=\"image/webp\"> <img src=\"https://cdn.skillbox.pro/wbd-front/skillbox-static/footer/popkov@1x.png\" srcset=\"https://cdn.skillbox.pro/wbd-front/skillbox-static/footer/popkov@2x.png 2x\" width=\"28\" height=\"28\" loading=\"lazy\" decoding=\"async\" alt=\"Фотография Сергея Попкова\" class=\"ui-picture__img ui-picture__img--cover\"></picture> <span class=\"ui-footer-contacts__qq-subtitle f f--18 f--m\">\\n        Есть вопрос или\\xa0предложение?\\n      </span> <span class=\"ui-footer-contacts__qq-desc f f--12\">\\n        Напишите\\n        <a href=\"https://ask.sergey.skillbox.ru/\" target=\"_blank\">Сергею Попкову</a>\\xa0—\\n        ответственному за\\xa0качество курсов\\n      </span></p></div> <p class=\"ui-footer-contacts__address f f--14\">г. Москва, ул. Тимура Фрунзе, дом 11, корпус 2, этаж 1, помещение 1, комната 75</p> <a href=\"mailto:hello@skillbox.ru\" class=\"ui-footer-contacts__email f f--14\">\\n    hello@skillbox.ru\\n  </a> <ul class=\"ui-footer-contacts__socials\"><li class=\"ui-footer-contacts__social\"><a aria-label=\"Вконтакте\" href=\"https://vk.com/skillbox_education\" target=\"_blank\" rel=\"noopener\" class=\"ui-footer-contacts__social-link\"><svg width=\"24\" height=\"24\" xmlns=\"http://www.w3.org/2000/svg\" class=\"ui-footer-contacts__social-icon icon sprite-social-contacts\"><use href=\"/_nuxt/581cc7e295a8c507997194bb39558ed6.svg#i-ui-vk\" xlink:href=\"/_nuxt/581cc7e295a8c507997194bb39558ed6.svg#i-ui-vk\"></use></svg></a></li><li class=\"ui-footer-contacts__social\"><a aria-label=\"Telegram\" href=\"tg://resolve?domain=skillboxru\" target=\"_blank\" rel=\"noopener\" class=\"ui-footer-contacts__social-link\"><svg width=\"24\" height=\"24\" xmlns=\"http://www.w3.org/2000/svg\" class=\"ui-footer-contacts__social-icon icon sprite-social-contacts\"><use href=\"/_nuxt/581cc7e295a8c507997194bb39558ed6.svg#i-ui-telegram\" xlink:href=\"/_nuxt/581cc7e295a8c507997194bb39558ed6.svg#i-ui-telegram\"></use></svg></a></li><li class=\"ui-footer-contacts__social\"><a aria-label=\"YouTube\" href=\"https://www.youtube.com/channel/UC2FJq-Rr7v4SlKAoM7x0ZhA\" target=\"_blank\" rel=\"noopener\" class=\"ui-footer-contacts__social-link\"><svg width=\"24\" height=\"24\" xmlns=\"http://www.w3.org/2000/svg\" class=\"ui-footer-contacts__social-icon icon sprite-social-contacts\"><use href=\"/_nuxt/581cc7e295a8c507997194bb39558ed6.svg#i-ui-youtube\" xlink:href=\"/_nuxt/581cc7e295a8c507997194bb39558ed6.svg#i-ui-youtube\"></use></svg></a></li></ul></address> <div class=\"ui-footer-info ui-footer__block\"><ul class=\"ui-footer-info__docs f f--12\"><li class=\"ui-footer-info__doc\"><a href=\"https://skillbox.ru/oferta.pdf\" type=\"application/pdf\" target=\"_blank\" rel=\"noopener\" class=\"ui-footer-info__link ui-link ui-link--inherit ui-link--standard\"><span>Оферта</span> <!----></a></li><li class=\"ui-footer-info__doc\"><a href=\"https://skillbox.ru/payments/\" type=\"\" target=\"_blank\" rel=\"noopener\" class=\"ui-footer-info__link ui-link ui-link--inherit ui-link--standard\"><span>Оплата</span> <!----></a></li><li class=\"ui-footer-info__doc\"><a href=\"https://skillbox.ru/terms_of_use.pdf\" type=\"application/pdf\" target=\"_blank\" rel=\"noopener\" class=\"ui-footer-info__link ui-link ui-link--inherit ui-link--standard\"><span>Правила пользования Платформой</span> <!----></a></li><li class=\"ui-footer-info__doc\"><a href=\"https://skillbox.ru/privacy_policy.pdf\" type=\"application/pdf\" target=\"_blank\" rel=\"noopener\" class=\"ui-footer-info__link ui-link ui-link--inherit ui-link--standard\"><span>Политика конфиденциальности</span> <!----></a></li><li class=\"ui-footer-info__doc\"><a href=\"https://skillbox.ru/pravila_primeneniya_rekomendatelnyh_tekhnologiy.pdf\" type=\"application/pdf\" target=\"_blank\" rel=\"noopener\" class=\"ui-footer-info__link ui-link ui-link--inherit ui-link--standard\"><span>Рекомендательные технологии</span> <!----></a></li></ul> <div class=\"ui-footer-info__notices\"><p class=\"ui-footer-info__notice f f--12\">\\n      Мы <a href=\"https://skillbox.ru/privacy_policy.pdf\" target=\"_blank\" type=\"application/pdf\">используем файлы cookie</a>,\\n      для\\xa0персонализации сервисов и\\xa0повышения удобства пользования сайтом. Если вы не\\xa0согласны на\\xa0их использование,\\n      поменяйте настройки браузера.\\n    </p> <p class=\"ui-footer-info__notice f f--12\">\\n        Образовательные услуги оказываются ЧОУ ДПО «Образовательные технологии «Скилбокс (Коробка навыков)»\\n        на\\xa0основании Лицензии №\\xa0Л035-01298-77/00179609 от\\xa019\\xa0января 2022\\xa0года.\\n      </p> <!----> <p class=\"ui-footer-info__notice f f--12\">\\n        Правообладатель ПО LMS «Skillbox\\xa02.0» ООО\\xa0«Скилбокс».\\n      </p></div> <ul class=\"ui-footer-info__rewards\"><li class=\"ui-footer-info__rewards-item\"><span class=\"ui-footer-info__reward f f--12\"><svg aria-hidden=\"true\" xmlns=\"http://www.w3.org/2000/svg\" class=\"icon sprite-rewards ui-footer-info__reward-icon ui-footer-info__reward-icon--ru\"><use href=\"/_nuxt/be11c7f8fb25b6de5f7c0c406ad857b3.svg#i-ui-ru\" xlink:href=\"/_nuxt/be11c7f8fb25b6de5f7c0c406ad857b3.svg#i-ui-ru\"></use></svg> <span>Премии Рунета<br>2018, 2019, 2020, 2021, 2022</span></span></li></ul> <span class=\"ui-footer-info__copyright f f--12\">© Skillbox, 2024</span></div> <p class=\"ui-footer__meta-footnote p p--3\">\\n      ** деятельность компании Meta Platforms Inc., которой принадлежит Инстаграм\\xa0/ Фейсбук, запрещена на\\xa0территории РФ\\n      в\\xa0части реализации данной\\xa0(-ых) социальной\\xa0(-ых) сети\\xa0(-ей) на\\xa0основании осуществления ею экстремистской деятельности\\n    </p></div></footer> <div class=\"modals-wrapper vue-portal-target\"></div></div></div></div><script>window.__NUXT__=(function(a,b,c,d,e,f,g,h,i,j,k,l,m,n,o,p,q,r,s,t,u,v,w,x,y,z,A,B,C,D,E,F,G,H,I,J,K,L,M,N,O,P,Q,R,S,T,U,V,W,X,Y,Z,_,$,aa,ab,ac,ad,ae,af,ag,ah,ai,aj,ak,al,am,an,ao,ap,aq,ar,as,at,au,av,aw,ax,ay,az,aA,aB,aC,aD,aE,aF,aG,aH,aI,aJ,aK,aL,aM,aN,aO,aP,aQ,aR,aS,aT,aU,aV,aW,aX,aY,aZ,a_,a$,ba,bb,bc,bd,be,bf,bg,bh,bi,bj,bk,bl,bm,bn,bo,bp,bq,br,bs,bt,bu,bv,bw,bx,by,bz,bA,bB,bC,bD,bE,bF,bG,bH,bI,bJ,bK,bL,bM,bN,bO,bP,bQ,bR,bS,bT,bU,bV,bW,bX,bY,bZ,b_,b$,ca,cb,cc,cd,ce,cf,cg,ch,ci,cj,ck,cl,cm,cn,co,cp){return {layout:\"default\",data:[{}],fetch:{\"UniversalNotice:0\":{data:{id:p,type:\"promo\",title_short:ab,subtitle_short:ac,background_color:ad,font_size:\"medium\",btn_background_color:\"#3D3BFF\",btn_font_color:\"#FFFFFF\",dark_mode:l,end_date:\"2024-01-16T20:59:59.000000Z\",url:\"https:\\\\u002F\\\\u002Fskillbox.ru\\\\u002Fsale\\\\u002Fwebinarsale\\\\u002F\",images:{picture_left:{img:\"https:\\\\u002F\\\\u002F248006.selcdn.ru\\\\u002FMainSite\\\\u002F5a498c2b-3a4a-4445-9a09-e39965f0512a\\\\u002Fhxgjpzk6.png\",webp:\"https:\\\\u002F\\\\u002F248006.selcdn.ru\\\\u002FMainSite\\\\u002F5a498c2b-3a4a-4445-9a09-e39965f0512a\\\\u002Fc\\\\u002Fhxgjpzk6-desktop-webp.webp\"},picture_center:{img:\"https:\\\\u002F\\\\u002F248006.selcdn.ru\\\\u002FMainSite\\\\u002F6f2292f2-ba02-473b-92f6-3fc530c2745d\\\\u002Flqge38e7.png\",webp:\"https:\\\\u002F\\\\u002F248006.selcdn.ru\\\\u002FMainSite\\\\u002F6f2292f2-ba02-473b-92f6-3fc530c2745d\\\\u002Fc\\\\u002Flqge38e7-desktop-webp.webp\"},picture_right:{img:\"https:\\\\u002F\\\\u002F248006.selcdn.ru\\\\u002FMainSite\\\\u002Fd299e266-c5d8-4477-bfa9-59236ec15e43\\\\u002Femjdauov.png\",webp:\"https:\\\\u002F\\\\u002F248006.selcdn.ru\\\\u002FMainSite\\\\u002Fd299e266-c5d8-4477-bfa9-59236ec15e43\\\\u002Fc\\\\u002Femjdauov-desktop-webp.webp\"}}},isWebp:l,opacity:q}},error:j,state:{webinars:{},onlineWebinars:[],isOnlineWebinarsRequestPassed:l,isLoading:l,activeFilter:j,intensives:[],isIntensiveRequestPassed:l,filterDirections:[{id:q,title:x,slug:d},{id:r,title:y,slug:b},{id:p,title:z,slug:c},{id:A,title:B,slug:e},{id:s,title:G,slug:f},{id:t,title:ae,slug:a},{id:u,title:af,slug:h},{id:H,title:I,slug:g},{id:C,title:ag,slug:v},{id:ah,title:J,slug:i},{id:K,title:L,slug:k},{id:M,title:ai,slug:\"english\"},{id:N,title:\"Проекты\",slug:\"projects\"},{id:O,title:\"Менторама Продакшн\",slug:\"mentorama-production\"},{id:aj,title:\"СПО-old\",slug:\"spo-old\"},{id:ak,title:\"СПО\",slug:\"spo\"},{id:D,title:\"Lerna\",slug:\"lerna\"},{id:P,title:x,slug:\"akd-development\"},{id:al,title:y,slug:\"akd-design\"},{id:am,title:z,slug:\"akd-marketing\"},{id:an,title:\"Образование и обучение\",slug:\"akd-education-and-learning\"},{id:Q,title:B,slug:\"akd-management\"},{id:42,title:R,slug:\"akd-finance\"},{id:ao,title:ap,slug:\"akd-business\"},{id:aq,title:\"Здоровье и фитнес\",slug:\"akd-health-and-fitness\"},{id:S,title:\"Фотография и видео\",slug:\"akd-photography-and-video\"},{id:ar,title:\"Музыка\",slug:\"akd-music\"},{id:as,title:\"Общие_Old\",slug:\"general\"},{id:at,title:\"Организационное\",slug:\"organizational\"},{id:T,title:U,slug:w},{id:E,title:au,slug:V},{id:av,title:\"Мода и фотография\",slug:\"fashion-and-photography\"}],breadcrumbs:{breadcrumbs:[{title:\"Все вебинары\",to:W},{title:\"Плейлисты\",to:\"\\\\u002Fplaylists\\\\u002F\"},{title:F,to:m}]},businessDirections:{isBusinessDirectionsRequestPassed:n,businessDirections:[{id:q,title:x,link:\"\\\\u002Fcode\\\\u002F\",href:\"https:\\\\u002F\\\\u002Fskillbox.ru\\\\u002Fcode\\\\u002F\"},{id:r,title:y,link:\"\\\\u002Fdesign\\\\u002F\",href:\"https:\\\\u002F\\\\u002Fskillbox.ru\\\\u002Fdesign\\\\u002F\"},{id:p,title:aw,link:\"\\\\u002Fcourses\\\\u002Fanalitika\\\\u002F\",href:\"https:\\\\u002F\\\\u002Fskillbox.ru\\\\u002Fcourses\\\\u002Fanalitika\\\\u002F\"},{id:A,title:z,link:\"\\\\u002Fmarketing\\\\u002F\",href:\"https:\\\\u002F\\\\u002Fskillbox.ru\\\\u002Fmarketing\\\\u002F\"},{id:s,title:B,link:\"\\\\u002Fmanagement\\\\u002F\",href:\"https:\\\\u002F\\\\u002Fskillbox.ru\\\\u002Fmanagement\\\\u002F\"},{id:t,title:R,link:\"\\\\u002Fcourses\\\\u002Ffinansy\\\\u002F\",href:\"https:\\\\u002F\\\\u002Fskillbox.ru\\\\u002Fcourses\\\\u002Ffinansy\\\\u002F\"},{id:ax,title:G,link:\"\\\\u002Fgames\\\\u002F\",href:\"https:\\\\u002F\\\\u002Fskillbox.ru\\\\u002Fgames\\\\u002F\"},{id:ay,title:I,link:\"\\\\u002Fmultimedia\\\\u002F\",href:\"https:\\\\u002F\\\\u002Fskillbox.ru\\\\u002Fmultimedia\\\\u002F\"},{id:az,title:\"Маркетплейсы\",link:\"\\\\u002Fcourses\\\\u002Fmarketpleisy\\\\u002F\",href:\"https:\\\\u002F\\\\u002Fskillbox.ru\\\\u002Fcourses\\\\u002Fmarketpleisy\\\\u002F\"},{id:10,title:L,link:\"\\\\u002Fengineering\\\\u002F\",href:\"https:\\\\u002F\\\\u002Fskillbox.ru\\\\u002Fengineering\\\\u002F\"},{id:aA,title:J,link:\"\\\\u002Fpsychology\\\\u002F\",href:\"https:\\\\u002F\\\\u002Fskillbox.ru\\\\u002Fpsychology\\\\u002F\"},{id:u,title:U,link:\"\\\\u002Fhealth\\\\u002F\",href:\"https:\\\\u002F\\\\u002Fskillbox.ru\\\\u002Fhealth\\\\u002F\"},{id:12,title:ai,link:\"\\\\u002Fenglish\\\\u002F\",href:\"https:\\\\u002F\\\\u002Fskillbox.ru\\\\u002Fenglish\\\\u002F\"},{id:aB,title:\"Все курсы\",link:\"\\\\u002Fcourses\\\\u002F\",href:\"https:\\\\u002F\\\\u002Fskillbox.ru\\\\u002Fcourses\\\\u002F\"}]},calendar:{events:[],marathons:[]},chat:{hiddenComments:[],isStopReceivingMessages:l,historyCommentIdToOpen:j,highlightedMessageId:j,userMessageIdToScroll:j,snackbarMessage:{},comments:[],newCommentsCount:o,hasMoreComments:l,commentsIsLoading:l,commentsLength:j,pinnedComment:j,replyComment:j,editingComment:j,openedPicture:j,isFormSending:l,lastUserComment:j,isNeedScroll:l},company:{totals:{course:aC,profession:164},companyInfo:{slug:\"skillbox_ru\",name:\"© Skillbox\",address:\"г. Москва, ул. Тимура Фрунзе, дом 11, корпус 2, этаж 1, помещение 1, комната 75\",phones:[{name:\"Контактный центр\",number:\"8 (800) 500-05-22\"},{name:\"Отдел заботы о пользователях\",number:\"+7 499 444 90 36\"}],email:\"hello@skillbox.ru\",students:906177,teachers:578,webinars:70,courses:787,employees:aD,employed_count:9000,docs:{oferta:n,privacy_policy:n,terms_of_use:n,rules:n},socialNetworks:[{label:\"Вконтакте\",icon:\"social-contacts\\\\u002Fui-vk\",link:\"https:\\\\u002F\\\\u002Fvk.com\\\\u002Fskillbox_education\"},{label:\"Telegram\",icon:\"social-contacts\\\\u002Fui-telegram\",link:\"tg:\\\\u002F\\\\u002Fresolve?domain=skillboxru\"},{label:\"YouTube\",icon:\"social-contacts\\\\u002Fui-youtube\",link:\"https:\\\\u002F\\\\u002Fwww.youtube.com\\\\u002Fchannel\\\\u002FUC2FJq-Rr7v4SlKAoM7x0ZhA\"}]}},filter:{presetTopic:j,defaultDirection:m,direction:m,search:m,sort:m,faculty:m,filter:{type:m,with_employment:m,level:m,duration_min:m,duration_max:m,topics:[],speakers:[],payment_delays:[]},isLoadedProperties:n,currentDirection:j,filterData:{directions:[{title:aE,slug:m},{id:q,title:x,slug:d},{id:A,title:B,slug:e},{id:r,title:y,slug:b},{id:p,title:z,slug:c},{id:u,title:af,slug:h},{id:s,title:G,slug:f},{id:H,title:I,slug:g},{id:ah,title:J,slug:i},{id:T,title:U,slug:w},{id:C,title:ag,slug:v},{id:K,title:L,slug:k},{id:t,title:ae,slug:a},{id:E,title:au,slug:V}],types:[],levels:[],duration:[],with_employment:[],popular_topics:[],payment_delays:[],topics:[{id:aF,title:\"Геймдизайн\",seo_title:\"геймдизайну\",slug:\"geymdizayn\",directions:[{slug:f}]},{id:u,title:\"Рисование и иллюстрация\",seo_title:\"рисованию и иллюстрацие\",slug:\"risovanie-i-illyustratsiya\",directions:[{slug:f},{slug:b}]},{id:aG,title:\"3D-моделирование\",seo_title:\"3d-моделированию\",slug:\"3d-modelirovanie\",directions:[{slug:f}]},{id:H,title:aH,seo_title:aH,slug:\"3d\",directions:[{slug:f}]},{id:aI,title:\"Кино\",seo_title:\"кино\",slug:\"kino\",directions:[{slug:g},{slug:f}]},{id:aJ,title:\"Тестирование\",seo_title:\"тестированию\",slug:\"testing\",directions:[{slug:d}]},{id:20,title:\"Игровые движки\",seo_title:\"игровыу движки\",slug:\"igrovye dvizhki\",directions:[{slug:f}]},{id:21,title:\"Разработка игр\",seo_title:\"разработке игру\",slug:\"game-development\",directions:[{slug:f}]},{id:22,title:aK,seo_title:aK,slug:\"unreal-engine-4\",directions:[{slug:f}]},{id:aL,title:aM,seo_title:aM,slug:\"unity\",directions:[{slug:f}]},{id:C,title:\"2D и 3D-графика\",seo_title:\"2D и 3d-графике\",slug:\"2d-i-3d-grafika\",directions:[{slug:f}]},{id:K,title:\"Вёрстка\",seo_title:\"вёрстке\",slug:\"vyorstka\",directions:[{slug:d}]},{id:27,title:aN,seo_title:aN,slug:\"php\",directions:[{slug:d}]},{id:M,title:aO,seo_title:aO,slug:\"sql\",directions:[{slug:d}]},{id:N,title:\"Базы данных\",seo_title:\"бази данныху\",slug:\"bazy-dannykh\",directions:[{slug:e},{slug:d}]},{id:30,title:aP,seo_title:aP,slug:\"machine-learning\",directions:[{slug:d}]},{id:31,title:F,seo_title:F,slug:\"python\",directions:[{slug:d}]},{id:32,title:\"Визуализация данных\",seo_title:\"визуализацие данныху\",slug:\"vizualizatsiya-dannykh\",directions:[{slug:c},{slug:e},{slug:d}]},{id:O,title:aQ,seo_title:aQ,slug:\"data-science\",directions:[{slug:d}]},{id:aj,title:\"Математика\",seo_title:\"математике\",slug:\"matematika\",directions:[{slug:d}]},{id:ak,title:\"Работа с таблицами\",seo_title:\"работе су таблицами\",slug:\"rabota-s-tablitsami\",directions:[{slug:c},{slug:e},{slug:d}]},{id:D,title:\"Backend-разработка\",seo_title:\"backend-разработке\",slug:\"backend-razrabotka\",directions:[{slug:d}]},{id:P,title:aR,seo_title:aR,slug:\"figma\",directions:[{slug:b}]},{id:al,title:aw,seo_title:\"аналитике\",slug:\"analitika\",directions:[{slug:c},{slug:e},{slug:f},{slug:b},{slug:d}]},{id:am,title:\"Frontend-разработка\",seo_title:\"frontend-разработке\",slug:\"frontend-razrabotka\",directions:[{slug:d}]},{id:an,title:\"Мобильные приложения\",seo_title:\"мобильныу приложение\",slug:\"mobilnye-prilozheniya\",directions:[{slug:d}]},{id:Q,title:aS,seo_title:aS,slug:\"git\",directions:[{slug:d}]},{id:ao,title:\"Администрирование\",seo_title:\"администрированию\",slug:\"administrirovanie\",directions:[{slug:e},{slug:d}]},{id:aq,title:\"Веб-приложения\",seo_title:\"веб-приложение\",slug:\"veb-prilozheniya\",directions:[{slug:d}]},{id:S,title:\"Создание сайтов\",seo_title:\"созданию сайтову\",slug:\"sozdanie-saytov\",directions:[{slug:c},{slug:b},{slug:d}]},{id:ar,title:\"Фреймворки\",seo_title:\"фреймворки\",slug:\"framework\",directions:[{slug:c}]},{id:as,title:aT,seo_title:aT,slug:\"java\",directions:[{slug:d}]},{id:at,title:\"Алгоритмы и структуры данных\",seo_title:\"алгоритми и структури данныху\",slug:\"algoritmy-i-struktury-dannykh\",directions:[{slug:e},{slug:d}]},{id:49,title:\"Командная строка (Bash)\",seo_title:\"командной строке (Bash)\",slug:\"komandnaya-stroka-(bash)\",directions:[{slug:e},{slug:d}]},{id:T,title:aU,seo_title:aU,slug:\"ios\",directions:[{slug:c},{slug:d}]},{id:E,title:aV,seo_title:aV,slug:\"javascript\",directions:[{slug:d}]},{id:av,title:aW,seo_title:aW,slug:\"android\",directions:[{slug:d}]},{id:aX,title:\"Развитие продукта\",seo_title:\"развитию продукте\",slug:\"razvitie-produkta\",directions:[{slug:e}]},{id:54,title:\"Планирование\",seo_title:\"планированию\",slug:\"planirovanie\",directions:[{slug:c},{slug:e}]},{id:55,title:R,seo_title:\"финанси\",slug:\"finansy\",directions:[{slug:c},{slug:e}]},{id:aY,title:aZ,seo_title:aZ,slug:\"soft-skills\",directions:[{slug:e}]},{id:57,title:\"Сценарий\",seo_title:\"сценарему\",slug:\"stsenariy\",directions:[{slug:g},{slug:f}]},{id:X,title:a_,seo_title:a_,slug:\"custdev\",directions:[{slug:c},{slug:d}]},{id:60,title:\"Юнит-экономика\",seo_title:\"юнит-экономике\",slug:\"yunit-ekonomika\",directions:[{slug:c}]},{id:a$,title:\"Управление проектами\",seo_title:\"управлению проектами\",slug:\"upravlenie-proektami\",directions:[{slug:g},{slug:c},{slug:e},{slug:f}]},{id:63,title:\"Digital-агентства\",seo_title:\"digital-агентстве\",slug:\"digital-agentstva\",directions:[{slug:c}]},{id:ba,title:\"Лидогенерация\",seo_title:\"лидогенерацие\",slug:\"lidogeneratsiya\",directions:[{slug:c}]},{id:66,title:bb,seo_title:bb,slug:\"hr\",directions:[{slug:e}]},{id:bc,title:\"Продажи\",seo_title:\"продажи\",slug:\"prodazhi\",directions:[{slug:c},{slug:e}]},{id:68,title:\"Мотивация\",seo_title:\"мотивацие\",slug:\"motivatsiya\",directions:[{slug:d}]},{id:73,title:\"Оформление презентаций\",seo_title:\"оформлению презентацему\",slug:\"oformlenie-prezentatsiy\",directions:[{slug:b}]},{id:Y,title:\"Предпринимательство\",seo_title:\"предпринимательству\",slug:\"predprinimatelstvo\",directions:[{slug:c},{slug:e}]},{id:76,title:\"Менеджмент\",seo_title:\"менеджменту\",slug:\"menedzhment\",directions:[{slug:g},{slug:c},{slug:e},{slug:f},{slug:d}]},{id:77,title:ap,seo_title:\"бизнесу\",slug:\"biznes\",directions:[{slug:g},{slug:e}]},{id:78,title:\"Коммьюнити\",seo_title:\"коммьюнити\",slug:\"kommyuniti\",directions:[{slug:c}]},{id:80,title:\"Разработка концепции\",seo_title:\"разработке концепции\",slug:\"razrabotka-kontseptsii\",directions:[{slug:e}]},{id:81,title:\"Стратегия\",seo_title:\"стратегие\",slug:\"strategiya\",directions:[{slug:c},{slug:e},{slug:f}]},{id:82,title:bd,seo_title:bd,slug:\"crm\",directions:[{slug:e}]},{id:be,title:\"Конкурентный анализ\",seo_title:\"конкурентному анализу\",slug:\"konkurentnyy-analiz\",directions:[{slug:c},{slug:e},{slug:b}]},{id:bf,title:\"Исследование аудитории\",seo_title:\"исследованию аудитории\",slug:\"issledovanie-auditorii\",directions:[{slug:c},{slug:e},{slug:f},{slug:b}]},{id:86,title:\"Бренд\",seo_title:\"бренду\",slug:\"brend\",directions:[{slug:b}]},{id:88,title:bg,seo_title:bg,slug:\"ux-ui\",directions:[{slug:b}]},{id:89,title:\"Фриланс\",seo_title:\"фрилансу\",slug:\"frilans\",directions:[{slug:g},{slug:b}]},{id:bh,title:\"Управление командами\",seo_title:\"управлению командами\",slug:\"upravlenie-komandami\",directions:[{slug:c},{slug:e},{slug:f},{slug:d}]},{id:93,title:\"Прототипирование\",seo_title:\"прототипированию\",slug:\"prototipirovanie\",directions:[{slug:e}]},{id:94,title:\"Продюсирование\",seo_title:\"продюсированию\",slug:\"prodyusirovanie\",directions:[{slug:e}]},{id:97,title:\"Performance-маркетинг\",seo_title:\"performance-маркетингу\",slug:\"performance-marketing\",directions:[{slug:c}]},{id:bi,title:\"ВКонтакте\",seo_title:\"вконтактю\",slug:\"vkontakte\",directions:[{slug:c}]},{id:bj,title:\"Работа с документами\",seo_title:\"работе су документами\",slug:\"rabota-s-dokumentami\",directions:[{slug:c}]},{id:116,title:bk,seo_title:bk,slug:\"smm\",directions:[{slug:c}]},{id:117,title:bl,seo_title:bl,slug:\"seo\",directions:[{slug:c}]},{id:118,title:bm,seo_title:bm,slug:\"pr\",directions:[{slug:c}]},{id:bn,title:\"Трафик\",seo_title:\"трафику\",slug:\"trafik\",directions:[{slug:c}]},{id:125,title:\"Таргетированная реклама\",seo_title:\"таргетированной рекламе\",slug:\"targetirovannaya-reklama\",directions:[{slug:c}]},{id:126,title:\"Контент-маркетинг\",seo_title:\"контент-маркетингу\",slug:\"kontent-marketing\",directions:[{slug:c}]},{id:127,title:\"Контекстная реклама\",seo_title:\"контекстной рекламе\",slug:\"kontekstnaya-reklama\",directions:[{slug:c}]},{id:bo,title:\"Дизайн среды\",seo_title:\"дизайну среди\",slug:\"dizayn-sredy\",directions:[{slug:b}]},{id:135,title:\"Портфолио дизайнера\",seo_title:\"портфолиу дизайнере\",slug:\"portfolio-dizaynera\",directions:[{slug:b}]},{id:139,title:bp,seo_title:bp,slug:\"adobe-illustrator\",directions:[{slug:b}]},{id:140,title:\"Дизайн-концепция\",seo_title:\"дизайн-концепцие\",slug:\"dizayn-kontseptsiya\",directions:[{slug:c}]},{id:bq,title:\"Композиция и цвет\",seo_title:\"композицие и цвету\",slug:\"kompozitsiya-i-tsvet\",directions:[{slug:f},{slug:b}]},{id:147,title:br,seo_title:br,slug:\"photoshop\",directions:[{slug:b}]},{id:149,title:\"Дизайн интерьера\",seo_title:\"дизайну интерьере\",slug:\"interior-design\",directions:[{slug:b}]},{id:150,title:\"Декорирование\",seo_title:\"декорированию\",slug:\"dekorirovanie\",directions:[{slug:b}]},{id:bs,title:\"Ландшафтный дизайн\",seo_title:\"ландшафтному дизайну\",slug:\"landshaftnyy-dizayn\",directions:[{slug:b}]},{id:152,title:\"Скетчинг\",seo_title:\"скетчингу\",slug:\"sketching\",directions:[{slug:b}]},{id:153,title:\"Графический дизайн\",seo_title:\"графическему дизайну\",slug:\"graficheskiy-dizayn\",directions:[{slug:b}]},{id:154,title:\"Веб-дизайн\",seo_title:\"веб-дизайну\",slug:\"veb-dizayn\",directions:[{slug:b}]},{id:156,title:\"Создание музыки\",seo_title:\"созданию музыки\",slug:\"sozdanie-myziky\",directions:[{slug:g}]},{id:159,title:\"Обработка фотографий\",seo_title:\"обработке фотографему\",slug:\"obrabotka-photografiy\",directions:[{slug:b}]},{id:bt,title:\"Ювелирный дизайн\",seo_title:\"ювелирному дизайну\",slug:\"uvelirniy-dizain\",directions:[{slug:b}]},{id:167,title:\"Монетизация\",seo_title:\"монетизацие\",slug:\"monetizacia\",directions:[{slug:c}]},{id:169,title:\"Творчество\",seo_title:\"творчеству\",slug:\"tvorchestvo\",directions:[{slug:g},{slug:b}]},{id:173,title:\"Фотография\",seo_title:\"фотографие\",slug:\"photo\",directions:[{slug:b}]},{id:175,title:\"Киберспорт\",seo_title:\"киберспорту\",slug:\"kibersport\",directions:[{slug:f}]},{id:185,title:\"Fashion-дизайн\",seo_title:\"fashion-дизайну\",slug:\"fashion-design\",directions:[{slug:b}]},{id:186,title:\"Спорт\",seo_title:\"спорту\",slug:\"sport\",directions:[{slug:e},{slug:f}]},{id:187,title:\"Саунд-дизайн\",seo_title:\"саунд-дизайну\",slug:\"saund-design\",directions:[{slug:g},{slug:f},{slug:b}]},{id:199,title:\"Сторителлинг\",seo_title:\"сторителлингу\",slug:\"storitelling\",directions:[{slug:g},{slug:f}]},{id:215,title:bu,seo_title:bu,slug:\"edtech\",directions:[{slug:e}]},{id:218,title:\"Теория музыки\",seo_title:\"теорие музыки\",slug:\"teoria-myziky\",directions:[{slug:g}]},{id:220,title:\"Сведение и мастеринг\",seo_title:\"сведению и мастерингу\",slug:\"svedenie-i-mastering\",directions:[{slug:g}]},{id:bv,title:bw,seo_title:bw,slug:\"abletonlive\",directions:[{slug:g}]},{id:230,title:bx,seo_title:bx,slug:\"adobepremier\",directions:[{slug:g}]},{id:232,title:\"Монтаж\",seo_title:\"монтажу\",slug:\"montazh\",directions:[{slug:g}]},{id:by,title:bz,seo_title:bz,slug:\"avid\",directions:[{slug:g}]},{id:234,title:bA,seo_title:bA,slug:\"davinci\",directions:[{slug:g}]},{id:bB,title:\"Основы композиции\",seo_title:\"основи композиции\",slug:\"osnovy-kompozisii\",directions:[{slug:g}]},{id:236,title:\"Видео производство\",seo_title:\"видеу производству\",slug:\"video-proizvodstvo\",directions:[{slug:g}]},{id:238,title:\"Работа с камерой\",seo_title:\"работе су камерому\",slug:\"rabota-s-kameroi\",directions:[{slug:g}]},{id:bC,title:\"Продюсирование видео\",seo_title:\"продюсированию видеу\",slug:\"produsirovanie-video\",directions:[{slug:g}]},{id:244,title:\"Работа с блогерами\",seo_title:\"работе су блогерами\",slug:\"pabota-s-blogerami\",directions:[{slug:c}]},{id:247,title:\"Маркетинг игр\",seo_title:\"маркетингу игру\",slug:\"marketing-igr\",directions:[{slug:f}]},{id:248,title:\"Дизайн-документ\",seo_title:\"дизайн-документу\",slug:\"dizayn-dokument\",directions:[{slug:f}]},{id:272,title:\"Motion-дизайн\",seo_title:\"motion-дизайну\",slug:\"motion-design\",directions:[{slug:b}]},{id:bD,title:bE,seo_title:bE,slug:\"docker\",directions:[{slug:d}]},{id:304,title:bF,seo_title:bF,slug:\"devops\",directions:[{slug:d}]},{id:bG,title:bH,seo_title:bH,slug:\"linux\",directions:[{slug:d}]},{id:313,title:\"Клипы\",seo_title:\"клипи\",slug:\"klipy\",directions:[{slug:g}]},{id:325,title:bI,seo_title:bI,slug:\"after-effects\",directions:[{slug:b}]},{id:340,title:bJ,seo_title:bJ,slug:\"kotlin\",directions:[{slug:d}]},{id:341,title:\"Анализ аудитории\",seo_title:\"анализу аудитории\",slug:\"analiz-auditorii\",directions:[{slug:c}]},{id:bK,title:\"Продюсирование курсов\",seo_title:\"продюсированию курсову\",slug:\"prodyusirovanie-kursov\",directions:[{slug:e}]},{id:bL,title:bM,seo_title:bM,slug:\"golang\",directions:[{slug:d}]},{id:345,title:\"Искусственный интеллект\",seo_title:\"искусственному интеллекту\",slug:\"iskustvennyy-intellekt\",directions:[{slug:d}]},{id:347,title:\"Коучинг\",seo_title:\"коучингу\",slug:\"kouching\",directions:[{slug:d}]},{id:348,title:bN,seo_title:bN,slug:\"swift\",directions:[{slug:d}]},{id:349,title:\"Кросплатформенная разработка\",seo_title:\"кросплатформенной разработке\",slug:\"krosplatformennaya-razrabotka\",directions:[{slug:d}]},{id:350,title:bO,seo_title:bO,slug:\"kubernetes\",directions:[{slug:d}]},{id:bP,title:\"Дизайн мобильных приложений\",seo_title:\"дизайну мобильныху приложенему\",slug:\"dizayn-mobilnykh-prilozheniy\",directions:[{slug:b}]},{id:352,title:\"Создание сеттинга\",seo_title:\"созданию сеттинге\",slug:\"sozdanie-settinga\",directions:[{slug:f}]},{id:aC,title:bQ,seo_title:bQ,slug:\"flutter\",directions:[{slug:d}]},{id:354,title:\"Подкасты\",seo_title:\"подкасти\",slug:\"podkasty\",directions:[{slug:f}]},{id:355,title:\"Дизайн-системы\",seo_title:\"дизайн-системи\",slug:\"dizain-sistemy\",directions:[{slug:b}]},{id:bR,title:\"Информационная безопасность\",seo_title:\"информационной безопасности\",slug:\"informacionnaya-bezopasnost\",directions:[{slug:d}]},{id:bS,title:bT,seo_title:bT,slug:\"selenium-webdriver\",directions:[{slug:d}]},{id:396,title:\"3D-анимация\",seo_title:\"3d-анимацие\",slug:\"3d-animaciya\",directions:[{slug:f}]},{id:bU,title:bV,seo_title:bV,slug:\"s\",directions:[{slug:f}]},{id:400,title:bW,seo_title:bW,slug:\"s-plus\",directions:[{slug:d}]},{id:537,title:\"1С\",seo_title:\"1су\",slug:\"1s\",directions:[{slug:d}]}],sort:[{title:\"Сначала новые\",slug:m},{title:\"Популярные\",slug:\"popular\"}],speakers:[{id:2086,name:\"Андрей Виноградов\",directions:[{slug:a}]},{id:2085,name:\"Андрей Алясов\",directions:[{slug:a}]},{id:2084,name:\"Елена Иванчихина\",directions:[{slug:a}]},{id:2083,name:\"Марина Дмитриева\",directions:[{slug:a}]},{id:2082,name:\"Наталия Игнатова\",directions:[{slug:a}]},{id:2081,name:\"Виктория Корнева\",directions:[{slug:a}]},{id:2079,name:\"Виктория Бажан\",directions:[{slug:b}]},{id:2078,name:\"Нина Захарова\",directions:[{slug:b}]},{id:2077,name:\"Филипп Третьяков\",directions:[{slug:b}]},{id:2076,name:\"Василий Птицын\",directions:[{slug:k}]},{id:2075,name:\"Максим Чижов\",directions:[{slug:k}]},{id:2073,name:\"Владимир Волосатов\",directions:[{slug:c}]},{id:2071,name:\"Никита Киктенко\",directions:[{slug:c}]},{id:2070,name:\"Рудольф Винтер\",directions:[{slug:c}]},{id:2069,name:\"Дмитрий Лещенко\",directions:[{slug:c}]},{id:2068,name:\"Александр Ильин\",directions:[{slug:a}]},{id:2065,name:\"Виталий Луковкин\",directions:[{slug:c}]},{id:2064,name:\"Елизавета Шарафетдинова\",directions:[{slug:c}]},{id:2063,name:\"Марина Мозжерина\",directions:[{slug:a}]},{id:bX,name:\"Вадим Захаров\",directions:[{slug:V}]},{id:2059,name:\"Гаяне Читчян\",directions:[{slug:c}]},{id:2056,name:\"Ольга Лукашева\",directions:[{slug:c}]},{id:2055,name:\"Анна Непретимова\",directions:[{slug:c}]},{id:2054,name:\"Амалия Мармалиди\",directions:[{slug:c}]},{id:2053,name:\"Анна Фефелова\",directions:[{slug:c}]},{id:2052,name:\"Илья Соболев\",directions:[{slug:c}]},{id:2051,name:\"Анастасия Тимербаева\",directions:[{slug:c}]},{id:2050,name:\"Михаил Карпов\",directions:[{slug:c}]},{id:2049,name:\"Михаил Нюсхаев\",directions:[{slug:c}]},{id:2048,name:\"Евгений Маршунин\",directions:[{slug:c}]},{id:2047,name:\"Олег Дорожок\",directions:[{slug:c}]},{id:2046,name:\"Людмила Жукова\",directions:[{slug:a}]},{id:2029,name:\"Денис Алябушев\",directions:[{slug:a}]},{id:2028,name:\"Антон Драненков\",directions:[{slug:k}]},{id:2027,name:\"Василий Анцев\",directions:[{slug:k}]},{id:2025,name:\"Евгений Егоров\",directions:[{slug:a}]},{id:2024,name:\"Юлия Титкова\",directions:[{slug:a}]},{id:2023,name:\"Татьяна Мухортых\",directions:[{slug:a}]},{id:2022,name:\"Иван Дулов\",directions:[{slug:a}]},{id:2021,name:\"Сергей Качмар\",directions:[{slug:a}]},{id:2020,name:\"Артемий Калинин\",directions:[{slug:a}]},{id:2014,name:\"Анастасия Веселко\",directions:[{slug:a}]},{id:2013,name:\"Никита Данилов\",directions:[{slug:k}]},{id:2010,name:\"Валерия Корзун\",directions:[{slug:b}]},{id:2009,name:\"Елизавета Музыкант\",directions:[{slug:b}]},{id:2008,name:\"Денис Волков\",directions:[{slug:a},{slug:b}]},{id:2000,name:\"Нина Николаева\",directions:[{slug:w}]},{id:1999,name:\"Анна Махова\",directions:[{slug:w}]},{id:1998,name:\"Людмила Игнатова\",directions:[{slug:w}]},{id:1997,name:\"Ольга Елисеева\",directions:[{slug:h}]},{id:1996,name:\"Дарья Рыжкова\",directions:[{slug:h}]},{id:1995,name:\"Надежда Папудогло\",directions:[{slug:h}]},{id:1991,name:\"Антон Серов\",directions:[{slug:c}]},{id:1990,name:\"Ольга Барсукова\",directions:[{slug:c}]},{id:1988,name:\"Анастасия Красная\",directions:[{slug:k}]},{id:1986,name:\"Софья Бурцева\",directions:[{slug:a}]},{id:1985,name:\"Полина Паринова\",directions:[{slug:k}]},{id:1984,name:\"Антон Токарев\",directions:[{slug:k}]},{id:1983,name:\"Игорь Юдин\",directions:[{slug:k}]},{id:1982,name:\"Александр Байкин\",directions:[{slug:k}]},{id:1979,name:\"Андрей Коршунов\",directions:[{slug:h}]},{id:1978,name:\"Екатерина Каменева\",directions:[{slug:h}]},{id:1977,name:\"Дарья Гриц\",directions:[{slug:h}]},{id:1976,name:\"Егор Сорокин\",directions:[{slug:h}]},{id:1975,name:\"Оксана Апрельская\",directions:[{slug:h}]},{id:1974,name:\"Екатерина Никонорова\",directions:[{slug:e}]},{id:1973,name:\"Евгений Терентьев\",directions:[{slug:e}]},{id:1972,name:\"Анастасия Сельчёнок\",directions:[{slug:e}]},{id:1971,name:\"Арина Нуриахметова\",directions:[{slug:e}]},{id:1970,name:\"Лилия Сахаева\",directions:[{slug:e}]},{id:1966,name:\"Максим Липатников\",directions:[{slug:d}]},{id:1965,name:\"Динар Шайхутдинов\",directions:[{slug:d}]},{id:1964,name:\"Жираслан Шеджем\",directions:[{slug:d}]},{id:1963,name:\"Максим Шабалин\",directions:[{slug:d}]},{id:1962,name:\"Николай Артамонов\",directions:[{slug:c}]},{id:1961,name:\"Станислав Окрух\",directions:[{slug:c}]},{id:1960,name:\"Александр Вагин\",directions:[{slug:c}]},{id:1959,name:\"Василий Рубан\",directions:[{slug:c}]},{id:1958,name:\"Екатерина Волкова\",directions:[{slug:a}]},{id:1957,name:\"Андрей Сагин\",directions:[{slug:c}]},{id:1955,name:\"Наталия Иванова\",directions:[{slug:c}]},{id:1954,name:\"Фархад Кучкаров\",directions:[{slug:c}]},{id:1953,name:\"Екатерина Кузнецова\",directions:[{slug:c}]},{id:1952,name:\"Ирина Зуева\",directions:[{slug:b}]},{id:1951,name:\"Виктория Лаврухина\",directions:[{slug:b}]},{id:1950,name:\"Виктория Молдавская\",directions:[{slug:b}]},{id:1949,name:\"Ирина Максимова\",directions:[{slug:b}]},{id:1948,name:\"Мария Горобец\",directions:[{slug:b}]},{id:1947,name:\"Татьяна Фомичева\",directions:[{slug:b}]},{id:1946,name:\"Алиса Боха\",directions:[{slug:b}]},{id:1938,name:bY,directions:[{slug:c}]},{id:1937,name:\"Анастасия Красникова\",directions:[{slug:c}]},{id:1936,name:\"Андрей Паршенин\",directions:[{slug:c}]},{id:1935,name:\"Мария Французова\",directions:[{slug:c}]},{id:1934,name:\"Фёдор Жуков\",directions:[{slug:a},{slug:c}]},{id:1932,name:\"Ольга Красуцкая\",directions:[{slug:a}]},{id:1930,name:\"Марина Катая\",directions:[{slug:g}]},{id:1929,name:\"Ренат Шаяхметов\",directions:[{slug:g}]},{id:1928,name:\"Мария Смирнова\",directions:[{slug:g},{slug:c}]},{id:1926,name:\"Андрей Бронецкий\",directions:[{slug:i}]},{id:1924,name:\"Ольга Малюк\",directions:[{slug:i}]},{id:1923,name:\"Виктория Литвинова\",directions:[{slug:i},{slug:a}]},{id:1915,name:\"Алина Ахметзянова\",directions:[{slug:c}]},{id:1913,name:\"Ольга Никулина\",directions:[{slug:g}]},{id:1912,name:\"Андрей Дмитриев\",directions:[{slug:g}]},{id:1911,name:\"Алексей Сергеев\",directions:[{slug:a}]},{id:1908,name:\"Анна Березина\",directions:[{slug:h}]},{id:1907,name:\"Яна Крылова\",directions:[{slug:h}]},{id:1899,name:\"Денис Поздняков\",directions:[{slug:f}]},{id:1898,name:\"Дмитрий Качков\",directions:[{slug:f}]},{id:1897,name:\"Илья Овчаренко\",directions:[{slug:f}]},{id:1896,name:\"Владислав Борец\",directions:[{slug:f}]},{id:1895,name:\"Слава Грис\",directions:[{slug:f}]},{id:1894,name:\"Вадим Елистратов\",directions:[{slug:f}]},{id:1893,name:\"Алина Абрамова\",directions:[{slug:b}]},{id:1892,name:\"Дарья Фомина\",directions:[{slug:b}]},{id:1891,name:\"Вера Колесова\",directions:[{slug:b}]},{id:1890,name:\"Лиза Бровкина\",directions:[{slug:b}]},{id:1889,name:\"Артур Погосян\",directions:[{slug:b}]},{id:1888,name:bZ,directions:[{slug:b}]},{id:1887,name:\"Аля Самохина\",directions:[{slug:b}]},{id:1885,name:\"Егор Калиновский\",directions:[{slug:c}]},{id:1883,name:\"Павел Катков\",directions:[{slug:c}]},{id:1881,name:\"Светлана Власова\",directions:[{slug:a}]},{id:1880,name:\"Иван Корабельников\",directions:[{slug:a}]},{id:1879,name:b_,directions:[{slug:a}]},{id:1878,name:\"Марина Клочкова\",directions:[{slug:a}]},{id:1877,name:\"Александр Львов\",directions:[{slug:a}]},{id:1876,name:\"Ирина Лбова\",directions:[{slug:c}]},{id:1875,name:\"Вячеслав Евсеев\",directions:[{slug:c}]},{id:1874,name:\"Артем Синявский\",directions:[{slug:c}]},{id:1873,name:\"Анна Морозова\",directions:[{slug:c}]},{id:1872,name:\"Игорь Кирикчи\",directions:[{slug:c}]},{id:1869,name:\"OZON х BI.ZONE\",directions:[{slug:a}]},{id:1862,name:\"Настя Ивлеева\",directions:[{slug:a}]},{id:1861,name:\"Анжела Алиева\",directions:[{slug:i}]},{id:1860,name:\"Ирина Живова\",directions:[{slug:i}]},{id:1859,name:\"Валерия Мазанова\",directions:[{slug:i}]},{id:1858,name:\"Василина Дрогичинская\",directions:[{slug:i}]},{id:1855,name:\"Алексей Прокопенко\",directions:[{slug:a}]},{id:1853,name:\"Антон Путков (Tony Stork)\",directions:[{slug:b}]},{id:1852,name:\"Тихон Резцов\",directions:[{slug:b}]},{id:1851,name:\"Константин Лагутин\",directions:[{slug:b}]},{id:1850,name:\"Василий Бродовиков\",directions:[{slug:b}]},{id:1849,name:\"Юлия Плотник\",directions:[{slug:b}]},{id:1848,name:\"Антон Лисин\",directions:[{slug:b}]},{id:1847,name:\"Вадим Буньков\",directions:[{slug:b}]},{id:1846,name:\"Дмитрий Очередько\",directions:[{slug:c}]},{id:1845,name:\"Анна Ковтун\",directions:[{slug:c}]},{id:1844,name:\"Ольга Дроздова\",directions:[{slug:a},{slug:c}]},{id:1843,name:\"Екатерина Агаджанян\",directions:[{slug:c}]},{id:1842,name:\"Евгений Новиков\",directions:[{slug:c}]},{id:1841,name:\"Валентина Егорова\",directions:[{slug:a}]},{id:1839,name:\"Иван Юрченко\",directions:[{slug:a}]},{id:1838,name:\"Никита Дубко\",directions:[{slug:d}]},{id:1837,name:\"Анна Блок\",directions:[{slug:d}]},{id:1836,name:\"Александр Ермолов\",directions:[{slug:d}]},{id:1835,name:\"Антон Чередниченко\",directions:[{slug:d}]},{id:1832,name:\"Антон Репушко\",directions:[{slug:a}]},{id:1830,name:\"Александр Жадан\",directions:[{slug:a}]},{id:1828,name:\"Владлен Строкань\",directions:[{slug:a}]},{id:1827,name:\"Денис Пушкарь\",directions:[{slug:a}]},{id:1826,name:\"Юлия Камаева\",directions:[{slug:a}]},{id:1825,name:\"Екатерина Герасимова\",directions:[{slug:g}]},{id:1824,name:\"Аля Луговая\",directions:[{slug:g}]},{id:1823,name:\"Иван Бочаров\",directions:[{slug:g}]},{id:1822,name:\"Дмитрий Маркин\",directions:[{slug:g}]},{id:1821,name:\"Дмитрий Шмелев\",directions:[{slug:g}]},{id:1819,name:\"Владимир Горб\",directions:[{slug:g}]},{id:1818,name:\"Александр Шишканов\",directions:[{slug:g}]},{id:1817,name:\"Федор Балванович\",directions:[{slug:g}]},{id:1816,name:\"Тимур Исмаев\",directions:[{slug:g}]},{id:1815,name:\"Кирилл Казакул\",directions:[{slug:b}]},{id:1814,name:\"Андрей Кузнецов\",directions:[{slug:a}]},{id:1807,name:\"Пётр Бондаренко\",directions:[{slug:a}]},{id:1803,name:\"HR Лето\",directions:[{slug:a}]},{id:1802,name:\"Ирина Зайченко\",directions:[{slug:h}]},{id:1801,name:\"Всеволод Иоффе\",directions:[{slug:h}]},{id:1800,name:\"Нина Трубникова\",directions:[{slug:c}]},{id:1799,name:\"Ольга Завьялова\",directions:[{slug:c}]},{id:1798,name:\"Мария Мордвинова\",directions:[{slug:c}]},{id:1797,name:\"Надежда Панченко\",directions:[{slug:c}]},{id:1792,name:\"Алексей Авдеев\",directions:[{slug:d}]},{id:1791,name:\"Руслан Мурадов\",directions:[{slug:d}]},{id:1790,name:\"Станислав Урманчеев\",directions:[{slug:d}]},{id:1789,name:\"Никита Гоголев\",directions:[{slug:d}]},{id:1788,name:\"Людмила Чехонина\",directions:[{slug:c}]},{id:1787,name:\"Алина Гончаренко\",directions:[{slug:c}]},{id:1786,name:\"Оксана Тюльпинова\",directions:[{slug:a}]},{id:1785,name:\"Юлия Трефилова\",directions:[{slug:a}]},{id:1784,name:\"Артём Гебелев\",directions:[{slug:a}]},{id:1783,name:\"Сабина Джавадова\",directions:[{slug:a}]},{id:1782,name:\"Кристина Вдовина\",directions:[{slug:a}]},{id:1781,name:b$,directions:[{slug:h}]},{id:1780,name:\"Дарья Воробьева\",directions:[{slug:k}]},{id:1779,name:\"Надежда Свиридова\",directions:[{slug:a}]},{id:1766,name:\"Пётр Мазаев\",directions:[{slug:a},{slug:e}]},{id:1765,name:\"Александр Гулин\",directions:[{slug:a}]},{id:1763,name:bY,directions:[{slug:a}]},{id:1762,name:\"Руслан Даминдаров\",directions:[{slug:k}]},{id:1760,name:\"Антон Оралов\",directions:[{slug:k}]},{id:1759,name:\"Даниил Клестов\",directions:[{slug:k}]},{id:1758,name:\"Павел Степанов\",directions:[{slug:k}]},{id:1757,name:\"Иван Сиденко\",directions:[{slug:a}]},{id:1755,name:\"Александр Доброкотов\",directions:[{slug:a}]},{id:1754,name:\"Никита Добряков\",directions:[{slug:a}]},{id:1753,name:\"Алина Стуликова\",directions:[{slug:a}]},{id:1752,name:\"Ирина Петрук\",directions:[{slug:a}]},{id:1751,name:\"Андрей Макаровский\",directions:[{slug:d}]},{id:1750,name:\"Ангелина Черняева\",directions:[{slug:a}]},{id:1747,name:Z,directions:[{slug:c}]},{id:1746,name:\"Евгений Гашков\",directions:[{slug:a}]},{id:1744,name:\"Татьяна Алисова\",directions:[{slug:h}]},{id:1743,name:\"Татьяна Богданова\",directions:[{slug:h}]},{id:1742,name:\"Кирилл Богатырев\",directions:[{slug:h}]},{id:1740,name:\"Виктор Болотов\",directions:[{slug:a}]},{id:1738,name:\"Вера Маневич\",directions:[{slug:a}]},{id:1737,name:\"Анна Зырянова\",directions:[{slug:a}]},{id:1736,name:\"Светлана Позовская\",directions:[{slug:a}]},{id:1735,name:\"Александра Бабкина\",directions:[{slug:a}]},{id:1734,name:\"Евгения Симонова и Николай Смирнов\",directions:[{slug:a}]},{id:1733,name:\"Константин Кисуркин\",directions:[{slug:a}]},{id:1732,name:\"Дарья Корнева\",directions:[{slug:a}]},{id:1729,name:\"Сергей Знаменский\",directions:[{slug:g}]},{id:1728,name:\"Венера Смирнова\",directions:[{slug:b}]},{id:1727,name:\"Алексей Чупин\",directions:[{slug:b}]},{id:1726,name:\"Виктор Рындин\",directions:[{slug:b}]},{id:1725,name:\"Анастасия Третьякова\",directions:[{slug:b}]},{id:1724,name:\"Артём Царегородцев\",directions:[{slug:g}]},{id:1722,name:\"Александр Кошелев\",directions:[{slug:g}]},{id:1721,name:\"Татьяна Каргина\",directions:[{slug:i}]},{id:1720,name:\"Елена Лаврова\",directions:[{slug:i}]},{id:1719,name:\"Екатерина Беззубова\",directions:[{slug:i}]},{id:1708,name:\"Екатерина Коршунова\",directions:[{slug:a}]},{id:1707,name:\"Игорь Тулинов\",directions:[{slug:d}]},{id:1706,name:\"Алексей Бобруцков\",directions:[{slug:d}]},{id:1705,name:\"Антон Будкевич\",directions:[{slug:d}]},{id:1704,name:\"Надежда Задорожняя и Николай Викторов\",directions:[{slug:a}]},{id:1700,name:\"Евгения Сонц\",directions:[{slug:a}]},{id:1693,name:_,directions:[{slug:a}]},{id:1692,name:ca,directions:[{slug:a}]},{id:1681,name:\"Ольга Алмазова\",directions:[{slug:i}]},{id:1680,name:\"Ирина Севастьянова\",directions:[{slug:i}]},{id:1679,name:\"Агата Муцениеце\",directions:[{slug:i}]},{id:1663,name:\"Елена Кошелева\",directions:[{slug:a}]},{id:1662,name:\"Степан Ерошкин\",directions:[{slug:a}]},{id:1661,name:\"Екатерина Фролова\",directions:[{slug:a}]},{id:1657,name:\"Вадим Верединский\",directions:[{slug:c}]},{id:1656,name:\"Григорий Белоусов\",directions:[{slug:g}]},{id:1654,name:\"Сергей Жданов\",directions:[{slug:a}]},{id:1653,name:b$,directions:[{slug:a}]},{id:1651,name:\"Наталья Дубовая\",directions:[{slug:g}]},{id:1648,name:\"Сергей Соломка\",directions:[{slug:d}]},{id:1647,name:\"Паша Коршиков\",directions:[{slug:d}]},{id:1646,name:\"Роман Троицкий\",directions:[{slug:d}]},{id:1644,name:\"Александр Ермолин\",directions:[{slug:g}]},{id:1643,name:\"Дмитрий Шепелев\",directions:[{slug:g}]},{id:1639,name:\"Анна Дёмушкина\",directions:[{slug:a}]},{id:1626,name:\"Дмитрий Серебряков\",directions:[{slug:a}]},{id:1624,name:\"Андрей Крылов\",directions:[{slug:a}]},{id:1623,name:\"Анфиса Рекина\",directions:[{slug:c}]},{id:1622,name:\"Анна Соловьева\",directions:[{slug:c}]},{id:1621,name:\"Алена Назарова\",directions:[{slug:c}]},{id:1620,name:\"Татьяна Поспеловская\",directions:[{slug:c}]},{id:1618,name:\"Алиса Задорожная\",directions:[{slug:a}]},{id:1617,name:\"Сергей Гуров\",directions:[{slug:a}]},{id:1614,name:\"Сергей Герасимов\",directions:[{slug:f}]},{id:1607,name:\"Александр Горбачёв\",directions:[{slug:a}]},{id:1606,name:\"Андрей Гераськин\",directions:[{slug:b}]},{id:1605,name:\"Никита Мищенко\",directions:[{slug:d}]},{id:1604,name:\"Олег Чирухин\",directions:[{slug:d}]},{id:1603,name:\"Артем Воскобойник\",directions:[{slug:d}]},{id:1602,name:\"Максим Чернухин\",directions:[{slug:d}]},{id:1601,name:\"Михаил Попов\",directions:[{slug:d}]},{id:1600,name:\"Ан Тон Фам\",directions:[{slug:c}]},{id:1597,name:\"Дарья Буянова\",directions:[{slug:a}]},{id:1596,name:\"Довар Исаков\",directions:[{slug:a}]},{id:1593,name:\"Никита Веселко\",directions:[{slug:f}]},{id:1592,name:\"Анастасия Губанова\",directions:[{slug:c}]},{id:1590,name:\"Марина Груздова\",directions:[{slug:a},{slug:b}]},{id:1589,name:\"Алексей Кучма\",directions:[{slug:b}]},{id:1588,name:\"Юрий Сиденко\",directions:[{slug:a},{slug:b}]},{id:1585,name:\"Павел Стенюшин\",directions:[{slug:e}]},{id:1584,name:$,directions:[{slug:g}]},{id:1583,name:$,directions:[{slug:g}]},{id:1582,name:\"Кира Мамедова\",directions:[{slug:a}]},{id:1579,name:\"Олег Жуковский\",directions:[{slug:a}]},{id:1578,name:\"Александр Солодский\",directions:[{slug:g}]},{id:1577,name:\"Ярослав Бакланов\",directions:[{slug:g}]},{id:1576,name:\"Мария Шейкина\",directions:[{slug:g}]},{id:1575,name:\"Александр Паничевский\",directions:[{slug:f}]},{id:1574,name:\"Алексей Коновалов\",directions:[{slug:d}]},{id:1572,name:\"Евгения Марцынович\",directions:[{slug:a}]},{id:1570,name:\"Максим Чистов\",directions:[{slug:a},{slug:b}]},{id:1569,name:\"Влад Пивоваров\",directions:[{slug:h},{slug:d}]},{id:1566,name:\"Пойманов Кирилл\",directions:[{slug:g}]},{id:1565,name:\"Сусанна Ураева\",directions:[{slug:c}]},{id:1562,name:\"Алена Тунева\",directions:[{slug:h}]},{id:1561,name:\"Татьяна Курасова\",directions:[{slug:h}]},{id:1560,name:\"Лада Иванова\",directions:[{slug:h}]},{id:1556,name:\"Оксана Балашова\",directions:[{slug:a},{slug:c}]},{id:1554,name:\"Алёна Коннова\",directions:[{slug:b}]},{id:1551,name:\"Владимир Никифоров\",directions:[{slug:b}]},{id:1548,name:cb,directions:[{slug:a},{slug:f}]},{id:1546,name:\"Елизавета Казинская\",directions:[{slug:i}]},{id:1542,name:\"Дмитрий Тихонов\",directions:[{slug:h}]},{id:1541,name:\"Ева Леонова\",directions:[{slug:h}]},{id:1540,name:\"Екатерина Гурова\",directions:[{slug:h}]},{id:1539,name:\"Екатерина Прохорова\",directions:[{slug:h}]},{id:1538,name:\"Тина Ковальски\",directions:[{slug:h}]},{id:1537,name:\"Николай Линк (Smock SB)\",directions:[{slug:g}]},{id:1533,name:\"Елизавета Кулачкова\",directions:[{slug:c}]},{id:1531,name:\"Анастасия Шкуратова\",directions:[{slug:a}]},{id:1530,name:\"Полина Веденяпина\",directions:[{slug:g}]},{id:1527,name:\"Анна Крылова\",directions:[{slug:e}]},{id:1525,name:\"Илья Филипский\",directions:[{slug:g}]},{id:1524,name:\"Дмитрий Бурлаков\",directions:[{slug:c}]},{id:1521,name:\"Юлия Афанасьева\",directions:[{slug:a},{slug:e}]},{id:1519,name:\"Дмитрий Фролов и Борис Шпирт\",directions:[{slug:a}]},{id:1516,name:cb,directions:[{slug:a}]},{id:1513,name:$,directions:[{slug:g}]},{id:1512,name:\"Надежда Лебедева\",directions:[{slug:e}]},{id:1510,name:\"Екатерина Травинская\",directions:[{slug:a},{slug:b}]},{id:1506,name:\"Елена Лондарь\",directions:[{slug:a}]},{id:1505,name:\"Александр Соловьев\",directions:[{slug:a}]},{id:1502,name:\"Александр Хомич\",directions:[{slug:g}]},{id:1500,name:\"Владислав Лисица\",directions:[{slug:f}]},{id:1499,name:\"Виктор Нурдаев\",directions:[{slug:a}]},{id:1498,name:\"Спикеры\",directions:[{slug:a},{slug:g},{slug:c},{slug:f}]},{id:1497,name:\"Евгений Попов\",directions:[{slug:d}]},{id:1496,name:\"Мария Никифорова\",directions:[{slug:d}]},{id:1493,name:\"Дима Корсо\",directions:[{slug:g}]},{id:1492,name:\"Светлана Молоканова\",directions:[{slug:f}]},{id:1488,name:\"Александр Ветерков, Анастасия Назарова, Виктория Корнева\",directions:[{slug:a}]},{id:1486,name:\"Валерия Нюхалова\",directions:[{slug:a}]},{id:1484,name:\"Илья Полянский\",directions:[{slug:d}]},{id:1483,name:\"Дмитрий Морозов\",directions:[{slug:d}]},{id:1482,name:\"Александр Малышев\",directions:[{slug:d}]},{id:1481,name:\"МЕТКО\",directions:[{slug:a}]},{id:1480,name:\"Анастасия Бедарева\",directions:[{slug:g}]},{id:1474,name:\"Марк Шевченко\",directions:[{slug:d}]},{id:1468,name:\"Есения Пенкина\",directions:[{slug:a},{slug:b}]},{id:1467,name:\"Валерий Лаурецкас\",directions:[{slug:a}]},{id:1466,name:\"Тимур Башкаев\",directions:[{slug:a}]},{id:1465,name:\"Антон Башкаев\",directions:[{slug:a}]},{id:1464,name:\"Александра Санькова\",directions:[{slug:b}]},{id:1463,name:\"Илья Спиридонов\",directions:[{slug:a}]},{id:1462,name:\"Юля Десятникова\",directions:[{slug:i}]},{id:1461,name:\"Родион Мостовой\",directions:[{slug:d}]},{id:1460,name:\"Юрий Сыровечцкий\",directions:[{slug:d}]},{id:1458,name:\"Анна Бондаренко\",directions:[{slug:i}]},{id:1454,name:\"Никита Отставнов\",directions:[{slug:e}]},{id:1449,name:\"Константин Клейн\",directions:[{slug:i}]},{id:1448,name:\"Айрат Багаутдинов\",directions:[{slug:e}]},{id:1447,name:\"Олег Воскобойников\",directions:[{slug:a}]},{id:1446,name:\"Александр Марей\",directions:[{slug:a}]},{id:1445,name:\"Ян Левченко\",directions:[{slug:a}]},{id:1444,name:\"Ярослав Попов\",directions:[{slug:a}]},{id:1442,name:\"Ольга Чернявская\",directions:[{slug:a}]},{id:1438,name:\"Сергей Заволоко\",directions:[{slug:b}]},{id:1437,name:\"Кир Павлюкевич\",directions:[{slug:b}]},{id:1432,name:\"Александр Вендер\",directions:[{slug:d}]},{id:1431,name:\"Юлия Белякова\",directions:[{slug:e}]},{id:1430,name:\"Александр Фенин\",directions:[{slug:i}]},{id:1429,name:\"Свят Вишняков\",directions:[{slug:b}]},{id:1428,name:\"Семен Шорохов\",directions:[{slug:g}]},{id:1427,name:\"Алена Владимирская\",directions:[{slug:e}]},{id:1426,name:\"Лука Никетто\",directions:[{slug:b}]},{id:1425,name:\"Александр Ветерков\",directions:[{slug:a}]},{id:1421,name:\"Инна Гивенталь\",directions:[{slug:a}]},{id:1419,name:\"Полина Воронина\",directions:[{slug:a}]},{id:1416,name:\"Виталий Щупляк\",directions:[{slug:a}]},{id:1415,name:\"Ирина Баринская\",directions:[{slug:a}]},{id:1414,name:\"Николай Ганин\",directions:[{slug:a}]},{id:1413,name:\"Светлана Берегулина\",directions:[{slug:c}]},{id:1412,name:\"Дмитрий Чередник\",directions:[{slug:c}]},{id:1411,name:\"Андрей Машковцев\",directions:[{slug:d}]},{id:1410,name:cc,directions:[{slug:a}]},{id:1407,name:\"Фирсанова Елена\",directions:[{slug:b}]},{id:1406,name:\"Екатерина Додонова\",directions:[{slug:e}]},{id:1404,name:\"Евгений Личкин\",directions:[{slug:e}]},{id:1403,name:\"Арсений Петров\",directions:[{slug:b}]},{id:1402,name:\"Анна Шумилина\",directions:[{slug:i}]},{id:1401,name:\"Анна Рознатовская\",directions:[{slug:i}]},{id:1400,name:\"Екатерина Онокой\",directions:[{slug:i}]},{id:1399,name:\"Марина Пономарёва\",directions:[{slug:i}]},{id:1398,name:\"Николай Пряжников\",directions:[{slug:i}]},{id:1397,name:\"Владимир Мохов\",directions:[{slug:i}]},{id:1396,name:\"Алексей Ивашко\",directions:[{slug:d}]},{id:1395,name:\"Варвара Любовная\",directions:[{slug:f}]},{id:1393,name:\"Алина Лихачевская\",directions:[{slug:a}]},{id:1392,name:\"Алёна Юзефович\",directions:[{slug:a}]},{id:1391,name:\"Александра Московская\",directions:[{slug:a}]},{id:1390,name:\"Пётр Резвых\",directions:[{slug:a}]},{id:1389,name:\"Светлана Полякова\",directions:[{slug:a}]},{id:1388,name:\"Александра Бочавер\",directions:[{slug:i}]},{id:1385,name:cd,directions:[{slug:b}]},{id:1383,name:\"Глеб Калинин\",directions:[{slug:i}]},{id:1382,name:\"Анастасия Дербасова\",directions:[{slug:c}]},{id:1378,name:\"Евгений Виноградов\",directions:[{slug:d}]},{id:1377,name:\"Ольга Синельникова\",directions:[{slug:a}]},{id:1376,name:\"Сергей Гимельрейх\",directions:[{slug:f}]},{id:1375,name:\"Мария Кочакова\",directions:[{slug:f}]},{id:1374,name:\"Юлия Кузнецова\",directions:[{slug:d}]},{id:1373,name:\"Леонид Яковлев\",directions:[{slug:d}]},{id:1372,name:\"Сергей Кошкинов\",directions:[{slug:d}]},{id:1371,name:\"Рудольф Коловертнов\",directions:[{slug:a}]},{id:1370,name:\"Максим Маратович\",directions:[{slug:a}]},{id:1369,name:\"Сергей Михайлов\",directions:[{slug:b}]},{id:1368,name:\"Алена Егорова\",directions:[{slug:b}]},{id:1367,name:\"Максим Десятых\",directions:[{slug:b}]},{id:1366,name:\"Дима Глазырин\",directions:[{slug:b}]},{id:1365,name:\"Денис Ламехов\",directions:[{slug:b}]},{id:1364,name:\"Анна Стирина\",directions:[{slug:e}]},{id:1363,name:\"Виталий Акимов\",directions:[{slug:e}]},{id:1362,name:\"Мария Беликова\",directions:[{slug:b}]},{id:1361,name:bZ,directions:[{slug:b}]},{id:1360,name:\"Дима Черный\",directions:[{slug:b}]},{id:1359,name:\"Артём Васильев\",directions:[{slug:e}]},{id:1358,name:\"Антон Шульга\",directions:[{slug:e}]},{id:1357,name:\"Артем Гладков\",directions:[{slug:b}]},{id:1356,name:\"Юрий Шеваров\",directions:[{slug:b}]},{id:1355,name:\"Александр Бланарь\",directions:[{slug:a}]},{id:1354,name:\"Катрин Борисов\",directions:[{slug:a}]},{id:1353,name:\"Евгений Чернов\",directions:[{slug:e}]},{id:1352,name:\"Саша Ермоленко\",directions:[{slug:b}]},{id:1351,name:\"Дария Лехницкая\",directions:[{slug:e}]},{id:1350,name:\"Дмитрий Зборовский\",directions:[{slug:e}]},{id:1349,name:\"Нина Петрова\",directions:[{slug:c}]},{id:1348,name:\"Анастасия Алексеева\",directions:[{slug:f}]},{id:1347,name:\"Вадим Ганичев\",directions:[{slug:e}]},{id:1346,name:\"Мария Эрбес\",directions:[{slug:e}]},{id:1345,name:\"Виталий Быков\",directions:[{slug:a},{slug:c}]},{id:1344,name:\"Дмитрий Супрун\",directions:[{slug:a}]},{id:1343,name:\"Мария Васильева\",directions:[{slug:e}]},{id:1342,name:\"Елена Мазурова\",directions:[{slug:i}]},{id:1341,name:\"Илья Туменко\",directions:[{slug:f}]},{id:1340,name:\"Екатерина Смирнова\",directions:[{slug:b}]},{id:1339,name:\"Николай Смерницкий\",directions:[{slug:a},{slug:c}]},{id:1338,name:\"Сергей Сердюков\",directions:[{slug:a}]},{id:1337,name:\"Егор Глебов\",directions:[{slug:a}]},{id:1336,name:\"Наталья Масталерж\",directions:[{slug:a}]},{id:1335,name:\"Евгений Мейтув\",directions:[{slug:a}]},{id:1333,name:\"Ирина Ильичёва\",directions:[{slug:c}]},{id:1331,name:\"Куба Снопек\",directions:[{slug:b}]},{id:1330,name:\"Александра Десенко\",directions:[{slug:b}]},{id:1329,name:\"Илья Осколков-Ценципер\",directions:[{slug:b}]},{id:1328,name:\"Борис Любошиц\",directions:[{slug:c}]},{id:1327,name:\"Андрей Яньшин\",directions:[{slug:v}]},{id:1326,name:\"Владимир Беляков\",directions:[{slug:v}]},{id:1325,name:\"Антон Торопцев\",directions:[{slug:a}]},{id:1324,name:\"Миша Most\",directions:[{slug:a}]},{id:1323,name:\"Зимин Антон\",directions:[{slug:b}]},{id:1321,name:\"Анастасия Щелканова\",directions:[{slug:e}]},{id:1320,name:\"Ник Пшеничный\",directions:[{slug:e}]},{id:1319,name:ce,directions:[{slug:e}]},{id:1318,name:\"Кирилл Прудников\",directions:[{slug:a},{slug:e},{slug:h}]},{id:1317,name:\"Алексей Мунтян\",directions:[{slug:e}]},{id:1316,name:\"Юлия Богачева\",directions:[{slug:e}]},{id:1315,name:\"Мария Поликанова\",directions:[{slug:e}]},{id:1313,name:\"Кирилл Малков\",directions:[{slug:d}]},{id:1311,name:\"Камила Абжигитова\",directions:[{slug:d}]},{id:1310,name:\"Анна Максименко\",directions:[{slug:d}]},{id:1309,name:\"Никита Аксютин\",directions:[{slug:e}]},{id:1308,name:\"Анна Катион\",directions:[{slug:b}]},{id:1307,name:\"Алексей Нейман\",directions:[{slug:e}]},{id:1305,name:\"Дмитрий Драгун\",directions:[{slug:g}]},{id:1304,name:\"Ярослав Булавин\",directions:[{slug:g}]},{id:1302,name:\"Сергей Воронин\",directions:[{slug:e}]},{id:1301,name:\"Наталия Копытова\",directions:[{slug:e}]},{id:1300,name:\"Дмитрий Фишбейн\",directions:[{slug:e}]},{id:1299,name:\"Александр Пиперски\",directions:[{slug:a}]},{id:1289,name:\"Арсений Зяббаров\",directions:[{slug:a}]},{id:1288,name:\"Антон Радус\",directions:[{slug:f}]},{id:1287,name:\"Павел Миронов\",directions:[{slug:f}]},{id:1285,name:\"Артём Геллер\",directions:[{slug:b}]},{id:1283,name:\"Анастасия Чёткина\",directions:[{slug:i}]},{id:1281,name:\"Гоша Бергал\",directions:[{slug:b}]},{id:1280,name:\"Благотворительный фонд\",directions:[{slug:b}]},{id:1279,name:cf,directions:[{slug:g}]},{id:1278,name:\"Оля Фомина\",directions:[{slug:a}]},{id:1277,name:\"Дмитрий Зуев\",directions:[{slug:g}]},{id:1276,name:\"Павел Лукша\",directions:[{slug:e}]},{id:1275,name:\"Сергей Миронцев\",directions:[{slug:g}]},{id:1274,name:\"Ольга Реутова\",directions:[{slug:c}]},{id:1273,name:\"Илья Балакирев\",directions:[{slug:f}]},{id:1272,name:\"Эдуард Чечерин\",directions:[{slug:c}]},{id:1270,name:\"Екатерина Боровец\",directions:[{slug:e},{slug:b}]},{id:1266,name:\"Игорь Ирбитский\",directions:[{slug:b}]},{id:1264,name:\"Руслан Хайдуров\",directions:[{slug:d}]},{id:1263,name:\"Екатерина Панова\",directions:[{slug:a},{slug:b}]},{id:cg,name:\"Александр Прошкин\",directions:[{slug:f}]},{id:1260,name:\"Екатерина Макарова\",directions:[{slug:f}]},{id:1259,name:\"Тимур Таепов\",directions:[{slug:f}]},{id:1257,name:\"Юрий Фоменко\",directions:[{slug:b}]},{id:1256,name:\"Эмиль Богомолов\",directions:[{slug:d}]},{id:1253,name:\"Давид Медведик\",directions:[{slug:a}]},{id:1245,name:\"Анна Лаврухина\",directions:[{slug:g}]},{id:1242,name:\"Кирилл Егерев\",directions:[{slug:b}]},{id:1237,name:\"Станислав garfprod Меляшов\",directions:[{slug:g}]},{id:1234,name:\"Жанна Низамутдинова\",directions:[{slug:d}]},{id:1233,name:\"Евгений Уйхази\",directions:[{slug:e}]},{id:1232,name:\"Анна Ищенко\",directions:[{slug:b}]},{id:1230,name:\"Пикушина Татьяна\",directions:[{slug:b}]},{id:1226,name:\"Антонина Никольская\",directions:[{slug:e}]},{id:1222,name:\"Ярослав Ефанов\",directions:[{slug:c}]},{id:1221,name:\"Виктория Борзенкова\",directions:[{slug:f}]},{id:1218,name:\"Максим Бобровский\",directions:[{slug:g}]},{id:1217,name:\"Роман Ивлиев\",directions:[{slug:d}]},{id:1216,name:\"Ксения Бирюкова\",directions:[{slug:f}]},{id:1215,name:\"Poya Shohani\",directions:[{slug:f}]},{id:1214,name:\"Анастасия Нифонтова\",directions:[{slug:f}]},{id:1213,name:\"Дария Марценко\",directions:[{slug:h}]},{id:1212,name:\"Сергей Стеблина\",directions:[{slug:b}]},{id:1211,name:\"Ксения Сидорова\",directions:[{slug:g}]},{id:ch,name:\"Катя Верб\",directions:[{slug:f}]},{id:1206,name:\"Арсений Вейцкин\",directions:[{slug:e}]},{id:1204,name:\"Кирилл Фомичев\",directions:[{slug:e}]},{id:1203,name:\"Максим Скрябин\",directions:[{slug:e}]},{id:1202,name:\"Екатерина Стрельникова\",directions:[{slug:g}]},{id:1200,name:\"Анна Фам\",directions:[{slug:i},{slug:a},{slug:b}]},{id:1199,name:\"Роман Манж\",directions:[{slug:g}]},{id:1198,name:\"Михаил Щевлягин\",directions:[{slug:h}]},{id:1196,name:\"Ольга Иваненко\",directions:[{slug:g}]},{id:1195,name:\"Игорь Намаконов\",directions:[{slug:b}]},{id:1194,name:\"Георгий Высоцкий\",directions:[{slug:e}]},{id:1193,name:\"Данил Семёнов\",directions:[{slug:d}]},{id:1191,name:\"Александр Сыров\",directions:[{slug:b}]},{id:1190,name:\"Дмитрий Смирнов\",directions:[{slug:b}]},{id:1189,name:\"Ксения Леванова\",directions:[{slug:b}]},{id:1188,name:cf,directions:[{slug:e},{slug:d}]},{id:1187,name:\"Глеб Костарев\",directions:[{slug:e}]},{id:1186,name:\"Стелла Святская\",directions:[{slug:c}]},{id:1185,name:\"Алексей Шепелев\",directions:[{slug:d}]},{id:1184,name:\"Валерий Кабисов\",directions:[{slug:d}]},{id:1183,name:\"Евгений sleepsomewhile Слипчик\",directions:[{slug:f}]},{id:1181,name:ci,directions:[{slug:b}]},{id:1180,name:\"Константин Гонтмахер\",directions:[{slug:c}]},{id:1179,name:\"Наталья Живова\",directions:[{slug:h}]},{id:1178,name:\"Мечетина Елена\",directions:[{slug:e}]},{id:1177,name:\"Владимир Полозов\",directions:[{slug:f}]},{id:1176,name:\"Евгений Лебедев\",directions:[{slug:f}]},{id:1174,name:\"Юлия Жефруа\",directions:[{slug:c}]},{id:cj,name:\"Даниил Funky G Малов\",directions:[{slug:g}]},{id:1171,name:\"Евгений Яровой\",directions:[{slug:b}]},{id:1170,name:\"Александр Малофеев\",directions:[{slug:a}]},{id:1167,name:ce,directions:[{slug:b}]},{id:1166,name:\"Артём Стрельбицкий\",directions:[{slug:a},{slug:c}]},{id:1163,name:\"Максим Кузьмин\",directions:[{slug:g}]},{id:1162,name:\"Виктор Брусков\",directions:[{slug:b}]},{id:1161,name:\"Татьяна Минаева\",directions:[{slug:i},{slug:a}]},{id:1160,name:\"Филипп Лейтес\",directions:[{slug:e}]},{id:1159,name:\"Эрнесто Инаркиев\",directions:[{slug:f}]},{id:1158,name:\"Олег Дашкин\",directions:[{slug:b}]},{id:1157,name:\"Инютин Дмитрий\",directions:[{slug:d}]},{id:1156,name:\"Алексей Николаев\",directions:[{slug:g}]},{id:1155,name:Z,directions:[{slug:b}]},{id:1154,name:\"Программы высшего образования в Skillbox\",directions:[{slug:h}]},{id:1153,name:\"Вадим Федотов\",directions:[{slug:e}]},{id:1152,name:\"Анастасия Крайнюк\",directions:[{slug:f}]},{id:1151,name:\"Владислав Быков\",directions:[{slug:f}]},{id:1150,name:\"Ярослав Меньшиков\",directions:[{slug:d}]},{id:1148,name:\"Раяна Ахметзянова\",directions:[{slug:b}]},{id:1146,name:\"Вячеслав Вербий\",directions:[{slug:d}]},{id:1145,name:\"Алексей Грищенко\",directions:[{slug:c},{slug:e}]},{id:1144,name:\"Александра Жданова\",directions:[{slug:c}]},{id:1143,name:\"Глеб Глонти\",directions:[{slug:v}]},{id:1142,name:\"Роман Поляков\",directions:[{slug:e}]},{id:1141,name:\"Константин Сахнов\",directions:[{slug:h},{slug:f}]},{id:1137,name:\"Александр Свобода\",directions:[{slug:b}]},{id:1136,name:\"Алексей Козлов\",directions:[{slug:e}]},{id:1135,name:\"Секретный\",directions:[{slug:b}]},{id:1134,name:\"Сергей Марков\",directions:[{slug:d}]},{id:1133,name:\"Сергей Неботов\",directions:[{slug:a}]},{id:1132,name:\"Виталий Замулин\",directions:[{slug:e}]},{id:1131,name:\"Никита Кокшаров\",directions:[{slug:g}]},{id:1130,name:cc,directions:[{slug:a}]},{id:1129,name:\"Наталия Сченснович\",directions:[{slug:e}]},{id:1128,name:\"Дмитрий Tactics Винокуров\",directions:[{slug:g}]},{id:1127,name:\"Александр Минкин\",directions:[{slug:f}]},{id:1126,name:\"Ирина Шаталова\",directions:[{slug:g}]},{id:1124,name:\"Артём Кудзев\",directions:[{slug:c}]},{id:1123,name:\"Андрей Цай\",directions:[{slug:e}]},{id:1122,name:\"Никита Шапиро\",directions:[{slug:a}]},{id:1121,name:\"Владимир Утратенко\",directions:[{slug:d}]},{id:1120,name:\"Роман Радин\",directions:[{slug:d}]},{id:1118,name:\"Стас Минаков\",directions:[{slug:f}]},{id:1117,name:\"Геворг Акопян\",directions:[{slug:c}]},{id:1116,name:\"Алексей Грубляк\",directions:[{slug:e}]},{id:1114,name:\"Антон Выборнов\",directions:[{slug:g}]},{id:1113,name:\"Юлия Аристова\",directions:[{slug:b}]},{id:1111,name:\"Артем Садовников\",directions:[{slug:e}]},{id:1110,name:\"Тимур Угулава\",directions:[{slug:c}]},{id:1109,name:\"Дмитрий Фролов\",directions:[{slug:a},{slug:c}]},{id:1108,name:\"Мкртич Пудеян\",directions:[{slug:d}]},{id:1105,name:\"Анастасия Черепанова\",directions:[{slug:b}]},{id:1104,name:\"Олег Хорошавин\",directions:[{slug:g}]},{id:1103,name:\"Маргарита Зобнина\",directions:[{slug:e}]},{id:1102,name:\"Георгий Андрончик\",directions:[{slug:d}]},{id:1098,name:\"Татиана Кочина\",directions:[{slug:g}]},{id:1097,name:\"Александр Сачков\",directions:[{slug:e}]},{id:1096,name:\"Екатерина Владимирова\",directions:[{slug:b}]},{id:1095,name:\"Антон Антипин\",directions:[{slug:e}]},{id:1093,name:\"Юля Koshkamoroshka\",directions:[{slug:f}]},{id:1091,name:\"Ирина Рек\",directions:[{slug:e}]},{id:1090,name:\"Роман Романов\",directions:[{slug:d}]},{id:1089,name:\"Ольга Останина\",directions:[{slug:e}]},{id:1088,name:\"Павел Симонов\",directions:[{slug:c}]},{id:1086,name:\"Елизавета Осетинская\",directions:[{slug:a}]},{id:1083,name:\"Владимир Ванин\",directions:[{slug:g}]},{id:1081,name:\"Борис Шпирт\",directions:[{slug:c},{slug:e}]},{id:1079,name:\"Владимир Труш\",directions:[{slug:e}]},{id:1078,name:\"Саша Устинов\",directions:[{slug:b}]},{id:1077,name:\"Зоя Скобельцына\",directions:[{slug:g}]},{id:1076,name:\"Александр Орлов\",directions:[{slug:d}]},{id:1075,name:ck,directions:[{slug:d}]},{id:1073,name:\"Никита Прилепский\",directions:[{slug:b}]},{id:1071,name:\"Даниил Щелкунов\",directions:[{slug:f}]},{id:1069,name:\"Екатерина Стародубцева\",directions:[{slug:e}]},{id:1065,name:\"Татьяна Сукманская\",directions:[{slug:e}]},{id:1063,name:\"Полина Мальцева\",directions:[{slug:e}]},{id:1061,name:\"Ольга Костерина\",directions:[{slug:b}]},{id:1060,name:\"Кирилл Демченко\",directions:[{slug:d}]},{id:1059,name:\"Никита Камышников\",directions:[{slug:c}]},{id:1058,name:\"Константин Хомченко\",directions:[{slug:c}]},{id:1057,name:\"Иван Дьяченко\",directions:[{slug:e}]},{id:1056,name:\"Екатерина Гаврилова\",directions:[{slug:e}]},{id:1055,name:\"Ольга Турчина\",directions:[{slug:a}]},{id:1053,name:\"Иван Руденко\",directions:[{slug:e}]},{id:1052,name:\"Вячеслав Яшков\",directions:[{slug:b}]},{id:1051,name:\"Марианна Сардарова\",directions:[{slug:a}]},{id:1050,name:\"Дмитрий Русанов\",directions:[{slug:e}]},{id:1049,name:\"Сергей Крюков\",directions:[{slug:e}]},{id:1046,name:\"Татьяна Одинцова\",directions:[{slug:a},{slug:b}]},{id:1043,name:\"Аурика Виларди\",directions:[{slug:c}]},{id:1038,name:\"Артем Колесников\",directions:[{slug:f}]},{id:1037,name:\"Татьяна Жукова\",directions:[{slug:e}]},{id:1035,name:\"Полина Ченцова\",directions:[{slug:b}]},{id:1032,name:\"Каменский Михаил\",directions:[{slug:a}]},{id:1031,name:\"Ярослава Марущак\",directions:[{slug:d}]},{id:1030,name:\"Виктория Марковникова\",directions:[{slug:a},{slug:b}]},{id:1029,name:\"Кирилл Светляков\",directions:[{slug:a}]},{id:1028,name:\"Константин Плотников\",directions:[{slug:a}]},{id:1024,name:\"Павел Андрющенко\",directions:[{slug:d}]},{id:1023,name:\"Дмитрий Норка\",directions:[{slug:e}]},{id:1017,name:\"Анна Прокудина\",directions:[{slug:b}]},{id:1016,name:\"Дизайнер интерьера PRO\",directions:[{slug:b}]},{id:1011,name:\"Сергей Зыков\",directions:[{slug:c},{slug:f}]},{id:1010,name:\"Иван Нефедкин\",directions:[{slug:g}]},{id:1009,name:\"Вячеслав Правдзинский\",directions:[{slug:b}]},{id:1007,name:\"Константин Замков\",directions:[{slug:e}]},{id:993,name:\"Максим Захаров\",directions:[{slug:b}]},{id:992,name:\"Данияр Шарипов\",directions:[{slug:b}]},{id:990,name:\"Алексей Соколов\",directions:[{slug:a},{slug:b}]},{id:989,name:\"Валерия Грумеза\",directions:[{slug:b}]},{id:986,name:\"Григорий Мастридер\",directions:[{slug:a}]},{id:984,name:\"Булат Замилов\",directions:[{slug:d}]},{id:983,name:\"Евгений Лучинин\",directions:[{slug:b}]},{id:981,name:\"Станислав Гридасов\",directions:[{slug:f}]},{id:979,name:\"Дарья Прокуда\",directions:[{slug:b}]},{id:976,name:\"Мария Кристалинская\",directions:[{slug:c}]},{id:975,name:\"Лилия Глазова\",directions:[{slug:c},{slug:b}]},{id:974,name:\"Александр Аносов\",directions:[{slug:d}]},{id:973,name:\"Хорге Перес\",directions:[{slug:b}]},{id:972,name:\"Мария Белицкая\",directions:[{slug:c}]},{id:969,name:\"Глеб Михеев и Сергей Корниенко\",directions:[{slug:d}]},{id:966,name:\"Ксения Белинская\",directions:[{slug:b}]},{id:961,name:\"Анастасия Акопян\",directions:[{slug:g}]},{id:960,name:\"Влада Красильникова\",directions:[{slug:b}]},{id:959,name:\"Максим Зобов\",directions:[{slug:c}]},{id:958,name:\"Ольга Карандина\",directions:[{slug:b}]},{id:957,name:\"Ювелирный конгресс J-1\",directions:[{slug:b}]},{id:956,name:\"Анна Минакова\",directions:[{slug:b}]},{id:953,name:\"Марина Харахордина\",directions:[{slug:a},{slug:e}]},{id:950,name:\"Андрей Торбичев\",directions:[{slug:e}]},{id:949,name:\"Евгений Верховцев\",directions:[{slug:b}]},{id:948,name:\"Раушан Султанов\",directions:[{slug:b}]},{id:945,name:\"Александр Ветушинский\",directions:[{slug:f},{slug:d}]},{id:943,name:\"Евгений Чичилов\",directions:[{slug:f}]},{id:941,name:\"Николай Герасименко\",directions:[{slug:d}]},{id:939,name:\"Екатерина Писарева\",directions:[{slug:a}]},{id:938,name:\"Сергей Слуцкий\",directions:[{slug:b}]},{id:937,name:\"Кристина Колесникова\",directions:[{slug:f}]},{id:935,name:\"Глеб Дубовик\",directions:[{slug:b}]},{id:934,name:\"Дарья Баталова\",directions:[{slug:c},{slug:e}]},{id:933,name:cl,directions:[{slug:e}]},{id:932,name:\"Виктория Обидейко\",directions:[{slug:e},{slug:d}]},{id:931,name:\"Денис Татьянкин\",directions:[{slug:a},{slug:f}]},{id:929,name:\"Наталья Влодавская\",directions:[{slug:i}]},{id:921,name:\"Леонид Фейгин\",directions:[{slug:b}]},{id:920,name:\"Таня Егошина\",directions:[{slug:b}]},{id:916,name:\"Павел Пунтус\",directions:[{slug:g},{slug:f}]},{id:913,name:\"Евгений Казачков\",directions:[{slug:a},{slug:g},{slug:f}]},{id:909,name:\"Вячеслав Перуновский\",directions:[{slug:d}]},{id:908,name:\"Марина Смургис\",directions:[{slug:c},{slug:e}]},{id:902,name:\"Давид Купцов\",directions:[{slug:a}]},{id:899,name:_,directions:[{slug:d}]},{id:898,name:\"Екатерина Матвиенко\",directions:[{slug:b}]},{id:897,name:\"Наталья Бондаренко\",directions:[{slug:b}]},{id:896,name:\"Игорь Яковлев\",directions:[{slug:d}]},{id:895,name:\"Владислава Шмытикова\",directions:[{slug:e}]},{id:894,name:\"Михаил Белстар\",directions:[{slug:a}]},{id:893,name:\"Андрей Черабаев\",directions:[{slug:a}]},{id:892,name:\"Александр Алексеев\",directions:[{slug:a},{slug:c},{slug:d}]},{id:890,name:\"Алина Гашинская\",directions:[{slug:c},{slug:b}]},{id:887,name:\"Ярослав Бондарчук\",directions:[{slug:c},{slug:e}]},{id:886,name:\"Настя Дюжарден\",directions:[{slug:c}]},{id:885,name:\"Наталья Сергеева\",directions:[{slug:a}]},{id:884,name:\"Ксения Ульянова\",directions:[{slug:a}]},{id:880,name:\"Яков Сыромятников\",directions:[{slug:a}]},{id:879,name:\"Серж Степанищев\",directions:[{slug:a},{slug:b}]},{id:876,name:\"Игорь М. Намаконов\",directions:[{slug:a}]},{id:875,name:\"Альберт Сагирян\",directions:[{slug:a}]},{id:874,name:\"Юрий Шароватов\",directions:[{slug:a}]},{id:873,name:\"Ирина Белоусова\",directions:[{slug:a}]},{id:872,name:\"Алексей Решетун\",directions:[{slug:a}]},{id:871,name:\"Александр Арцвуни\",directions:[{slug:a}]},{id:870,name:\"Евгений Тюрин\",directions:[{slug:a},{slug:b}]},{id:869,name:\"Дарья Романовская\",directions:[{slug:a}]},{id:868,name:\"Тарас Пащенко\",directions:[{slug:a}]},{id:867,name:\"Марк Розин\\xa0\",directions:[{slug:a}]},{id:866,name:\"Дмитрий Судаков\",directions:[{slug:a}]},{id:865,name:\"Артем Генкин\",directions:[{slug:a}]},{id:864,name:\"Станислав Дробышевский\",directions:[{slug:a}]},{id:861,name:\"Иван Хроменков\",directions:[{slug:e}]},{id:859,name:\"Роберт Майер\",directions:[{slug:b}]},{id:856,name:\"Руслан Чернобаев\",directions:[{slug:b}]},{id:854,name:\"Екатерина Тимофеева\",directions:[{slug:d}]},{id:852,name:\"Ира Моторина\",directions:[{slug:a}]},{id:851,name:\"Антон Гладышев\",directions:[{slug:a}]},{id:848,name:\"Григорий Новиков\",directions:[{slug:c}]},{id:846,name:\"Алексей Бирюков\",directions:[{slug:a}]},{id:845,name:\"Ренат Янбеков\",directions:[{slug:c}]},{id:835,name:\"Ксения Корепанова\",directions:[{slug:e}]},{id:834,name:\"Павел Платонов\",directions:[{slug:d}]},{id:824,name:ck,directions:[{slug:d}]},{id:811,name:\"Сергей Буров\",directions:[{slug:g}]},{id:810,name:\"Дмитрий Куповых\",directions:[{slug:g}]},{id:809,name:\"Александр Савицкий\",directions:[{slug:e}]},{id:801,name:\"Максим Муратов\",directions:[{slug:b}]},{id:797,name:\"Надежда Паршина\",directions:[{slug:b}]},{id:780,name:\"Софья Краснова\",directions:[{slug:g}]},{id:767,name:\"Марина Писаренко\",directions:[{slug:a}]},{id:766,name:\"Кирилл Куницкий\",directions:[{slug:a}]},{id:759,name:\"Антон Жуков\",directions:[{slug:d}]},{id:752,name:\"Анна Соина\",directions:[{slug:c}]},{id:739,name:\"Виталий Устименко\",directions:[{slug:e}]},{id:738,name:\"Евгений Паршин\",directions:[{slug:a}]},{id:737,name:\"Михаил Войтко\",directions:[{slug:a},{slug:e}]},{id:729,name:\"Pixelord\",directions:[{slug:b}]},{id:726,name:\"Татьяна Безверхая\",directions:[{slug:a}]},{id:725,name:\"Алик Шкловер\",directions:[{slug:a}]},{id:723,name:\"Анна Макарчук\",directions:[{slug:a}]},{id:722,name:\"Александр Аникеев\",directions:[{slug:a}]},{id:719,name:Z,directions:[{slug:b}]},{id:718,name:\"Олег Шкода\",directions:[{slug:a}]},{id:715,name:\"Павел Гусятников\",directions:[{slug:d}]},{id:714,name:\"Арсений Уланов\",directions:[{slug:e}]},{id:713,name:\"Илья Добреля\",directions:[{slug:e}]},{id:708,name:\"Талли Кельми\",directions:[{slug:b}]},{id:707,name:\"Екатерина Толмачева\",directions:[{slug:b}]},{id:706,name:\"Мануэль Лима\",directions:[{slug:b}]},{id:704,name:\"Куту Мазуэлос\",directions:[{slug:b}]},{id:703,name:\"Дарья Казанцева\",directions:[{slug:b}]},{id:702,name:\"Илья Потемин\",directions:[{slug:b}]},{id:698,name:\"Александр Змеул\",directions:[{slug:a},{slug:b}]},{id:697,name:\"Илья Мюге\",directions:[{slug:b}]},{id:696,name:\"Мария Фетискина\",directions:[{slug:b}]},{id:695,name:\"Светлана Сальникова\",directions:[{slug:b}]},{id:694,name:\"Виталий Крестьянчик\",directions:[{slug:a}]},{id:689,name:\"Екатерина Соломеина\",directions:[{slug:a}]},{id:688,name:\"Катерина Гончарова\",directions:[{slug:c}]},{id:682,name:\"Анастасия Свешникова\",directions:[{slug:e}]},{id:681,name:\"Дарья Гладышева\",directions:[{slug:g},{slug:f}]},{id:679,name:\"Илья Зернов\",directions:[{slug:g},{slug:f}]},{id:677,name:\"Инга Егорова\",directions:[{slug:a}]},{id:676,name:\"Тимур Батыршин\",directions:[{slug:d}]},{id:672,name:\"Катя Туркина\",directions:[{slug:b}]},{id:663,name:\"Вадим Дозорцев\",directions:[{slug:c},{slug:e}]},{id:661,name:\"Дарья Конторова\",directions:[{slug:a}]},{id:659,name:_,directions:[{slug:a},{slug:d}]},{id:658,name:\"Тимофей Тиунов\",directions:[{slug:a}]},{id:657,name:\"Евгений Кревный\",directions:[{slug:f}]},{id:654,name:\"Анна Титовец\",directions:[{slug:a}]},{id:645,name:\"Ирина Мефедова\",directions:[{slug:c}]},{id:639,name:\"Дима Веснин\",directions:[{slug:f},{slug:d}]},{id:638,name:\"Вадим Багрий\",directions:[{slug:f},{slug:b}]},{id:637,name:\"Иван Онохин\",directions:[{slug:f}]},{id:636,name:\"Василий Громов\",directions:[{slug:c}]},{id:635,name:\"Марианна Алпатова\",directions:[{slug:f}]},{id:634,name:\"Анна Колесникова\",directions:[{slug:c}]},{id:630,name:\"Александра Ермоленко\",directions:[{slug:b}]},{id:629,name:\"Виолетта Постнова\",directions:[{slug:b}]},{id:628,name:\"Диана Касай\",directions:[{slug:b}]},{id:627,name:\"Дарья Рябова\",directions:[{slug:c}]},{id:626,name:\"Алина Прокина\",directions:[{slug:c}]},{id:625,name:\"Дмитрий Мирошниченко\",directions:[{slug:c}]},{id:617,name:\"Николай Дыбовский\",directions:[{slug:a},{slug:f}]},{id:616,name:cm,directions:[{slug:c}]},{id:615,name:\"Рамиль Усманов\",directions:[{slug:d}]},{id:613,name:\"Дима Барбанель\",directions:[{slug:b}]},{id:604,name:\"Анна Кошелева\",directions:[{slug:b}]},{id:603,name:\"Валерий Гольников\",directions:[{slug:b}]},{id:601,name:\"Денис Александров\",directions:[{slug:d}]},{id:593,name:\"Студенты\",directions:[{slug:a},{slug:b}]},{id:592,name:\"Валерия Курмак\",directions:[{slug:b}]},{id:591,name:cn,directions:[{slug:a},{slug:c}]},{id:590,name:\"Анастасия Борнева\",directions:[{slug:d}]},{id:589,name:\"Павел Горкин\",directions:[{slug:f},{slug:d}]},{id:584,name:\"Антон Астахов\",directions:[{slug:e},{slug:d}]},{id:577,name:\"Анастасия Кузнецова\",directions:[{slug:c}]},{id:571,name:\"Дарья Ивкина\",directions:[{slug:c},{slug:e}]},{id:564,name:\"Константин Брюханов\",directions:[{slug:d}]},{id:560,name:\"Елена Куликова\",directions:[{slug:b}]},{id:558,name:\"Илья Михайлов\",directions:[{slug:f}]},{id:556,name:\"Роман Цыганов\",directions:[{slug:f}]},{id:554,name:\"Екатерина Юдина\",directions:[{slug:b}]},{id:549,name:\"Дмитрий Рязанцев\",directions:[{slug:d}]},{id:548,name:\"Аркадий Дворкович\",directions:[{slug:e}]},{id:538,name:\"Игорь Музыкин\",directions:[{slug:d}]},{id:533,name:\"Евгений Васильев\",directions:[{slug:f}]},{id:532,name:\"Антон Атонюк\",directions:[{slug:b}]},{id:526,name:\"Игорь Коропов\",directions:[{slug:b}]},{id:523,name:\"Виктория Звонарёва\",directions:[{slug:c}]},{id:519,name:cl,directions:[{slug:e}]},{id:517,name:\"Пётр Орлов\",directions:[{slug:e}]},{id:485,name:\"Алена Артемьева\",directions:[{slug:e}]},{id:475,name:\"Александра Королькова\",directions:[{slug:b}]},{id:472,name:\"Влад Прусов\",directions:[{slug:d}]},{id:aD,name:\"Александр Толокольников\",directions:[{slug:b}]},{id:470,name:\"Илья Тимофеев\",directions:[{slug:a},{slug:b}]},{id:467,name:\"Сергей Кондауров\",directions:[{slug:b}]},{id:462,name:\"Лиза Ревзина\",directions:[{slug:b}]},{id:450,name:\"Ярослав Савин\",directions:[{slug:a}]},{id:449,name:\"Анастасия Долгих\",directions:[{slug:a}]},{id:447,name:\"Анна Герасимова\",directions:[{slug:e}]},{id:439,name:\"Алексей Киричек\",directions:[{slug:f}]},{id:433,name:\"Михаил Бутов\",directions:[{slug:f}]},{id:425,name:\"Артем Городецкий\",directions:[{slug:b}]},{id:421,name:\"Катерина Юдина\",directions:[{slug:b}]},{id:413,name:\"Галина Турчак\",directions:[{slug:a}]},{id:412,name:\"Ренат Шагабутдинов\",directions:[{slug:e}]},{id:411,name:\"Михаил Воронин\",directions:[{slug:e}]},{id:410,name:\"Иван Гущин\",directions:[{slug:d}]},{id:409,name:\"Юлия Ефремова\",directions:[{slug:b}]},{id:bU,name:\"Илья Русаков\",directions:[{slug:c}]},{id:395,name:\"Артур Ротарь\",directions:[{slug:c}]},{id:bS,name:\"Иван Буявец\",directions:[{slug:c}]},{id:388,name:\"Ильяна Левина\",directions:[{slug:a},{slug:c},{slug:e}]},{id:383,name:\"Conrad Allan\",directions:[{slug:b}]},{id:379,name:\"Илья Николаев\",directions:[{slug:c}]},{id:375,name:\"Александр Козлов\",directions:[{slug:b}]},{id:373,name:\"Виталий Контуганов\",directions:[{slug:b}]},{id:370,name:\"Никита Левашов\",directions:[{slug:d}]},{id:363,name:\"Павел Лебедев\",directions:[{slug:a},{slug:c}]},{id:360,name:\"Артём Гусев\",directions:[{slug:e}]},{id:bR,name:\"Мария Зубарева\",directions:[{slug:c},{slug:e}]},{id:bP,name:\"Павел Недостоев\",directions:[{slug:g}]},{id:bL,name:\"Камиль Абзалов\",directions:[{slug:b},{slug:d}]},{id:bK,name:\"Евгений Миротин\",directions:[{slug:d}]},{id:339,name:\"Антон Шапоренко\",directions:[{slug:b}]},{id:338,name:\"Роман Горбачев\",directions:[{slug:b}]},{id:337,name:\"Денис Петруленков\",directions:[{slug:b}]},{id:336,name:\"Жанна Исаева\",directions:[{slug:a}]},{id:335,name:cd,directions:[{slug:e},{slug:b}]},{id:334,name:\"Артем Лёвин\",directions:[{slug:c}]},{id:333,name:\"Артем Лукичев\",directions:[{slug:b}]},{id:332,name:\"Аман Реджепов\",directions:[{slug:b}]},{id:331,name:\"Игорь Шеньшин\",directions:[{slug:c}]},{id:326,name:\"Дмитрий Барабаш\",directions:[{slug:a},{slug:d}]},{id:bG,name:\"Артем Манченков\",directions:[{slug:d}]},{id:bD,name:\"Александр Воловик\",directions:[{slug:c}]},{id:302,name:\"Владимир Казаков\",directions:[{slug:c}]},{id:300,name:\"Ани Кочарян\",directions:[{slug:b}]},{id:299,name:\"Василий Рий\",directions:[{slug:c}]},{id:298,name:\"Станислав Измайлов\",directions:[{slug:c}]},{id:297,name:\"Павел Мрыкин\",directions:[{slug:c}]},{id:282,name:cm,directions:[{slug:c}]},{id:262,name:\"Олег Федущак\",directions:[{slug:c}]},{id:259,name:\"Степан Пьяных\",directions:[{slug:a},{slug:b}]},{id:257,name:\"Максим Кузин\",directions:[{slug:a}]},{id:256,name:\"Алексей Маслов\",directions:[{slug:b}]},{id:254,name:\"Игорь Бессмертный\",directions:[{slug:b}]},{id:251,name:\"Оксана Кухарчук\",directions:[{slug:e}]},{id:250,name:\"Андрей Хитрый\",directions:[{slug:d}]},{id:246,name:\"Максим Павлов\",directions:[{slug:b}]},{id:245,name:\"Игорь Веденеев\",directions:[{slug:d}]},{id:241,name:\"Валентин Пановский\",directions:[{slug:a},{slug:d}]},{id:240,name:\"Владимир Лифанов\",directions:[{slug:a},{slug:b}]},{id:bC,name:\"Александр Токарев\",directions:[{slug:b}]},{id:bB,name:\"Анна Соколова\",directions:[{slug:a}]},{id:by,name:\"Виктор Соколов\",directions:[{slug:a},{slug:e}]},{id:bv,name:\"Анна Тыщенко\",directions:[{slug:c}]},{id:217,name:\"Павел Ярец\",directions:[{slug:b}]},{id:184,name:\"Айя Лисова\",directions:[{slug:a}]},{id:179,name:\"Тимур Абдрахманов\",directions:[{slug:e},{slug:b}]},{id:177,name:\"Наталья Климчук\",directions:[{slug:b}]},{id:174,name:\"Сергей Кондык\",directions:[{slug:b}]},{id:165,name:\"Сергей Кокарев\",directions:[{slug:a},{slug:c}]},{id:161,name:\"Виктор Комаров\",directions:[{slug:c}]},{id:160,name:\"Сергей Свиридов\",directions:[{slug:e},{slug:b}]},{id:158,name:\"Влад Ситников\",directions:[{slug:a},{slug:c}]},{id:bs,name:\"Митя Осадчук\",directions:[{slug:b}]},{id:148,name:\"Никита Прохоров\",directions:[{slug:c}]},{id:146,name:b_,directions:[{slug:b}]},{id:143,name:\"Михаил Волков\",directions:[{slug:d}]},{id:bq,name:cn,directions:[{slug:a},{slug:c}]},{id:138,name:\"Алексей Никушин\",directions:[{slug:a},{slug:d}]},{id:137,name:\"Егор Яценко\",directions:[{slug:b},{slug:d}]},{id:bo,name:\"Роман Цветков\",directions:[{slug:a},{slug:c}]},{id:bn,name:\"Артём Крашенинников\",directions:[{slug:c}]},{id:112,name:\"Юлия Магась\",directions:[{slug:c}]},{id:110,name:\"Александр Серебряков\",directions:[{slug:c},{slug:e}]},{id:bj,name:ci,directions:[{slug:a},{slug:b}]},{id:99,name:\"Николай Чуков\",directions:[{slug:b}]},{id:bi,name:\"Дмитрий Пронин\",directions:[{slug:c}]},{id:bh,name:\"Дмитрий Крутов\",directions:[{slug:a},{slug:c},{slug:e},{slug:b},{slug:d}]},{id:bf,name:\"Дмитрий Орлов\",directions:[{slug:c}]},{id:be,name:\"Юрий Ветров\",directions:[{slug:b}]},{id:83,name:\"Глеб Михеев\",directions:[{slug:a},{slug:h},{slug:d}]},{id:79,name:\"Михаил Никипелов\",directions:[{slug:a},{slug:b}]},{id:Y,name:\"Никита Архипов\",directions:[{slug:a},{slug:d}]},{id:65,name:\"Олег Шестаков\",directions:[{slug:c}]},{id:ba,name:\"Юлия Лазарева\",directions:[{slug:c}]},{id:a$,name:\"Вячеслав Прохоров\",directions:[{slug:i},{slug:c}]},{id:X,name:\"Виталий Чесноков\",directions:[{slug:d}]},{id:aY,name:\"Павел Горшков\",directions:[{slug:b}]},{id:aX,name:\"Михаил Овчинников\",directions:[{slug:a},{slug:f},{slug:d}]},{id:Q,name:\"Кирилл Балахтин\",directions:[{slug:c}]},{id:P,name:\"Денис Шумов\",directions:[{slug:b}]},{id:N,name:\"Филипп Соломин\",directions:[{slug:a},{slug:b}]},{id:aL,name:\"Артем Геллер\",directions:[{slug:b}]},{id:aJ,name:\"Елена Аникеева\",directions:[{slug:b}]},{id:aI,name:\"Даниил Пилипенко\",directions:[{slug:a},{slug:b},{slug:d}]},{id:aG,name:\"Игорь Стоянов\",directions:[{slug:a},{slug:e}]},{id:u,name:\"Александр Ковальский\",directions:[{slug:b}]},{id:aF,name:\"Мария Борисова\",directions:[{slug:c}]},{id:aB,name:\"Вадим Шандринов\",directions:[{slug:a},{slug:d}]},{id:aA,name:\"Вадим Паясу\",directions:[{slug:a},{slug:b}]},{id:ax,name:\"Миша Розов\",directions:[{slug:a},{slug:b}]},{id:t,name:\"Дмитрий Сидорин\",directions:[{slug:c}]},{id:A,name:ca,directions:[{slug:a},{slug:c},{slug:e},{slug:h},{slug:b}]}]},isParsedFilter:l},menu:{directions:[],allDirectionsItem:{slug:\"courses\",title:aE},isHideLogin:l,banner:{id:s,title_short:ab,subtitle_short:ac,background_color:ad,dark_mode:l,url:\"https:\\\\u002F\\\\u002Fskillbox.ru\\\\u002Fsale\\\\u002Fmain\\\\u002F\",images:{menu:{img:\"https:\\\\u002F\\\\u002F248006.selcdn.ru\\\\u002FMainSite\\\\u002Fcoral\\\\u002Fresources\\\\u002Fannouncements\\\\u002Fum\\\\u002F136247\\\\u002F8281ec27-70b7-46d6-b7e5-9a014e8b2af7.png\",webp:\"https:\\\\u002F\\\\u002F248006.selcdn.ru\\\\u002FMainSite\\\\u002Fcoral\\\\u002Fresources\\\\u002Fannouncements\\\\u002Fum\\\\u002F136247\\\\u002F8281ec27-70b7-46d6-b7e5-9a014e8b2af7.webp\"}}}},playlists:{loadedDetailPlaylists:{\"code/python\":{title:F,desc:\"Бесплатные видеоуроки по программированию на Python.\\\\r\\\\n\\\\r\\\\nВ этих видеоуроках опытный разработчик Артём Манченков познакомит вас с основами программирования на Python. Вы изучите синтаксис языка, познакомитесь с условиями, циклами и ООП. Напишете сервер для мессенджера.\",items:[{id:8360,link:\"\\\\u002Fwebinars\\\\u002Fcode\\\\u002Fpishem-interfeis-messendzhera-na-python060523\\\\u002F\",title:\"Пишем интерфейс мессенджера на Python\",preview:{img:\"https:\\\\u002F\\\\u002Flive-prod.hb.bizmrg.com\\\\u002F820816\\\\u002Fconversions\\\\u002F63090bd7db66eee69507a4f120f89521-api-jpg.jpg?v=1683503406\",webp:\"https:\\\\u002F\\\\u002Flive-prod.hb.bizmrg.com\\\\u002F820816\\\\u002Fconversions\\\\u002F63090bd7db66eee69507a4f120f89521-api-webp.webp?v=1683503406\"},duration:\"01:51:00\",views:ch,likes:O,dislikes:o},{id:8359,link:\"\\\\u002Fwebinars\\\\u002Fcode\\\\u002Fnastraivaem-protokol-tcp-dlya-messendzhera050523\\\\u002F\",title:\"Настраиваем протокол TCP для мессенджера\",preview:{img:\"https:\\\\u002F\\\\u002Flive-prod.hb.bizmrg.com\\\\u002F819532\\\\u002Fconversions\\\\u002F9a72b2bcacda1735ff25dd621c745051-api-jpg.jpg?v=1683417006\",webp:\"https:\\\\u002F\\\\u002Flive-prod.hb.bizmrg.com\\\\u002F819532\\\\u002Fconversions\\\\u002F9a72b2bcacda1735ff25dd621c745051-api-webp.webp?v=1683417006\"},duration:\"01:58:13\",views:cg,likes:D,dislikes:o},{id:8358,link:\"\\\\u002Fwebinars\\\\u002Fcode\\\\u002Fznakomimsya-s-python040523\\\\u002F\",title:\"Знакомимся с Python\",preview:{img:\"https:\\\\u002F\\\\u002Flive-prod.hb.bizmrg.com\\\\u002F818571\\\\u002Fconversions\\\\u002F33564674f0b9c14035cba6b8ce739a41-api-jpg.jpg?v=1683330606\",webp:\"https:\\\\u002F\\\\u002Flive-prod.hb.bizmrg.com\\\\u002F818571\\\\u002Fconversions\\\\u002F33564674f0b9c14035cba6b8ce739a41-api-webp.webp?v=1683330606\"},duration:\"01:47:47\",views:2767,likes:bc,dislikes:o},{id:7867,link:\"\\\\u002Fwebinars\\\\u002Fcode\\\\u002Fiskusstvennyi-intellekt-na-python-podvodim-itogi211222\\\\u002F\",title:\"Искусственный интеллект на Python: подводим итоги\",preview:{img:\"https:\\\\u002F\\\\u002Flive-prod.hb.bizmrg.com\\\\u002F623548\\\\u002Fconversions\\\\u002Fea1cc74a6faff78ff12fc8ec6bd9d9f4-api-jpg.jpg?v=1672215636\",webp:\"https:\\\\u002F\\\\u002Flive-prod.hb.bizmrg.com\\\\u002F623548\\\\u002Fconversions\\\\u002Fea1cc74a6faff78ff12fc8ec6bd9d9f4-api-webp.webp?v=1672215636\"},duration:\"01:04:56\",views:5009,likes:S,dislikes:o},{id:7866,link:\"\\\\u002Fwebinars\\\\u002Fcode\\\\u002Fuchim-bota-na-python-ponimat-tekst201222\\\\u002F\",title:\"Учим бота на Python понимать текст\",preview:{img:\"https:\\\\u002F\\\\u002Flive-prod.hb.bizmrg.com\\\\u002F616004\\\\u002Fconversions\\\\u002F441047daf0c4c8c420dd6f82281ffad9-api-jpg.jpg?v=1671666606\",webp:\"https:\\\\u002F\\\\u002Flive-prod.hb.bizmrg.com\\\\u002F616004\\\\u002Fconversions\\\\u002F441047daf0c4c8c420dd6f82281ffad9-api-webp.webp?v=1671666606\"},duration:\"01:53:26\",views:4367,likes:E,dislikes:o},{id:7865,link:\"\\\\u002Fwebinars\\\\u002Fcode\\\\u002Fznakomimsya-s-python-i-arkhitekturoi-umnogo-chat-bota191222\\\\u002F\",title:\"Знакомимся с Python и архитектурой умного чат-бота\",preview:{img:\"https:\\\\u002F\\\\u002Flive-prod.hb.bizmrg.com\\\\u002F612393\\\\u002Fconversions\\\\u002F73479691f520f499d2f875e7fc2387fd-api-jpg.jpg?v=1671580207\",webp:\"https:\\\\u002F\\\\u002Flive-prod.hb.bizmrg.com\\\\u002F612393\\\\u002Fconversions\\\\u002F73479691f520f499d2f875e7fc2387fd-api-webp.webp?v=1671580207\"},duration:\"02:10:05\",views:7179,likes:Y,dislikes:o},{id:4694,link:\"\\\\u002Fwebinars\\\\u002Fcode\\\\u002Fkhaking-na-python-pishem-pervoe-prilozhenie170521\\\\u002F\",title:\"Хакинг на Python: пишем первое приложение\",preview:{img:\"https:\\\\u002F\\\\u002Flive-prod.hb.bizmrg.com\\\\u002F62701\\\\u002Fconversions\\\\u002F72005f96afa58ca14d263bf68a698cce-api-jpg.jpg?v=1630518414\",webp:\"https:\\\\u002F\\\\u002Flive-prod.hb.bizmrg.com\\\\u002F62701\\\\u002Fconversions\\\\u002F72005f96afa58ca14d263bf68a698cce-api-webp.webp?v=1630518414\"},duration:\"02:31:45\",views:10016,likes:181,dislikes:az},{id:4696,link:\"\\\\u002Fwebinars\\\\u002Fcode\\\\u002Fkhaking-na-python-podvodim-itogi190521\\\\u002F\",title:\"Хакинг на Python: подводим итоги\",preview:{img:\"https:\\\\u002F\\\\u002Flive-prod.hb.bizmrg.com\\\\u002F62707\\\\u002Fconversions\\\\u002F17fc996af023baf58bd2c0c2d90b4a9a-api-jpg.jpg?v=1630518423\",webp:\"https:\\\\u002F\\\\u002Flive-prod.hb.bizmrg.com\\\\u002F62707\\\\u002Fconversions\\\\u002F17fc996af023baf58bd2c0c2d90b4a9a-api-webp.webp?v=1630518423\"},duration:\"02:25:16\",views:2904,likes:62,dislikes:o},{id:4695,link:\"\\\\u002Fwebinars\\\\u002Fcode\\\\u002Fkhaking-na-python-uchimsya-provodit-ataki-i-zashishatsya-ot-nikh180521\\\\u002F\",title:\"Хакинг на Python: учимся проводить атаки и защищаться от них\",preview:{img:\"https:\\\\u002F\\\\u002Flive-prod.hb.bizmrg.com\\\\u002F62704\\\\u002Fconversions\\\\u002Fec391fa934742ecd2bfd1c0946321abf-api-jpg.jpg?v=1630518419\",webp:\"https:\\\\u002F\\\\u002Flive-prod.hb.bizmrg.com\\\\u002F62704\\\\u002Fconversions\\\\u002Fec391fa934742ecd2bfd1c0946321abf-api-webp.webp?v=1630518419\"},duration:\"02:36:21\",views:5408,likes:bt,dislikes:t},{id:bX,link:\"\\\\u002Fwebinars\\\\u002Fcode\\\\u002Fosnovy-backend-razrabotki-s-chego-nachat-2\\\\u002F\",title:\"Основы backend-разработки: с чего начать?\",preview:{img:\"https:\\\\u002F\\\\u002Flive-prod.hb.bizmrg.com\\\\u002F55753\\\\u002Fconversions\\\\u002F1520e44550c02f54d3fa0917c870a6ad-api-jpg.jpg?v=1630507123\",webp:\"https:\\\\u002F\\\\u002Flive-prod.hb.bizmrg.com\\\\u002F55753\\\\u002Fconversions\\\\u002F1520e44550c02f54d3fa0917c870a6ad-api-webp.webp?v=1630507123\"},duration:\"01:57:48\",views:5051,likes:C,dislikes:o},{id:3713,link:\"\\\\u002Fwebinars\\\\u002Fcode\\\\u002Fsozdayom-prilozhenie-dlya-monitoringa-obektov-na-video161220\\\\u002F\",title:\"Создаём приложение для мониторинга объектов на видео\",preview:{img:\"https:\\\\u002F\\\\u002Flive-prod.hb.bizmrg.com\\\\u002F60145\\\\u002Fconversions\\\\u002Ffac73b9aaf4b3687467e44d25e4e3810-api-jpg.jpg?v=1630514525\",webp:\"https:\\\\u002F\\\\u002Flive-prod.hb.bizmrg.com\\\\u002F60145\\\\u002Fconversions\\\\u002Ffac73b9aaf4b3687467e44d25e4e3810-api-webp.webp?v=1630514525\"},duration:\"02:21:49\",views:3586,likes:D,dislikes:r},{id:3712,link:\"\\\\u002Fwebinars\\\\u002Fcode\\\\u002Fispolzuem-neiroseti-dlya-raspoznavaniya-obektov-na-izobrazhenii151220\\\\u002F\",title:\"Используем нейросети для распознавания объектов на изображении\",preview:{img:\"https:\\\\u002F\\\\u002Flive-prod.hb.bizmrg.com\\\\u002F60142\\\\u002Fconversions\\\\u002Fde1e6d00d97912c00f614066a02d72f2-api-jpg.jpg?v=1630514521\",webp:\"https:\\\\u002F\\\\u002Flive-prod.hb.bizmrg.com\\\\u002F60142\\\\u002Fconversions\\\\u002Fde1e6d00d97912c00f614066a02d72f2-api-webp.webp?v=1630514521\"},duration:\"03:09:05\",views:4394,likes:X,dislikes:r},{id:3711,link:\"\\\\u002Fwebinars\\\\u002Fcode\\\\u002Fizuchaem-osnovy-python-dlya-raboty-s-neirosetyami141220\\\\u002F\",title:\"Изучаем основы Python для работы с нейросетями\",preview:{img:\"https:\\\\u002F\\\\u002Flive-prod.hb.bizmrg.com\\\\u002F60139\\\\u002Fconversions\\\\u002F9ae633791efb990c490e21e33908f44c-api-jpg.jpg?v=1630514517\",webp:\"https:\\\\u002F\\\\u002Flive-prod.hb.bizmrg.com\\\\u002F60139\\\\u002Fconversions\\\\u002F9ae633791efb990c490e21e33908f44c-api-webp.webp?v=1630514517\"},duration:\"01:58:50\",views:8168,likes:87,dislikes:s},{id:3599,link:\"\\\\u002Fwebinars\\\\u002Fcode\\\\u002Fkak-stat-python-razrabotchikom081220\\\\u002F\",title:\"Как стать Python-разработчиком?\",preview:{img:\"https:\\\\u002F\\\\u002Flive-prod.hb.bizmrg.com\\\\u002F722017\\\\u002Fconversions\\\\u002F9a50bf5c089ea087d27b41bdfb22840a-api-jpg.jpg?v=1678479570\",webp:\"https:\\\\u002F\\\\u002Flive-prod.hb.bizmrg.com\\\\u002F722017\\\\u002Fconversions\\\\u002F9a50bf5c089ea087d27b41bdfb22840a-api-webp.webp?v=1678479570\"},duration:\"02:06:05\",views:7007,likes:106,dislikes:p},{id:3083,link:\"\\\\u002Fwebinars\\\\u002Fcode\\\\u002Ffullstack-razrabotchik-itogi-intensiva300920\\\\u002F\",title:\"Fullstack-разработчик. Итоги интенсива\",preview:{img:\"https:\\\\u002F\\\\u002Flive-prod.hb.bizmrg.com\\\\u002F94955\\\\u002Fconversions\\\\u002F353189ca0feb81a16570c8e44df24858-api-jpg.jpg?v=1637316308\",webp:\"https:\\\\u002F\\\\u002Flive-prod.hb.bizmrg.com\\\\u002F94955\\\\u002Fconversions\\\\u002F353189ca0feb81a16570c8e44df24858-api-webp.webp?v=1637316308\"},duration:\"01:04:11\",views:587,likes:ay,dislikes:q},{id:3082,link:\"\\\\u002Fwebinars\\\\u002Fcode\\\\u002Ffullstack-razrabotchik-tekhnologii-backend-razrabotki-freimvork-symfony-i-yazyk-php290920\\\\u002F\",title:\"Fullstack-разработчик: Технологии backend-разработки. Фреймворк Symfony и язык PHP\",preview:{img:\"https:\\\\u002F\\\\u002Flive-prod.hb.bizmrg.com\\\\u002F94935\\\\u002Fconversions\\\\u002F9dbc3361adfaf99af5ea423629d238d6-api-jpg.jpg?v=1637316306\",webp:\"https:\\\\u002F\\\\u002Flive-prod.hb.bizmrg.com\\\\u002F94935\\\\u002Fconversions\\\\u002F9dbc3361adfaf99af5ea423629d238d6-api-webp.webp?v=1637316306\"},duration:\"02:17:24\",views:cj,likes:M,dislikes:q},{id:2135,link:\"\\\\u002Fwebinars\\\\u002Fcode\\\\u002Fgolosovoy-pomoshchnik-na-python-za-chas-1\\\\u002F\",title:\"Голосовой помощник на Python за час\",preview:{img:\"https:\\\\u002F\\\\u002Flive-prod.hb.bizmrg.com\\\\u002F55963\\\\u002Fconversions\\\\u002F43aadc56267f53fd6f19e232cffebe19-api-jpg.jpg?v=1630507421\",webp:\"https:\\\\u002F\\\\u002Flive-prod.hb.bizmrg.com\\\\u002F55963\\\\u002Fconversions\\\\u002F43aadc56267f53fd6f19e232cffebe19-api-webp.webp?v=1630507421\"},duration:\"01:52:49\",views:4983,likes:104,dislikes:o}],recommendation:{title:\"Профессии и курсы по Python\",url:\"https:\\\\u002F\\\\u002Fsale.skillbox.ru\\\\u002Fwebinarsale\\\\u002Fcode\\\\u002Fpython\\\\u002F\",background:\"#fececf\",images:{desktop:{img:\"https:\\\\u002F\\\\u002Flive-prod.hb.bizmrg.com\\\\u002F1013382\\\\u002Fconversions\\\\u002F25410d1e173678dbdbf131f0aa7b08ab-desktop-jpg.jpg?v=1705063782\",webp:\"https:\\\\u002F\\\\u002Flive-prod.hb.bizmrg.com\\\\u002F1013382\\\\u002Fconversions\\\\u002F25410d1e173678dbdbf131f0aa7b08ab-desktop-webp.webp?v=1705063782\"},mobile:{img:\"https:\\\\u002F\\\\u002Flive-prod.hb.bizmrg.com\\\\u002F1013382\\\\u002Fconversions\\\\u002F25410d1e173678dbdbf131f0aa7b08ab-mobile-jpg.jpg?v=1705063782\",webp:\"https:\\\\u002F\\\\u002Flive-prod.hb.bizmrg.com\\\\u002F1013382\\\\u002Fconversions\\\\u002F25410d1e173678dbdbf131f0aa7b08ab-mobile-webp.webp?v=1705063782\"}}},meta:{title:j,description:j}}},playlists:[]},poll:{editingPoll:j,editingPollMessageId:j},special:{special:{}},user:{user:j,accessToken:j,idToken:j,refreshToken:j,sessionId:j},webinar:{webinarDetail:j,archiveComments:[],archiveCommentsLength:j,archiveCommentsRemaining:j,webinarStatEvent:j,openedPicture:j,isSocketError:l}},serverRendered:n,routePath:\"\\\\u002Fplaylists\\\\u002Fcode\\\\u002Fpython\\\\u002F\",config:{sentry:{config:{dsn:\"https:\\\\u002F\\\\u002Ff80363f671284b468655548a18913cc0@sentry.wbd.skillbox.pro\\\\u002F34\",environment:co}},projectName:cp,projectForAnalytics:cp,gtmId:\"GTM-NLCGQ25\",isProduction:n,enableWinstonLogs:n,skillboxApi:aa,intgenApi:\"https:\\\\u002F\\\\u002Fintensive.skillbox.ru\\\\u002F\",skillsearchApi:aa,geoApi:aa,socketUrl:\"https:\\\\u002F\\\\u002Fwsn.skillbox.ru\\\\u002F\",passportDomain:\"https:\\\\u002F\\\\u002Fpassport.skillbox.ru\",passportClientId:\"96d4d786-f454-4746-a0d9-6af70049eb38\",passportRedirectUri:\"https:\\\\u002F\\\\u002Flive.skillbox.ru\\\\u002Fauth\\\\u002F\",abPlatformApiUrl:\"https:\\\\u002F\\\\u002Fab-api.skillbox.pro\\\\u002F\",additionalApiResponseTimeoutLimit:3000,axios:{baseURL:\"https:\\\\u002F\\\\u002Flivebackend.skillbox.ru\\\\u002F\"},recaptcha:{hideBadge:l,siteKey:\"6LfMIoUUAAAAAF9o26pXK24QTt4wLI1r5Fkx8bib\",version:p},gwPrefixes:{project:\"LIVE\"},isContactsPopupEnabled:n,ALCHEMERE_URL:\"https:\\\\u002F\\\\u002Fsurvey.alchemer.eu\\\\u002Fs3\\\\u002F90568817\\\\u002F\",showMetaInfoInFooter:n,autopaymentEnv:co,_app:{basePath:W,assetsPath:W,cdnURL:\"https:\\\\u002F\\\\u002Fcdn.skillbox.pro\\\\u002Fwbd-front\\\\u002Flive\\\\u002F\"}}}}(\"other\",\"design\",\"marketing\",\"code\",\"management\",\"games\",\"multimedia\",\"higher-education\",\"psychology\",null,\"engineering\",false,\"\",true,0,3,1,2,5,6,15,\"general-development\",\"health\",\"Программирование\",\"Дизайн\",\"Маркетинг\",4,\"Управление\",24,36,51,\"Python\",\"Игры\",17,\"Кино и Музыка\",\"Психология\",26,\"Инженерия\",28,29,33,37,41,\"Финансы\",45,50,\"Здоровье\",\"neural-networks-no-code\",\"\\\\u002F\",59,75,\"Юлия Свобода\",\"Андрей Смирнов\",\"Дмитрий Гайденко\",\"https:\\\\u002F\\\\u002Fskillbox.ru\\\\u002F\",\"Зимние скидки до&nbsp;60%\",\"Выберите курсы по&nbsp;выгодной цене.\",\"#88EBE4\",\"Другое\",\"Высшее образование\",\"Общее развитие\",25,\"Английский язык\",34,35,38,39,40,43,\"Бизнес\",44,46,47,48,\"Нейросети и no-code\",52,\"Аналитика\",7,8,9,11,13,353,471,\"Все направления\",14,16,\"3D\",18,19,\"Unreal Engine 4\",23,\"Unity\",\"PHP\",\"SQL\",\"Machine Learning\",\"Data Science\",\"Figma\",\"Git\",\"Java\",\"iOS\",\"JavaScript\",\"Android\",53,56,\"Soft Skills\",\"CustDev\",61,64,\"HR\",67,\"CRM\",84,85,\"UX\\\\u002FUI\",90,98,108,\"SMM\",\"SEO\",\"PR\",124,134,\"Adobe Illustrator\",141,\"Photoshop\",151,163,\"EdTech\",222,\"Ableton Live\",\"Adobe Premier\",233,\"Avid\",\"Davinci\",235,239,303,\"Docker\",\"DevOps\",305,\"Linux\",\"After Effects\",\"Kotlin\",342,343,\"Golang\",\"Swift\",\"Kubernetes\",351,\"Flutter\",356,389,\"Selenium WebDriver\",399,\"C#\",\"C++\",2061,\"Татьяна Иванова\",\"Наиля Синицына\",\"Евгений Кузьмин\",\"Надежда Галкина\",\"Сергей Попков\",\"Пользователи\",\"Алексей Кутейников\",\"Наталья Преображенская\",\"Мария Фролова\",\"Иван Иванов\",1261,1207,\"Дмитрий Матвеев\",1172,\"Дмитрий Якин\",\"Софья Леина\",\"Алексей Панов\",\"Николай Смирнов\",\"production\",\"live\"));</script><script>!function(){var e=document,t=e.createElement(\"script\");if(!(\"noModule\"in t)&&\"onbeforeload\"in t){var n=!1;e.addEventListener(\"beforeload\",function(e){if(e.target===t)n=!0;else if(!e.target.hasAttribute(\"nomodule\")||!n)return;e.preventDefault()},!0),t.type=\"module\",t.src=\".\",e.head.appendChild(t),t.remove()}}();</script><script nomodule src=\"https://cdn.skillbox.pro/wbd-front/live/73def5f.js\" defer></script><script type=\"module\" src=\"https://cdn.skillbox.pro/wbd-front/live/62681ee.modern.js\" defer></script><script nomodule src=\"https://cdn.skillbox.pro/wbd-front/live/ac95328.js\" defer></script><script type=\"module\" src=\"https://cdn.skillbox.pro/wbd-front/live/57e2da6.modern.js\" defer></script><script nomodule src=\"https://cdn.skillbox.pro/wbd-front/live/6131caf.js\" defer></script><script type=\"module\" src=\"https://cdn.skillbox.pro/wbd-front/live/2b231db.modern.js\" defer></script><script nomodule src=\"https://cdn.skillbox.pro/wbd-front/live/9aea551.js\" defer></script><script type=\"module\" src=\"https://cdn.skillbox.pro/wbd-front/live/c41af3b.modern.js\" defer></script><script nomodule src=\"https://cdn.skillbox.pro/wbd-front/live/cb266b0.js\" defer></script><script type=\"module\" src=\"https://cdn.skillbox.pro/wbd-front/live/3a28e80.modern.js\" defer></script>\\n  </body>\\n</html>\\n'"
            ],
            "application/vnd.google.colaboratory.intrinsic+json": {
              "type": "string"
            }
          },
          "metadata": {},
          "execution_count": 19
        }
      ]
    },
    {
      "cell_type": "markdown",
      "source": [
        "Вызов парсера"
      ],
      "metadata": {
        "id": "xRl9HZp5YPIf"
      }
    },
    {
      "cell_type": "code",
      "source": [
        "from bs4 import BeautifulSoup\n",
        "\n",
        "soup = BeautifulSoup(web_page.text, 'html.parser')"
      ],
      "metadata": {
        "id": "Ph6pvL-yYFpU"
      },
      "execution_count": 20,
      "outputs": []
    },
    {
      "cell_type": "markdown",
      "source": [
        "\n",
        "```html\n",
        "   <h2 class=\"playlist-inner-card__link-text\">\n",
        "    Пишем интерфейс мессенджера на Python\n",
        "   </h2>\n",
        "```\n",
        "\n",
        "Ищем нужную запись по имени класса `(class_='...')` и извлекаем текст (`.text`)"
      ],
      "metadata": {
        "id": "SjCbsDHXYYRY"
      }
    },
    {
      "cell_type": "code",
      "source": [
        "soup.find(class_='playlist-inner-card__link-text').text"
      ],
      "metadata": {
        "colab": {
          "base_uri": "https://localhost:8080/",
          "height": 35
        },
        "id": "YYycr136YS4M",
        "outputId": "05b7a1cd-ad03-4696-8e22-04f187910339"
      },
      "execution_count": 21,
      "outputs": [
        {
          "output_type": "execute_result",
          "data": {
            "text/plain": [
              "'Пишем интерфейс мессенджера на Python'"
            ],
            "application/vnd.google.colaboratory.intrinsic+json": {
              "type": "string"
            }
          },
          "metadata": {},
          "execution_count": 21
        }
      ]
    },
    {
      "cell_type": "markdown",
      "source": [
        "Найти ссылку на видео:\n",
        "```html\n",
        "<a class=\"playlist-inner-card__link\" href=\"/webinars/code/pishem-interfeis-messendzhera-na-python150323/\">\n",
        "```\n",
        "\n",
        "Ищем нужную запись по имени класса и из атрибутов `.attrs` извлекаем атрибут `'href'`"
      ],
      "metadata": {
        "id": "NFFDPEtZYp3i"
      }
    },
    {
      "cell_type": "code",
      "source": [
        "relative_url = soup.find(class_='playlist-inner-card__link').attrs['href']\n",
        "\n",
        "abs_url = 'https://live.skillbox.ru' + relative_url\n",
        "\n",
        "abs_url"
      ],
      "metadata": {
        "colab": {
          "base_uri": "https://localhost:8080/",
          "height": 35
        },
        "id": "gQpDr7klYvw3",
        "outputId": "66229afe-ce05-447b-fe38-b39062e6ab90"
      },
      "execution_count": 22,
      "outputs": [
        {
          "output_type": "execute_result",
          "data": {
            "text/plain": [
              "'https://live.skillbox.ru/webinars/code/pishem-interfeis-messendzhera-na-python060523/'"
            ],
            "application/vnd.google.colaboratory.intrinsic+json": {
              "type": "string"
            }
          },
          "metadata": {},
          "execution_count": 22
        }
      ]
    },
    {
      "cell_type": "markdown",
      "source": [
        "Переносим информацию в таблицу"
      ],
      "metadata": {
        "id": "6avl-n9PZARG"
      }
    },
    {
      "cell_type": "code",
      "source": [
        "work_book = Workbook()\n",
        "work_sheet = work_book.active\n",
        "\n",
        "items = soup.find_all(class_='playlist-inner__item')\n",
        "\n",
        "for elem in items:\n",
        "    title = elem.find(class_='playlist-inner-card__link-text').text\n",
        "    relative_url = elem.find(class_='playlist-inner-card__link').attrs['href']\n",
        "    video = elem.find(class_='playlist-inner-card__small-info').text[8:23]\n",
        "    url = 'https://live.skillbox.ru' + relative_url\n",
        "    row = [title, url, video]\n",
        "    print(row)\n",
        "    work_sheet.append(row)\n",
        "\n",
        "work_book.save('table.xlsx')"
      ],
      "metadata": {
        "colab": {
          "base_uri": "https://localhost:8080/"
        },
        "id": "RuhSs2T9ZDrJ",
        "outputId": "b3871f5a-9a1c-4a9a-efcf-0f46611fb0be"
      },
      "execution_count": 23,
      "outputs": [
        {
          "output_type": "stream",
          "name": "stdout",
          "text": [
            "['Пишем интерфейс мессенджера на Python', 'https://live.skillbox.ru/webinars/code/pishem-interfeis-messendzhera-na-python060523/', 'Видео, 01:51:00']\n",
            "['Настраиваем протокол TCP для мессенджера', 'https://live.skillbox.ru/webinars/code/nastraivaem-protokol-tcp-dlya-messendzhera050523/', 'Видео, 01:58:13']\n",
            "['Знакомимся с Python', 'https://live.skillbox.ru/webinars/code/znakomimsya-s-python040523/', 'Видео, 01:47:47']\n",
            "['Искусственный интеллект на Python: подводим итоги', 'https://live.skillbox.ru/webinars/code/iskusstvennyi-intellekt-na-python-podvodim-itogi211222/', 'Видео, 01:04:56']\n",
            "['Учим бота на Python понимать текст', 'https://live.skillbox.ru/webinars/code/uchim-bota-na-python-ponimat-tekst201222/', 'Видео, 01:53:26']\n",
            "['Знакомимся с Python и архитектурой умного чат-бота', 'https://live.skillbox.ru/webinars/code/znakomimsya-s-python-i-arkhitekturoi-umnogo-chat-bota191222/', 'Видео, 02:10:05']\n",
            "['Хакинг на Python: пишем первое приложение', 'https://live.skillbox.ru/webinars/code/khaking-na-python-pishem-pervoe-prilozhenie170521/', 'Видео, 02:31:45']\n",
            "['Хакинг на Python: подводим итоги', 'https://live.skillbox.ru/webinars/code/khaking-na-python-podvodim-itogi190521/', 'Видео, 02:25:16']\n",
            "['Хакинг на Python: учимся проводить атаки и защищаться от них', 'https://live.skillbox.ru/webinars/code/khaking-na-python-uchimsya-provodit-ataki-i-zashishatsya-ot-nikh180521/', 'Видео, 02:36:21']\n",
            "['Основы backend-разработки: с чего начать?', 'https://live.skillbox.ru/webinars/code/osnovy-backend-razrabotki-s-chego-nachat-2/', 'Видео, 01:57:48']\n",
            "['Создаём приложение для мониторинга объектов на видео', 'https://live.skillbox.ru/webinars/code/sozdayom-prilozhenie-dlya-monitoringa-obektov-na-video161220/', 'Видео, 02:21:49']\n",
            "['Используем нейросети для распознавания объектов на изображении', 'https://live.skillbox.ru/webinars/code/ispolzuem-neiroseti-dlya-raspoznavaniya-obektov-na-izobrazhenii151220/', 'Видео, 03:09:05']\n",
            "['Изучаем основы Python для работы с нейросетями', 'https://live.skillbox.ru/webinars/code/izuchaem-osnovy-python-dlya-raboty-s-neirosetyami141220/', 'Видео, 01:58:50']\n",
            "['Как стать Python-разработчиком?', 'https://live.skillbox.ru/webinars/code/kak-stat-python-razrabotchikom081220/', 'Видео, 02:06:05']\n",
            "['Fullstack-разработчик. Итоги интенсива', 'https://live.skillbox.ru/webinars/code/fullstack-razrabotchik-itogi-intensiva300920/', 'Видео, 01:04:11']\n",
            "['Fullstack-разработчик: Технологии backend-разработки. Фреймворк Symfony и язык PHP', 'https://live.skillbox.ru/webinars/code/fullstack-razrabotchik-tekhnologii-backend-razrabotki-freimvork-symfony-i-yazyk-php290920/', 'Видео, 02:17:24']\n",
            "['Голосовой помощник на Python за час', 'https://live.skillbox.ru/webinars/code/golosovoy-pomoshchnik-na-python-za-chas-1/', 'Видео, 01:52:49']\n"
          ]
        }
      ]
    },
    {
      "cell_type": "markdown",
      "source": [
        "# 4. Веб-страница на фреймворке Flask"
      ],
      "metadata": {
        "id": "SsfXbxtmZsPB"
      }
    },
    {
      "cell_type": "code",
      "source": [
        "from flask import Flask, render_template\n",
        "\n",
        "app = Flask(__name__)\n",
        "\n",
        "@app.route('/')\n",
        "def hello_world():\n",
        "   return '<h1>Hello from Skillbox!<h1>'\n",
        "\n",
        "@app.route('/hello/')\n",
        "@app.route('/hello/<name>')\n",
        "def hello(name=None):\n",
        "   return render_template('hello.html', name=name)"
      ],
      "metadata": {
        "id": "WqAXatjMZ168"
      },
      "execution_count": 24,
      "outputs": []
    },
    {
      "cell_type": "markdown",
      "source": [
        "Содержание файла hello.html\n",
        "\n",
        "\n",
        "```html\n",
        "<!doctype html>\n",
        "<title>Hello from Skillbox</title>\n",
        "{% if name %}\n",
        "  <h1>Hello {{ name }}!</h1>\n",
        "{% else %}\n",
        "  <h1>Hello, World!</h1>\n",
        "{% endif %}\n",
        "```\n"
      ],
      "metadata": {
        "id": "ZMNGqcecZ_-C"
      }
    }
  ]
}