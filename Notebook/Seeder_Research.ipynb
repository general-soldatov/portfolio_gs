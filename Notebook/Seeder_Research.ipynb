{
  "cells": [
    {
      "cell_type": "markdown",
      "metadata": {
        "id": "UGM7G4PgFQxS"
      },
      "source": [
        "# Анализ результатов опыта"
      ]
    },
    {
      "cell_type": "markdown",
      "metadata": {
        "id": "34F_RyKvFQxY"
      },
      "source": [
        "Импортируем данные опытов в формате Excel"
      ]
    },
    {
      "cell_type": "code",
      "execution_count": null,
      "metadata": {
        "id": "BWKWniRNFQxZ",
        "outputId": "d20f26e0-9413-48eb-e837-0e8bbc8fb441"
      },
      "outputs": [
        {
          "data": {
            "text/html": [
              "<div>\n",
              "<style scoped>\n",
              "    .dataframe tbody tr th:only-of-type {\n",
              "        vertical-align: middle;\n",
              "    }\n",
              "\n",
              "    .dataframe tbody tr th {\n",
              "        vertical-align: top;\n",
              "    }\n",
              "\n",
              "    .dataframe thead th {\n",
              "        text-align: right;\n",
              "    }\n",
              "</style>\n",
              "<table border=\"1\" class=\"dataframe\">\n",
              "  <thead>\n",
              "    <tr style=\"text-align: right;\">\n",
              "      <th></th>\n",
              "      <th>Диск</th>\n",
              "      <th>Повторность опыта</th>\n",
              "      <th>Установленная частота, Гц</th>\n",
              "      <th>Скорость высевающего диска</th>\n",
              "      <th>Число оборотов, 1/мин</th>\n",
              "      <th>Масса фактическая</th>\n",
              "      <th>Масса расчёт</th>\n",
              "      <th>Коэффициент заполнения, %</th>\n",
              "      <th>м/с</th>\n",
              "      <th>км/ч</th>\n",
              "    </tr>\n",
              "  </thead>\n",
              "  <tbody>\n",
              "    <tr>\n",
              "      <th>0</th>\n",
              "      <td>2,2х96</td>\n",
              "      <td>I</td>\n",
              "      <td>10</td>\n",
              "      <td>0.1</td>\n",
              "      <td>10.051891</td>\n",
              "      <td>18.81</td>\n",
              "      <td>18.398982</td>\n",
              "      <td>102.233920</td>\n",
              "      <td>0.618578</td>\n",
              "      <td>2.226880</td>\n",
              "    </tr>\n",
              "    <tr>\n",
              "      <th>1</th>\n",
              "      <td>2,2х96</td>\n",
              "      <td>II</td>\n",
              "      <td>10</td>\n",
              "      <td>0.1</td>\n",
              "      <td>10.051891</td>\n",
              "      <td>18.61</td>\n",
              "      <td>18.398982</td>\n",
              "      <td>101.146903</td>\n",
              "      <td>0.618578</td>\n",
              "      <td>2.226880</td>\n",
              "    </tr>\n",
              "    <tr>\n",
              "      <th>2</th>\n",
              "      <td>2,2х96</td>\n",
              "      <td>III</td>\n",
              "      <td>10</td>\n",
              "      <td>0.1</td>\n",
              "      <td>10.051891</td>\n",
              "      <td>19.20</td>\n",
              "      <td>18.398982</td>\n",
              "      <td>104.353602</td>\n",
              "      <td>0.618578</td>\n",
              "      <td>2.226880</td>\n",
              "    </tr>\n",
              "    <tr>\n",
              "      <th>3</th>\n",
              "      <td>2,2х96</td>\n",
              "      <td>I</td>\n",
              "      <td>20</td>\n",
              "      <td>0.2</td>\n",
              "      <td>20.103782</td>\n",
              "      <td>37.22</td>\n",
              "      <td>36.797963</td>\n",
              "      <td>101.146903</td>\n",
              "      <td>1.237156</td>\n",
              "      <td>4.453761</td>\n",
              "    </tr>\n",
              "    <tr>\n",
              "      <th>4</th>\n",
              "      <td>2,2х96</td>\n",
              "      <td>II</td>\n",
              "      <td>20</td>\n",
              "      <td>0.2</td>\n",
              "      <td>20.103782</td>\n",
              "      <td>37.42</td>\n",
              "      <td>36.797963</td>\n",
              "      <td>101.690411</td>\n",
              "      <td>1.237156</td>\n",
              "      <td>4.453761</td>\n",
              "    </tr>\n",
              "  </tbody>\n",
              "</table>\n",
              "</div>"
            ],
            "text/plain": [
              "     Диск Повторность опыта  Установленная частота, Гц  \\\n",
              "0  2,2х96                 I                         10   \n",
              "1  2,2х96                II                         10   \n",
              "2  2,2х96               III                         10   \n",
              "3  2,2х96                 I                         20   \n",
              "4  2,2х96                II                         20   \n",
              "\n",
              "   Скорость высевающего диска  Число оборотов, 1/мин  Масса фактическая  \\\n",
              "0                         0.1              10.051891              18.81   \n",
              "1                         0.1              10.051891              18.61   \n",
              "2                         0.1              10.051891              19.20   \n",
              "3                         0.2              20.103782              37.22   \n",
              "4                         0.2              20.103782              37.42   \n",
              "\n",
              "   Масса расчёт  Коэффициент заполнения, %       м/с      км/ч  \n",
              "0     18.398982                 102.233920  0.618578  2.226880  \n",
              "1     18.398982                 101.146903  0.618578  2.226880  \n",
              "2     18.398982                 104.353602  0.618578  2.226880  \n",
              "3     36.797963                 101.146903  1.237156  4.453761  \n",
              "4     36.797963                 101.690411  1.237156  4.453761  "
            ]
          },
          "execution_count": 1,
          "metadata": {},
          "output_type": "execute_result"
        }
      ],
      "source": [
        "import pandas as pd\n",
        "import numpy as np\n",
        "data = pd.read_excel('Высевающий диск.xlsx', sheet_name='not_calibration')\n",
        "data.head()"
      ]
    },
    {
      "cell_type": "code",
      "execution_count": null,
      "metadata": {
        "id": "xAbQM3qHFQxd",
        "outputId": "7dc40f99-e50e-48c7-d661-ffd1430e44de"
      },
      "outputs": [
        {
          "data": {
            "text/html": [
              "<div>\n",
              "<style scoped>\n",
              "    .dataframe tbody tr th:only-of-type {\n",
              "        vertical-align: middle;\n",
              "    }\n",
              "\n",
              "    .dataframe tbody tr th {\n",
              "        vertical-align: top;\n",
              "    }\n",
              "\n",
              "    .dataframe thead th {\n",
              "        text-align: right;\n",
              "    }\n",
              "</style>\n",
              "<table border=\"1\" class=\"dataframe\">\n",
              "  <thead>\n",
              "    <tr style=\"text-align: right;\">\n",
              "      <th></th>\n",
              "      <th>Диск</th>\n",
              "      <th>Повторность опыта</th>\n",
              "      <th>Установленная частота, Гц</th>\n",
              "      <th>Скорость высевающего диска</th>\n",
              "      <th>Число оборотов, 1/мин</th>\n",
              "      <th>Масса фактическая</th>\n",
              "      <th>Масса расчёт</th>\n",
              "      <th>Коэффициент заполнения, %</th>\n",
              "      <th>м/с</th>\n",
              "      <th>км/ч</th>\n",
              "    </tr>\n",
              "  </thead>\n",
              "  <tbody>\n",
              "    <tr>\n",
              "      <th>0</th>\n",
              "      <td>2,2х96</td>\n",
              "      <td>I</td>\n",
              "      <td>10</td>\n",
              "      <td>0.1</td>\n",
              "      <td>10.051891</td>\n",
              "      <td>28.8</td>\n",
              "      <td>28.370458</td>\n",
              "      <td>101.514048</td>\n",
              "      <td>0.618578</td>\n",
              "      <td>2.226880</td>\n",
              "    </tr>\n",
              "    <tr>\n",
              "      <th>1</th>\n",
              "      <td>2,2х96</td>\n",
              "      <td>II</td>\n",
              "      <td>10</td>\n",
              "      <td>0.1</td>\n",
              "      <td>10.051891</td>\n",
              "      <td>29.2</td>\n",
              "      <td>28.370458</td>\n",
              "      <td>102.923966</td>\n",
              "      <td>0.618578</td>\n",
              "      <td>2.226880</td>\n",
              "    </tr>\n",
              "    <tr>\n",
              "      <th>2</th>\n",
              "      <td>2,2х96</td>\n",
              "      <td>III</td>\n",
              "      <td>10</td>\n",
              "      <td>0.1</td>\n",
              "      <td>10.051891</td>\n",
              "      <td>28.6</td>\n",
              "      <td>28.370458</td>\n",
              "      <td>100.809090</td>\n",
              "      <td>0.618578</td>\n",
              "      <td>2.226880</td>\n",
              "    </tr>\n",
              "    <tr>\n",
              "      <th>3</th>\n",
              "      <td>2,2х96</td>\n",
              "      <td>I</td>\n",
              "      <td>20</td>\n",
              "      <td>0.2</td>\n",
              "      <td>20.103782</td>\n",
              "      <td>58.2</td>\n",
              "      <td>56.740915</td>\n",
              "      <td>102.571486</td>\n",
              "      <td>1.237156</td>\n",
              "      <td>4.453761</td>\n",
              "    </tr>\n",
              "    <tr>\n",
              "      <th>4</th>\n",
              "      <td>2,2х96</td>\n",
              "      <td>II</td>\n",
              "      <td>20</td>\n",
              "      <td>0.2</td>\n",
              "      <td>20.103782</td>\n",
              "      <td>58.4</td>\n",
              "      <td>56.740915</td>\n",
              "      <td>102.923966</td>\n",
              "      <td>1.237156</td>\n",
              "      <td>4.453761</td>\n",
              "    </tr>\n",
              "  </tbody>\n",
              "</table>\n",
              "</div>"
            ],
            "text/plain": [
              "     Диск Повторность опыта  Установленная частота, Гц  \\\n",
              "0  2,2х96                 I                         10   \n",
              "1  2,2х96                II                         10   \n",
              "2  2,2х96               III                         10   \n",
              "3  2,2х96                 I                         20   \n",
              "4  2,2х96                II                         20   \n",
              "\n",
              "   Скорость высевающего диска  Число оборотов, 1/мин  Масса фактическая  \\\n",
              "0                         0.1              10.051891               28.8   \n",
              "1                         0.1              10.051891               29.2   \n",
              "2                         0.1              10.051891               28.6   \n",
              "3                         0.2              20.103782               58.2   \n",
              "4                         0.2              20.103782               58.4   \n",
              "\n",
              "   Масса расчёт  Коэффициент заполнения, %       м/с      км/ч  \n",
              "0     28.370458                 101.514048  0.618578  2.226880  \n",
              "1     28.370458                 102.923966  0.618578  2.226880  \n",
              "2     28.370458                 100.809090  0.618578  2.226880  \n",
              "3     56.740915                 102.571486  1.237156  4.453761  \n",
              "4     56.740915                 102.923966  1.237156  4.453761  "
            ]
          },
          "execution_count": 2,
          "metadata": {},
          "output_type": "execute_result"
        }
      ],
      "source": [
        "data_pelleted = pd.read_excel('Высевающий диск.xlsx', sheet_name='pelleted')\n",
        "data_pelleted.head()"
      ]
    },
    {
      "cell_type": "markdown",
      "metadata": {
        "id": "0XHMXvOWFQxe"
      },
      "source": [
        "Первая таблица содержит данные по опыту с некалиброванными семенами, вторая - с дражированными.\n",
        "Просмотрим данные по таблице"
      ]
    },
    {
      "cell_type": "code",
      "execution_count": null,
      "metadata": {
        "id": "aIGqf74kFQxf",
        "outputId": "b685e303-0b0b-495c-bac5-4afebea3b44e"
      },
      "outputs": [
        {
          "name": "stdout",
          "output_type": "stream",
          "text": [
            "<class 'pandas.core.frame.DataFrame'>\n",
            "RangeIndex: 54 entries, 0 to 53\n",
            "Data columns (total 10 columns):\n",
            " #   Column                      Non-Null Count  Dtype  \n",
            "---  ------                      --------------  -----  \n",
            " 0   Диск                        54 non-null     object \n",
            " 1   Повторность опыта           54 non-null     object \n",
            " 2   Установленная частота, Гц   54 non-null     int64  \n",
            " 3   Скорость высевающего диска  54 non-null     float64\n",
            " 4   Число оборотов, 1/мин       54 non-null     float64\n",
            " 5   Масса фактическая           54 non-null     float64\n",
            " 6   Масса расчёт                54 non-null     float64\n",
            " 7   Коэффициент заполнения, %   54 non-null     float64\n",
            " 8   м/с                         54 non-null     float64\n",
            " 9   км/ч                        54 non-null     float64\n",
            "dtypes: float64(7), int64(1), object(2)\n",
            "memory usage: 4.3+ KB\n"
          ]
        }
      ],
      "source": [
        "data.info()"
      ]
    },
    {
      "cell_type": "markdown",
      "metadata": {
        "id": "qNwkymJmFQxg"
      },
      "source": [
        "Для упрощения процесса программирования заменим названия столбцов на латинские"
      ]
    },
    {
      "cell_type": "code",
      "execution_count": null,
      "metadata": {
        "id": "yrx9tEacFQxh",
        "outputId": "9c786cbd-8b0c-4f76-b8d6-09fcdb895bde"
      },
      "outputs": [
        {
          "data": {
            "text/html": [
              "<div>\n",
              "<style scoped>\n",
              "    .dataframe tbody tr th:only-of-type {\n",
              "        vertical-align: middle;\n",
              "    }\n",
              "\n",
              "    .dataframe tbody tr th {\n",
              "        vertical-align: top;\n",
              "    }\n",
              "\n",
              "    .dataframe thead th {\n",
              "        text-align: right;\n",
              "    }\n",
              "</style>\n",
              "<table border=\"1\" class=\"dataframe\">\n",
              "  <thead>\n",
              "    <tr style=\"text-align: right;\">\n",
              "      <th></th>\n",
              "      <th>disk</th>\n",
              "      <th>repeat</th>\n",
              "      <th>frequency</th>\n",
              "      <th>disk_speed</th>\n",
              "      <th>number_disk</th>\n",
              "      <th>mass_actual</th>\n",
              "      <th>mass_calc</th>\n",
              "      <th>fill_factor</th>\n",
              "      <th>speed_ms</th>\n",
              "      <th>speed_kmh</th>\n",
              "    </tr>\n",
              "  </thead>\n",
              "  <tbody>\n",
              "    <tr>\n",
              "      <th>0</th>\n",
              "      <td>2,2х96</td>\n",
              "      <td>I</td>\n",
              "      <td>10</td>\n",
              "      <td>0.1</td>\n",
              "      <td>10.051891</td>\n",
              "      <td>18.81</td>\n",
              "      <td>18.398982</td>\n",
              "      <td>102.233920</td>\n",
              "      <td>0.618578</td>\n",
              "      <td>2.226880</td>\n",
              "    </tr>\n",
              "    <tr>\n",
              "      <th>1</th>\n",
              "      <td>2,2х96</td>\n",
              "      <td>II</td>\n",
              "      <td>10</td>\n",
              "      <td>0.1</td>\n",
              "      <td>10.051891</td>\n",
              "      <td>18.61</td>\n",
              "      <td>18.398982</td>\n",
              "      <td>101.146903</td>\n",
              "      <td>0.618578</td>\n",
              "      <td>2.226880</td>\n",
              "    </tr>\n",
              "    <tr>\n",
              "      <th>2</th>\n",
              "      <td>2,2х96</td>\n",
              "      <td>III</td>\n",
              "      <td>10</td>\n",
              "      <td>0.1</td>\n",
              "      <td>10.051891</td>\n",
              "      <td>19.20</td>\n",
              "      <td>18.398982</td>\n",
              "      <td>104.353602</td>\n",
              "      <td>0.618578</td>\n",
              "      <td>2.226880</td>\n",
              "    </tr>\n",
              "    <tr>\n",
              "      <th>3</th>\n",
              "      <td>2,2х96</td>\n",
              "      <td>I</td>\n",
              "      <td>20</td>\n",
              "      <td>0.2</td>\n",
              "      <td>20.103782</td>\n",
              "      <td>37.22</td>\n",
              "      <td>36.797963</td>\n",
              "      <td>101.146903</td>\n",
              "      <td>1.237156</td>\n",
              "      <td>4.453761</td>\n",
              "    </tr>\n",
              "    <tr>\n",
              "      <th>4</th>\n",
              "      <td>2,2х96</td>\n",
              "      <td>II</td>\n",
              "      <td>20</td>\n",
              "      <td>0.2</td>\n",
              "      <td>20.103782</td>\n",
              "      <td>37.42</td>\n",
              "      <td>36.797963</td>\n",
              "      <td>101.690411</td>\n",
              "      <td>1.237156</td>\n",
              "      <td>4.453761</td>\n",
              "    </tr>\n",
              "  </tbody>\n",
              "</table>\n",
              "</div>"
            ],
            "text/plain": [
              "     disk repeat  frequency  disk_speed  number_disk  mass_actual  mass_calc  \\\n",
              "0  2,2х96      I         10         0.1    10.051891        18.81  18.398982   \n",
              "1  2,2х96     II         10         0.1    10.051891        18.61  18.398982   \n",
              "2  2,2х96    III         10         0.1    10.051891        19.20  18.398982   \n",
              "3  2,2х96      I         20         0.2    20.103782        37.22  36.797963   \n",
              "4  2,2х96     II         20         0.2    20.103782        37.42  36.797963   \n",
              "\n",
              "   fill_factor  speed_ms  speed_kmh  \n",
              "0   102.233920  0.618578   2.226880  \n",
              "1   101.146903  0.618578   2.226880  \n",
              "2   104.353602  0.618578   2.226880  \n",
              "3   101.146903  1.237156   4.453761  \n",
              "4   101.690411  1.237156   4.453761  "
            ]
          },
          "execution_count": 4,
          "metadata": {},
          "output_type": "execute_result"
        }
      ],
      "source": [
        "data.set_axis(['disk', 'repeat', 'frequency', 'disk_speed', 'number_disk', 'mass_actual', 'mass_calc', 'fill_factor', 'speed_ms', 'speed_kmh'], axis='columns', inplace=True)\n",
        "data.head()"
      ]
    },
    {
      "cell_type": "code",
      "execution_count": null,
      "metadata": {
        "id": "bqhMiMy8FQxj",
        "outputId": "dcf47287-4e82-46e3-f257-ea4d9378a6e3"
      },
      "outputs": [
        {
          "data": {
            "text/html": [
              "<div>\n",
              "<style scoped>\n",
              "    .dataframe tbody tr th:only-of-type {\n",
              "        vertical-align: middle;\n",
              "    }\n",
              "\n",
              "    .dataframe tbody tr th {\n",
              "        vertical-align: top;\n",
              "    }\n",
              "\n",
              "    .dataframe thead th {\n",
              "        text-align: right;\n",
              "    }\n",
              "</style>\n",
              "<table border=\"1\" class=\"dataframe\">\n",
              "  <thead>\n",
              "    <tr style=\"text-align: right;\">\n",
              "      <th></th>\n",
              "      <th>disk</th>\n",
              "      <th>repeat</th>\n",
              "      <th>frequency</th>\n",
              "      <th>disk_speed</th>\n",
              "      <th>number_disk</th>\n",
              "      <th>mass_actual</th>\n",
              "      <th>mass_calc</th>\n",
              "      <th>fill_factor</th>\n",
              "      <th>speed_ms</th>\n",
              "      <th>speed_kmh</th>\n",
              "    </tr>\n",
              "  </thead>\n",
              "  <tbody>\n",
              "    <tr>\n",
              "      <th>0</th>\n",
              "      <td>2,2х96</td>\n",
              "      <td>I</td>\n",
              "      <td>10</td>\n",
              "      <td>0.1</td>\n",
              "      <td>10.051891</td>\n",
              "      <td>28.8</td>\n",
              "      <td>28.370458</td>\n",
              "      <td>101.514048</td>\n",
              "      <td>0.618578</td>\n",
              "      <td>2.226880</td>\n",
              "    </tr>\n",
              "    <tr>\n",
              "      <th>1</th>\n",
              "      <td>2,2х96</td>\n",
              "      <td>II</td>\n",
              "      <td>10</td>\n",
              "      <td>0.1</td>\n",
              "      <td>10.051891</td>\n",
              "      <td>29.2</td>\n",
              "      <td>28.370458</td>\n",
              "      <td>102.923966</td>\n",
              "      <td>0.618578</td>\n",
              "      <td>2.226880</td>\n",
              "    </tr>\n",
              "    <tr>\n",
              "      <th>2</th>\n",
              "      <td>2,2х96</td>\n",
              "      <td>III</td>\n",
              "      <td>10</td>\n",
              "      <td>0.1</td>\n",
              "      <td>10.051891</td>\n",
              "      <td>28.6</td>\n",
              "      <td>28.370458</td>\n",
              "      <td>100.809090</td>\n",
              "      <td>0.618578</td>\n",
              "      <td>2.226880</td>\n",
              "    </tr>\n",
              "    <tr>\n",
              "      <th>3</th>\n",
              "      <td>2,2х96</td>\n",
              "      <td>I</td>\n",
              "      <td>20</td>\n",
              "      <td>0.2</td>\n",
              "      <td>20.103782</td>\n",
              "      <td>58.2</td>\n",
              "      <td>56.740915</td>\n",
              "      <td>102.571486</td>\n",
              "      <td>1.237156</td>\n",
              "      <td>4.453761</td>\n",
              "    </tr>\n",
              "    <tr>\n",
              "      <th>4</th>\n",
              "      <td>2,2х96</td>\n",
              "      <td>II</td>\n",
              "      <td>20</td>\n",
              "      <td>0.2</td>\n",
              "      <td>20.103782</td>\n",
              "      <td>58.4</td>\n",
              "      <td>56.740915</td>\n",
              "      <td>102.923966</td>\n",
              "      <td>1.237156</td>\n",
              "      <td>4.453761</td>\n",
              "    </tr>\n",
              "  </tbody>\n",
              "</table>\n",
              "</div>"
            ],
            "text/plain": [
              "     disk repeat  frequency  disk_speed  number_disk  mass_actual  mass_calc  \\\n",
              "0  2,2х96      I         10         0.1    10.051891         28.8  28.370458   \n",
              "1  2,2х96     II         10         0.1    10.051891         29.2  28.370458   \n",
              "2  2,2х96    III         10         0.1    10.051891         28.6  28.370458   \n",
              "3  2,2х96      I         20         0.2    20.103782         58.2  56.740915   \n",
              "4  2,2х96     II         20         0.2    20.103782         58.4  56.740915   \n",
              "\n",
              "   fill_factor  speed_ms  speed_kmh  \n",
              "0   101.514048  0.618578   2.226880  \n",
              "1   102.923966  0.618578   2.226880  \n",
              "2   100.809090  0.618578   2.226880  \n",
              "3   102.571486  1.237156   4.453761  \n",
              "4   102.923966  1.237156   4.453761  "
            ]
          },
          "execution_count": 5,
          "metadata": {},
          "output_type": "execute_result"
        }
      ],
      "source": [
        "data_pelleted.set_axis(['disk', 'repeat', 'frequency', 'disk_speed', 'number_disk', 'mass_actual', 'mass_calc', 'fill_factor', 'speed_ms', 'speed_kmh'], axis='columns', inplace=True)\n",
        "data_pelleted.head()"
      ]
    },
    {
      "cell_type": "markdown",
      "metadata": {
        "id": "DDNDBsVUFQxk"
      },
      "source": [
        "Проведём подсчёт средних значений в таблицах"
      ]
    },
    {
      "cell_type": "code",
      "execution_count": null,
      "metadata": {
        "id": "WuHmwAtNFQxk",
        "outputId": "da5dfb6e-6476-4a3c-f032-604d02356c5e"
      },
      "outputs": [
        {
          "data": {
            "text/html": [
              "<div>\n",
              "<style scoped>\n",
              "    .dataframe tbody tr th:only-of-type {\n",
              "        vertical-align: middle;\n",
              "    }\n",
              "\n",
              "    .dataframe tbody tr th {\n",
              "        vertical-align: top;\n",
              "    }\n",
              "\n",
              "    .dataframe thead th {\n",
              "        text-align: right;\n",
              "    }\n",
              "</style>\n",
              "<table border=\"1\" class=\"dataframe\">\n",
              "  <thead>\n",
              "    <tr style=\"text-align: right;\">\n",
              "      <th></th>\n",
              "      <th>disk</th>\n",
              "      <th>repeat</th>\n",
              "      <th>frequency</th>\n",
              "      <th>disk_speed</th>\n",
              "      <th>number_disk</th>\n",
              "      <th>mass_actual</th>\n",
              "      <th>mass_calc</th>\n",
              "      <th>fill_factor</th>\n",
              "      <th>speed_ms</th>\n",
              "      <th>speed_kmh</th>\n",
              "    </tr>\n",
              "  </thead>\n",
              "  <tbody>\n",
              "    <tr>\n",
              "      <th>0</th>\n",
              "      <td>2,2х96</td>\n",
              "      <td>mean</td>\n",
              "      <td>10</td>\n",
              "      <td>0.1</td>\n",
              "      <td>10.051891</td>\n",
              "      <td>28.866667</td>\n",
              "      <td>28.370458</td>\n",
              "      <td>101.749035</td>\n",
              "      <td>0.618578</td>\n",
              "      <td>2.226880</td>\n",
              "    </tr>\n",
              "    <tr>\n",
              "      <th>1</th>\n",
              "      <td>2,2х96</td>\n",
              "      <td>mean</td>\n",
              "      <td>20</td>\n",
              "      <td>0.2</td>\n",
              "      <td>20.103782</td>\n",
              "      <td>58.666667</td>\n",
              "      <td>56.740915</td>\n",
              "      <td>103.393938</td>\n",
              "      <td>1.237156</td>\n",
              "      <td>4.453761</td>\n",
              "    </tr>\n",
              "    <tr>\n",
              "      <th>2</th>\n",
              "      <td>2,2х96</td>\n",
              "      <td>mean</td>\n",
              "      <td>30</td>\n",
              "      <td>0.3</td>\n",
              "      <td>30.155673</td>\n",
              "      <td>86.533333</td>\n",
              "      <td>85.111373</td>\n",
              "      <td>101.670706</td>\n",
              "      <td>1.855734</td>\n",
              "      <td>6.680641</td>\n",
              "    </tr>\n",
              "    <tr>\n",
              "      <th>3</th>\n",
              "      <td>2,2х96</td>\n",
              "      <td>mean</td>\n",
              "      <td>40</td>\n",
              "      <td>0.4</td>\n",
              "      <td>40.207565</td>\n",
              "      <td>115.733333</td>\n",
              "      <td>113.481830</td>\n",
              "      <td>101.984021</td>\n",
              "      <td>2.474312</td>\n",
              "      <td>8.907522</td>\n",
              "    </tr>\n",
              "    <tr>\n",
              "      <th>4</th>\n",
              "      <td>2,2х96</td>\n",
              "      <td>mean</td>\n",
              "      <td>50</td>\n",
              "      <td>0.5</td>\n",
              "      <td>50.259456</td>\n",
              "      <td>145.333333</td>\n",
              "      <td>141.852288</td>\n",
              "      <td>102.453993</td>\n",
              "      <td>3.092890</td>\n",
              "      <td>11.134402</td>\n",
              "    </tr>\n",
              "    <tr>\n",
              "      <th>5</th>\n",
              "      <td>2,2х96</td>\n",
              "      <td>mean</td>\n",
              "      <td>60</td>\n",
              "      <td>0.6</td>\n",
              "      <td>60.311347</td>\n",
              "      <td>171.600000</td>\n",
              "      <td>170.222745</td>\n",
              "      <td>100.809090</td>\n",
              "      <td>3.711467</td>\n",
              "      <td>13.361283</td>\n",
              "    </tr>\n",
              "    <tr>\n",
              "      <th>6</th>\n",
              "      <td>2,2х48</td>\n",
              "      <td>mean</td>\n",
              "      <td>10</td>\n",
              "      <td>0.1</td>\n",
              "      <td>10.051891</td>\n",
              "      <td>14.066667</td>\n",
              "      <td>14.185229</td>\n",
              "      <td>99.164186</td>\n",
              "      <td>0.618578</td>\n",
              "      <td>2.226880</td>\n",
              "    </tr>\n",
              "    <tr>\n",
              "      <th>7</th>\n",
              "      <td>2,2х48</td>\n",
              "      <td>mean</td>\n",
              "      <td>20</td>\n",
              "      <td>0.2</td>\n",
              "      <td>20.103782</td>\n",
              "      <td>28.600000</td>\n",
              "      <td>28.370458</td>\n",
              "      <td>100.809090</td>\n",
              "      <td>1.237156</td>\n",
              "      <td>4.453761</td>\n",
              "    </tr>\n",
              "    <tr>\n",
              "      <th>8</th>\n",
              "      <td>2,2х48</td>\n",
              "      <td>mean</td>\n",
              "      <td>30</td>\n",
              "      <td>0.3</td>\n",
              "      <td>30.155673</td>\n",
              "      <td>42.800000</td>\n",
              "      <td>42.555686</td>\n",
              "      <td>100.574103</td>\n",
              "      <td>1.855734</td>\n",
              "      <td>6.680641</td>\n",
              "    </tr>\n",
              "    <tr>\n",
              "      <th>9</th>\n",
              "      <td>2,2х48</td>\n",
              "      <td>mean</td>\n",
              "      <td>40</td>\n",
              "      <td>0.4</td>\n",
              "      <td>40.207565</td>\n",
              "      <td>57.466667</td>\n",
              "      <td>56.740915</td>\n",
              "      <td>101.279062</td>\n",
              "      <td>2.474312</td>\n",
              "      <td>8.907522</td>\n",
              "    </tr>\n",
              "    <tr>\n",
              "      <th>10</th>\n",
              "      <td>2,2х48</td>\n",
              "      <td>mean</td>\n",
              "      <td>50</td>\n",
              "      <td>0.5</td>\n",
              "      <td>50.259456</td>\n",
              "      <td>71.466667</td>\n",
              "      <td>70.926144</td>\n",
              "      <td>100.762092</td>\n",
              "      <td>3.092890</td>\n",
              "      <td>11.134402</td>\n",
              "    </tr>\n",
              "    <tr>\n",
              "      <th>11</th>\n",
              "      <td>2,2х48</td>\n",
              "      <td>mean</td>\n",
              "      <td>60</td>\n",
              "      <td>0.6</td>\n",
              "      <td>60.311347</td>\n",
              "      <td>83.000000</td>\n",
              "      <td>85.111373</td>\n",
              "      <td>97.519283</td>\n",
              "      <td>3.711467</td>\n",
              "      <td>13.361283</td>\n",
              "    </tr>\n",
              "    <tr>\n",
              "      <th>12</th>\n",
              "      <td>2,5х18</td>\n",
              "      <td>mean</td>\n",
              "      <td>10</td>\n",
              "      <td>0.1</td>\n",
              "      <td>10.051891</td>\n",
              "      <td>5.266667</td>\n",
              "      <td>5.319461</td>\n",
              "      <td>99.007529</td>\n",
              "      <td>0.618578</td>\n",
              "      <td>2.226880</td>\n",
              "    </tr>\n",
              "    <tr>\n",
              "      <th>13</th>\n",
              "      <td>2,5х18</td>\n",
              "      <td>mean</td>\n",
              "      <td>20</td>\n",
              "      <td>0.2</td>\n",
              "      <td>20.103782</td>\n",
              "      <td>10.566667</td>\n",
              "      <td>10.638922</td>\n",
              "      <td>99.320844</td>\n",
              "      <td>1.237156</td>\n",
              "      <td>4.453761</td>\n",
              "    </tr>\n",
              "    <tr>\n",
              "      <th>14</th>\n",
              "      <td>2,5х18</td>\n",
              "      <td>mean</td>\n",
              "      <td>30</td>\n",
              "      <td>0.3</td>\n",
              "      <td>30.155673</td>\n",
              "      <td>16.466667</td>\n",
              "      <td>15.958382</td>\n",
              "      <td>103.185061</td>\n",
              "      <td>1.855734</td>\n",
              "      <td>6.680641</td>\n",
              "    </tr>\n",
              "    <tr>\n",
              "      <th>15</th>\n",
              "      <td>2,5х18</td>\n",
              "      <td>mean</td>\n",
              "      <td>40</td>\n",
              "      <td>0.4</td>\n",
              "      <td>40.207565</td>\n",
              "      <td>21.933333</td>\n",
              "      <td>21.277843</td>\n",
              "      <td>103.080623</td>\n",
              "      <td>2.474312</td>\n",
              "      <td>8.907522</td>\n",
              "    </tr>\n",
              "    <tr>\n",
              "      <th>16</th>\n",
              "      <td>2,5х18</td>\n",
              "      <td>mean</td>\n",
              "      <td>50</td>\n",
              "      <td>0.5</td>\n",
              "      <td>50.259456</td>\n",
              "      <td>27.133333</td>\n",
              "      <td>26.597304</td>\n",
              "      <td>102.015352</td>\n",
              "      <td>3.092890</td>\n",
              "      <td>11.134402</td>\n",
              "    </tr>\n",
              "    <tr>\n",
              "      <th>17</th>\n",
              "      <td>2,5х18</td>\n",
              "      <td>mean</td>\n",
              "      <td>60</td>\n",
              "      <td>0.6</td>\n",
              "      <td>60.311347</td>\n",
              "      <td>32.200000</td>\n",
              "      <td>31.916765</td>\n",
              "      <td>100.887418</td>\n",
              "      <td>3.711467</td>\n",
              "      <td>13.361283</td>\n",
              "    </tr>\n",
              "  </tbody>\n",
              "</table>\n",
              "</div>"
            ],
            "text/plain": [
              "      disk repeat  frequency  disk_speed  number_disk  mass_actual  \\\n",
              "0   2,2х96   mean         10         0.1    10.051891    28.866667   \n",
              "1   2,2х96   mean         20         0.2    20.103782    58.666667   \n",
              "2   2,2х96   mean         30         0.3    30.155673    86.533333   \n",
              "3   2,2х96   mean         40         0.4    40.207565   115.733333   \n",
              "4   2,2х96   mean         50         0.5    50.259456   145.333333   \n",
              "5   2,2х96   mean         60         0.6    60.311347   171.600000   \n",
              "6   2,2х48   mean         10         0.1    10.051891    14.066667   \n",
              "7   2,2х48   mean         20         0.2    20.103782    28.600000   \n",
              "8   2,2х48   mean         30         0.3    30.155673    42.800000   \n",
              "9   2,2х48   mean         40         0.4    40.207565    57.466667   \n",
              "10  2,2х48   mean         50         0.5    50.259456    71.466667   \n",
              "11  2,2х48   mean         60         0.6    60.311347    83.000000   \n",
              "12  2,5х18   mean         10         0.1    10.051891     5.266667   \n",
              "13  2,5х18   mean         20         0.2    20.103782    10.566667   \n",
              "14  2,5х18   mean         30         0.3    30.155673    16.466667   \n",
              "15  2,5х18   mean         40         0.4    40.207565    21.933333   \n",
              "16  2,5х18   mean         50         0.5    50.259456    27.133333   \n",
              "17  2,5х18   mean         60         0.6    60.311347    32.200000   \n",
              "\n",
              "     mass_calc  fill_factor  speed_ms  speed_kmh  \n",
              "0    28.370458   101.749035  0.618578   2.226880  \n",
              "1    56.740915   103.393938  1.237156   4.453761  \n",
              "2    85.111373   101.670706  1.855734   6.680641  \n",
              "3   113.481830   101.984021  2.474312   8.907522  \n",
              "4   141.852288   102.453993  3.092890  11.134402  \n",
              "5   170.222745   100.809090  3.711467  13.361283  \n",
              "6    14.185229    99.164186  0.618578   2.226880  \n",
              "7    28.370458   100.809090  1.237156   4.453761  \n",
              "8    42.555686   100.574103  1.855734   6.680641  \n",
              "9    56.740915   101.279062  2.474312   8.907522  \n",
              "10   70.926144   100.762092  3.092890  11.134402  \n",
              "11   85.111373    97.519283  3.711467  13.361283  \n",
              "12    5.319461    99.007529  0.618578   2.226880  \n",
              "13   10.638922    99.320844  1.237156   4.453761  \n",
              "14   15.958382   103.185061  1.855734   6.680641  \n",
              "15   21.277843   103.080623  2.474312   8.907522  \n",
              "16   26.597304   102.015352  3.092890  11.134402  \n",
              "17   31.916765   100.887418  3.711467  13.361283  "
            ]
          },
          "execution_count": 6,
          "metadata": {},
          "output_type": "execute_result"
        }
      ],
      "source": [
        "def meaner(data):\n",
        "    data_mean=data[data['repeat']=='I'].reset_index(drop=True)\n",
        "    data_mean['repeat'] = data_mean['repeat'].replace('I', 'mean')\n",
        "    i = 0\n",
        "    for dt in range(len(data_mean)):\n",
        "        mass_count = 0\n",
        "        factor_count = 0\n",
        "        for il in range(3):\n",
        "            mass_count += data.loc[il+i, 'mass_actual']\n",
        "            factor_count += data.loc[il+i, 'fill_factor']\n",
        "        mass_count/=3\n",
        "        factor_count/=3\n",
        "        i+=3\n",
        "        data_mean.loc[dt, 'mass_actual'] = mass_count\n",
        "        data_mean.loc[dt, 'fill_factor'] = factor_count\n",
        "    return data_mean\n",
        "\n",
        "data_pelleted_mean = meaner(data_pelleted)\n",
        "data_pelleted_mean"
      ]
    },
    {
      "cell_type": "code",
      "execution_count": null,
      "metadata": {
        "id": "3buy73vuFQxl",
        "outputId": "a638506e-1826-4e68-a661-e2c507d9954a"
      },
      "outputs": [
        {
          "data": {
            "text/html": [
              "<div>\n",
              "<style scoped>\n",
              "    .dataframe tbody tr th:only-of-type {\n",
              "        vertical-align: middle;\n",
              "    }\n",
              "\n",
              "    .dataframe tbody tr th {\n",
              "        vertical-align: top;\n",
              "    }\n",
              "\n",
              "    .dataframe thead th {\n",
              "        text-align: right;\n",
              "    }\n",
              "</style>\n",
              "<table border=\"1\" class=\"dataframe\">\n",
              "  <thead>\n",
              "    <tr style=\"text-align: right;\">\n",
              "      <th></th>\n",
              "      <th>disk</th>\n",
              "      <th>repeat</th>\n",
              "      <th>frequency</th>\n",
              "      <th>disk_speed</th>\n",
              "      <th>number_disk</th>\n",
              "      <th>mass_actual</th>\n",
              "      <th>mass_calc</th>\n",
              "      <th>fill_factor</th>\n",
              "      <th>speed_ms</th>\n",
              "      <th>speed_kmh</th>\n",
              "    </tr>\n",
              "  </thead>\n",
              "  <tbody>\n",
              "    <tr>\n",
              "      <th>0</th>\n",
              "      <td>2,2х96</td>\n",
              "      <td>mean</td>\n",
              "      <td>10</td>\n",
              "      <td>0.1</td>\n",
              "      <td>10.051891</td>\n",
              "      <td>18.873333</td>\n",
              "      <td>18.398982</td>\n",
              "      <td>102.578142</td>\n",
              "      <td>0.618578</td>\n",
              "      <td>2.226880</td>\n",
              "    </tr>\n",
              "    <tr>\n",
              "      <th>1</th>\n",
              "      <td>2,2х96</td>\n",
              "      <td>mean</td>\n",
              "      <td>20</td>\n",
              "      <td>0.2</td>\n",
              "      <td>20.103782</td>\n",
              "      <td>37.286667</td>\n",
              "      <td>36.797963</td>\n",
              "      <td>101.328072</td>\n",
              "      <td>1.237156</td>\n",
              "      <td>4.453761</td>\n",
              "    </tr>\n",
              "    <tr>\n",
              "      <th>2</th>\n",
              "      <td>2,2х96</td>\n",
              "      <td>mean</td>\n",
              "      <td>30</td>\n",
              "      <td>0.3</td>\n",
              "      <td>30.155673</td>\n",
              "      <td>54.916667</td>\n",
              "      <td>55.196945</td>\n",
              "      <td>99.492222</td>\n",
              "      <td>1.855734</td>\n",
              "      <td>6.680641</td>\n",
              "    </tr>\n",
              "    <tr>\n",
              "      <th>3</th>\n",
              "      <td>2,2х96</td>\n",
              "      <td>mean</td>\n",
              "      <td>40</td>\n",
              "      <td>0.4</td>\n",
              "      <td>40.207565</td>\n",
              "      <td>72.086667</td>\n",
              "      <td>73.595926</td>\n",
              "      <td>97.949262</td>\n",
              "      <td>2.474312</td>\n",
              "      <td>8.907522</td>\n",
              "    </tr>\n",
              "    <tr>\n",
              "      <th>4</th>\n",
              "      <td>2,2х96</td>\n",
              "      <td>mean</td>\n",
              "      <td>50</td>\n",
              "      <td>0.5</td>\n",
              "      <td>50.259456</td>\n",
              "      <td>85.800000</td>\n",
              "      <td>91.994908</td>\n",
              "      <td>93.266032</td>\n",
              "      <td>3.092890</td>\n",
              "      <td>11.134402</td>\n",
              "    </tr>\n",
              "    <tr>\n",
              "      <th>5</th>\n",
              "      <td>2,2х96</td>\n",
              "      <td>mean</td>\n",
              "      <td>60</td>\n",
              "      <td>0.6</td>\n",
              "      <td>60.311347</td>\n",
              "      <td>98.926667</td>\n",
              "      <td>110.393889</td>\n",
              "      <td>89.612448</td>\n",
              "      <td>3.711467</td>\n",
              "      <td>13.361283</td>\n",
              "    </tr>\n",
              "    <tr>\n",
              "      <th>6</th>\n",
              "      <td>2,2х48</td>\n",
              "      <td>mean</td>\n",
              "      <td>10</td>\n",
              "      <td>0.1</td>\n",
              "      <td>10.051891</td>\n",
              "      <td>9.336667</td>\n",
              "      <td>9.199491</td>\n",
              "      <td>101.491125</td>\n",
              "      <td>0.618578</td>\n",
              "      <td>2.226880</td>\n",
              "    </tr>\n",
              "    <tr>\n",
              "      <th>7</th>\n",
              "      <td>2,2х48</td>\n",
              "      <td>mean</td>\n",
              "      <td>20</td>\n",
              "      <td>0.2</td>\n",
              "      <td>20.103782</td>\n",
              "      <td>18.283333</td>\n",
              "      <td>18.398982</td>\n",
              "      <td>99.371442</td>\n",
              "      <td>1.237156</td>\n",
              "      <td>4.453761</td>\n",
              "    </tr>\n",
              "    <tr>\n",
              "      <th>8</th>\n",
              "      <td>2,2х48</td>\n",
              "      <td>mean</td>\n",
              "      <td>30</td>\n",
              "      <td>0.3</td>\n",
              "      <td>30.155673</td>\n",
              "      <td>26.966667</td>\n",
              "      <td>27.598472</td>\n",
              "      <td>97.710722</td>\n",
              "      <td>1.855734</td>\n",
              "      <td>6.680641</td>\n",
              "    </tr>\n",
              "    <tr>\n",
              "      <th>9</th>\n",
              "      <td>2,2х48</td>\n",
              "      <td>mean</td>\n",
              "      <td>40</td>\n",
              "      <td>0.4</td>\n",
              "      <td>40.207565</td>\n",
              "      <td>35.260000</td>\n",
              "      <td>36.797963</td>\n",
              "      <td>95.820521</td>\n",
              "      <td>2.474312</td>\n",
              "      <td>8.907522</td>\n",
              "    </tr>\n",
              "    <tr>\n",
              "      <th>10</th>\n",
              "      <td>2,2х48</td>\n",
              "      <td>mean</td>\n",
              "      <td>50</td>\n",
              "      <td>0.5</td>\n",
              "      <td>50.259456</td>\n",
              "      <td>42.963333</td>\n",
              "      <td>45.997454</td>\n",
              "      <td>93.403721</td>\n",
              "      <td>3.092890</td>\n",
              "      <td>11.134402</td>\n",
              "    </tr>\n",
              "    <tr>\n",
              "      <th>11</th>\n",
              "      <td>2,2х48</td>\n",
              "      <td>mean</td>\n",
              "      <td>60</td>\n",
              "      <td>0.6</td>\n",
              "      <td>60.311347</td>\n",
              "      <td>48.386667</td>\n",
              "      <td>55.196945</td>\n",
              "      <td>87.661857</td>\n",
              "      <td>3.711467</td>\n",
              "      <td>13.361283</td>\n",
              "    </tr>\n",
              "    <tr>\n",
              "      <th>12</th>\n",
              "      <td>2,5х18</td>\n",
              "      <td>mean</td>\n",
              "      <td>10</td>\n",
              "      <td>0.1</td>\n",
              "      <td>10.051891</td>\n",
              "      <td>3.490000</td>\n",
              "      <td>3.449809</td>\n",
              "      <td>101.165020</td>\n",
              "      <td>0.618578</td>\n",
              "      <td>2.226880</td>\n",
              "    </tr>\n",
              "    <tr>\n",
              "      <th>13</th>\n",
              "      <td>2,5х18</td>\n",
              "      <td>mean</td>\n",
              "      <td>20</td>\n",
              "      <td>0.2</td>\n",
              "      <td>20.103782</td>\n",
              "      <td>6.990000</td>\n",
              "      <td>6.899618</td>\n",
              "      <td>101.309955</td>\n",
              "      <td>1.237156</td>\n",
              "      <td>4.453761</td>\n",
              "    </tr>\n",
              "    <tr>\n",
              "      <th>14</th>\n",
              "      <td>2,5х18</td>\n",
              "      <td>mean</td>\n",
              "      <td>30</td>\n",
              "      <td>0.3</td>\n",
              "      <td>30.155673</td>\n",
              "      <td>10.446667</td>\n",
              "      <td>10.349427</td>\n",
              "      <td>100.939565</td>\n",
              "      <td>1.855734</td>\n",
              "      <td>6.680641</td>\n",
              "    </tr>\n",
              "    <tr>\n",
              "      <th>15</th>\n",
              "      <td>2,5х18</td>\n",
              "      <td>mean</td>\n",
              "      <td>40</td>\n",
              "      <td>0.4</td>\n",
              "      <td>40.207565</td>\n",
              "      <td>13.253333</td>\n",
              "      <td>13.799236</td>\n",
              "      <td>96.043963</td>\n",
              "      <td>2.474312</td>\n",
              "      <td>8.907522</td>\n",
              "    </tr>\n",
              "    <tr>\n",
              "      <th>16</th>\n",
              "      <td>2,5х18</td>\n",
              "      <td>mean</td>\n",
              "      <td>50</td>\n",
              "      <td>0.5</td>\n",
              "      <td>50.259456</td>\n",
              "      <td>16.063333</td>\n",
              "      <td>17.249045</td>\n",
              "      <td>93.125928</td>\n",
              "      <td>3.092890</td>\n",
              "      <td>11.134402</td>\n",
              "    </tr>\n",
              "    <tr>\n",
              "      <th>17</th>\n",
              "      <td>2,5х18</td>\n",
              "      <td>mean</td>\n",
              "      <td>60</td>\n",
              "      <td>0.6</td>\n",
              "      <td>60.311347</td>\n",
              "      <td>19.196667</td>\n",
              "      <td>20.698854</td>\n",
              "      <td>92.742653</td>\n",
              "      <td>3.711467</td>\n",
              "      <td>13.361283</td>\n",
              "    </tr>\n",
              "  </tbody>\n",
              "</table>\n",
              "</div>"
            ],
            "text/plain": [
              "      disk repeat  frequency  disk_speed  number_disk  mass_actual  \\\n",
              "0   2,2х96   mean         10         0.1    10.051891    18.873333   \n",
              "1   2,2х96   mean         20         0.2    20.103782    37.286667   \n",
              "2   2,2х96   mean         30         0.3    30.155673    54.916667   \n",
              "3   2,2х96   mean         40         0.4    40.207565    72.086667   \n",
              "4   2,2х96   mean         50         0.5    50.259456    85.800000   \n",
              "5   2,2х96   mean         60         0.6    60.311347    98.926667   \n",
              "6   2,2х48   mean         10         0.1    10.051891     9.336667   \n",
              "7   2,2х48   mean         20         0.2    20.103782    18.283333   \n",
              "8   2,2х48   mean         30         0.3    30.155673    26.966667   \n",
              "9   2,2х48   mean         40         0.4    40.207565    35.260000   \n",
              "10  2,2х48   mean         50         0.5    50.259456    42.963333   \n",
              "11  2,2х48   mean         60         0.6    60.311347    48.386667   \n",
              "12  2,5х18   mean         10         0.1    10.051891     3.490000   \n",
              "13  2,5х18   mean         20         0.2    20.103782     6.990000   \n",
              "14  2,5х18   mean         30         0.3    30.155673    10.446667   \n",
              "15  2,5х18   mean         40         0.4    40.207565    13.253333   \n",
              "16  2,5х18   mean         50         0.5    50.259456    16.063333   \n",
              "17  2,5х18   mean         60         0.6    60.311347    19.196667   \n",
              "\n",
              "     mass_calc  fill_factor  speed_ms  speed_kmh  \n",
              "0    18.398982   102.578142  0.618578   2.226880  \n",
              "1    36.797963   101.328072  1.237156   4.453761  \n",
              "2    55.196945    99.492222  1.855734   6.680641  \n",
              "3    73.595926    97.949262  2.474312   8.907522  \n",
              "4    91.994908    93.266032  3.092890  11.134402  \n",
              "5   110.393889    89.612448  3.711467  13.361283  \n",
              "6     9.199491   101.491125  0.618578   2.226880  \n",
              "7    18.398982    99.371442  1.237156   4.453761  \n",
              "8    27.598472    97.710722  1.855734   6.680641  \n",
              "9    36.797963    95.820521  2.474312   8.907522  \n",
              "10   45.997454    93.403721  3.092890  11.134402  \n",
              "11   55.196945    87.661857  3.711467  13.361283  \n",
              "12    3.449809   101.165020  0.618578   2.226880  \n",
              "13    6.899618   101.309955  1.237156   4.453761  \n",
              "14   10.349427   100.939565  1.855734   6.680641  \n",
              "15   13.799236    96.043963  2.474312   8.907522  \n",
              "16   17.249045    93.125928  3.092890  11.134402  \n",
              "17   20.698854    92.742653  3.711467  13.361283  "
            ]
          },
          "execution_count": 7,
          "metadata": {},
          "output_type": "execute_result"
        }
      ],
      "source": [
        "data_mean = meaner(data)\n",
        "data_mean"
      ]
    },
    {
      "cell_type": "markdown",
      "metadata": {
        "id": "mc_XFEjwFQxm"
      },
      "source": [
        "Создадим сводную таблицу по дискам"
      ]
    },
    {
      "cell_type": "code",
      "execution_count": null,
      "metadata": {
        "id": "sfHE2GQhFQxm",
        "outputId": "a05244bb-5db6-4c97-bcc3-190e2fe49400"
      },
      "outputs": [
        {
          "data": {
            "text/html": [
              "<div>\n",
              "<style scoped>\n",
              "    .dataframe tbody tr th:only-of-type {\n",
              "        vertical-align: middle;\n",
              "    }\n",
              "\n",
              "    .dataframe tbody tr th {\n",
              "        vertical-align: top;\n",
              "    }\n",
              "\n",
              "    .dataframe thead th {\n",
              "        text-align: right;\n",
              "    }\n",
              "</style>\n",
              "<table border=\"1\" class=\"dataframe\">\n",
              "  <thead>\n",
              "    <tr style=\"text-align: right;\">\n",
              "      <th>disk_speed</th>\n",
              "      <th>0.1</th>\n",
              "      <th>0.2</th>\n",
              "      <th>0.3</th>\n",
              "      <th>0.4</th>\n",
              "      <th>0.5</th>\n",
              "      <th>0.6</th>\n",
              "    </tr>\n",
              "    <tr>\n",
              "      <th>disk</th>\n",
              "      <th></th>\n",
              "      <th></th>\n",
              "      <th></th>\n",
              "      <th></th>\n",
              "      <th></th>\n",
              "      <th></th>\n",
              "    </tr>\n",
              "  </thead>\n",
              "  <tbody>\n",
              "    <tr>\n",
              "      <th>2,2х48</th>\n",
              "      <td>101.491125</td>\n",
              "      <td>99.371442</td>\n",
              "      <td>97.710722</td>\n",
              "      <td>95.820521</td>\n",
              "      <td>93.403721</td>\n",
              "      <td>87.661857</td>\n",
              "    </tr>\n",
              "    <tr>\n",
              "      <th>2,2х96</th>\n",
              "      <td>102.578142</td>\n",
              "      <td>101.328072</td>\n",
              "      <td>99.492222</td>\n",
              "      <td>97.949262</td>\n",
              "      <td>93.266032</td>\n",
              "      <td>89.612448</td>\n",
              "    </tr>\n",
              "    <tr>\n",
              "      <th>2,5х18</th>\n",
              "      <td>101.165020</td>\n",
              "      <td>101.309955</td>\n",
              "      <td>100.939565</td>\n",
              "      <td>96.043963</td>\n",
              "      <td>93.125928</td>\n",
              "      <td>92.742653</td>\n",
              "    </tr>\n",
              "  </tbody>\n",
              "</table>\n",
              "</div>"
            ],
            "text/plain": [
              "disk_speed         0.1         0.2         0.3        0.4        0.5  \\\n",
              "disk                                                                   \n",
              "2,2х48      101.491125   99.371442   97.710722  95.820521  93.403721   \n",
              "2,2х96      102.578142  101.328072   99.492222  97.949262  93.266032   \n",
              "2,5х18      101.165020  101.309955  100.939565  96.043963  93.125928   \n",
              "\n",
              "disk_speed        0.6  \n",
              "disk                   \n",
              "2,2х48      87.661857  \n",
              "2,2х96      89.612448  \n",
              "2,5х18      92.742653  "
            ]
          },
          "execution_count": 8,
          "metadata": {},
          "output_type": "execute_result"
        }
      ],
      "source": [
        "data_pivot_mean = data_mean.pivot_table(index=['disk'], columns='disk_speed', values='fill_factor', aggfunc='sum')\n",
        "data_pivot_mean"
      ]
    },
    {
      "cell_type": "markdown",
      "metadata": {
        "id": "PA3UiGghFQxn"
      },
      "source": [
        "Сводная таблица по повторностям"
      ]
    },
    {
      "cell_type": "code",
      "execution_count": null,
      "metadata": {
        "id": "Z1q1YSPaFQxn",
        "outputId": "818166eb-1965-4ec5-e13a-d5be749fccdf"
      },
      "outputs": [
        {
          "data": {
            "text/html": [
              "<div>\n",
              "<style scoped>\n",
              "    .dataframe tbody tr th:only-of-type {\n",
              "        vertical-align: middle;\n",
              "    }\n",
              "\n",
              "    .dataframe tbody tr th {\n",
              "        vertical-align: top;\n",
              "    }\n",
              "\n",
              "    .dataframe thead th {\n",
              "        text-align: right;\n",
              "    }\n",
              "</style>\n",
              "<table border=\"1\" class=\"dataframe\">\n",
              "  <thead>\n",
              "    <tr style=\"text-align: right;\">\n",
              "      <th></th>\n",
              "      <th>disk_speed</th>\n",
              "      <th>0.1</th>\n",
              "      <th>0.2</th>\n",
              "      <th>0.3</th>\n",
              "      <th>0.4</th>\n",
              "      <th>0.5</th>\n",
              "      <th>0.6</th>\n",
              "    </tr>\n",
              "    <tr>\n",
              "      <th>disk</th>\n",
              "      <th>repeat</th>\n",
              "      <th></th>\n",
              "      <th></th>\n",
              "      <th></th>\n",
              "      <th></th>\n",
              "      <th></th>\n",
              "      <th></th>\n",
              "    </tr>\n",
              "  </thead>\n",
              "  <tbody>\n",
              "    <tr>\n",
              "      <th rowspan=\"3\" valign=\"top\">2,2х48</th>\n",
              "      <th>I</th>\n",
              "      <td>104.353602</td>\n",
              "      <td>99.027220</td>\n",
              "      <td>96.527082</td>\n",
              "      <td>96.364029</td>\n",
              "      <td>92.831225</td>\n",
              "      <td>87.305557</td>\n",
              "    </tr>\n",
              "    <tr>\n",
              "      <th>II</th>\n",
              "      <td>97.940204</td>\n",
              "      <td>101.146903</td>\n",
              "      <td>96.527082</td>\n",
              "      <td>95.820521</td>\n",
              "      <td>94.548712</td>\n",
              "      <td>86.598996</td>\n",
              "    </tr>\n",
              "    <tr>\n",
              "      <th>III</th>\n",
              "      <td>102.179569</td>\n",
              "      <td>97.940204</td>\n",
              "      <td>100.078003</td>\n",
              "      <td>95.277013</td>\n",
              "      <td>92.831225</td>\n",
              "      <td>89.081018</td>\n",
              "    </tr>\n",
              "    <tr>\n",
              "      <th rowspan=\"3\" valign=\"top\">2,2х96</th>\n",
              "      <th>I</th>\n",
              "      <td>102.233920</td>\n",
              "      <td>101.146903</td>\n",
              "      <td>98.664881</td>\n",
              "      <td>96.880362</td>\n",
              "      <td>94.331308</td>\n",
              "      <td>89.615468</td>\n",
              "    </tr>\n",
              "    <tr>\n",
              "      <th>II</th>\n",
              "      <td>101.146903</td>\n",
              "      <td>101.690411</td>\n",
              "      <td>99.733781</td>\n",
              "      <td>98.755466</td>\n",
              "      <td>93.907372</td>\n",
              "      <td>90.140859</td>\n",
              "    </tr>\n",
              "    <tr>\n",
              "      <th>III</th>\n",
              "      <td>104.353602</td>\n",
              "      <td>101.146903</td>\n",
              "      <td>100.078003</td>\n",
              "      <td>98.211958</td>\n",
              "      <td>91.559416</td>\n",
              "      <td>89.081018</td>\n",
              "    </tr>\n",
              "    <tr>\n",
              "      <th rowspan=\"3\" valign=\"top\">2,5х18</th>\n",
              "      <th>I</th>\n",
              "      <td>99.425793</td>\n",
              "      <td>105.078280</td>\n",
              "      <td>100.295406</td>\n",
              "      <td>96.527082</td>\n",
              "      <td>89.744098</td>\n",
              "      <td>92.758757</td>\n",
              "    </tr>\n",
              "    <tr>\n",
              "      <th>II</th>\n",
              "      <td>101.744762</td>\n",
              "      <td>99.425793</td>\n",
              "      <td>100.295406</td>\n",
              "      <td>92.251483</td>\n",
              "      <td>93.106603</td>\n",
              "      <td>91.792520</td>\n",
              "    </tr>\n",
              "    <tr>\n",
              "      <th>III</th>\n",
              "      <td>102.324504</td>\n",
              "      <td>99.425793</td>\n",
              "      <td>102.227881</td>\n",
              "      <td>99.353325</td>\n",
              "      <td>96.527082</td>\n",
              "      <td>93.676683</td>\n",
              "    </tr>\n",
              "  </tbody>\n",
              "</table>\n",
              "</div>"
            ],
            "text/plain": [
              "disk_speed            0.1         0.2         0.3        0.4        0.5  \\\n",
              "disk   repeat                                                             \n",
              "2,2х48 I       104.353602   99.027220   96.527082  96.364029  92.831225   \n",
              "       II       97.940204  101.146903   96.527082  95.820521  94.548712   \n",
              "       III     102.179569   97.940204  100.078003  95.277013  92.831225   \n",
              "2,2х96 I       102.233920  101.146903   98.664881  96.880362  94.331308   \n",
              "       II      101.146903  101.690411   99.733781  98.755466  93.907372   \n",
              "       III     104.353602  101.146903  100.078003  98.211958  91.559416   \n",
              "2,5х18 I        99.425793  105.078280  100.295406  96.527082  89.744098   \n",
              "       II      101.744762   99.425793  100.295406  92.251483  93.106603   \n",
              "       III     102.324504   99.425793  102.227881  99.353325  96.527082   \n",
              "\n",
              "disk_speed           0.6  \n",
              "disk   repeat             \n",
              "2,2х48 I       87.305557  \n",
              "       II      86.598996  \n",
              "       III     89.081018  \n",
              "2,2х96 I       89.615468  \n",
              "       II      90.140859  \n",
              "       III     89.081018  \n",
              "2,5х18 I       92.758757  \n",
              "       II      91.792520  \n",
              "       III     93.676683  "
            ]
          },
          "execution_count": 9,
          "metadata": {},
          "output_type": "execute_result"
        }
      ],
      "source": [
        "data_pivot_no = data.pivot_table(index=['disk', 'repeat'], columns='disk_speed', values='fill_factor', aggfunc='sum')\n",
        "data_pivot_no"
      ]
    },
    {
      "cell_type": "markdown",
      "metadata": {
        "id": "X3NDg2AyFQxo"
      },
      "source": [
        "Создадим массив усреднённых данных по сводным таблицам"
      ]
    },
    {
      "cell_type": "code",
      "execution_count": null,
      "metadata": {
        "id": "PVLtI81bFQxo",
        "outputId": "5720c2a5-869a-45cf-8f0b-3a549dab3e9d"
      },
      "outputs": [
        {
          "data": {
            "text/plain": [
              "0.1    101.744762\n",
              "0.2    100.669823\n",
              "0.3     99.380836\n",
              "0.4     96.604582\n",
              "0.5     93.265227\n",
              "0.6     90.005653\n",
              "dtype: float64"
            ]
          },
          "execution_count": 10,
          "metadata": {},
          "output_type": "execute_result"
        }
      ],
      "source": [
        "def pivot_mean(pivot):\n",
        "    data_sc = pd.DataFrame(pivot.to_records()).rename(columns={'disk':'disc'})\n",
        "    data_sc.set_axis([0, 1, 2, 3, 4, 5, 6], axis='columns', inplace=True)\n",
        "    math = []\n",
        "    i=1\n",
        "    for dt in data_sc:\n",
        "        mean = 0\n",
        "        for dat in data_sc[i]:\n",
        "            mean += dat\n",
        "        math.append(mean/3)\n",
        "        i+=1\n",
        "        if i>6: break\n",
        "    Ser = pd.Series(math, [0.1, 0.2, 0.3, 0.4, 0.5, 0.6])\n",
        "    return Ser\n",
        "\n",
        "math = pivot_mean(data_pivot_mean)\n",
        "math"
      ]
    },
    {
      "cell_type": "markdown",
      "metadata": {
        "id": "MfJSLwJrFQxp"
      },
      "source": [
        "Построим график зависимости коэффициента заполняемости (в %) от окружной скорости диска."
      ]
    },
    {
      "cell_type": "code",
      "execution_count": null,
      "metadata": {
        "id": "5POWMLPxFQxp"
      },
      "outputs": [],
      "source": [
        "import matplotlib.pyplot as plt"
      ]
    },
    {
      "cell_type": "code",
      "execution_count": null,
      "metadata": {
        "scrolled": true,
        "id": "M9j-6AwzFQxp",
        "outputId": "7c66b8e6-1a15-478d-c312-dc04441d3308"
      },
      "outputs": [
        {
          "data": {
            "image/png": "[encoded data removed]",
            "text/plain": [
              "<Figure size 864x288 with 1 Axes>"
            ]
          },
          "metadata": {
            "needs_background": "light"
          },
          "output_type": "display_data"
        }
      ],
      "source": [
        "def graph_data(data_mean):\n",
        "    fig, ax = plt.subplots()\n",
        "    data_mean_pivot = data_mean.pivot_table(index=['disk_speed'], columns='disk', values='fill_factor', aggfunc='sum')\n",
        "    data_mean_pivot['2,2х48'].plot(linewidth = 2, marker='o', linestyle = '-')\n",
        "    data_mean_pivot['2,2х96'].plot(linewidth = 2.5, marker='^', linestyle = '-.')\n",
        "    data_mean_pivot['2,5х18'].plot(linewidth = 2.5, marker='v', linestyle = ':', grid=True, figsize=(12, 4), fontsize=12)\n",
        "    ax.hlines(97, 0.1, 0.6, color = 'r', linewidth = 1.5, linestyle = '--')\n",
        "    ax.legend(['2,2х48', '2,2х96', '2,5х18'], shadow=True)\n",
        "    plt.title('Зависимость коэффициента заполняемости отверстий \\n диска от его окружной скорости', fontsize=12)\n",
        "    plt.xlabel('Скорость диска, м/с', fontsize=12)\n",
        "    plt.ylabel('Коэффициент заполняемости, %', fontsize=12)\n",
        "    plt.xlim(0.1, 0.6)\n",
        "\n",
        "\n",
        "\n",
        "\"\"\"\"\n",
        "ax.annotate('2,5х18', (0.33, 99.5),\n",
        "            xytext=(0.69, 0.96), textcoords='axes fraction',\n",
        "            arrowprops=dict(linewidth = 0, facecolor='black', shrink=0.03),\n",
        "            fontsize=22,\n",
        "            horizontalalignment='right', verticalalignment='top')\n",
        "ax.annotate('2,2х96', (0.4, 98),\n",
        "            xytext=(0.79, 0.9), textcoords='axes fraction',\n",
        "            arrowprops=dict(linewidth = 0, facecolor='black', shrink=0.03),\n",
        "            fontsize=22,\n",
        "            horizontalalignment='right', verticalalignment='top')\n",
        "ax.annotate('2,2х48', (0.3, 98),\n",
        "            xytext=(0.3, 0.4), textcoords='axes fraction',\n",
        "            arrowprops=dict(linewidth = 0, facecolor='black', shrink=0.03),\n",
        "            fontsize=22,\n",
        "            horizontalalignment='right', verticalalignment='top')\n",
        "            \"\"\"\n",
        "\n",
        "graph_data(data_mean)\n",
        "plt.show()"
      ]
    },
    {
      "cell_type": "code",
      "execution_count": null,
      "metadata": {
        "id": "5X5LiRHcFQxq",
        "outputId": "75b2d828-8cc1-44dc-d0c6-66324d775961"
      },
      "outputs": [
        {
          "data": {
            "image/png": "[encoded data removed]",
            "text/plain": [
              "<Figure size 864x288 with 1 Axes>"
            ]
          },
          "metadata": {
            "needs_background": "light"
          },
          "output_type": "display_data"
        }
      ],
      "source": [
        "\n",
        "\"\"\"\n",
        "(data_pelleted_mean\n",
        "                 .pivot_table(index=['disk_speed'], columns='disk', values='fill_factor', aggfunc='sum')\n",
        "                 .plot(grid=True, figsize=(12, 5))\n",
        ");\n",
        "plt.hlines(97, 0.1, 0.6, color = 'r', linestyle = '--')\n",
        "plt.title('Зависимость коэффициента заполняемости отверстий \\n диска от его окружной скорости')\n",
        "plt.xlabel('Скорость диска, м/с')\n",
        "plt.ylabel('Коэффициент заполняемости, %')\n",
        "plt.xlim(0.1, 0.6)\n",
        "plt.ylim(90, 104)\n",
        "plt.show()\n",
        "\"\"\"\n",
        "\n",
        "graph_data(data_pelleted_mean)\n",
        "plt.ylim(90, 104)\n",
        "plt.show()"
      ]
    },
    {
      "cell_type": "markdown",
      "metadata": {
        "id": "BDOKQ8FLFQxq"
      },
      "source": [
        "Анализ графика показывает, что график коэффициента заполнения при эксперименте имеет линейную тенденцию к снижению, при повышении окружной скорости диска."
      ]
    },
    {
      "cell_type": "markdown",
      "metadata": {
        "id": "DncJsmkjFQxq"
      },
      "source": [
        "# Расчёт количества семян, высеваемых диском"
      ]
    },
    {
      "cell_type": "markdown",
      "metadata": {
        "id": "Bfml0hxAFQxq"
      },
      "source": [
        "Создадим Data Frame с данными по типоразмерам диска, его окружной скорости, частоты вращения и массу семян, высеваемых за время опыта. Дополнительно добавим к таблице отдельный столбец с количеством семян в диске. Зная диаметр, на котором расположены отверстия на диске вычислим шаг ячеек. Затем рассчитаем, сколько семян высевается в секунду теоретически и практически. Применим расчёт коэффициента заполняемости с помощью данной методики."
      ]
    },
    {
      "cell_type": "code",
      "execution_count": null,
      "metadata": {
        "id": "jHj5oxbqFQxq",
        "outputId": "8c93625a-a193-4c89-c140-247df07bbe4e"
      },
      "outputs": [
        {
          "data": {
            "text/html": [
              "<div>\n",
              "<style scoped>\n",
              "    .dataframe tbody tr th:only-of-type {\n",
              "        vertical-align: middle;\n",
              "    }\n",
              "\n",
              "    .dataframe tbody tr th {\n",
              "        vertical-align: top;\n",
              "    }\n",
              "\n",
              "    .dataframe thead th {\n",
              "        text-align: right;\n",
              "    }\n",
              "</style>\n",
              "<table border=\"1\" class=\"dataframe\">\n",
              "  <thead>\n",
              "    <tr style=\"text-align: right;\">\n",
              "      <th></th>\n",
              "      <th>disk</th>\n",
              "      <th>frequency</th>\n",
              "      <th>disk_speed</th>\n",
              "      <th>mass_actual</th>\n",
              "      <th>cell_count</th>\n",
              "      <th>cell_step</th>\n",
              "      <th>seed_sec_calc</th>\n",
              "      <th>seed_sec_actual</th>\n",
              "      <th>fill_factor_cell</th>\n",
              "    </tr>\n",
              "  </thead>\n",
              "  <tbody>\n",
              "    <tr>\n",
              "      <th>0</th>\n",
              "      <td>2,2х96</td>\n",
              "      <td>10</td>\n",
              "      <td>0.1</td>\n",
              "      <td>18.873333</td>\n",
              "      <td>96</td>\n",
              "      <td>0.006218</td>\n",
              "      <td>16.083026</td>\n",
              "      <td>16.494785</td>\n",
              "      <td>102.560211</td>\n",
              "    </tr>\n",
              "    <tr>\n",
              "      <th>1</th>\n",
              "      <td>2,2х96</td>\n",
              "      <td>20</td>\n",
              "      <td>0.2</td>\n",
              "      <td>37.286667</td>\n",
              "      <td>96</td>\n",
              "      <td>0.006218</td>\n",
              "      <td>32.166052</td>\n",
              "      <td>32.587543</td>\n",
              "      <td>101.310361</td>\n",
              "    </tr>\n",
              "    <tr>\n",
              "      <th>2</th>\n",
              "      <td>2,2х96</td>\n",
              "      <td>30</td>\n",
              "      <td>0.3</td>\n",
              "      <td>54.916667</td>\n",
              "      <td>96</td>\n",
              "      <td>0.006218</td>\n",
              "      <td>48.249077</td>\n",
              "      <td>47.995688</td>\n",
              "      <td>99.474831</td>\n",
              "    </tr>\n",
              "    <tr>\n",
              "      <th>3</th>\n",
              "      <td>2,2х96</td>\n",
              "      <td>40</td>\n",
              "      <td>0.4</td>\n",
              "      <td>72.086667</td>\n",
              "      <td>96</td>\n",
              "      <td>0.006218</td>\n",
              "      <td>64.332103</td>\n",
              "      <td>63.001806</td>\n",
              "      <td>97.932141</td>\n",
              "    </tr>\n",
              "    <tr>\n",
              "      <th>4</th>\n",
              "      <td>2,2х96</td>\n",
              "      <td>50</td>\n",
              "      <td>0.5</td>\n",
              "      <td>85.800000</td>\n",
              "      <td>96</td>\n",
              "      <td>0.006218</td>\n",
              "      <td>80.415129</td>\n",
              "      <td>74.986890</td>\n",
              "      <td>93.249730</td>\n",
              "    </tr>\n",
              "  </tbody>\n",
              "</table>\n",
              "</div>"
            ],
            "text/plain": [
              "     disk  frequency  disk_speed  mass_actual  cell_count  cell_step  \\\n",
              "0  2,2х96         10         0.1    18.873333          96   0.006218   \n",
              "1  2,2х96         20         0.2    37.286667          96   0.006218   \n",
              "2  2,2х96         30         0.3    54.916667          96   0.006218   \n",
              "3  2,2х96         40         0.4    72.086667          96   0.006218   \n",
              "4  2,2х96         50         0.5    85.800000          96   0.006218   \n",
              "\n",
              "   seed_sec_calc  seed_sec_actual  fill_factor_cell  \n",
              "0      16.083026        16.494785        102.560211  \n",
              "1      32.166052        32.587543        101.310361  \n",
              "2      48.249077        47.995688         99.474831  \n",
              "3      64.332103        63.001806         97.932141  \n",
              "4      80.415129        74.986890         93.249730  "
            ]
          },
          "execution_count": 14,
          "metadata": {},
          "output_type": "execute_result"
        }
      ],
      "source": [
        "import math\n",
        "def cell_disc(motion_disk):\n",
        "    mass = []\n",
        "    for disc in motion_disk['disk']:\n",
        "        if disc == '2,2х96': num = 96\n",
        "        if disc == '2,2х48': num = 48\n",
        "        if disc == '2,5х18': num = 18\n",
        "        mass.append(num)\n",
        "    return mass\n",
        "d_disk = 0.19 #диаметр диска\n",
        "mass_thousand = 19.07 #масса тысячи семян\n",
        "time_exp = 60 #время эксперимента, с\n",
        "motion_disk = pd.DataFrame(data_mean.loc[:, ['disk', 'frequency', 'disk_speed', 'mass_actual']]).reset_index(drop=True)\n",
        "motion_disk['cell_count'] = cell_disc(motion_disk) #количество отверстий в диске\n",
        "motion_disk['cell_step'] = math.pi*d_disk/motion_disk['cell_count'] #шаг ячеек\n",
        "motion_disk['seed_sec_calc'] = motion_disk['disk_speed']/motion_disk['cell_step'] #сколько семян падает в секунду теоретически\n",
        "motion_disk['seed_sec_actual'] = motion_disk['mass_actual']*1000/mass_thousand/time_exp #сколько семян падает в секунду практически\n",
        "motion_disk['fill_factor_cell'] = motion_disk['seed_sec_actual']/motion_disk['seed_sec_calc']*100\n",
        "motion_disk.head()"
      ]
    },
    {
      "cell_type": "markdown",
      "metadata": {
        "id": "MDhTE_DNFQxr"
      },
      "source": [
        "Теперь представим визуализацию наших расчётов в данной таблице в виде графиков."
      ]
    },
    {
      "cell_type": "code",
      "execution_count": null,
      "metadata": {
        "id": "ED_a1ALyFQxr",
        "outputId": "9e484b4e-1b2f-4346-91d7-751f72625cc6"
      },
      "outputs": [
        {
          "data": {
            "text/plain": [
              "(0.1, 0.6)"
            ]
          },
          "execution_count": 75,
          "metadata": {},
          "output_type": "execute_result"
        },
        {
          "data": {
            "image/png": "[encoded data removed]",
            "text/plain": [
              "<Figure size 864x288 with 1 Axes>"
            ]
          },
          "metadata": {
            "needs_background": "light"
          },
          "output_type": "display_data"
        }
      ],
      "source": [
        "#график зависимости количества высеваемых семян диском за секунду теоретически от скорости диска\n",
        "\"\"\"\"\n",
        "(motion_disk\n",
        "                 .pivot_table(index=['disk_speed'], columns='disk', values='seed_sec_calc', aggfunc='sum')\n",
        "                 .plot(grid=True, figsize=(12, 5))\n",
        ");\n",
        "\"\"\"\n",
        "#fig, ax = plt.subplots()\n",
        "motion_disk_pivot = motion_disk.pivot_table(index=['disk_speed'], columns='disk', values='seed_sec_calc', aggfunc='sum')\n",
        "motion_disk_pivot['2,2х48'].plot(linewidth = 2, marker='o', linestyle = '-')\n",
        "motion_disk_pivot['2,2х96'].plot(linewidth = 2.5, marker='^', linestyle = '-.')\n",
        "motion_disk_pivot['2,5х18'].plot(linewidth = 2.5, marker='v', linestyle = ':', grid=True, figsize=(12, 4), fontsize=12)\n",
        "\n",
        "plt.legend(['2,2х48', '2,2х96', '2,5х18'], shadow=True)\n",
        "\n",
        "plt.xlabel('Скорость диска, м/с', fontsize=12)\n",
        "plt.ylabel('Количество семян, шт', fontsize=12)\n",
        "plt.xlim(0.1, 0.6)\n",
        "#graph_data(motion_disk)\n",
        "#plt.xlabel('Скорость диска, м/с')\n",
        "#plt.ylabel('Количество семян, шт')\n",
        "#plt.show()"
      ]
    },
    {
      "cell_type": "code",
      "execution_count": null,
      "metadata": {
        "id": "pSHXqjY2FQxr",
        "outputId": "cfe3eefa-d496-402b-bc25-19fd1e9a61a9"
      },
      "outputs": [
        {
          "data": {
            "image/png": "[encoded data removed]",
            "text/plain": [
              "<Figure size 864x360 with 1 Axes>"
            ]
          },
          "metadata": {
            "needs_background": "light"
          },
          "output_type": "display_data"
        }
      ],
      "source": [
        "#график зависимости количества высеваемых семян диском за секунду экспериментально от скорости диска\n",
        "(motion_disk\n",
        "                 .pivot_table(index=['disk_speed'], columns='disk', values='seed_sec_actual', aggfunc='sum')\n",
        "                 .plot(grid=True, figsize=(12, 5))\n",
        ");\n",
        "plt.xlabel('Скорость диска, м/с')\n",
        "plt.ylabel('Количество семян, шт')\n",
        "plt.show()"
      ]
    },
    {
      "cell_type": "code",
      "execution_count": null,
      "metadata": {
        "id": "mXxWdEcuFQxs",
        "outputId": "7d5f759d-881c-4856-a915-2e10f6e00ea5"
      },
      "outputs": [
        {
          "data": {
            "image/png": "[encoded data removed]",
            "text/plain": [
              "<Figure size 864x360 with 1 Axes>"
            ]
          },
          "metadata": {
            "needs_background": "light"
          },
          "output_type": "display_data"
        }
      ],
      "source": [
        "#график зависимости коэффициента заполняемости от скорости диска\n",
        "(motion_disk\n",
        "                 .pivot_table(index=['disk_speed'], columns='disk', values='fill_factor_cell', aggfunc='sum')\n",
        "                 .plot(grid=True, figsize=(12, 5))\n",
        ");\n",
        "plt.hlines(97, 0.1, 0.6, color = 'r', linestyle = '--')\n",
        "plt.xlabel('Скорость диска, м/с')\n",
        "plt.ylabel('Коэффициент заполняемости, %')\n",
        "plt.show()"
      ]
    },
    {
      "cell_type": "markdown",
      "metadata": {
        "id": "p_xJFEjPFQxs"
      },
      "source": [
        "Анализ полученных графиков показывает, что зависимость количества высеваемых семян диском за секунду от скорости диска растёт линейно на каждом из типоразмеров диска. Данная гипотеза подтверждается экспериментально на втором графике. Коэффициент заполняемости, рассчитанный по количеству выпадаемых семян коррелирует с коэффициентом заполняемости, рассчитанным по массе, что подтверждает истинность данных рассчётов."
      ]
    },
    {
      "cell_type": "markdown",
      "metadata": {
        "id": "zBsKSXQhFQxs"
      },
      "source": [
        "По полученным лабораторным данным можно сделать вывод, что с целью посева семян сахарной свёклы на семена подходит высевающий диск 2,2х48, т.к. при скорости вращения диска в пределах 0,25...0,35 м/с, соответствующей скорости сеялки 5...8 км/ч, соблюдается коэффициент заполняемости выше 97% и теоретическая норма высева находится в пределах 20...30 шт./м."
      ]
    },
    {
      "cell_type": "markdown",
      "metadata": {
        "id": "TU6mQXn1FQxt"
      },
      "source": [
        "# Аппроксимация данных"
      ]
    },
    {
      "cell_type": "markdown",
      "metadata": {
        "id": "D7t68Y6tFQxt"
      },
      "source": [
        "Зависимость коэффициента заполняемости от скорости диска, судя по анализу рисунка, имеет некую тенденцию. Для подтверждения данной гипотезы проведём апроксимирование экспериментальных данных, полученных при высеве некалиброванных семян сахарной свёклы."
      ]
    },
    {
      "cell_type": "markdown",
      "metadata": {
        "id": "yKLPCbgKFQxt"
      },
      "source": [
        "Импортируем необходимые нам для визуализации библиотеки."
      ]
    },
    {
      "cell_type": "code",
      "execution_count": null,
      "metadata": {
        "id": "OoSN7YFaFQxt"
      },
      "outputs": [],
      "source": [
        "import numpy as np\n",
        "from scipy.optimize import curve_fit"
      ]
    },
    {
      "cell_type": "code",
      "execution_count": null,
      "metadata": {
        "id": "LGhOLjkxFQxu"
      },
      "outputs": [],
      "source": [
        "def approx(x_data, y_data):      #функция аппроксимации\n",
        "    #размеры и свойства графика\n",
        "    plt.figure(figsize=(12,5))\n",
        "    plt.grid()\n",
        "\n",
        "    # необработанные данные\n",
        "    #x_data = data['disk_speed']\n",
        "    #y_data = data['fill_factor']\n",
        "    plt.plot(x_data, y_data, 'o', mec='none')\n",
        "\n",
        "    #подгонка и наложение полинома 2-го порядка\n",
        "    params_data = np.polyfit(x_data, y_data, 2)\n",
        "    xp_data = np.linspace(x_data.min(), 2, 30)\n",
        "    yp_data = np.polyval(params_data, xp_data)\n",
        "    plt.plot(xp_data, yp_data, color = 'k', linewidth = 2,)\n",
        "\n",
        "    #построим линию в диапазоне ошибок\n",
        "    sig_data = np.std(y_data - np.polyval(params_data, x_data))\n",
        "    plt.fill_between(xp_data, yp_data - sig_data,\n",
        "                     yp_data + sig_data, color='g', alpha=0.1)\n",
        "\n",
        "    plt.xlabel(\"Скорость высевающего диска, м/с\")\n",
        "    plt.ylabel(\"Коэффициент заполняемости, %\")\n",
        "    plt.hlines(97, xp_data.min(), xp_data.max(), color = 'r', linestyle = '--')\n",
        "\n",
        "    plt.xlim(0.09, 0.8)\n",
        "    plt.ylim(85, 105)\n",
        "    plt.show()\n",
        "    return xp_data, yp_data, sig_data"
      ]
    },
    {
      "cell_type": "code",
      "execution_count": null,
      "metadata": {
        "id": "RGHDsei6FQxu"
      },
      "outputs": [],
      "source": [
        "def polinomer(xp_data, yp_data, sig_data):    #построение полинома 2-го порядка\n",
        "    yn_data = yp_data + yp_data*0.0001\n",
        "\n",
        "    def func(x, a, b, c):\n",
        "        return a*x**2 + b*x + c\n",
        "\n",
        "    popt, pcov = curve_fit(func, xp_data, yn_data, sigma = 0.0001*yp_data)\n",
        "\n",
        "    fig = plt.figure(figsize=(12,5))\n",
        "    ax = fig.add_subplot(111)\n",
        "    ax.errorbar(xp_data, yn_data, yerr = sig_data, color = 'k', fmt = 'D')\n",
        "    ax.plot(xp_data, np.polyval(popt, xp_data), color = 'b', linestyle = '-')\n",
        "    ax.text(0.2, 95, r\"a = {0:.3f} +/- {1:.3f}\".format(popt[0], pcov[0,0]**0.5))\n",
        "    ax.text(0.2, 93, r\"b = {0:.3f} +/- {1:.3f}\".format(popt[1], pcov[1,1]**0.5))\n",
        "    ax.text(0.2, 91, r\"c = {0:.3f} +/- {1:.3f}\".format(popt[2], pcov[2,2]**0.5))\n",
        "    ax.grid()\n",
        "    plt.xlabel(\"Скорость высевающего диска, м/с\")\n",
        "    plt.ylabel(\"Коэффициент заполняемости, %\")\n",
        "    plt.hlines(97, xp_data.min(), xp_data.max(), color = 'r', linestyle = '--')\n",
        "    plt.xlim(0.09, 0.8)\n",
        "    plt.ylim(85, 105)\n",
        "    plt.show()"
      ]
    },
    {
      "cell_type": "code",
      "execution_count": null,
      "metadata": {
        "id": "PMTuOtMjFQxu",
        "outputId": "663e7bdf-5e3f-4039-c1ec-70112c141154"
      },
      "outputs": [
        {
          "data": {
            "image/png": "[encoded data removed]",
            "text/plain": [
              "<Figure size 864x360 with 1 Axes>"
            ]
          },
          "metadata": {
            "needs_background": "light"
          },
          "output_type": "display_data"
        }
      ],
      "source": [
        "xp_data, yp_data, sig_data = approx(data['disk_speed'], data['fill_factor'])"
      ]
    },
    {
      "cell_type": "code",
      "execution_count": null,
      "metadata": {
        "id": "EqyqXUhnFQx1",
        "outputId": "26bf266d-159e-4277-d59e-2774d1292b04"
      },
      "outputs": [
        {
          "data": {
            "image/png": "[encoded data removed]",
            "text/plain": [
              "<Figure size 864x360 with 1 Axes>"
            ]
          },
          "metadata": {
            "needs_background": "light"
          },
          "output_type": "display_data"
        }
      ],
      "source": [
        "polinomer(xp_data, yp_data, sig_data)"
      ]
    },
    {
      "cell_type": "markdown",
      "metadata": {
        "id": "QPDdIzTpFQx1"
      },
      "source": [
        "Аппроксимация данных, полученных при эксперименте с высевом дражированных семян."
      ]
    },
    {
      "cell_type": "code",
      "execution_count": null,
      "metadata": {
        "id": "9Am5im8nFQx1",
        "outputId": "9eb035cc-95a8-4cd3-d30c-067c653f0346"
      },
      "outputs": [
        {
          "data": {
            "image/png": "[encoded data removed]",
            "text/plain": [
              "<Figure size 864x360 with 1 Axes>"
            ]
          },
          "metadata": {
            "needs_background": "light"
          },
          "output_type": "display_data"
        }
      ],
      "source": [
        "xp_pelleted, yp_pelleted, sig_pelleted = approx(data_pelleted['disk_speed'], data_pelleted['fill_factor'])"
      ]
    },
    {
      "cell_type": "code",
      "execution_count": null,
      "metadata": {
        "id": "SGwAupnvFQx2",
        "outputId": "4765a605-985d-4a75-8d5d-d10dbe667b86"
      },
      "outputs": [
        {
          "data": {
            "image/png": "[encoded data removed]",
            "text/plain": [
              "<Figure size 864x360 with 1 Axes>"
            ]
          },
          "metadata": {
            "needs_background": "light"
          },
          "output_type": "display_data"
        }
      ],
      "source": [
        "polinomer(xp_pelleted, yp_pelleted, sig_pelleted)"
      ]
    },
    {
      "cell_type": "markdown",
      "metadata": {
        "id": "KiFRnYDTFQx2"
      },
      "source": [
        "После аппроксимации экспериментальных данных можно сделать вывод, что зависимость коэффициента заполняемости от скорости высевающего аппарата является полиномом 2-го порядка. Коэффициенты для полиномы представлены на графиках функции polinomer()"
      ]
    },
    {
      "cell_type": "code",
      "execution_count": null,
      "metadata": {
        "id": "thcx8_pYFQx2"
      },
      "outputs": [],
      "source": []
    }
  ],
  "metadata": {
    "kernelspec": {
      "display_name": "Python 3",
      "language": "python",
      "name": "python3"
    },
    "language_info": {
      "codemirror_mode": {
        "name": "ipython",
        "version": 3
      },
      "file_extension": ".py",
      "mimetype": "text/x-python",
      "name": "python",
      "nbconvert_exporter": "python",
      "pygments_lexer": "ipython3",
      "version": "3.8.3"
    },
    "colab": {
      "provenance": []
    }
  },
  "nbformat": 4,
  "nbformat_minor": 0
}