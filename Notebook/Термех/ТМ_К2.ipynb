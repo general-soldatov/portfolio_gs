{
  "nbformat": 4,
  "nbformat_minor": 0,
  "metadata": {
    "colab": {
      "provenance": [],
      "authorship_tag": "ABX9TyMUppO+CnDxgmI2Ma/D5gcl"
    },
    "kernelspec": {
      "name": "python3",
      "display_name": "Python 3"
    },
    "language_info": {
      "name": "python"
    }
  },
  "cells": [
    {
      "cell_type": "markdown",
      "source": [
        "# Кинематика К2\n",
        "В этом проекте рассмотрено решение задачи К2 по передаточным отношениям в среде Python."
      ],
      "metadata": {
        "id": "iKO-BvQNYFVm"
      }
    },
    {
      "cell_type": "code",
      "execution_count": 1,
      "metadata": {
        "id": "blzUDeFcXjs3"
      },
      "outputs": [],
      "source": [
        "import matplotlib.pyplot as plt\n",
        "from numpy import concatenate\n",
        "\n",
        "def derivative(f,a,method='central',h=0.01):\n",
        "    if method == 'central':\n",
        "        return (f(a + h) - f(a - h))/(2*h)\n",
        "    elif method == 'forward':\n",
        "        return (f(a + h) - f(a))/h\n",
        "    elif method == 'backward':\n",
        "        return (f(a) - f(a - h))/h\n",
        "    else:\n",
        "        print(\"Method must be 'central', 'forward' or 'backward'.\")"
      ]
    },
    {
      "cell_type": "markdown",
      "source": [
        "Функция исходных данных по закону движения элемента системы."
      ],
      "metadata": {
        "id": "Jaull8rk_3sz"
      }
    },
    {
      "cell_type": "code",
      "source": [
        "def caseDriver(var, ts):\n",
        "      driver = [\n",
        "        lambda t : 3 * (t**2 - 5 * t),\n",
        "        lambda t : 9 * t - 4 * t**2,\n",
        "        lambda t : 7 * t - 4 * t**2,\n",
        "        lambda t : 3 * (7 * t - 2 * t**2),\n",
        "        lambda t : 3 * t**2 - 7 * t,\n",
        "        lambda t : 11 * t - 6 * t**2,\n",
        "        lambda t : 2 * (t**2 - 4),\n",
        "        lambda t : 4 * t - t**2,\n",
        "        lambda t : 2 * (t**2 - 3 * t),\n",
        "        lambda t : 2 * t**2 - 9\n",
        "      ]\n",
        "\n",
        "      start = (2, 3, 2, 4, 5, 1, 5, 3, 2, 1)\n",
        "\n",
        "      if var in (0, 3, 4, 7, 8, 9):\n",
        "          speed = derivative(driver[var], ts)\n",
        "          boost = derivative(lambda t: derivative(driver[var], t), ts)\n",
        "      elif var in (1, 2, 5, 6):\n",
        "          speed = driver[var](ts)\n",
        "          boost = derivative(driver[var], ts)\n",
        "\n",
        "      speedList = [\n",
        "          ['4', '1'], ['4', '1'], ['5', '3'],\n",
        "          ['B', 'C'], ['A', 'C'], ['B', '5'],\n",
        "          ['A', 'C'], ['5', '1'],\n",
        "          ['A', '3'], ['4', '2']\n",
        "      ]\n",
        "\n",
        "      boostList = [\n",
        "          ['1', 'B', '5'],\n",
        "          ['1', 'C', '5'],\n",
        "          ['1', 'A', '4'],\n",
        "          ['2', 'A', '5'],\n",
        "          ['3', 'B', '4'],\n",
        "          ['2', 'C', '4'],\n",
        "          ['3', 'B', '4'],\n",
        "          ['1', 'B', '4'],\n",
        "          ['3', 'B', '5'],\n",
        "          ['2', 'B', '5']\n",
        "      ]\n",
        "\n",
        "      return start[var], speed, boost, speedList[var], boostList[var]"
      ],
      "metadata": {
        "id": "Sxtcn3vxYmuB"
      },
      "execution_count": 2,
      "outputs": []
    },
    {
      "cell_type": "markdown",
      "source": [
        "Функция обработки передаточных отношений, заданных схемой."
      ],
      "metadata": {
        "id": "a8TKp9CfABYM"
      }
    },
    {
      "cell_type": "code",
      "source": [
        "r1, R1 = 2, 4\n",
        "r2, R2 = 6, 8\n",
        "r3, R3 = 12, 14\n",
        "\n",
        "def pictDriver(var):\n",
        "    global r1, r2, r3, R1, R2, R3\n",
        "    start, speed, boost, speedList, boostList = caseDriver(var[1], ts)\n",
        "\n",
        "    match var[0]:\n",
        "        case 0:\n",
        "          pict = {\n",
        "              '1' : [0, 1, -r2/r3*R3/R1, -R3/R1, -1/r1, -1/R2*r2/r3*R3/R1],\n",
        "              '2' : [0, -R1/R3*r3/r2, 1, r3/r2, 1/r1*R1/R3*r3/r2, 1/R2],\n",
        "              '3' : [0, -R1/R3, r2/r3, 1, 1/r1*R1/R3, 1/R2*r2/r3],\n",
        "              '4' : [0, -r1, r2/r3*R3/R1*r1, R3/R1*r1, 1, 1/R2*r2/r3*R3/R1*r1],\n",
        "              '5' : [0, -R1/R3*r3/r2*R2, R2, r3/r2*R2, 1/r1*R1/R3*r3/r2*R2, 1]\n",
        "\n",
        "          }\n",
        "\n",
        "          pictW = {\n",
        "              'A' : [pict['1'][start], R1],\n",
        "              'B' : [pict['3'][start], r3],\n",
        "              'C' : [pict['2'][start], R2]\n",
        "          }\n",
        "\n",
        "        case 1:\n",
        "          pict = {\n",
        "              '1' : [0, 1, -R2/R1, -r3/r2*R2/R1, -1/r1, -1/R3*r3/r2*R2/r1],\n",
        "              '2' : [0, -R1/R2, 1, r3/r2, 1/r1*R1/R2, 1/R3*r3/r2],\n",
        "              '3' : [0, -R1/R2*r2/r3, r2/r3, 1, 1/r1*R1/R2*r2/r3],\n",
        "              '4' : [0, -r1, R2/R1*r1, r3/r2*R2/R1*r1, 1, 1/R3*r3/r2*R2/R1*r1],\n",
        "              '5' : [0, -R1/R2*r2/r3*R3, r2/r3*R3, R3, 1/r1*R1/R2*r2/r3*R3, 1]\n",
        "\n",
        "          }\n",
        "\n",
        "          pictW = {\n",
        "              'A' : [pict['1'][start], R1],\n",
        "              'B' : [pict['2'][start], r2],\n",
        "              'C' : [pict['3'][start], R3]\n",
        "          }\n",
        "\n",
        "        case 2:\n",
        "          pict = {\n",
        "              '1' : [0, 1, -R2/r3*R3/R1, -R3/R1, 1/r2*R2/r3*R3/R1, 1/r1],\n",
        "              '2' : [0, -R1/R3*r3/R2, 1, r3/R2, -1/r2, -1/r1*R1/R3*r3/R2],\n",
        "              '3' : [0, -R1/R3, R2/r3, 1, -1/r2*R2/r3, -1/r1*R1/R3],\n",
        "              '4' : [0, R1/R3*r3/R2*r2, -r2, -r3/R2*r2, 1, 1/r1*R1/R3*r3/R2*r2],\n",
        "              '5' : [0, r1, -R2/r3*R3/R1*r1, -R3/R1*r1, 1/r2*R2/r3*R3/R1*r1, 1]\n",
        "\n",
        "          }\n",
        "\n",
        "          pictW = {\n",
        "              'A' : [pict['1'][start], r1],\n",
        "              'B' : [pict['2'][start], R2],\n",
        "              'C' : [pict['3'][start], R3]\n",
        "          }\n",
        "\n",
        "        case 3:\n",
        "          pict = {\n",
        "              '1' : [0, 1, R2/R1, -R3/r1, -1/r2*R2/R1, -1/r3*R3/r1],\n",
        "              '2' : [0, R1/R2, 1, -R3/r1*R1/R2, -1/r2, -1/r3*R3/r1*R1/R2],\n",
        "              '3' : [0, -r1/R3, -R2/R1*r1/R3, 1, 1/r2*R2/R1*r1/R3, 1/r3],\n",
        "              '4' : [0, -R1/R2*r2, -r2, R3/r1*R1/R2*r2, 1, 1/r3*R3/r1*R1/R2*r2],\n",
        "              '5' : [0, -r1/R3*r3, -R2/R1*r1/R3*r3, r3, 1/r2*R2/R1*r1/R3*r3, 1]\n",
        "\n",
        "          }\n",
        "\n",
        "          pictW = {\n",
        "              'A' : [pict['1'][start], r1],\n",
        "              'B' : [pict['2'][start], R2],\n",
        "              'C' : [pict['3'][start], r3]\n",
        "          }\n",
        "\n",
        "        case 4:\n",
        "          pict = {\n",
        "              '1' : [0, 1, r2/R1, -R3/r1, 1/r3*R3/r1, 1/R2*r2/R1],\n",
        "              '2' : [0, R1/r2, 1, -R3/r1*R1/r2, 1/r3*R3/r1*R1/r2, 1/r2],\n",
        "              '3' : [0, -r1/R3, -r2/R1*r1/R3, 1, -1/r3, -1/R2*r2/R1*r1/R3],\n",
        "              '4' : [0, r1/R3*r3, r2/R1*r1/R3*r3, -r3, 1/R2*r2/R1*r1/R3*r3],\n",
        "              '5' : [0, R1/r2*R2, R2, -R3/r1*R1/r2*R2, 1/r3*R3/r1*R1/r2*R2, 1]\n",
        "\n",
        "          }\n",
        "\n",
        "          pictW = {\n",
        "              'A' : [pict['1'][start], R1],\n",
        "              'B' : [pict['2'][start], R2],\n",
        "              'C' : [pict['3'][start], R3]\n",
        "          }\n",
        "\n",
        "        case 5:\n",
        "          pict = {\n",
        "              '1' : [0, 1, r2/R1, -R3/R2*r2/R1, 1/r3*R3/R2*r2/R1, 1/r1],\n",
        "              '2' : [0, R1/r2, 1, -R3/R2, 1/r3*R3/R2, 1/r1*R1/r2],\n",
        "              '3' : [0, -R1/r2*R2/R3, -R2/R3, 1, -1/r3, -1/r1*R1/r2*R2/R3],\n",
        "              '4' : [0, R1/r2*R2/R3*r3, R2/R3*r3, -r3, 1, 1/r1*R1/r2*R2/R3*r3],\n",
        "              '5' : [0, r1, r2/R1*r1, -R3/R2*r2/R1*r1, 1/r3*R3/R2*r2/R1*r1, 1]\n",
        "\n",
        "          }\n",
        "\n",
        "          pictW = {\n",
        "              'A' : [pict['1'][start], r1],\n",
        "              'B' : [pict['2'][start], r2],\n",
        "              'C' : [pict['3'][start], R3]\n",
        "          }\n",
        "\n",
        "        case 6:\n",
        "          pict = {\n",
        "              '1' : [0, 1, -R2/R3*r3/r1, r3/r1, -1/R1, -1/r2*R2/R3*r3/r1],\n",
        "              '2' : [0, -r1/r3*R3/R2, 1, -R3/R2, 1/R1*r1/r3*R3/R2, 1/r2],\n",
        "              '3' : [0, r1/r3, -R2/R3, 1, -1/R1*r1/r3, -1/r2*R2/R3],\n",
        "              '4' : [0, -R1, R2/R3*r3/r1*R1, -r3/r1*R1, 1, 1/r2*R2/R3*r3/r1*R1],\n",
        "              '5' : [0, -r1/r3*R3/R2*r2, r2, -R3/R2*r2, 1/R1*r1/r3*R3/R2*r1, 1]\n",
        "\n",
        "          }\n",
        "\n",
        "          pictW = {\n",
        "              'A' : [pict['1'][start], r1],\n",
        "              'B' : [pict['3'][start], R3],\n",
        "              'C' : [pict['2'][start], r2]\n",
        "          }\n",
        "\n",
        "        case 7:\n",
        "          pict = {\n",
        "              '1' : [0, 1, -R2/r1, -R3/r2*R2/r1, -1/R1, -1/r3*R3/r2*R2/r1],\n",
        "              '2' : [0, -r1/R2, 1, R3/r2, -1/R1*r1/R2, 1/r3*R3/r2],\n",
        "              '3' : [0, -r1/R2*r2/R3, r2/R3, 1, 1/R1*r1/R2*r2/R3, 1/r3],\n",
        "              '4' : [0, -R1, R2/r1*R1, R3/r2*R2/r1*R1, 1, 1/r3*R3/r2*R2/r1*R1],\n",
        "              '5' : [0, -r1/R2*r2/R3*r3, r2/R3*r3, r3, 1/R1*r1/R2*r2/R3*r3, 1]\n",
        "\n",
        "          }\n",
        "\n",
        "          pictW = {\n",
        "              'A' : [pict['1'][start], R1],\n",
        "              'B' : [pict['2'][start], R2],\n",
        "              'C' : [pict['3'][start], R3]\n",
        "          }\n",
        "\n",
        "        case 8:\n",
        "          pict = {\n",
        "              '1' : [0, 1, r2/r1, -R3/R1, -1/R2*r2/r1, -1/r3*R3/R1],\n",
        "              '2' : [0, r1/r2, 1, -R3/R1*r1/r2, -1/R2, -1/r3*R3/R1*r1/r2],\n",
        "              '3' : [0, -R1/R3, -r2/r1*R1/R3, 1, 1/R2*r2/r1*R1/R3, 1/r3],\n",
        "              '4' : [0, -r1/r2*R2, -R2, R3/R1*r1/r2*R2, 1, 1/r3*R3/R1*r1/r2*R2],\n",
        "              '5' : [0, -R1/R3*r3, -r2/r1*R1/R3*r3, r3, 1/R2*r2/r1*R1/R3*r3, 1]\n",
        "\n",
        "          }\n",
        "\n",
        "          pictW = {\n",
        "              'A' : [pict['1'][start], R1],\n",
        "              'B' : [pict['2'][start], r2],\n",
        "              'C' : [pict['3'][start], r3]\n",
        "          }\n",
        "\n",
        "        case 9:\n",
        "          pict = {\n",
        "              '1' : [0, 1, -R2/R1, -R3/r2*R2/R1, -1/r1, -1/r3*R3/r2*R2/R1],\n",
        "              '2' : [0, -R1/R2, 1, R3/r2, 1/r1*R1/R2, 1/r3*R3/r2],\n",
        "              '3' : [0, -R1/R2*r2/R3, r2/R3, 1, 1/r1*R1/R2*r2/R3, 1/r3],\n",
        "              '4' : [0, -r1, R2/R1*r1, R3/r2*R2/R1*r1, 1, 1/r3*R3/r2*R2/R1*r1],\n",
        "              '5' : [0, -R1/R2*r2/R3*r3, r2/R3*r3, r3, 1/r1*R1/R2*r2/R3*r3, 1]\n",
        "\n",
        "          }\n",
        "\n",
        "          pictW = {\n",
        "              'A' : [pict['3'][start], R3],\n",
        "              'B' : [pict['1'][start], R1],\n",
        "              'C' : [pict['2'][start], r2]\n",
        "          }\n",
        "\n",
        "    speedPrint = []\n",
        "    boostPrint = []\n",
        "\n",
        "    signSpeed = lambda l: 'ω' if l in ('1', '2', '3') else 'v'\n",
        "    signBoost = lambda l: 'ε' if l in ('1', '2', '3') else 'a'\n",
        "\n",
        "    for sp in speedList:\n",
        "      if sp in ('A', 'B', 'C'):\n",
        "        speedTire = speed * pictW[sp][0] * pictW[sp][1]\n",
        "      else:\n",
        "        speedTire = speed * pict[sp][start]\n",
        "\n",
        "      speedPrint.append(f'{signSpeed(sp)}_{sp} = {round(speedTire, 2)}')\n",
        "\n",
        "    for bo in boostList:\n",
        "      if bo in ('A', 'B', 'C'):\n",
        "        boostTire = (speed * pictW[bo][0])**2 * abs(pictW[bo][1])\n",
        "        boostPrint.append(f'{signBoost(bo)}_{bo}_n = {round(boostTire, 2)}')\n",
        "        boostTire = boost * abs(pictW[bo][0])\n",
        "        boostPrint.append(f'{signBoost(bo)}_{bo}_𝜏 = {round(boostTire, 2)}')\n",
        "      else:\n",
        "        boostTire = boost * abs(pict[bo][start])\n",
        "        boostPrint.append(f'{signBoost(bo)}_{bo} = {round(boostTire, 2)}')\n",
        "\n",
        "    return speedPrint, boostPrint"
      ],
      "metadata": {
        "id": "w_vmNlup1Y3a"
      },
      "execution_count": 3,
      "outputs": []
    },
    {
      "cell_type": "markdown",
      "source": [
        "Выбор варианта и решение задачи."
      ],
      "metadata": {
        "id": "s5Y0JN79AOqI"
      }
    },
    {
      "cell_type": "code",
      "source": [
        "ts = 1\n",
        "var = (1, 1)\n",
        "print(caseDriver(var[1], ts))\n",
        "print(pictDriver(var))"
      ],
      "metadata": {
        "colab": {
          "base_uri": "https://localhost:8080/"
        },
        "id": "Wn_PGeMgYUYY",
        "outputId": "d56e0f56-3f56-446c-c0f4-9817666dde19"
      },
      "execution_count": 4,
      "outputs": [
        {
          "output_type": "stream",
          "name": "stdout",
          "text": [
            "(3, 5, 0.9999999999999787, ['4', '1'], ['1', 'C', '5'])\n",
            "(['v_4 = 40.0', 'ω_1 = -20.0'], ['ε_1 = 4.0', 'a_C_n = 350', 'a_C_𝜏 = 1.0', 'a_5 = 14.0'])\n"
          ]
        }
      ]
    },
    {
      "cell_type": "markdown",
      "source": [
        "Вывод ответа."
      ],
      "metadata": {
        "id": "N-o4ekQiAezA"
      }
    },
    {
      "cell_type": "code",
      "source": [
        "vs = ', '.join({f'{vs} см/с' for vs in pictDriver(var)[0]})\n",
        "bs = ', '.join(f'{vs} см/с^2' for vs in pictDriver(var)[1])\n",
        "fs = f'Значения скоростей: \\n{vs}.\\nЗначения ускорений \\n{bs}'\n",
        "\n",
        "print(fs)"
      ],
      "metadata": {
        "colab": {
          "base_uri": "https://localhost:8080/"
        },
        "id": "RF-JDpG0SZqB",
        "outputId": "a91c10c2-98da-4b14-93a2-0e9a66b5c667"
      },
      "execution_count": 5,
      "outputs": [
        {
          "output_type": "stream",
          "name": "stdout",
          "text": [
            "Значения скоростей: \n",
            "v_4 = 40.0 см/с, ω_1 = -20.0 см/с.\n",
            "Значения ускорений \n",
            "ε_1 = 4.0 см/с^2, a_C_n = 350 см/с^2, a_C_𝜏 = 1.0 см/с^2, a_5 = 14.0 см/с^2\n"
          ]
        }
      ]
    },
    {
      "cell_type": "markdown",
      "source": [
        "Функция вывода рисунка."
      ],
      "metadata": {
        "id": "W1dJCCbLAh7l"
      }
    },
    {
      "cell_type": "code",
      "source": [
        "def plotTk(plt):\n",
        "    global r1, r2, r3, R1, R2, R3, var\n",
        "    v = var[0]\n",
        "\n",
        "    plt.axis([0, 68, -25, 25])\n",
        "    #plt.axis (\"equal\")\n",
        "\n",
        "    axer = [\n",
        "        [0, 1.5*R1, 2.5*R1+3.*R3, 2.5*R1+R3],\n",
        "        [0, 1.5*R1, 2.5*R1+R2, 2.5*R1+3*R3],\n",
        "        [0, 1.5*r2+3.5*R3+R1, 1.5*r2, 1.5*r2+2.5*R3],\n",
        "        [0, 3*R2+R1, R2, 3*R2+R1+r1+R3],\n",
        "        [0, 2*R3+r1, 2*R3+r1+3*R2, R3],\n",
        "        [0, 2*R3+3*R2+R1, 2*R3+R2, R3],\n",
        "        [0, 1.5*R1, 2.5*R1+2*r3+R3+R2, 2.5*R1+2*r3],\n",
        "        [0, 1.5*R1, 2.5*R1+R2, 2.5*R1+3*R2+R3],\n",
        "        [0, 3.5*R2+R1, 1.5*R2, 3.5*R2+2*R1+R3],\n",
        "        [0, 1.5*R1, 2.5*R1+R2, 2.5*R1+3*R2+R3]\n",
        "\n",
        "    ]\n",
        "\n",
        "    sopr = [\n",
        "        [(axer[v][2], axer[v][3]), (r2, r3), (-r2, -r3)],\n",
        "        [(axer[v][2], axer[v][3]), (r2, r3), (-r2, -r3)],\n",
        "        [(axer[v][2], axer[v][3]), (R2, r3), (-R2, -r3)],\n",
        "        [(axer[v][1], axer[v][2]), (R1, R2), (-R1, -R2)],\n",
        "        [(axer[v][1], axer[v][2]), (R1, r2), (-R1, -r2)],\n",
        "        [(axer[v][1], axer[v][2]), (R1, r2), (-R1, -r2)],\n",
        "        [(axer[v][1], axer[v][3]), (r1, r3), (-r1, -r3)],\n",
        "        [(axer[v][2], axer[v][3]), (r2, R3), (-r2, -R3)],\n",
        "        [(axer[v][1], axer[v][2]), (r1, r2), (-r1, -r2)],\n",
        "        [(axer[v][2], axer[v][3]), (r2, R3), (-r2, -R3)]\n",
        "    ]\n",
        "\n",
        "    detal = [\n",
        "        [(axer[v][1]-r1, axer[v][1]-r1), (axer[v][2]+R2, axer[v][2]+R2), (axer[v][2]+R2-2.5,-r3)],\n",
        "        [(axer[v][1]-r1, axer[v][1]-r1), (axer[v][3]+R3, axer[v][3]+R3), (axer[v][3]+R3-2.5,-r3)],\n",
        "        [(axer[v][2]-r2, axer[v][2]-r2), (axer[v][1]+r1, axer[v][1]+r1), (axer[v][1]+r1-2.5,-r3)],\n",
        "        [(axer[v][2]-r2, axer[v][2]-r2), (axer[v][3]+r3, axer[v][3]+r3), (axer[v][3]+r3-2.5,-r3)],\n",
        "        [(axer[v][3]-r3, axer[v][3]-r3), (axer[v][2]+R2, axer[v][2]+R2), (axer[v][2]+R2-2.5, -r3)],\n",
        "        [(axer[v][3]-r3, axer[v][3]-r3), (axer[v][1]+r1, axer[v][1]+r1), (axer[v][1]+r1-2.5,-r3)],\n",
        "        [(axer[v][1]-R1, axer[v][1]-R1), (axer[v][2]+r2, axer[v][2]+r2), (axer[v][2]+r2-2.5,-r3)],\n",
        "        [(axer[v][1]-R1, axer[v][1]-R1), (axer[v][3]+r3, axer[v][3]+r3), (axer[v][3]+r3-2.5,-r3)],\n",
        "        [(axer[v][2]-R2, axer[v][2]-R2), (axer[v][3]+r3, axer[v][3]+r3), (axer[v][3]+r3-2.5,-r3)],\n",
        "        [(axer[v][1]-r1, axer[v][1]-r1), (axer[v][3]+r3, axer[v][3]+r3), (axer[v][3]+r3-2.5,-r3)]\n",
        "    ]\n",
        "\n",
        "    cr1 = plt.Circle ((axer[v][1], 0), radius= r1 , color='blue', alpha= .2 )\n",
        "    cR1 = plt.Circle ((axer[v][1], 0), radius= R1 , color='blue', alpha= .2 )\n",
        "    cr2 = plt.Circle ((axer[v][2], 0), radius= r2 , color='blue', alpha= .2 )\n",
        "    cR2 = plt.Circle ((axer[v][2], 0), radius= R2 , color='blue', alpha= .2 )\n",
        "    cr3 = plt.Circle ((axer[v][3], 0), radius= r3 , color='blue', alpha= .2 )\n",
        "    cR3 = plt.Circle ((axer[v][3], 0), radius= R3 , color='blue', alpha= .2 )\n",
        "\n",
        "    plt.text(axer[v][1], 0, '1', fontsize=10)\n",
        "    plt.text(axer[v][2], 0, '2', fontsize=10)\n",
        "    plt.text(axer[v][3], 0, '3', fontsize=10)\n",
        "    plt.text(detal[v][0][0], r2, '4', fontsize=10)\n",
        "    plt.text(detal[v][1][0], -r3-2.5, '5', fontsize=10)\n",
        "\n",
        "    plt.gca().add_artist(cr1)\n",
        "    plt.gca().add_artist(cR1)\n",
        "    plt.gca().add_artist(cr2)\n",
        "    plt.gca().add_artist(cR2)\n",
        "    plt.gca().add_artist(cr3)\n",
        "    plt.gca().add_artist(cR3)\n",
        "\n",
        "    plt.plot(sopr[v][0], sopr[v][1], color='blue', alpha= .2)\n",
        "    plt.plot(sopr[v][0], sopr[v][2], color='blue', alpha= .2)\n",
        "\n",
        "    plt.plot(detal[v][0], (r2, -r2), lw=3, color='blue', alpha= .4)\n",
        "    plt.plot(detal[v][1], (0, -r3), color='blue', alpha= .2)\n",
        "\n",
        "    rectangle = plt.Rectangle(detal[v][2], 5, -5, color='blue', alpha= .4)\n",
        "    plt.gca().add_patch(rectangle)\n",
        "\n",
        "plotTk(plt)"
      ],
      "metadata": {
        "colab": {
          "base_uri": "https://localhost:8080/",
          "height": 430
        },
        "id": "wqw4NAwyM3UU",
        "outputId": "6accb29f-115b-4c6c-948d-3d9e7a371238"
      },
      "execution_count": 6,
      "outputs": [
        {
          "output_type": "display_data",
          "data": {
            "text/plain": [
              "<Figure size 640x480 with 1 Axes>"
            ],
            "image/png": "[encoded data removed]"
          },
          "metadata": {}
        }
      ]
    }
  ]
}
