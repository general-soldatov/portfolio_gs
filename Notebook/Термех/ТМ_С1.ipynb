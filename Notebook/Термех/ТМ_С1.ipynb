{
  "nbformat": 4,
  "nbformat_minor": 0,
  "metadata": {
    "colab": {
      "provenance": [],
      "authorship_tag": "ABX9TyPkxiyqhV7r5nIU6YgSGK3R"
    },
    "kernelspec": {
      "name": "python3",
      "display_name": "Python 3"
    },
    "language_info": {
      "name": "python"
    }
  },
  "cells": [
    {
      "cell_type": "markdown",
      "source": [
        "# Статика С1\n",
        "На жесткую раму, закрепленную в точке А шарнирно, а в точке В прикрепленную или к невесомому стержню или к шарнирной опоре на катках (стержень прикреплен к раме и к неподвижной опоре шарнирами), действуют: сосредоточенные силы F1, F2, пара сил с моментом М. Определить реакции опор, пренебрегая весом рамы и стержней"
      ],
      "metadata": {
        "id": "f4NT3EG_jiwU"
      }
    },
    {
      "cell_type": "code",
      "execution_count": 1,
      "metadata": {
        "id": "j-i4NmGhUvre"
      },
      "outputs": [],
      "source": [
        "import matplotlib.pyplot as plt\n",
        "from numpy import pi, cos, sin, linspace\n",
        "from scipy.optimize import root"
      ]
    },
    {
      "cell_type": "code",
      "source": [
        "rad = lambda x: x*pi/180 #лямбда-функция для перевода градусов в радианы\n",
        "\n",
        "grav = 9.8061 #ускорение свободного падения\n",
        "\n",
        "vars = 25 #вариант задачи"
      ],
      "metadata": {
        "id": "sxpbN-3oVPjV"
      },
      "execution_count": 2,
      "outputs": []
    },
    {
      "cell_type": "markdown",
      "source": [
        "Исходные данные."
      ],
      "metadata": {
        "id": "MvJKTy_9kOx0"
      }
    },
    {
      "cell_type": "code",
      "source": [
        "ls = [2, 3, 2, 1, 3, 2, 1, 2, 3, 2]\n",
        "forcer = {\n",
        "    'K': [20, 10, 0, 0, 40, 30, 0, 0, 20, 30],\n",
        "    'D': [40, 30, 0, 10, 20, 0, 0, 10, 0, 0],\n",
        "    'H': [0, 0, 20, 0, 0, 10, 40, 30, 0, 0],\n",
        "    'E': [0, 0, 40, 30, 0, 0, 20, 0, 40, 10]\n",
        "}\n",
        "\n",
        "corners = {\n",
        "    'K': [210, 30, 0, 0, 300, 150, 0, 0, 225, 120],\n",
        "    'D': [330, 135, 0, 45, 240, 0, 0, 45, 0, 0],\n",
        "    'H': [0, 0, 240, 0, 0, 60, 330, 135, 0, 0],\n",
        "    'E': [0, 0, 315, 120, 0, 0, 210, 0, 315, 60]\n",
        "}\n",
        "\n",
        "var = (vars//10, vars%10)\n",
        "\n",
        "force, corner = {}, {}\n",
        "\n",
        "for key, value in forcer.items():\n",
        "    force[key] = value[var[1]]\n",
        "    corner[key] = rad(corners[key][var[1]])\n",
        "\n",
        "l = ls[var[1]]\n",
        "\n",
        "M = 5\n",
        "M = M if var[0] > 5 else -M\n",
        "M, force, corner"
      ],
      "metadata": {
        "id": "VnHgbg8yVzOr",
        "colab": {
          "base_uri": "https://localhost:8080/"
        },
        "outputId": "cf576f07-b925-4ee5-920e-12ea02a30b35"
      },
      "execution_count": 3,
      "outputs": [
        {
          "output_type": "execute_result",
          "data": {
            "text/plain": [
              "(-5,\n",
              " {'K': 30, 'D': 0, 'H': 10, 'E': 0},\n",
              " {'K': 2.6179938779914944, 'D': 0.0, 'H': 1.0471975511965976, 'E': 0.0})"
            ]
          },
          "metadata": {},
          "execution_count": 3
        }
      ]
    },
    {
      "cell_type": "markdown",
      "source": [
        "Функция назначения координат буквам, согласно варианту."
      ],
      "metadata": {
        "id": "A5Ntzj-ekZpc"
      }
    },
    {
      "cell_type": "code",
      "source": [
        "def drafter():\n",
        "    global l, force, corner, var\n",
        "    BS = [\n",
        "        (4*l, -4*l), (2*l, 4*l), (-4*l, -2*l), (4*l, -5*l),\n",
        "         (-4*l, -2*l), (l, -4*l), 0, 0, 0, 0\n",
        "         ]\n",
        "\n",
        "    worder = {\n",
        "        'K': [(3*l, -l), (4*l, l), (-4*l, 2*l), (3*l, -3*l), (-l, 2*l),\n",
        "              (-4*l, 0), (3*l, 4*l), (3*l, -3*l), (-l, 3*l), (4*l, l)],\n",
        "        'D': [(3*l, 0), (3*l, 0), (-2*l, 2*l), (0, -3*l), (-4*l, l),\n",
        "              (-4*l, -4*l), (0, 3*l), (0, -3*l), (-l, 4*l), (3*l, 0)],\n",
        "        'H': [(3*l, -4*l), (3*l, 4*l), (-4*l, 0), (4*l, -4*l), (0, l),\n",
        "              (-2*l, -4*l), (4*l, 3*l), (4*l, -4*l), (-l, 0), (3*l, 4*l)],\n",
        "        'E': [(2*l, 0), (l, 0), (0, l), (4*l, -4*l), (0, 2*l), (-2*l, 0),\n",
        "              (4*l, 4*l), (0, -l), (-2*l, 4*l), (l, 0)],\n",
        "    }\n",
        "\n",
        "    draftWord = {}\n",
        "    for keys, value in worder.items():\n",
        "        draftWord[keys] = [value[var[0]]]\n",
        "\n",
        "    for key in draftWord:\n",
        "        draftWord[key].append(\n",
        "            (draftWord[key][0][0] + 0.025*l*force[key]*cos(corner[key]),\n",
        "              draftWord[key][0][1] + 0.025*l*force[key]*sin(corner[key]))\n",
        "            )\n",
        "\n",
        "    return draftWord, BS[var[0]]\n",
        "\n",
        "draftWord, B = drafter()\n",
        "draftWord"
      ],
      "metadata": {
        "colab": {
          "base_uri": "https://localhost:8080/"
        },
        "id": "gVyadVh4lrns",
        "outputId": "c60f5ecc-d1d4-47c9-ef60-97efb246e3f5"
      },
      "execution_count": 4,
      "outputs": [
        {
          "output_type": "execute_result",
          "data": {
            "text/plain": [
              "{'K': [(-8, 4), (-9.299038105676658, 4.75)],\n",
              " 'D': [(-4, 4), (-4.0, 4.0)],\n",
              " 'H': [(-8, 0), (-7.75, 0.4330127018922193)],\n",
              " 'E': [(0, 2), (0.0, 2.0)]}"
            ]
          },
          "metadata": {},
          "execution_count": 4
        }
      ]
    },
    {
      "cell_type": "markdown",
      "source": [
        "В этой функции силы проецируются на оси координат и решаются три уравнения равновесия."
      ],
      "metadata": {
        "id": "OYCLqjg_kmTj"
      }
    },
    {
      "cell_type": "code",
      "source": [
        "def caser():\n",
        "    global l, M, force, corner, var\n",
        "\n",
        "    draftWord, B = drafter()\n",
        "    forceX, forceY, shoulderX, shoulderY = {}, {}, {}, {}\n",
        "    caseX, caseY, torqueA = 0, 0, 0\n",
        "\n",
        "    for keyF, value in force.items():\n",
        "        forceX[keyF] = value*cos(corner[keyF])\n",
        "        forceY[keyF] = value*sin(corner[keyF])\n",
        "        shoulderX[keyF] = draftWord[keyF][0][0]\n",
        "        shoulderY[keyF] = draftWord[keyF][0][1]\n",
        "        caseX += forceX[keyF]\n",
        "        caseY += forceY[keyF]\n",
        "        torqueA += forceY[keyF]*shoulderX[keyF]\n",
        "        torqueA += forceX[keyF]*shoulderY[keyF]\n",
        "\n",
        "    def equations(vars):\n",
        "        if var[0] in (0, 1, 5):\n",
        "            xA, yA, yB = vars\n",
        "            eq1 = xA + caseX\n",
        "            eq2 = yA + yB + caseY\n",
        "            eq3 = yB * B[0] + torqueA + M\n",
        "        elif var[0] in (2, 3, 4):\n",
        "            xA, yA, xB = vars\n",
        "            eq1 = xA + xB + caseX\n",
        "            eq2 = yA + caseY\n",
        "            eq3 = xB * B[1] + torqueA + M\n",
        "        else:\n",
        "            xA, yA, mA = vars\n",
        "            eq1 = xA + caseX\n",
        "            eq2 = yA + caseY\n",
        "            eq3 = mA + torqueA + M\n",
        "\n",
        "        return [eq1, eq2, eq3]\n",
        "\n",
        "    initial_guess = [0, 0, 0]\n",
        "    result = root(equations, initial_guess)\n",
        "\n",
        "    return result.x[0], result.x[1], result.x[2]\n",
        "\n",
        "caser()"
      ],
      "metadata": {
        "colab": {
          "base_uri": "https://localhost:8080/"
        },
        "id": "rScCrQEdrgwj",
        "outputId": "dacee965-72ae-4ebe-b2c8-c6518d96bb55"
      },
      "execution_count": 5,
      "outputs": [
        {
          "output_type": "execute_result",
          "data": {
            "text/plain": [
              "(95.53203230275508, -23.660254037844382, -74.55127018922192)"
            ]
          },
          "metadata": {},
          "execution_count": 5
        }
      ]
    },
    {
      "cell_type": "markdown",
      "source": [
        "Функция рисования конструкции, согласно варианту и визуализация сил, действующих на конструкцию."
      ],
      "metadata": {
        "id": "ksQEwlz1k3Ox"
      }
    },
    {
      "cell_type": "code",
      "source": [
        "def plotTk():\n",
        "    global l, force, corner, var\n",
        "    draftWord, B = drafter()\n",
        "\n",
        "    def circ(plt, x, y):\n",
        "        global l\n",
        "        theta = linspace( 0 , 2 * pi , 150 )\n",
        "        radius = 0.05 * l\n",
        "        a = radius * cos( theta ) + x\n",
        "        b = radius * sin( theta ) + y\n",
        "        return plt.plot(a, b, color='blue')\n",
        "\n",
        "    def sharnStat(plt, x, y, i=True, j=True, types=True):\n",
        "        global l\n",
        "        circ(plt, x, y)\n",
        "        a = [0.2*l, -0.2*l]\n",
        "        b = [-abs(bs) for bs in a] if i else [abs(bs) for bs in a]\n",
        "        b = b if types else [0 for bs in b]\n",
        "        a, b = (a, b) if j else (b, a)\n",
        "        if types:\n",
        "          plt.plot((x, x+a[0]), (y, y+b[0]), color='blue')\n",
        "          plt.plot((x, x+a[1]), (y, y+b[1]), color='blue')\n",
        "          plt.plot((x+a[0], x+a[1]), (y+b[0], y+b[1]), lw=4, color='blue')\n",
        "        else:\n",
        "          plt.plot((x+a[0], x+a[1]), (y+b[0], y+b[1]), lw=4, color='blue')\n",
        "\n",
        "    def sharnDrive(plt, x, y, i=True, j=True, types=True):\n",
        "        global l\n",
        "        a = [-0.2*l, 0.2*l, -0.2*l, 0.2*l, 0.25*l, -0.25*l, 0]\n",
        "        b = [-0.2*l, -0.2*l, -0.3*l, -0.3*l, -0.4*l, -0.4*l, -0.4*l]\n",
        "        b = b if i else [-bs for bs in b]\n",
        "        a, b = (a, b) if j else (b, a)\n",
        "        if types:\n",
        "          circ(plt, x, y)\n",
        "          plt.plot((x, x+a[0]), (y, y+b[0]), color='blue')\n",
        "          plt.plot((x, x+a[1]), (y, y+b[1]), color='blue')\n",
        "          plt.plot((x+a[0], x+a[1]), (y+b[0], y+b[1]), lw=4, color='blue')\n",
        "          circ(plt, x+a[2], y+b[2])\n",
        "          circ(plt, x+a[3], y+b[3])\n",
        "        else:\n",
        "          plt.plot((x, x+a[6]), (y, y+b[6]), lw=0.5, color='blue')\n",
        "        plt.plot((x+a[4], x+a[5]), (y+b[4], y+b[5]), lw=4, color='blue')\n",
        "\n",
        "    draft = [\n",
        "        [(0, 3*l, 0, 0), (3*l, 3*l, 0, -4*l), (3*l, 4*l, -4*l, -4*l)],\n",
        "        [(0, 4*l, 0, 0), (4*l, 4*l, 0, 4*l), (2*l, 4*l, 4*l, 4*l)],\n",
        "        [(0, 0, 0, 2*l), (-4*l, 0, 2*l, 2*l), (-4*l, -4*l, 2*l, -2*l)],\n",
        "        [(0, 0, 0, -3*l), (0, 4*l, -3*l, -3*l), (4*l, 4*l, -3*l, -5*l)],\n",
        "        [(0, 0, 0, 2*l), (0, -4*l, 2*l, 2*l),(-4*l, -4*l, 2*l, -2*l)],\n",
        "        [(0, -4*l, 0, 0),(-4*l, -4*l, 0, -4*l),(-4*l, l, -4*l, -4*l)],\n",
        "        [(0, 0, 0, 4*l), (0, 4*l, 4*l, 4*l), (4*l, 4*l, 4*l, 2*l)],\n",
        "        [(0, 0, 0, -3*l), (0, 4*l, -3*l, -3*l), (4*l, 4*l, -3*l, -5*l)],\n",
        "        [(0, -l, 0, 0), (-l, -l, 0, 4*l), (-4*l, -l, 4*l, 4*l)],\n",
        "        [(0, 4*l, 0, 0), (4*l, 4*l, 0, 4*l), (2*l, 4*l, 4*l, 4*l)]\n",
        "    ]\n",
        "\n",
        "    statDict = [\n",
        "        (True, True, True), (True, True, True), (True, True, True),\n",
        "        (False, False, True), (True, True, True), (True, True, True),\n",
        "        (True, True, False), (True, True, False),\n",
        "        (True, False, False), (True, False, False),\n",
        "    ]\n",
        "\n",
        "    driveDict = [\n",
        "        (False, True, True), (True, True, True), (False, False, True),\n",
        "        (True, False, False), (False, False, False),\n",
        "        (True, True, False), False, False, False, False\n",
        "    ]\n",
        "\n",
        "    st = statDict[var[0]]\n",
        "    dr = driveDict[var[0]]\n",
        "\n",
        "    draft = draft[var[0]]\n",
        "    sharnStat(plt, 0, 0, i=st[0], j=st[1], types=st[2])\n",
        "\n",
        "    if st[2] : sharnDrive(plt, B[0], B[1], i=dr[0], j=dr[1], types=dr[2])\n",
        "\n",
        "    for a, b, c, d in draft:\n",
        "        plt.plot((a, b), (c, d), lw=2, color='blue')\n",
        "\n",
        "    for key, value in draftWord.items():\n",
        "      if force[key] > 0:\n",
        "        plt.annotate(r'$F_%s$' % key, xy=value[0], xytext=value[1],\n",
        "              arrowprops=dict(arrowstyle=\"<-\",  color='red'))\n",
        "\n",
        "plotTk()"
      ],
      "metadata": {
        "colab": {
          "base_uri": "https://localhost:8080/",
          "height": 455
        },
        "id": "5Z0bDoUKYkCk",
        "outputId": "62bc4abb-c807-4538-a1f5-fc679f644336"
      },
      "execution_count": 6,
      "outputs": [
        {
          "output_type": "display_data",
          "data": {
            "text/plain": [
              "<Figure size 640x480 with 1 Axes>"
            ],
            "image/png": "[encoded data removed]"
          },
          "metadata": {}
        }
      ]
    }
  ]
}
