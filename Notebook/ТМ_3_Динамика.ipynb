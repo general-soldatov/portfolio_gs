{
  "nbformat": 4,
  "nbformat_minor": 0,
  "metadata": {
    "colab": {
      "provenance": [],
      "authorship_tag": "ABX9TyM6wBpZcZLdk4VD80AJxja1"
    },
    "kernelspec": {
      "name": "python3",
      "display_name": "Python 3"
    },
    "language_info": {
      "name": "python"
    }
  },
  "cells": [
    {
      "cell_type": "markdown",
      "source": [
        "## Динамика"
      ],
      "metadata": {
        "id": "5Q-GN2HUIYmT"
      }
    },
    {
      "cell_type": "markdown",
      "source": [
        "В этом проекте приведены решения задач из раздела \"Динамика\" теоретической механики."
      ],
      "metadata": {
        "id": "aW1DRsBDhIRa"
      }
    },
    {
      "cell_type": "code",
      "execution_count": 2,
      "metadata": {
        "id": "XAB_upx8IRO1"
      },
      "outputs": [],
      "source": [
        "from numpy import cos, sin, array, arctan\n",
        "from math import pi\n",
        "from scipy.optimize import root\n",
        "from scipy.integrate import quad\n",
        "rad = lambda x: x * pi / 180\n",
        "grad = lambda x: 180 * x / pi\n",
        "\n",
        "def derivative(f,a,method='central',h=0.01):\n",
        "    if method == 'central':\n",
        "        return (f(a + h) - f(a - h))/(2*h)\n",
        "    elif method == 'forward':\n",
        "        return (f(a + h) - f(a))/h\n",
        "    elif method == 'backward':\n",
        "        return (f(a) - f(a - h))/h\n",
        "    else:\n",
        "        print(\"Method must be 'central', 'forward' or 'backward'.\")"
      ]
    },
    {
      "cell_type": "markdown",
      "source": [
        "1. Точка массой m = 4 кг движется по горизонтальной прямой с ускорением а = 0,3 t. Определить модуль силы, действующей на точку в направлении ее движения в момент времени t = 3 с."
      ],
      "metadata": {
        "id": "_bLPrGIlI1UO"
      }
    },
    {
      "cell_type": "code",
      "source": [
        "m = 4\n",
        "a = lambda t : 0.3 * t\n",
        "ts = 3\n",
        "\n",
        "force = m * a(ts)\n",
        "force"
      ],
      "metadata": {
        "colab": {
          "base_uri": "https://localhost:8080/"
        },
        "id": "0D1HhIGuI059",
        "outputId": "fd9eaa8a-de6e-4d9b-8284-bf050dca7490"
      },
      "execution_count": 4,
      "outputs": [
        {
          "output_type": "execute_result",
          "data": {
            "text/plain": [
              "3.5999999999999996"
            ]
          },
          "metadata": {},
          "execution_count": 4
        }
      ]
    },
    {
      "cell_type": "markdown",
      "source": [
        "2. Точка массой m = 14 кг движется по горизонтальной оси Ох с ускорением ах = ln t. Определить модуль силы, действующей на точку в направлении движения в момент времени t = 5 с."
      ],
      "metadata": {
        "id": "nZ2a4p4-JLph"
      }
    },
    {
      "cell_type": "code",
      "source": [
        "from math import log\n",
        "\n",
        "m = 14\n",
        "ax = lambda t : log(t)\n",
        "ts = 5\n",
        "\n",
        "force = m * ax(ts)\n",
        "force"
      ],
      "metadata": {
        "colab": {
          "base_uri": "https://localhost:8080/"
        },
        "id": "nkOg4128JLKK",
        "outputId": "8c99dd9d-8ec9-41a6-f1e3-9d8d513d7267"
      },
      "execution_count": 20,
      "outputs": [
        {
          "output_type": "execute_result",
          "data": {
            "text/plain": [
              "22.532130774077405"
            ]
          },
          "metadata": {},
          "execution_count": 20
        }
      ]
    },
    {
      "cell_type": "markdown",
      "source": [
        "3. Моторная лодка массой m = 200 кг после остановки мотора движется прямолинейно, преодолевая сопротивление воды. Сила сопротивления R = 4v^2. Определить ускорение лодки, когда ее скорость v = 5 м/с."
      ],
      "metadata": {
        "id": "AXXsoYIlKz7F"
      }
    },
    {
      "cell_type": "code",
      "source": [
        "m = 200\n",
        "R = lambda v : 4 * v**2\n",
        "vs = 5\n",
        "- R(vs) / m"
      ],
      "metadata": {
        "colab": {
          "base_uri": "https://localhost:8080/"
        },
        "id": "y2gQUUA2K4Sp",
        "outputId": "c1058f19-58e1-44e6-d7a1-0980bb4a8f98"
      },
      "execution_count": 22,
      "outputs": [
        {
          "output_type": "execute_result",
          "data": {
            "text/plain": [
              "-0.5"
            ]
          },
          "metadata": {},
          "execution_count": 22
        }
      ]
    },
    {
      "cell_type": "markdown",
      "source": [
        "4. Трактор, двигаясь с ускорением а = 1 м/с^2 по горизонтальному участку пути, перемещает нагруженные сани массой 600 кг. Определить силу тяги на крюке, если коэффициент трения скольжения саней f = 0,04.  \n",
        "![image.png](data:image/png;base64,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)"
      ],
      "metadata": {
        "id": "V00wo0N9LO6-"
      }
    },
    {
      "cell_type": "code",
      "source": [
        "a = 1\n",
        "g = 9.8061\n",
        "m = 600\n",
        "f = 0.04\n",
        "m * (f * g + a)"
      ],
      "metadata": {
        "colab": {
          "base_uri": "https://localhost:8080/"
        },
        "id": "uQFPg0R2LOUR",
        "outputId": "03fdf81b-9ee7-4f15-fc1b-6a8c64e8749d"
      },
      "execution_count": 23,
      "outputs": [
        {
          "output_type": "execute_result",
          "data": {
            "text/plain": [
              "835.3464"
            ]
          },
          "metadata": {},
          "execution_count": 23
        }
      ]
    },
    {
      "cell_type": "markdown",
      "source": [
        "5. Материальная точка массой m = 50 кг из состояния покоя движется по гладкой горизонтальной направляющей под действием силы F = 50 Н, вектор которой образует постоянный угол   α = 20 grad  с направляющей. Определить путь, пройденный точкой за время t = 20 с."
      ],
      "metadata": {
        "id": "m9RTP_SKMt76"
      }
    },
    {
      "cell_type": "code",
      "source": [
        "m = 50\n",
        "F = 50\n",
        "alpha = rad(20)\n",
        "ts = 20\n",
        "F / m * cos(alpha) * ts**2/2"
      ],
      "metadata": {
        "colab": {
          "base_uri": "https://localhost:8080/"
        },
        "id": "GUEt0BF8MxSf",
        "outputId": "eedd5b05-a7be-4e63-cb60-fcedeaa202f4"
      },
      "execution_count": 24,
      "outputs": [
        {
          "output_type": "execute_result",
          "data": {
            "text/plain": [
              "187.9385241571817"
            ]
          },
          "metadata": {},
          "execution_count": 24
        }
      ]
    },
    {
      "cell_type": "markdown",
      "source": [
        "6. Груз массой m = 25 кг подвешен к пружине с коэффициентом жесткости с = 800 Н/м и находится в свободном прямолинейном вертикальном колебательном движении. Определить модуль ускорения груза в момент времени, когда центр тяжести груза находится на расстоянии 5 см от положения статического равновесия."
      ],
      "metadata": {
        "id": "9wL4Y0lsOhVz"
      }
    },
    {
      "cell_type": "code",
      "source": [
        "m = 25\n",
        "c = 800\n",
        "l = 0.05\n",
        "(c * l) / m"
      ],
      "metadata": {
        "colab": {
          "base_uri": "https://localhost:8080/"
        },
        "id": "3TQUqQ0VOnvv",
        "outputId": "0ae6dc8e-07e3-4b20-a684-b4b95dec64f0"
      },
      "execution_count": 28,
      "outputs": [
        {
          "output_type": "execute_result",
          "data": {
            "text/plain": [
              "1.6"
            ]
          },
          "metadata": {},
          "execution_count": 28
        }
      ]
    },
    {
      "cell_type": "markdown",
      "source": [
        "7. Тело подвешено к пружине и совершает свободные вертикальные колебания с периодом Т = 0,5 с. Определить массу точки, если коэффициент жесткости пружины с = 200 Н/м."
      ],
      "metadata": {
        "id": "HakHFH7JRt2V"
      }
    },
    {
      "cell_type": "code",
      "source": [
        "T = 0.5\n",
        "c = 200\n",
        "mass = lambda m : T - 2 * pi * (m / c)**0.5\n",
        "root(mass, 0).x[0]"
      ],
      "metadata": {
        "colab": {
          "base_uri": "https://localhost:8080/"
        },
        "id": "ehuQfPnhRwnA",
        "outputId": "254e1d52-7383-452d-d4ab-faa8ecad6e1d"
      },
      "execution_count": 33,
      "outputs": [
        {
          "output_type": "execute_result",
          "data": {
            "text/plain": [
              "1.2665147955292082"
            ]
          },
          "metadata": {},
          "execution_count": 33
        }
      ]
    },
    {
      "cell_type": "markdown",
      "source": [
        "8. Постоянная по модулю и направлению сила действует на тело в течение 10 с. Найти модуль ее импульса за это время, если проекции силы на оси координат Fx = 3Н, Fy = 4Н."
      ],
      "metadata": {
        "id": "3ujPuaoeUqSV"
      }
    },
    {
      "cell_type": "code",
      "source": [
        "Fx = 3\n",
        "Fy = 4\n",
        "t = 10\n",
        "F = (Fx**2 + Fy**2)**0.5\n",
        "F * t"
      ],
      "metadata": {
        "colab": {
          "base_uri": "https://localhost:8080/"
        },
        "id": "OCyPIceQUtoi",
        "outputId": "75ef0bd2-4234-4d46-89bb-f689e732b4e7"
      },
      "execution_count": 36,
      "outputs": [
        {
          "output_type": "execute_result",
          "data": {
            "text/plain": [
              "50.0"
            ]
          },
          "metadata": {},
          "execution_count": 36
        }
      ]
    },
    {
      "cell_type": "markdown",
      "source": [
        "9. Материальная точка массой 2 кг движется в плоскости Оху согласно уравнениям х = sin πt, у = 0,5t^2. Определить модуль количества движения точки в момент времени t = 1,5 с."
      ],
      "metadata": {
        "id": "g_iHSdT5WLPG"
      }
    },
    {
      "cell_type": "code",
      "source": [
        "m = 2\n",
        "x = lambda t : sin(pi * t)\n",
        "y = lambda t : 0.5 * t**2\n",
        "ts = 1.5\n",
        "vx = lambda t : derivative(x, t)\n",
        "vy = lambda t : derivative(y, t)\n",
        "m * (vx(ts)**2 + vy(ts)**2)**0.5"
      ],
      "metadata": {
        "colab": {
          "base_uri": "https://localhost:8080/"
        },
        "id": "ZuK5G4m4WKAr",
        "outputId": "bfdd229a-b7bd-42d8-d167-d9cf6104fe02"
      },
      "execution_count": 37,
      "outputs": [
        {
          "output_type": "execute_result",
          "data": {
            "text/plain": [
              "3.0000000000000027"
            ]
          },
          "metadata": {},
          "execution_count": 37
        }
      ]
    },
    {
      "cell_type": "markdown",
      "source": [
        "10. Материальная точка массой m = 1 кг движется по окружности со скоростью v = 1 м/с. Определить кинетическую энергию этой точки."
      ],
      "metadata": {
        "id": "vMCjRcmUXIG7"
      }
    },
    {
      "cell_type": "code",
      "source": [
        "m = 1\n",
        "v = 1\n",
        "0.5 * m * v**2"
      ],
      "metadata": {
        "colab": {
          "base_uri": "https://localhost:8080/"
        },
        "id": "1tAKS6UlXLsB",
        "outputId": "58e32491-3df7-423b-d9c1-70539c9293f9"
      },
      "execution_count": 38,
      "outputs": [
        {
          "output_type": "execute_result",
          "data": {
            "text/plain": [
              "0.5"
            ]
          },
          "metadata": {},
          "execution_count": 38
        }
      ]
    },
    {
      "cell_type": "markdown",
      "source": [
        "11. Свободное падение материальной точки массой m начинается из состояния покоя. Пренебрегая сопротивлением воздуха, определить путь, пройденный точкой к моменту времени, когда она имеет скорость 3 м/с."
      ],
      "metadata": {
        "id": "vFCe81wsXXcW"
      }
    },
    {
      "cell_type": "code",
      "source": [
        "v = 3\n",
        "ts = lambda t : 3 - (g * t)\n",
        "ts = root(ts, 0).x[0]\n",
        "g * (ts)**2 / 2"
      ],
      "metadata": {
        "colab": {
          "base_uri": "https://localhost:8080/"
        },
        "id": "XUvpBB43XWZD",
        "outputId": "2e350dda-2d97-4317-d888-d94d6d45babc"
      },
      "execution_count": 44,
      "outputs": [
        {
          "output_type": "execute_result",
          "data": {
            "text/plain": [
              "0.45889803285709924"
            ]
          },
          "metadata": {},
          "execution_count": 44
        }
      ]
    },
    {
      "cell_type": "markdown",
      "source": [
        "12. На материальную точку подействовал ударный импульс s = 10k. Скорость до удара v1 = -10k, скорость после удара v2 = 5k. Определить массу материальной точки."
      ],
      "metadata": {
        "id": "PVkv3TsVZMNu"
      }
    },
    {
      "cell_type": "code",
      "source": [
        "s = lambda k : 10 * k\n",
        "v1 = lambda k : - 10 * k\n",
        "v2 = lambda k : 5 * k\n",
        "m = lambda k : s(k) / (v2(k) - v1(k))\n",
        "\n",
        "m(1)"
      ],
      "metadata": {
        "colab": {
          "base_uri": "https://localhost:8080/"
        },
        "id": "2LpBlGB3ZW_V",
        "outputId": "173a71b6-6329-4a14-ee37-8179b3ca9560"
      },
      "execution_count": 57,
      "outputs": [
        {
          "output_type": "execute_result",
          "data": {
            "text/plain": [
              "0.6666666666666666"
            ]
          },
          "metadata": {},
          "execution_count": 57
        }
      ]
    },
    {
      "cell_type": "markdown",
      "source": [
        "13. Шарик без начальной скорости падает с высоты h1 = 1,5 м и после удара по горизонтальной преграде поднимается на высоту h2 = 0,8м. Определить коэффициент восстановления при ударе."
      ],
      "metadata": {
        "id": "5_P5nGgqbXLI"
      }
    },
    {
      "cell_type": "code",
      "source": [
        "h1 = 1.5\n",
        "h2 = 0.8\n",
        "\n",
        "v1 = (2 * g * h1)**0.5\n",
        "v2 = (2 * g * h2)**0.5\n",
        "\n",
        "v2 / v1 # коэффициент восстановления - отношение скоростей после к до"
      ],
      "metadata": {
        "colab": {
          "base_uri": "https://localhost:8080/"
        },
        "id": "5Vpo9Z60bezt",
        "outputId": "16927e91-e1f0-4ee0-8058-7e3fc97b5e8b"
      },
      "execution_count": 59,
      "outputs": [
        {
          "output_type": "execute_result",
          "data": {
            "text/plain": [
              "0.7302967433402214"
            ]
          },
          "metadata": {},
          "execution_count": 59
        }
      ]
    },
    {
      "cell_type": "markdown",
      "source": [
        "14. Определить в кН среднюю силу удара молотка массой m = 0,5 кг при абсолютно неупругом ударе по наковальне, если скорость до удара v = 10 м/с и время удара 0,0002 с."
      ],
      "metadata": {
        "id": "JWVhlBBUcZO_"
      }
    },
    {
      "cell_type": "code",
      "source": [
        "m = 0.5\n",
        "v = 10\n",
        "t = 0.0002\n",
        "\n",
        "m * v / t / 1000"
      ],
      "metadata": {
        "colab": {
          "base_uri": "https://localhost:8080/"
        },
        "id": "sLQmHH9ncbi_",
        "outputId": "3fe91b2d-2554-46ad-a406-26f60349683a"
      },
      "execution_count": 61,
      "outputs": [
        {
          "output_type": "execute_result",
          "data": {
            "text/plain": [
              "25.0"
            ]
          },
          "metadata": {},
          "execution_count": 61
        }
      ]
    },
    {
      "cell_type": "markdown",
      "source": [
        "15. Тело массой m1 = 1 кг ударяет со скоростью v10 = 2 м/с по неподвижному телу массой m2 = 3 кг. Принимая, что удар абсолютно неупругий, определить потери кинетической энергии."
      ],
      "metadata": {
        "id": "fWdNajKRcsXa"
      }
    },
    {
      "cell_type": "code",
      "source": [
        "m1 = 1\n",
        "v1 = 2\n",
        "m2 = 3\n",
        "p1 = m1 * v1 # Импульс тела массой m1 до удара\n",
        "v2 = p1 / (m1 + m2) # общая скорость после удара равна\n",
        "0.5 *((m1 * v1**2) - (m1 + m2) * v2**2)"
      ],
      "metadata": {
        "colab": {
          "base_uri": "https://localhost:8080/"
        },
        "id": "mklmU_DbcvqQ",
        "outputId": "c785661b-7171-43c6-9e65-9c3b3c0e3bcb"
      },
      "execution_count": 66,
      "outputs": [
        {
          "output_type": "execute_result",
          "data": {
            "text/plain": [
              "1.5"
            ]
          },
          "metadata": {},
          "execution_count": 66
        }
      ]
    }
  ]
}