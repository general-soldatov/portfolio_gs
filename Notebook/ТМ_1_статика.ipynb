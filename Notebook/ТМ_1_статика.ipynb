{
  "nbformat": 4,
  "nbformat_minor": 0,
  "metadata": {
    "colab": {
      "provenance": [],
      "authorship_tag": "ABX9TyM5d6uP+UNYXpPzY351tLRY",
      "include_colab_link": true
    },
    "kernelspec": {
      "name": "python3",
      "display_name": "Python 3"
    },
    "language_info": {
      "name": "python"
    }
  },
  "cells": [
    {
      "cell_type": "markdown",
      "metadata": {
        "id": "view-in-github",
        "colab_type": "text"
      },
      "source": [
        "<a href=\"https://colab.research.google.com/github/general-soldatov/portfolio_gs/blob/main/Notebook/%D0%A2%D0%9C_1_%D1%81%D1%82%D0%B0%D1%82%D0%B8%D0%BA%D0%B0.ipynb\" target=\"_parent\"><img src=\"https://colab.research.google.com/assets/colab-badge.svg\" alt=\"Open In Colab\"/></a>"
      ]
    },
    {
      "cell_type": "markdown",
      "source": [
        "# Статика"
      ],
      "metadata": {
        "id": "ANr1q3MW_tOJ"
      }
    },
    {
      "cell_type": "code",
      "source": [
        "from numpy import cos, sin, array, arctan\n",
        "from math import pi\n",
        "rad = lambda x: x * pi / 180\n",
        "grad = lambda x: 180 * x / pi"
      ],
      "metadata": {
        "id": "gilAuZ0FALDU"
      },
      "execution_count": 1,
      "outputs": []
    },
    {
      "cell_type": "markdown",
      "source": [
        "1. Определить модуль равнодействующей двух равных по модулю сходящихся сил F1 = F2 = 5 Н, образующих между собой угол α = 45°."
      ],
      "metadata": {
        "id": "YgWYpM1T_xHF"
      }
    },
    {
      "cell_type": "code",
      "execution_count": 2,
      "metadata": {
        "colab": {
          "base_uri": "https://localhost:8080/"
        },
        "id": "7vrb8agI_WL5",
        "outputId": "73a72ff3-36f4-45d7-c627-1c0851cb8bcc"
      },
      "outputs": [
        {
          "output_type": "execute_result",
          "data": {
            "text/plain": [
              "9.238795325112868"
            ]
          },
          "metadata": {},
          "execution_count": 2
        }
      ],
      "source": [
        "F1 = F2 = 5\n",
        "alpha = rad(45)\n",
        "F = (F1**2 + F2**2 + 2 * F1 * F2 * cos(alpha))**0.5\n",
        "F"
      ]
    },
    {
      "cell_type": "markdown",
      "source": [
        "2. Определить угол в градусах между равнодействующей двух сил F1 = 10 Н и F2 = 8 Н и осью Ох, если угол α = 30°."
      ],
      "metadata": {
        "id": "UoUJ1eoRBgxA"
      }
    },
    {
      "cell_type": "code",
      "source": [
        "F1 = 10\n",
        "F2 = 8\n",
        "alpha = rad(30)\n",
        "grad(arctan((F2 + F1 * sin(alpha))/(F1 * cos(alpha))))"
      ],
      "metadata": {
        "colab": {
          "base_uri": "https://localhost:8080/"
        },
        "id": "hyGnXnlXBjE_",
        "outputId": "dd7cbcc4-c7ce-4b5b-d5b6-8933e29fa4ba"
      },
      "execution_count": 3,
      "outputs": [
        {
          "output_type": "execute_result",
          "data": {
            "text/plain": [
              "56.329503491684896"
            ]
          },
          "metadata": {},
          "execution_count": 3
        }
      ]
    },
    {
      "cell_type": "markdown",
      "source": [
        "3. Какую по модулю силу F3 надо приложить к сходящимся силам F1 = 2 Н и F2 = 4 Н, образующим с осью Ох углы α = 30° и β = 60°, чтобы равнодействующая этих трех сил равнялась нулю?"
      ],
      "metadata": {
        "id": "jFN2jVEXH2Rb"
      }
    },
    {
      "cell_type": "code",
      "source": [
        "F1 = 2\n",
        "F2 = 4\n",
        "alpha = rad(30)\n",
        "beta = rad(60)\n",
        "F1, F2 = (F1 * sin(alpha) + F2 * sin(beta)), (F1 * cos(alpha) + F2 * cos(beta))\n",
        "(F1 ** 2 + F2 ** 2 + F1 * F2 * cos(alpha))**0.5"
      ],
      "metadata": {
        "colab": {
          "base_uri": "https://localhost:8080/"
        },
        "id": "HjAZUy_KD-Sk",
        "outputId": "fdf4f73f-c843-423a-d8f0-c45dfb4d1d92"
      },
      "execution_count": 14,
      "outputs": [
        {
          "output_type": "execute_result",
          "data": {
            "text/plain": [
              "6.9487128081988345"
            ]
          },
          "metadata": {},
          "execution_count": 14
        }
      ]
    },
    {
      "cell_type": "markdown",
      "source": [
        "4. К столбу в точке А приложена плоская система сходящихся сил F1 = F2 = F3 = 10 Н. Определить сумму проекций заданных сил на ось Ах, если угол α = 60°."
      ],
      "metadata": {
        "id": "SduNrDQWLJcp"
      }
    },
    {
      "cell_type": "code",
      "source": [
        "F1 = F2 = F3 = 10\n",
        "alpha = rad(60)\n",
        "\n",
        "F2 + F1 * sin(alpha) + F3 * sin(alpha)"
      ],
      "metadata": {
        "colab": {
          "base_uri": "https://localhost:8080/"
        },
        "id": "KKlqo4YSLLQW",
        "outputId": "0c9c55f5-2326-43b9-bbfb-650fe1e9696e"
      },
      "execution_count": 5,
      "outputs": [
        {
          "output_type": "execute_result",
          "data": {
            "text/plain": [
              "27.32050807568877"
            ]
          },
          "metadata": {},
          "execution_count": 5
        }
      ]
    },
    {
      "cell_type": "markdown",
      "source": [
        "5. Определить модуль равнодействующей сходящихся сил F1 и F2, если известны их проекции на декартовы оси координат: F1x = 3 Н, F1y = 6 Н, F2x= 5 Н, F2y = 4 Н."
      ],
      "metadata": {
        "id": "TSxK5oPPMSj4"
      }
    },
    {
      "cell_type": "code",
      "source": [
        "F1x = 3\n",
        "F1y = 6\n",
        "F2x = 5\n",
        "F2y = 4\n",
        "((F1x + F2x)**2 + (F1y + F2y)**2)**0.5"
      ],
      "metadata": {
        "colab": {
          "base_uri": "https://localhost:8080/"
        },
        "id": "cSsQg6i4MUGc",
        "outputId": "96757f68-1bca-4e78-d87d-5722ba22fe10"
      },
      "execution_count": 6,
      "outputs": [
        {
          "output_type": "execute_result",
          "data": {
            "text/plain": [
              "12.806248474865697"
            ]
          },
          "metadata": {},
          "execution_count": 6
        }
      ]
    },
    {
      "cell_type": "markdown",
      "source": [
        "6. Силы F1 = F2 = 10 Н и F3 находятся в равновесии. Линии действия сил между собой образуют углы по 120°. Определить модуль силы F3."
      ],
      "metadata": {
        "id": "6nt_KUkxM1z-"
      }
    },
    {
      "cell_type": "code",
      "source": [
        "F1 = F2 = 10\n",
        "alpha = rad(120)\n",
        "F3 = (F1**2 + F2**2 + 2 * F1 * F2 * cos(alpha))**0.5\n",
        "F3"
      ],
      "metadata": {
        "colab": {
          "base_uri": "https://localhost:8080/"
        },
        "id": "qq2H9XeHM4zX",
        "outputId": "cf615780-e899-492e-96fc-a66b1caf60af"
      },
      "execution_count": 7,
      "outputs": [
        {
          "output_type": "execute_result",
          "data": {
            "text/plain": [
              "10.000000000000002"
            ]
          },
          "metadata": {},
          "execution_count": 7
        }
      ]
    },
    {
      "cell_type": "markdown",
      "source": [
        "7. Груз удерживается в равновесии двумя стержнями АС и ВС, шарнирно соединенными в точках А, В и С. Стержень ВС растянут силой F2 = 45 Н, а стержень АС сжат силой F1 = 17 Н. Определить вес груза, если заданы углы α = 15° и β = 60°.  \n",
        "![image.png](data:image/png;base64,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)"
      ],
      "metadata": {
        "id": "h21URyHRJeT8"
      }
    },
    {
      "cell_type": "code",
      "source": [
        "F1 = 17\n",
        "F2 = 45\n",
        "alpha = rad(15)\n",
        "beta = rad(60)\n",
        "F2 * cos(beta) - F1 * cos(alpha + beta)"
      ],
      "metadata": {
        "colab": {
          "base_uri": "https://localhost:8080/"
        },
        "id": "_A7LMyYQJjYq",
        "outputId": "94064001-41d0-40de-c152-e1d8bce01a43"
      },
      "execution_count": 16,
      "outputs": [
        {
          "output_type": "execute_result",
          "data": {
            "text/plain": [
              "18.10007623325715"
            ]
          },
          "metadata": {},
          "execution_count": 16
        }
      ]
    },
    {
      "cell_type": "markdown",
      "source": [
        "8. Пластина весом G = 8 Н удерживается в равновесии двумя канатами АВ и CD, расположенными в вертикальной плоскости. Определить натяжение каната CD, если угол α = 30°.  \n",
        "![image.png](data:image/png;base64,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)"
      ],
      "metadata": {
        "id": "oz8Sx-s0LDPx"
      }
    },
    {
      "cell_type": "code",
      "source": [
        "G = 8\n",
        "alpha = rad(30)\n",
        "G / sin(alpha)"
      ],
      "metadata": {
        "colab": {
          "base_uri": "https://localhost:8080/"
        },
        "id": "mnyZ3mFSLHb3",
        "outputId": "0bde91ff-12ab-4543-a62f-b9c9797ff4b6"
      },
      "execution_count": 17,
      "outputs": [
        {
          "output_type": "execute_result",
          "data": {
            "text/plain": [
              "16.000000000000004"
            ]
          },
          "metadata": {},
          "execution_count": 17
        }
      ]
    },
    {
      "cell_type": "markdown",
      "source": [
        "9. Однородный шар весом 12 Н удерживается в равновесии на гладкой наклонной плоскости с помощью веревки АВ. Определить давление шара на плоскость, если угол α = 60°.   \n",
        "![image.png](data:image/png;base64,iVBORw0KGgoAAAANSUhEUgAAAOkAAADbCAMAAAC/W0Z3AAAAAXNSR0IArs4c6QAAAARnQU1BAACxjwv8YQUAAAMAUExURf///wAAAPf37wAICM7OzkJKQrW1tebe5hAZEN7W1qVS70JS76VSnEJSnKUZ70IZ70IZnHOlY3NS7xBS7xBSnHMZ7xAZ7xAZnKVSxUJSxaVSc0JSc6UZxUIZxUIZc3NSxRBSxRBSc3MZxRAZxRAZc4xSQqWEY4wZQoxSEIwZEKWlpWNjY4SEhCkpMXNzc0ql3kKlWkrvnEqlnKXvGULvGUKlGWNSGXPvWhDvWhClWnPvGRDvGRClGWMZEHuM70JSGUIZEObv73NSlBAICK2EnK1SQqWlY60ZQq1SEK0ZEN73zghSEISUjCEhGa2M7+8ZEM4ZEJyclFpaUlJKSqWEEHOEEBApQsXFvd73a973EAhSQjoxOu9aEO/OEO+UEBnO7xmE7xnOrRmErc5aEM7OEM6UEBnOzhmEzhnOjBmEjCkhKe8ZMe9rpe8pY+8ppc5rpc4pY84ppc4ZMe9Kpe8IY+8Ipc5Kpc4IY84IpSlSEN73nO/Ota3mraUpnGMpQt73QnvvrXMpnHvv76Upc3vFrXMpc3vF73t7paWEMXOEMaXOa0rO70LOa0qE70KEa0rOrUqEraXOKULOKUKEKXPOaxDOaxCEa3POKRDOKRCEKXuczq29lHN7WqWlEHOlEO/OlK3mjKUInGMIQnvvjHMInHvvzqUIc3vFjHMIc3vFzqXOSkrOzkLOSkqEzkKESkrOjEqEjKXOCELOCEKECHPOShDOShCESnPOCBDOCBCECHt7zu/Oc+9r5u9ac+9aMe/OMe8p5u+t5u+UMe+Ucxnv7xml7xnvrRmlre+ctc7Oc85r5s5ac84p5s6t5s6Uc86cte/OUu9K5u9aUs5aMc7OMe8I5u+M5s6UMe+UUhnvzhmlzhnvjBmljO+clM7OUs5K5s5aUs4I5s6M5s6UUs6clClSQhkIKa3v763F762czq3vzq3Fzq17zqXva0rv70Lva6WlMXucpXOlMaXvSkrvzkLvSs7OnEIQQhkISnNKa87W7973/xkIAP/v/wAIAAAAAPOy2dwAAAEAdFJOU////////////////////////////////////////////////////////////////////////////////////////////////////////////////////////////////////////////////////////////////////////////////////////////////////////////////////////////////////////////////////////////////////////////////////////////////////////////////////////////////////////////////////wBT9wclAAAACXBIWXMAABcRAAAXEQHKJvM/AAAWC0lEQVR4Xu2dSXajytaFqQVTAcQcWMpWLtMANdxgBjmmNz51PINcxut9+wQqrcJ/PmcK8WvnvVgFlmNz6hMRyHviiSeeeOKJJ5544oknnnji36Cux5+eNwQ6zhWQK9sEknWb87TO2si9MTsMXu77fuZ5re8nPI/9yr0xNwTiJo5J4zeDVxvfuaqwmMaR768Rae/7pdjPE2LaL/1N7dWFiA7j6/PD2g8l1Z+BTLXkhWCuXJHpu7+MBg+JxnjfZLbqu/bT0I+8Gh8siXZyxPNEjPZ2niQqogUueL4yxe96VTgS9V9mHGVWfg9dRzRN5ux7U3nfhodE1QLfO+fMIfSLhTf8J/Vb8qTx9fkB0wz9BoeL813bK7PkCqkEmTYLY4zqelE5W6Fm5nshGopom/6qZxNlDmVG5hdZPB0l+ray2m0+qItuHcdVJtaVsl4OHeGFYNPOx07RzYTqTCCy1KPvVZoUlCI6H+9rYiTVVQWDABVEV6G/Hrxs6fs/iKazsVOYIrtf9SJPIWYeiSjDA4QrU60UcWYBJFb472qP9eS4JtMwzb3gd2NRtQhXhJxZIBiid0sRsmarvX6PqClSEXfup3MRKR4WR9tUVY/SSqYunuKkllB8aVSqujMfHYFXw1HuyPc3Ep/J9AVvHOGUQzVB5+J7jZqDlJenjjYZQ7nysd+59JFqZfJpH/f9h2LolnifeHmcmvOdTx8JRbWMb2mxRVaLUHOvbrgCiDOzzGkOQKQmy6CRyzXi/nvlJSl2++rV3XymK17VSJHUiJ963iLS2FLeD0SNhBVqZ4HST2vFmiGVypqM/S7rUF2IIllYzwSjeXp56CabpL3phuQXorDu69k434Ywmv0OyOf7erApCh8T9dM3FBnTrXdzxw8PuVjCCaKMFU96VTIrU10SfxGdTZQpoeqg2W/yehENHdFG4pyJ7oI6i7q4i2N5YLL8lFp1lGgjn5RIrLMDRIFywJLqdAPRrPdnU4nvPWuNIpMehanfWZqPKCNSxNkkg/u8FoHKRle+v1yajQYeYTXTap3ZQDEzUvM+xRlJgQGFzdB+bMoZZfgOAUFUnTIM02AtpDH3nxOSGA8Urvz+zWYrSIWpYKo0Vc47q3UOJkjUVmWLuiuW7EIZ1c3mEWIUKmESQxI/VIw9B0f0RyqipTUIHx6qYQIvKUkVVmGo6QngmEadn2pWvLG58RkAt0oNI4H25IJmkdYblLHKRuGLzGehwBmxZbXyl7Hka4wk04YCB1WuS3/99vDh1GWzckVKi7DFreBgqqaoWr+WNzy6QOuAbKEsQv+Doq1cHKQHMF2tNq+etyj8fg6dFdmk0j+yP8sOhq3sbAZKPTSKGRGNXh480AxBXVJwu1L0ELJTzcVAlDxJi+oeXX9dhWb5Xt3GcSs++l9MEWnr/3rjGab6wMvTazSXCs0mhzt4uFRX82vaYiCma7WT1rzgBPuwIGxECJQg2klskZwv+b1lSE6mPbm9ptpGDX7cMBPkEIOfdecTcvtsUckLBXk7SKt5S7yDdpyYeVgkzkI3EA2GOvUbEr61IigqW3kLexdd/s0DI/p4tYzL5+tC7Vw/LH/aa71zvrG/6mSusfemfq86K+OSpOwhlVeuSOt3jZKlfwOsJDT3ahgnlvdSv9SlU93qAYMMmspBy40AjtXy2drNsL2ZbSozMo/EZRi9bumnjyjS2nv9YTyxw1wZLUUbZprneWn1qUnPMcVn6QrAt3+09b0mQfIAo6mD6s7AG4gnDoVlCAQglHjDGYWLMuWD+aNavqjUVGHoN60npxR2ZA28HC+bZYpIxVzSs+7KVnXNNT2UTAMkKrXEGmMJSTNq2GVrfnXwIpiXURXpmU57t5lGiLpU8LHEmiE4wseqcvOhPdKlYHvvNJOoSVRNJS51orTXrVxBohlvPtZkW5RjeTgdxU4bublgBVZpae0MWPNOTqYNSQVEbQbqXzXMnASUk1+EguT48Cz0pnNFKQ53i6UfvmO0BUW4VDhJopGT9ZGMqFpIiR3/FW4mKdoIvFZVch5BFa8kvuXhGfkq5J/fU60dX0fJtDPVxWEVKyXH/0R7x63at67rqw3vAjThQrFSIPsDSoUmJyQ/Uxpe4IfeFtOeX5HXFd/bf/x7wOiswrhyWRVA1LW8xJQ0SJSQzdGiZGmpWtrW//SyMuJv6G0xFdDlV6w5/1dM+Su5n45PzkN2Kgejlat7OOMlgBRLPJFPQnuKFm+0sAUcRY6EP5bunJHpC496f5PwKYe6/VfROu9/GeQEGpu86B6ofUC+4PoJjRZjHwMGkSi8WWiNZcfEVL2qBw1yRk/Uxs8syv4TMJTPAjmClvidytTZZGUMXPg4C06K5JjNZeG0uqxWPFXCxIeS8WeNLev4++Cv5LvGxyUg0io+kalMMndEe4WPk048DPlohVZ+JKVWWuGJMdulEmG8URQrbSThOO0d/kXgB9VQv4hBIv3941SmEHgXT0vVzZqP4GafgN5ISJcIOk60/FYsG+31RiMn8ZeEKldaD5gYQ7Ch8MfVYdarAZLR+8cQo6I5kKmdkuGlGHu8TxYuQ2sF96BgS2I/xVR/8/t/db+B6Dhli6LoFc3qk2g7YNE8oToWXnuZSlPRPi0W674mjyjJ+y0UefBJb7JRf/NXl+E7PaurrnAtH1PCTdF1F+YNUG+dt4+ngae1nLK7P7CxsWrDJ0UNZbjU213174eLD/tFbuggZmRIm8SmjsYzHRha/4aqHmQOC5IFkf/qBNLhBURjqQXQhXEO9a8skOQzJc/sV9rsefrhh0lWbEO4bmyu2gbnrLbXxpagkJ3y23q9CiXQTfEHElXP4YPEnw9iCBBt/06QkbwS1451ftPv1msFgHVsGcCIKid1M3/FKLj02mZXIVPnrjJnt6naX38A095Ec4p8bt366eLvNJLw7obQ7xKglBRzQYpcAdCF7hKYXBkA/5EsKmHdytQrTQMstvzRCMmRVmlWF5YnMZrqqC74LtQkAOZdNs1+03K2ObC36KXfqOsTkquaBINeRYocsPne1wJXTZjg3T/0JDANm+qXqS7Rx3YLfSPcVdPUltDvcyL48uJhjhQEY1mtSxG4/B/9cky1IwKogXmaFX0V21qGv7kg2PzcDu5bIO2Ta2lUdfTF4R50Rsvoj+/dU78UPWJtrPZ46yrOGbCrlsdcAM2z/JHabtEWoNPFrYvL5f0fow4iFEZETz4bis1Jhs9LmhVUn2chuSE8E5+2BnOttMXwW+TwjbLcQkNb4GkIIlzKY4HAIYK8UTFYaPGG3O6kQW7qTudFZ+KNawftz/8f8C0fcozaa5caZuqaNgdcua516XbujNCflytKUrK9962LHbS7EOieXPbK/zhKruegv/KNctVHOoenxOTTBzNgQtr4ZA+dN1jXRJkR2qvMBvxBrnAZ3ytSfRqaJ4GcrZeRTuuH+yizx+AlcmCh3E9duih77rzpgIFmPaq7OuvmEB5B7cJ90yJLp8rE5chpEZ0/bSJQUqcwqnLwHGrvBW96ruWr1HsMwObMUIlJ35GAoakOftdKxM8S0cCz9vzw7dXOUioOmlkwBZkqGBpErXi4iCQ/l+4ovgzem2vmXmz2TgradO+2C16A7j5w1gDJeuuN3NJD3IrAmtJX2pSgP8p7tzAxb5fELbcZxITR+u/hKrl6s7Ae33vWVDPN8LqcPp+224WeNaWvGSnoddvVI8CbK2MxJo6s8MZOz16MiQBnS1pg7uiaRJaqxI+ga2RT9la5Khp/OmVSYLR1E6a2FvGaRD7Zqam6VankyXa1+BDLKqeKQP0E85tXB6l73JyY8cImU2IVObzzslpdzDwmAfxlg+KpfrlqY8udTKUF9lMOO2y5PgQajhvqUj5mskCkDHh1MxTutNf6gVDNRVT7YLcoeH7Drd0ZBUnDbVnsZQpR0iXr9BSHapAr75108iBZXE0aDO5eVFvUMcEl1vUx+TqVzsmUpizUTIH/9hTPTqaE38wawlptgUy3fsyJecpMK5TO1tlex85O4SeXuy3MD/Q3Wpn64p/GFyYGiefzCoRPcDJVV8fq0eZcZ0H3otX2gYlCLvSo73ceslOTu824dGenbqW+svhblnAf2Nr+L8zEmkw5S3murVk4AzGdbu6rCcr1F4TgtNcEqn792d/IcL79FZO/r6zVVbkRTc3FmEeyGZf44oAl08v7nGXj9+Qqmd4KDRqhmCryXi1C5d1GF30WdxWqZHozCAbea+M3Ci42U3hxLlMRK7kZsO6Et68wRRpLzrsuMKBrcaWxneV/Zb3CDZRxVcTd71YMsNNtuaWR1FESRW/23w5datuZ22x8LnR9G8dVPSRxjKhzjnxW2MfAHawwV7pYi6EyyBtX6m9AOeAOTbH2izrpiq4NhhfbcPUZuh3KOUQ/dWwGxeUTbH0XP/BpSjju0JSQ0h6j0FDXrkY5B1vnZm3dESn/VmFfL7QGLve4EiGC57U0fA95KR3rcpmtW5z0zZNTX0Pwo2srzTvboHE2Xf3WFUWrEfGzaJqCoTXdW1YUXdkWPRy6H/WCf1tki0XG08FbLGpCC0/1rTd+yxs6a5EtRl+LPIefG/tDV4z4r0OXuht2dgrsYU26F0Wj9gnNpRWSY0ZkDld5xaHY7EXMtOjNWO57D/SvxFPhU8fsHGBqnbcd5IxcJCNAcVHvzfQr3Z8vMUV7jwpAV6abhaZVTYZ1oDr/HF+WafiFUcK0V+tlBxLJxHaVhnjdIb2rTL+UI4GlvkbiBtROhcveuuEMeWw012v1fZnarMoX+lyal7kFRdb9QkF1RltcUeovncv9cV87hcKXctWD3uBFLKwjNUKfqC0Tq92ujFZfYnVHxFx0yueDgHIWX/FIENtPFqO5tjfENmyZ6ZIk3VWmFVcdh3ngRs7iCzKVmR5Mi7ubAW1KHLC7cwwx6K5Mh4YB3R7Bcb/3M1BWZZjOmLlsmfX43aq6EfdmOna2bxlqf32UmtRBWRs3leE2CGMWRXagLDC9q51ajWG3fL6KG0yBFhHaOXyUu7mnFsUezLPfWaaDre6/PR24vBGKak2s25oQtMNWwqSn0z331t6g1jrdA09yHv2tGQ2pBjLknMj2nfT5O5+K7u7U9+5MLU1CGjbKi7jhe7VVUTcpQKCW5pL9Uenm3qLdq8LdPZJsMPy0ePkUy/S611JMseXyEKUcTwcyakT85m4ebbi/TN0aheK6ct6SqaYCCDEutqAjum9VGgyvfri7PjC956yN6aw6R9pTdQXySFcuBTltigVUWsS9bn+JNFWS9iC8H8r0D7fPfB+sVK623ZCz+HXF9w7eT4l02coraXtFLKaxZi56f4MjcOowATsVVdwlw0Cu59ia2C/2gHj3RRQdtECr1+4SZcrIlUij7/wB2X2rNqHWIGzD3P7ehoeQXjeX10/at8PsYHrLyZG+GJE3oJs6G+fJfXMkA3oXai/6JWPdjvYsjprHiD6R3raiS4JYSmHstCloL4JMECo1zblFvCq6ElWZ56IMv5qTDe0B04IDhQO/sZQTykqn+Peu2rawhdfIzZzxZx1unRWfQtcIz70KbSu7GMOqcQdk2hwmX5PwSILWOLoU/ZTRwL/I3dnnBEgb67P9+mrw60Ey7vazALzUoy0mw1RfYUgpLZmeqCmFWKdq/RxU80nx+2XYuPWgAYyMKYcjbzsZppo5fNdIzwgvuLR2HZdj7qjECmMV9YTV8AOSiQ5ef3h9psIUOaKIqCEBUKubj2yVbJ2X969IlfmFrDJfFDbl4m3VtFRF7/YCueDa7r7GOTv9qOOTBv+9IEHKt/hNqSt/uOmlHrKY4LgnGmhLPM4Uca50Ww1qlnfMcuGmk1WxEZVOWWVHXaZ7grEPrfJWv0kIrIc5RED1xXFvvnpPPlfdXGSaiQbMSpXf4MPf2N01jsxgcXi3h3uCUfFfrrbIym5avgMM6+XyxPfa0kEtn8sTP1yocQHdcd8MyX4s+R1cK8DFmAZTExiHH+Zh/HW51z58rznRHdXMbmcBTSkuTikLamNqv+mwVoF2RJVTpsF0B00Z2d0bOvOULpNo9j2h7LfEKZAvMPZeBR+et5Zg16KvX465PHZzJH7ZrXWZjEwPoK3ehrgt3dZDMtvGJBS9VI0TumDL0e2rAGMdfmKxWbPybU9J6AxgoeTKZDs9mQpRub1LRdMv2zyBevpSNvoaHzDelyTefKhoXStwdsqI7HYOdqg02R8nkESSuatgpifT0fW4/e7Ow4DdgzFV0FykBDnAFPuOfVS0U8mmA6W5247aF7YAz+6JPhnfu8foeIZyr6dpON6YRCD34w1yJpuVStQde1VrAeYwKvQtnvzcBVehqgnHk9TeEVFVlZW7O5dk2pdVWW5ClwhB0uZq7MsfSxNkAdN62OYci/E3De9+gfFOl6lD1BUEzk3n7sv//gFP3Ksx5WDbwGz1WP0rPZk3z6qGDGqPqTK1/cVu/xbygAogiQIvL9ZFsXlyO4wtMnzRfmem/TxeeTZZmWrazJnt2C4o1raAqsQ41cVuwtwbrA416XbL3E6ux7uA6Ze75fIX//VLMH3tBcaUIhXYva+tSZTrYJ2iyL6uyaHOYr+vz3yV3KQ90g5ob6n1PAYrs0kUcndII+iOa3hqr+3lpd2awa0eO0wxR/oMtazNQmO7Mx4yhG4ljTbB5uTz1D5IUW3CXsbZD6/x5uh+Oo8h05IoQyXa5DxiuNa5RW+hG8tCF2/bRgUkiTf60kALp4czHJOXqWXnaC/pvEZKKo94UmwVOefHq6k0vyaNlvwsYzy60eDEZWp3PcoK3XpGIxe/Ld1STRQuwZ6pfLDmKWoyvxQ1Pl67NnmZ1l6OIqZ+Wq00KVjK9Y4H6CapegtboNXu5kI5KePpioLAgu5kwbARG0SrxfDRLLyFth+7avUFprW+p34PzDOSwSa//HRzQhTl/j0+mB4knTcRxefKztDG2j2iWguowHdnjeBc+EWtuqlnumOnEXYqEAN9Ox5YiWSrwWfuwFOKMJcgHgCmhW2TB5/6SBOGbt6lMfdlaMme+Lk626Qb4pAObFTAEwtpVdpaxIO1SBMHcYSipf+50GKFSNvmI3U8F73Ng+an+74gpu9z8vNBfrZvdVuAh8DQaUeILM/4RVq2kI2PRjd0YnhqEWfmolBt4L4rZtrQEDvfGg0oaiQPBL8Fh5V9mdotCoElyTcWiUwDUJFn6az6zFSjjQdr68r13lDNPM8PU4pJ4+19k5PHWgPlPwqfdkCckcv4ruARZLlD4A0/daM2c0PK+GJVqI3fL3jjC65G+v0AZrrrkTQuy9XcaRyqD7hN6I4nHc/gEVgeYmydKMisyN0T3b5uhhi8odc2/6VW2eS26HHjEsAZwu4k1CvfsQPPH8rZfBWjqbWW4GqBxqPkPH8E2JITmrFOubj8FihrJ6YerSyaJ4KNLTnpy6NFHnME2QJ5g1g+Woj8vwF26u2aL5o3U/hlEQKdueJucatumQVG85y74hpGgf4/Ud8nnnjiiSeeeOKJJ5544ol/Cs/7L6Gy5etLSrZ5AAAAAElFTkSuQmCC)"
      ],
      "metadata": {
        "id": "8fVJP-jZMXfH"
      }
    },
    {
      "cell_type": "code",
      "source": [
        "G = 12\n",
        "alpha = rad(60)\n",
        "G * sin(alpha)"
      ],
      "metadata": {
        "colab": {
          "base_uri": "https://localhost:8080/"
        },
        "id": "Sl3rUA7yMWwo",
        "outputId": "0871352c-3155-45d7-8a43-5a571a1cda69"
      },
      "execution_count": 18,
      "outputs": [
        {
          "output_type": "execute_result",
          "data": {
            "text/plain": [
              "10.392304845413264"
            ]
          },
          "metadata": {},
          "execution_count": 18
        }
      ]
    },
    {
      "cell_type": "markdown",
      "source": [
        "10. Вес однородной горизонтальной балки АВ равен 180 Н. Задан угол α = 45°. Определить реакцию шарнира А.   \n",
        "![image.png](data:image/png;base64,iVBORw0KGgoAAAANSUhEUgAAAQUAAACUCAMAAACtBczxAAAAAXNSR0IArs4c6QAAAARnQU1BAACxjwv8YQUAAAL9UExURf////z8/P7+/v39/fv7+/n5+fr6+vT09Pj4+PX19cjIyGVlZZeXl+vr68PDw/Hx8URERAAAAAMDA8vLy/f394KCgjw8PDQ0NB4eHjExMbu7u52dnQQEBAICAu7u7ggICBISEiwsLDIyMgkJCSEhIezs7CMjIysrK8DAwA4ODqKiotHR0aOjo+np6QUFBR8fH0hISCkpKfb29iYmJgEBAX5+ftXV1dTU1MbGxrGxsaenp7S0tJubm5SUlFFRURwcHGZmZpKSkjMzM2tra4+Pj2RkZKqqqoWFhT09Pa+vryQkJEdHRw8PD39/f4ODg4eHh1paWnFxcZGRkTs7O7m5ufLy8i8vLwYGBhkZGWxsbElJScXFxSIiIlJSUk1NTZiYmKioqObm5i4uLrCwsOfn509PT05OTllZWUxMTKWlpTg4OEZGRtra2tfX1+Dg4NjY2OXl5X19fSAgIBYWFhUVFRcXF6mpqbi4uHBwcFRUVFdXV1hYWFtbW1VVVVZWVrq6ura2tpycnLW1tYuLi21tbbe3t2lpaZqamlxcXHd3d19fX3Jycl1dXdnZ2cfHx/Dw8Ly8vLKystLS0kpKSicnJygoKA0NDSUlJUBAQMHBwaurq3l5eaampkNDQ0VFRUJCQl5eXuTk5BAQEN3d3czMzL29vTc3NwsLCwwMDK2trY6Ojt7e3vPz85aWltvb2+rq6hMTE0tLSy0tLZCQkMTExDAwMGNjY2JiYmFhYWBgYGdnZ76+vr+/v8LCwhEREZOTk42NjQoKCgcHBxsbGzk5ORQUFIaGhpWVle/v76GhobOzs6ysrJmZma6uroqKinh4eHV1dWpqajU1NTY2NkFBQVNTU4iIiD4+Ph0dHdzc3G9vb8nJydbW1p+fn+Li4hgYGHx8fDo6Ot/f3+3t7eHh4T8/P+Pj43t7e6SkpM7OzomJidDQ0HZ2doCAgCoqKs3NzW5uboSEhM/Pz8rKytPT03R0dIyMjOjo6KCgoJ6enhoaGlBQUHNzc2hoaAAAAB3+DesAAAD/dFJOU///////////////////////////////////////////////////////////////////////////////////////////////////////////////////////////////////////////////////////////////////////////////////////////////////////////////////////////////////////////////////////////////////////////////////////////////////////////////////////////////////////////////////AGb8ilkAAAAJcEhZcwAAFxEAABcRAcom8z8AAAbWSURBVHhe7ZrbkeMqEIYdArzyQCwUD0RBKgqAOEQcRMCz4jn/3+DL7ng8O9o9tYurP8kSkmWXumn6gnRRFEVRFEVRFEVRFEVRFEVRFEVRFEVRFEVRFEVRFEVRFEVRFEVR3hw/94sybv+8EPhlDcc8WBSR3rvf68lobZ3NRfEl5mZjd/P4u0B/3Vrbf8Oa/jq4dWtbRGe2s1J4n6GFPI8WxVmbLpddtmfw3tiMdWFTgBDoyFL32qCFc4Ika11f3BYOWLOwzRPfBfqzwVi7dJSARwg9QAsnB8QFShAW14LBNmXZfRcMIdjSATYb5rnFEC+AICedGGy8nvp1cDmcQpd2tue8yt/HX3yzRaQJ52yh5qs/2aY2lkO6Mu/Szuf8QrZxmoA5pca/D29/s82ElI7hHb6N34cOwb4vOiJw2yXn1ujl85kE+i73ohr4gZrOFhFvIf7vAh34YLaJ+YNLcsmNFUvfti6th/XAQB7t7cBGWnJp577gP8rDafzj0XGj5nBB/j+kjY6w8svq8Vesib0/16nVIOtalZxZBrLBTXRnDRvZgt1cwb+0nv4o5v/nof9aSKgBPhaEv6YWA+mxQ0V2tgr5m9S677VG2xojHXr0gNgYFHfZ5xB5PVBQjiPjxCVmSS0Mysx+IcwHY8DxAY/yUgmXHTGW0cW1RVMmkppkjhXasPk43A8dv2OgUDmv9OBZi25hgzKQfKEBHndjZfu2fr6M3RXnXMUim+ty391bP10iSykV259WLFzZmCdmdsCubOE2wQChg3Q+RaffG6byalAg9ZTrxnY1ECPA7d5NCaFs0swxbtACuzey0kpdHMZzKn7QXIIS2pF67/XiEZ9r2j3j9IVr7zjmFp+vQOyWHpBeMPHoIZZeYuhHFJCZ8NAYXHvErfdijvFLg7serY1Xj+bP8J82/OukxJi50I4lXIxCynXKDrzjZKzZI5wmP0+BZhwvhl0V/OzVwPm3QaTgLEm71cSe0jfn6BLg7ho08Kn39/SJ4lc8JyniraxaE4wEdDf7ssI6oqMhANhHvmrhSUd78SoSIfAt/GsZ59dkSEMxdzqG4rnNsAacGlr4bCYNFzZ+JypC6sHRvC4eYhsvgzvvCJ4QbofwO+ehqAWa+g/yDXfZUZBPGwJwEW1GnhWBFAyVByN/rPR3SCKYDEJ42kKkOua1j/DK6zQTwZgw67oGCpJHvD88ROGUi6GbhPAZgz08isrLnYklpc4yLGI/l8SB1BgtcW7BB7cQkrmjzVUkc8gBEOYttADPP53fgyIkOn6BFCfLwaKoJI4JDAF4g8TMcX8+Le1LEMMRo+Hwue4eDuFlVgSJw4iPrBtsq8MW0gbT/igQkwpbdl6zOQkxre+eZwsKUYwMZJtr4jgYwtEaH9PAAsQWyEeBWGAUqCe1zCcZJbeAI+SZW4IKN4ujBbXAqCeDHdlRtPO5gns2GAalRaSacKR0mzu0x5wBCSgTbXgSqb943VJQBzQESf4ybGEbtnBNqp+ywzfwArhV1ONiCFTJNmLnekrAPfN1HPq0jsIAfk204J6nzeNkQtHF3KBCauTZPsA/MItC3rSiAihToiFs6E04gsLiQbTwAo9Sq9EBFiRV2B25wYpgBzngaEk1cCSDBI9gKw6+1gJiSS7oegc/CG/Yg1STSD/HI+/1tMA7Zg3NwYCRzV6GFjqC4Is+DVGqK8RTXgbp6R+wwy/XY/Raj9Z0FFDUgvEoq6ZP/LpHPacmMBBk5/cqT3Z4ZimgBV9hCOxYJM/QQmH+Iz16leZzqR6/WXEUPMCxTAG8qYz7gSX2tGvP53fS2U8Rse+bJcGdY5WJ9tskiWts96NvuWVESWgFefQ7Q7E9ontGgDfXVG9MsiKH5FuwZkfoGC/6vDH7IaXPyJth+JDWcdpwPHCjHcjjx3dVwpCLU8wM8sx/kAGxGJIvUBbKrBlUJG+4v3ocszSQq0JIyf3QlDkB8Q4EpiDPHoZPeFcVCEwWj6v7p0KYAg4k98EBcmqeGhnBmzF6H4MgS2qEw/kwsl9NHwpCpJQnsN2jMLjayBvB5IbvaMIrzjPAO8QK2+RNDBxRCyizNz5pwPk3DJWUHb2MNPEGT3HqeCbOHuGzoVaCbfAV91Ov/v37cDKFU2V3oIYx3ThsASdMnqaSmEU+WM36SKbPqZGbtA/wsbu4g7cS+RlepsiaPDv6ICwsBOXE2+uASmBI/GSc89HabL43kirb+1tFodQbO7TQ93nwCe9hKHz1ddtMNFixMayY7oy3wV/wyWsc67P72zK4Hd8at2WUW4oqQVEURVEURVEURVEURVEURVEURVEURVEURVEURfnXuVz+A2SfH8hPPgcKAAAAAElFTkSuQmCC)"
      ],
      "metadata": {
        "id": "j-XLejciNKbW"
      }
    },
    {
      "cell_type": "code",
      "source": [
        "G = 180\n",
        "alpha = rad(45)\n",
        "G * cos(alpha)"
      ],
      "metadata": {
        "colab": {
          "base_uri": "https://localhost:8080/"
        },
        "id": "7tyqxkNPNT-c",
        "outputId": "43bb2562-2ca4-4675-de1e-abe25ea148ac"
      },
      "execution_count": 20,
      "outputs": [
        {
          "output_type": "execute_result",
          "data": {
            "text/plain": [
              "127.27922061357856"
            ]
          },
          "metadata": {},
          "execution_count": 20
        }
      ]
    }
  ]
}